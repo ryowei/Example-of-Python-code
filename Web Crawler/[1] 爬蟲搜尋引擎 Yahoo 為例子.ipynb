{
 "cells": [
  {
   "cell_type": "markdown",
   "metadata": {},
   "source": [
    "## Reference\n",
    "\n",
    "[1.] [Python 使用 Beautiful Soup 抓取與解析網頁資料，開發網路爬蟲教學](https://blog.gtwang.org/programming/python-beautiful-soup-module-scrape-web-pages-tutorial/)\n",
    "\n",
    "[2.] [Beautiful Soup Documentation](https://www.crummy.com/software/BeautifulSoup/bs4/doc/)\n",
    "\n",
    "[3.] [python 3 筆記 - 利用 urllib 來存取網頁](http://beanobody.blogspot.com/2015/12/python-3-urllib.html)\n",
    "***\n",
    "\n",
    "[Beautiful Soup](https://www.crummy.com/software/BeautifulSoup/) 是一個 Python 的函式庫模組，可以讓開發者僅須撰寫非常少量的程式碼，就可以快速解析網頁 HTML 碼，從中翠取出使用者有興趣的資料、去蕪存菁，降低網路爬蟲程式的開發門檻、加快程式撰寫速度。\n",
    "\n",
    "***\n",
    "\n",
    "\n",
    "## Beautiful Soup 基本用法\n",
    "\n",
    "Beautiful Soup 的運作方式就是讀取 HTML 原始碼，自動進行解析並產生一個 BeautifulSoup 物件，此物件中包含了整個 HTML 文件的結構樹，有了這個結構樹之後，就可以輕鬆找出任何有興趣的資料了。\n",
    "\n",
    "\n",
    "***\n",
    "\n",
    "以下是一個簡單的小程式，示範如何使用 **Beautiful Soup** 模組解析原始的 **HTML** 程式碼"
   ]
  },
  {
   "cell_type": "markdown",
   "metadata": {},
   "source": [
    "***\n",
    "# 下載 Yahoo 頭條新聞\n",
    " - **Beautiful Soup 本身只是一個 HTML 解析工具**\n",
    "\n",
    " - **它並不負責下載網頁**\n",
    " \n",
    " - 所以通常我們在開發爬蟲程式時，會搭配 **requests** 模組一同使用。\n",
    "\n",
    " - 我們通常都會先用**瀏覽器的開發人員工具**\n",
    "   - 觀察一下目標網頁的 HTML 結構\n",
    "   - 找出我們有興趣的資料所在位置\n",
    "   - 並設計好萃取資料的規則。\n",
    " \n",
    " - 在這個範例中，我們打算開發一個爬蟲程式，可從 Yahoo 的首頁把頭條新聞的標題與網址抓下來"
   ]
  },
  {
   "cell_type": "markdown",
   "metadata": {},
   "source": [
    "以 Yahoo 頭條新聞來說，我們可以發現網頁中的頭條新聞超連結都有 **story-title** 這個 CSS 的 class，所以我們只要找出網頁中所有符合此條件的標籤，就可以把頭條新聞的資訊抓出來了。\n",
    "\n",
    "以下是使用 requests 模組從 Yahoo 下載首頁的 HTML 資料後，以 Beautiful Soup 翠取出頭條新聞標題的指令稿："
   ]
  },
  {
   "cell_type": "code",
   "execution_count": 48,
   "metadata": {},
   "outputs": [],
   "source": [
    "import requests\n",
    "from bs4 import BeautifulSoup\n",
    "\n",
    "# download Yahoo homepage\n",
    "res = requests.get(\"https://tw.yahoo.com/\")"
   ]
  },
  {
   "cell_type": "markdown",
   "metadata": {},
   "source": [
    "程式執行之後，就會輸出 Yahoo 首頁頭條新聞的標題與網址："
   ]
  },
  {
   "cell_type": "code",
   "execution_count": 47,
   "metadata": {},
   "outputs": [
    {
     "name": "stdout",
     "output_type": "stream",
     "text": [
      "Title: 970萬沒了 竟還拿房子貸800萬\n",
      "URL: https://tw.news.yahoo.com/%E6%8A%95%E8%B3%87%E9%9D%88%E9%AA%A8%E5%A1%94%E8%80%81%E8%BE%B2%E9%81%AD%E8%A9%90970%E8%90%AC-%E8%AD%A6%E9%80%AE3%E5%AB%8C-045121835.html\n",
      "\n",
      "------------------------------------------------------------\n",
      "\n",
      "Title: 郭辦：讓郭台銘3字從國民黨消失\n",
      "URL: https://tw.news.yahoo.com/%E4%B8%8D%E6%BB%BF%E7%8B%82%E8%A2%AB%E6%B6%88%E8%B2%BB-%E9%83%AD%E8%BE%A6%E5%97%86-%E8%AE%93-%E9%83%AD%E5%8F%B0%E9%8A%98-3%E5%AD%97%E5%BE%9E%E5%9C%8B%E6%B0%91%E9%BB%A8%E6%B6%88%E5%A4%B1-144039670.html\n",
      "\n",
      "------------------------------------------------------------\n",
      "\n",
      "Title: 睡夢中遭爆頭 中國城一夜4死\n",
      "URL: https://tw.news.yahoo.com/%E6%B5%81%E6%B5%AA%E6%BC%A2%E7%9D%A1%E5%A4%A2%E4%B8%AD%E9%81%AD%E7%88%86%E9%A0%AD-%E7%B4%90%E7%B4%84%E4%B8%AD%E5%9C%8B%E5%9F%8E-%E5%A4%9C%E6%AD%BB%E5%9B%9B%E4%BA%BA-042553667.html\n",
      "\n",
      "------------------------------------------------------------\n",
      "\n",
      "Title: 私人飛機上 總裁性侵女兒同學\n",
      "URL: https://tw.news.yahoo.com/%E7%A7%81%E4%BA%BA%E9%A3%9B%E6%A9%9F%E6%94%B9%E8%87%AA%E9%A7%95-%E5%AF%8C%E8%B1%AA%E7%A1%AC%E4%B8%8A15%E6%AD%B2%E5%B0%91%E5%A5%B3-%E9%80%BE30%E6%AC%A1-011800717.html\n",
      "\n",
      "------------------------------------------------------------\n",
      "\n",
      "Title: 靠3招 養小孩照樣能存一桶金\n",
      "URL: https://tw.news.yahoo.com/%E7%9C%81%E9%8C%A2%E8%B3%BC%E7%89%A93%E6%8B%9B%E9%A4%8A%E5%B0%8F%E5%AD%A9%E7%85%A7%E6%A8%A3%E8%83%BD%E5%AD%98%E7%99%BE%E8%90%AC-103842362.html\n",
      "\n",
      "------------------------------------------------------------\n",
      "\n",
      "Title: 劉家桃猿謝幕 神密碼惹哭球迷\n",
      "URL: https://tw.news.yahoo.com/%E4%B8%AD%E8%81%B7-%E5%8A%89%E5%AE%B6%E6%A1%83%E7%8C%BF%E8%AC%9D%E5%B9%95-%E7%A5%9E%E5%AF%86%E7%A2%BC%E9%80%BC%E5%93%AD%E7%90%83%E8%BF%B7-172543144.html\n",
      "\n",
      "------------------------------------------------------------\n",
      "\n",
      "Title: 請周董看球遭拒 豪揭門票內幕\n",
      "URL: https://tw.news.yahoo.com/nba-%E7%90%83%E5%93%A1%E6%8B%BF%E5%85%8D%E8%B2%BB%E9%96%80%E7%A5%A8-%E8%B1%AA%E5%93%A5%E8%A6%AA%E6%8F%AD%E5%AF%86-040648571.html\n",
      "\n",
      "------------------------------------------------------------\n",
      "\n",
      "Title: 旅美台將殷仔最悶 林子偉最衰\n",
      "URL: https://tw.sports.yahoo.com/news/王牌轉運手-美職台將掛帥-215009967--mlb.html\n",
      "\n",
      "------------------------------------------------------------\n",
      "\n",
      "Title: AD熱身賽開殺戒 湖人痛宰勇士\n",
      "URL: https://tw.sports.yahoo.com/news/nba-%E6%88%B4%E7%B6%AD%E6%96%AF%E8%BC%95%E9%AC%86%E6%8B%BF-%E9%9B%99%E5%8D%81-%E5%88%B6%E9%9C%B8%E7%A6%81%E5%8D%80-%E7%8E%87%E9%A0%98%E6%B9%96%E4%BA%BA%E7%97%9B%E9%9B%BB%E5%8B%87%E5%A3%AB-024237932.html\n",
      "\n",
      "------------------------------------------------------------\n",
      "\n",
      "Title: 迪迪滿貫砲加持 洋基聽牌雙城\n",
      "URL: https://tw.sports.yahoo.com/news/%E7%94%B0%E4%B8%AD%E5%A5%BD%E6%8A%95-didi%E6%BB%BF%E8%B2%AB%E7%A0%B4%E9%9B%99%E5%9F%8E-%E6%B4%8B%E5%9F%BA%E8%81%BD%E7%89%8C-025635718.html\n",
      "\n",
      "------------------------------------------------------------\n",
      "\n",
      "Title: 長跑18年 高欣欣點頭當李太太\n",
      "URL: https://tw.news.yahoo.com/%E6%84%9B%E6%83%85%E9%95%B7%E8%B7%9118%E5%B9%B4-%E6%9D%8E%E5%9C%8B%E8%B6%85%E6%85%B6%E7%94%9F%E5%90%91%E9%AB%98%E6%AC%A3%E6%AC%A3%E6%B1%82%E5%A9%9A%E6%88%90%E5%8A%9F-035739671.html\n",
      "\n",
      "------------------------------------------------------------\n",
      "\n",
      "Title: 宋慧喬變了！近照曝光網看傻\n",
      "URL: https://tw.news.yahoo.com/%E6%81%A2%E5%96%AE%E5%BE%8C%E4%B8%8D%E5%86%8D%E6%B8%85%E7%B4%94-%E5%96%AC%E5%A6%B9-%E9%96%8B%E8%85%BF%E6%A0%B9-%E8%80%8D%E5%AA%9A%E7%9C%BC-%E7%8B%82%E5%90%B888%E8%90%AC%E8%AE%9A-034215095.html\n",
      "\n",
      "------------------------------------------------------------\n",
      "\n",
      "Title: 王瞳爸嗆馬妻：背後有人指點\n",
      "URL: https://tw.news.yahoo.com/%E7%8E%8B%E7%9E%B3%E7%88%B8%E7%88%B8%E4%B9%9F%E5%8F%83%E6%88%B0-%E5%97%86%E9%A6%AC%E4%BF%8A%E9%BA%9F%E5%A6%BB%E6%9C%89%E4%BA%BA%E6%8C%87%E9%BB%9E-034503186.html\n",
      "\n",
      "------------------------------------------------------------\n",
      "\n",
      "Title: 佼佼奪2獎 孟耿如：以尪為榮\n",
      "URL: https://tw.news.yahoo.com/%E9%BB%83%E5%AD%90%E4%BD%BC-%E5%A8%B6%E6%9F%90%E5%89%8D-%E5%A5%AA2%E7%8D%8E-%E5%AD%9F%E8%80%BF%E5%A6%82%E6%94%BE%E9%96%83-%E6%88%91%E4%BB%A5%E8%80%81%E5%85%AC%E7%82%BA%E6%A6%AE-021853447.html\n",
      "\n",
      "------------------------------------------------------------\n",
      "\n",
      "Title: 夜會邱澤遭媽數落 友人曝內情\n",
      "URL: https://tw.news.yahoo.com/%E7%8D%A8%E5%AE%B6-%E6%9B%96%E6%98%A7%E9%81%8A%E8%BB%8A%E6%B2%B3%E9%81%AD%E5%AA%BD%E6%95%B8%E8%90%BD-%E5%BC%B5%E9%88%9E%E7%94%AF-%E8%A2%AB%E9%82%B1%E6%BE%A4%E5%88%A9%E7%94%A8-%E4%B8%8D%E8%88%92%E6%9C%8D-003000350.html\n",
      "\n",
      "------------------------------------------------------------\n",
      "\n",
      "Title: 海邊撿「奇石」值6千萬他卻哭\n",
      "URL: https://tw.news.yahoo.com/%E6%B5%B7%E9%82%8A%E6%95%A3%E6%AD%A5%E6%92%BF%E5%88%B0-%E9%9B%99%E7%8D%85%E5%9C%B0%E7%90%83%E7%89%8C-%E5%A5%87%E7%9F%B3-%E7%AB%9F%E6%98%AF6%E5%8D%83%E8%90%AC%E6%B5%B7%E6%B4%9B%E8%8B%B1-114231952.html#1006im\n",
      "\n",
      "------------------------------------------------------------\n",
      "\n",
      "Title: 斑馬突變長圓點？6月後專家驚\n",
      "URL: https://tw.news.yahoo.com/%E9%80%99%E6%96%91%E9%A6%AC-%E5%85%A8%E8%BA%AB%E9%BB%9E%E9%BB%9E-%E8%83%8C%E5%BE%8C%E7%9C%9F%E7%9B%B8%E8%B3%BA%E7%86%B1%E6%B7%9A-104522884.html#1006im\n",
      "\n",
      "------------------------------------------------------------\n",
      "\n",
      "Title: 水中流內臟 6百年變世界最美\n",
      "URL: https://travel.yahoo.com.tw/%E5%85%A8%E4%B8%96%E7%95%8C%E6%9C%80%E7%BE%8E%E7%9A%84%E8%A1%97%E9%81%93%E6%AD%90%E6%B4%B2%E7%AF%87%E6%89%93%E8%B6%B4%E7%9F%A5%E5%90%8D%E6%99%AF%E9%BB%9E%E7%9A%84%E5%B0%8F%E5%85%B5-035202881.html#1006im\n",
      "\n",
      "------------------------------------------------------------\n",
      "\n",
      "Title: 2熊激戰動作全錄 4百萬人震撼\n",
      "URL: https://tw.news.yahoo.com/%E9%9C%87%E6%92%BC%E7%95%AB%E9%9D%A2%E6%9B%9D%E5%85%89-%E5%85%A9%E9%9A%BB%E5%A4%A7%E7%81%B0%E7%86%8A%E7%88%AD%E5%9C%B0%E7%9B%A4-%E5%A5%B3%E5%86%92%E6%AD%BB%E9%8C%84%E4%B8%8B%E6%BF%80%E7%83%88%E6%83%A1%E9%AC%A5-113539917.html#1006im\n",
      "\n",
      "------------------------------------------------------------\n",
      "\n",
      "Title: 岳母1句驗孕妻DNA 8年內幕呆\n",
      "URL: https://tw.news.yahoo.com/%E7%9B%B8%E6%84%9B8%E5%B9%B4%E7%B5%90%E5%A9%9A%E6%87%B7%E5%AD%95-%E5%B2%B3%E6%AF%8D1%E5%8F%A5%E8%A9%B1-%E5%A4%AB%E5%A6%BB%E8%AE%8A%E8%A6%AA%E5%A7%8A%E5%BC%9F-045147607.html#1006im\n",
      "\n",
      "------------------------------------------------------------\n",
      "\n",
      "Title: 尿不乾淨？愛上1食癌率高8成\n",
      "URL: https://www.edh.tw/article/11526#1006\n",
      "\n",
      "------------------------------------------------------------\n",
      "\n",
      "Title: 砸10萬架2台 厝邊沒事他卻遭…\n",
      "URL: https://house.yahoo.com.tw/%E8%A8%AD%E8%A8%88%E7%91%95%E7%96%B5-%E5%85%B1%E6%A7%8B%E5%AE%85%E4%BD%8F%E6%88%B6%E5%86%B7%E6%B0%A3-%E5%AE%A4%E5%A4%96%E6%A9%9F-%E8%B6%8A%E7%B7%9A-125646962.html#1006\n",
      "\n",
      "------------------------------------------------------------\n",
      "\n",
      "Title: 日博士：白飯加料 吃了竟短命\n",
      "URL: https://www.edh.tw/article/22679#1006\n",
      "\n",
      "------------------------------------------------------------\n",
      "\n",
      "Title: 5子女分600萬遺產！結局意外\n",
      "URL: https://tw.money.yahoo.com/%E9%81%BA%E7%94%A2%E6%80%8E%E9%BA%BC%E5%88%86-%E5%AE%B6%E5%AE%B6%E6%9C%89%E6%9C%AC%E9%9B%A3%E5%BF%B5%E7%9A%84%E7%B6%93-083308037.html#1006\n",
      "\n",
      "------------------------------------------------------------\n",
      "\n",
      "Title: 價格砍半：好市多掃貨清單公開\n",
      "URL: https://style.yahoo.com.tw/%E5%A5%BD%E5%B8%82%E5%A4%9Aahc%E9%9F%93%E5%9C%8B%E7%A5%9E%E4%BB%99%E6%B0%B4%E8%B6%85%E5%84%AA%E6%83%A0%E7%B5%84%E5%90%88%E5%BC%95%E7%B6%B2%E5%8F%8B%E7%98%8B%E6%90%B6%E7%B6%B2%E5%8F%8B%E7%8B%82%E6%8E%A8%E6%BF%95%E6%95%B7%E8%B6%85%E6%9C%89%E6%84%9F%E5%90%8C%E5%A0%B4%E5%8A%A0%E6%98%A0%E5%A5%BD%E5%B8%82%E5%A4%9A%E5%BF%85%E5%9B%A4%E8%B2%A8%E4%BF%9D%E9%A4%8A%E5%93%81-151933341.html#1006\n",
      "\n",
      "------------------------------------------------------------\n",
      "\n",
      "Title: 背債2千萬 公務員靠它賺破億\n",
      "URL: https://tw.news.yahoo.com/video/%E9%81%94%E4%BA%BA%E7%90%86%E8%B2%A1-%E5%AE%88%E6%A0%AA%E5%BE%85%E5%85%94-%E9%9D%9C%E5%BE%85%E6%99%82%E6%A9%9F-%E9%84%AD%E5%BB%B3%E5%AE%9C%E7%9A%84%E5%8F%B0%E8%82%A1%E5%B8%B8%E5%8B%9D%E6%8A%95%E8%B3%87%E5%AD%B8-233000932.html#1006\n",
      "\n",
      "------------------------------------------------------------\n",
      "\n",
      "Title: 愛19年婚了 Sandy失控暴哭\n",
      "URL: https://www.litv.tv/vod/ent/content.do?content_id=VOD00159800&sponsorName=eWFob28=&autoPlay=1#1006\n",
      "\n",
      "------------------------------------------------------------\n",
      "\n",
      "Title: 婚20年分房睡 妻吐實只愛它\n",
      "URL: https://tw.tv.yahoo.com/yitiaotv/%E6%97%A5%E6%9C%AC%E5%A4%AB%E5%A6%BB%E7%B5%90%E5%A9%9A20%E5%B9%B4%E5%8D%BB%E5%88%86%E5%BA%8A%E7%9D%A1-%E7%94%9F%E6%B4%BB%E5%8F%AA%E8%A6%81%E6%87%82%E5%B0%8D%E6%96%B9-%E5%8D%8A%E5%B0%B1%E5%A5%BD-020000006.html#1006\n",
      "\n",
      "------------------------------------------------------------\n",
      "\n",
      "Title: 全台中鏢！夫妻少做1事雙罹癌\n",
      "URL: https://www.litv.tv/vod/show/content.do?content_id=VOD00159011&sponsorName=eWFob28=&autoPlay=1#1006\n",
      "\n",
      "------------------------------------------------------------\n",
      "\n",
      "Title: 台一碗1萬夯 CNN驚：世界最貴\n",
      "URL: https://tw.news.yahoo.com/video/%E7%89%9B%E8%82%89%E9%BA%B5-%E8%90%AC%E5%85%83-%E6%9B%BE%E5%9C%8B%E5%9F%8E%E9%9A%9410%E5%B9%B4%E5%87%BA%E5%A4%96%E6%99%AF%E6%8F%AD%E5%AF%86-061432781.html#1006\n",
      "\n",
      "------------------------------------------------------------\n",
      "\n"
     ]
    }
   ],
   "source": [
    "# check the download is ok?\n",
    "\n",
    "if res.status_code == requests.codes.ok:\n",
    "    # By BeautifulSoup parser HTML code\n",
    "    soup = BeautifulSoup(res.text, 'html.parser')\n",
    "    \n",
    "    \n",
    "    # By CSS's class catch every category of title news\n",
    "    storis = soup.find_all('a', class_ = 'story-title')\n",
    "    \n",
    "    \n",
    "    for s in storis:\n",
    "        # news title\n",
    "        print(\"Title: \" + s.text)\n",
    "        \n",
    "        # news url\n",
    "        print(\"URL: \" + s.get('href'))\n",
    "        \n",
    "        print(\"\\n\" +\"-\" * 60+\"\\n\")"
   ]
  },
  {
   "cell_type": "markdown",
   "metadata": {},
   "source": [
    "# 下載 Google 搜尋結果\n",
    " - 這個範例我們要開發一個可以**自動送出關鍵字**到 Google 進行搜尋\n",
    " - 並將搜尋結果抓回來的爬蟲程式，基本的開發概念都相同\n",
    " - 只不過 Google 的網頁會因為瀏覽器（User-Agent）不同而產生不同的結果\n",
    " - 所以在觀察程式碼的時候，最好是使用 Beautiful Soup 的 prettify 把抓回來的 HTML 原始碼排版後印出來，這樣看會比較準確。\n",
    "\n",
    "*** \n",
    "\n",
    " - Google 搜尋引擎網址是 https://www.google.com.tw/search\n",
    " - 而關鍵字則是透過 ```q``` 這個參數送給它\n",
    " - ```hl``` 指定要搜尋的語言，```q``` 就是你要搜尋的關鍵字。\n",
    " - 這個規則只要稍微觀察一下瀏覽器所顯示的網址即可推論出來\n",
    " - 有了這個規則之後，就可以用 requests 與 BeautifulSoup 先把 Google 搜尋結果的 HTML 原始碼抓下來看看。\n",
    "\n",
    "接著再設計一下萃取資料的規則，這裡(GTWANG)使用一個自己設計的 CSS 的選擇器："
   ]
  },
  {
   "cell_type": "markdown",
   "metadata": {},
   "source": [
    "```\n",
    "div.g > h3.r > a[href^=\"/url\"]\n",
    "```\n",
    "\n",
    " - 它可以抓出 class 為 g 的 ```<div>```\n",
    "     - 底下緊接著 class 為 r 的 ```<h3>```\n",
    "        - 底下又接著網址為 /url 開頭的超連結。\n",
    "        \n",
    "        \n",
    "設計好資料萃取的規則後，就可以把整個程式來了，以下是完整的 Google 搜尋爬蟲程式："
   ]
  },
  {
   "cell_type": "code",
   "execution_count": 78,
   "metadata": {},
   "outputs": [
    {
     "ename": "ImportError",
     "evalue": "cannot import name 'quote' from 'urllib' (/Users/chibaryowei/anaconda3/lib/python3.7/urllib/__init__.py)",
     "output_type": "error",
     "traceback": [
      "\u001b[0;31m---------------------------------------------------------------------------\u001b[0m",
      "\u001b[0;31mImportError\u001b[0m                               Traceback (most recent call last)",
      "\u001b[0;32m<ipython-input-78-2f3488edae25>\u001b[0m in \u001b[0;36m<module>\u001b[0;34m\u001b[0m\n\u001b[1;32m      1\u001b[0m \u001b[0;32mimport\u001b[0m \u001b[0mrequests\u001b[0m\u001b[0;34m\u001b[0m\u001b[0;34m\u001b[0m\u001b[0m\n\u001b[1;32m      2\u001b[0m \u001b[0;32mfrom\u001b[0m \u001b[0mbs4\u001b[0m \u001b[0;32mimport\u001b[0m \u001b[0mBeautifulSoup\u001b[0m\u001b[0;34m\u001b[0m\u001b[0;34m\u001b[0m\u001b[0m\n\u001b[0;32m----> 3\u001b[0;31m \u001b[0;32mfrom\u001b[0m \u001b[0murllib\u001b[0m \u001b[0;32mimport\u001b[0m \u001b[0mquote\u001b[0m\u001b[0;34m\u001b[0m\u001b[0;34m\u001b[0m\u001b[0m\n\u001b[0m\u001b[1;32m      4\u001b[0m \u001b[0;32mimport\u001b[0m \u001b[0murlparse\u001b[0m\u001b[0;34m\u001b[0m\u001b[0;34m\u001b[0m\u001b[0m\n\u001b[1;32m      5\u001b[0m \u001b[0;34m\u001b[0m\u001b[0m\n",
      "\u001b[0;31mImportError\u001b[0m: cannot import name 'quote' from 'urllib' (/Users/chibaryowei/anaconda3/lib/python3.7/urllib/__init__.py)"
     ]
    }
   ],
   "source": [
    "import requests\n",
    "from bs4 import BeautifulSoup\n",
    "from urllib import quote\n",
    "import urlparse\n",
    "\n",
    "# Google search URL\n",
    "google_url = 'https://www.google.com.tw/search'\n",
    "\n",
    "# query parameter\n",
    "my_params = {'q': '我們與惡的距離'} # 用 dictionary 來表示\n",
    "\n",
    "# download Google search result\n",
    "res = requests.get(google_url, params = my_params)"
   ]
  },
  {
   "cell_type": "code",
   "execution_count": 53,
   "metadata": {},
   "outputs": [],
   "source": [
    "# check the download is complete?\n",
    "\n",
    "if res.status_code == requests.codes.ok:\n",
    "    \n",
    "    # by BeautifulSoup parser the HTML result\n",
    "    soup = BeautifulSoup(res.text, 'html.parser')\n",
    "    \n",
    "    \n",
    "    # 觀察 HTML 原始碼\n",
    "    # print(soup.prettify())\n",
    "    \n",
    "    # 以 CSS 的選擇器來抓取 Google 的搜尋結果    \n",
    "    item = soup.select('div.g > h3.r > a[href^=\"/url\"]')\n",
    "    \n",
    "    for i in item:\n",
    "        # title\n",
    "        print(\"Title: \"+ i.title)\n",
    "         \n",
    "        # url \n",
    "        print(\"URL \" + i.get('href'))\n",
    "        \n",
    "        # separation line\n",
    "        print(\"\\n\" + \"-\"*60 + \"\\n\")"
   ]
  },
  {
   "cell_type": "code",
   "execution_count": 61,
   "metadata": {},
   "outputs": [],
   "source": [
    " soup = BeautifulSoup(res.text, 'html.parser')"
   ]
  },
  {
   "cell_type": "code",
   "execution_count": 82,
   "metadata": {},
   "outputs": [],
   "source": [
    "# check the download is complete?\n",
    "\n",
    "if res.status_code == requests.codes.ok:\n",
    "    \n",
    "    # by BeautifulSoup parser the HTML result\n",
    "    soup = BeautifulSoup(res.text, 'html.parser')\n",
    "    \n",
    "    \n",
    "    # 觀察 HTML 原始碼\n",
    "    # print(soup.prettify())\n",
    "    \n",
    "    # 以 CSS 的選擇器來抓取 Google 的搜尋結果    \n",
    "    item = soup.find_all('div', {'class':'g'})\n",
    "    \n",
    "    for i in item:\n",
    "        # title\n",
    "        print(\"Title: \"+ i.title)\n",
    "         \n",
    "        # url \n",
    "        print(\"URL \" + i.get('href'))\n",
    "        \n",
    "        # separation line\n",
    "        print(\"\\n\" + \"-\"*60 + \"\\n\")"
   ]
  },
  {
   "cell_type": "markdown",
   "metadata": {},
   "source": [
    "\n",
    "### example-1，試著存取網頁\n",
    "\n",
    " - 呈現請求後，結果出現一堆看不懂的資料"
   ]
  },
  {
   "cell_type": "code",
   "execution_count": 84,
   "metadata": {
    "scrolled": false
   },
   "outputs": [
    {
     "name": "stdout",
     "output_type": "stream",
     "text": [
      "b'<!doctype html><html itemscope=\"\" itemtype=\"http://schema.org/WebPage\" lang=\"zh-TW\"><head><meta content=\"text/html; charset=UTF-8\" http-equiv=\"Content-Type\"><meta content=\"/images/branding/googleg/1x/googleg_standard_color_128dp.png\" itemprop=\"image\"><title>Google</title><script nonce=\"d92g6Rq9AIdHsWN8rXwDOQ==\">(function(){window.google={kEI:\\'c6aZXef_CMmNr7wP97-pgAY\\',kEXPI:\\'0,1353746,5104,559,731,223,510,1065,3152,378,206,1017,53,172,1165,671,2,124,10,169,92,452,320,18,539,115,555,271,6,45,126,159,1130793,1197709,314,329244,1294,12383,4855,32692,15247,867,2236,9927,16521,369,3314,5505,2442,5942,1119,2,579,727,2431,1362,4323,4967,774,1289,967,2814,1931,3111,6196,1719,1808,1960,16,10953,5071,226,897,1119,38,920,873,1217,2975,2736,49,3012,2,631,3240,8066,2883,21,317,1119,904,2125,1,150,1,218,2777,520,399,992,1285,8,3763,601,11,14,1279,2212,202,323,5,1252,840,324,193,317,945,204,8,48,820,2620,818,260,52,1137,2,5,2058,606,1839,184,595,1182,520,1947,747,219,97,113,44,1009,95,326,1284,16,84,364,54,773,1652,1639,608,473,134,1205,689,40,19,1039,3092,135,1803,1042,7,438,149,141,592,523,927,312,1039,687,421,370,490,198,92,1070,184,344,369,57,2246,1705,166,873,12,26,51,271,341,44,8,937,160,14,745,405,519,42,2,5,640,5,197,472,112,457,516,312,214,618,476,82,280,1772,246,256,299,46,106,27,8,930,144,137,197,15,2,347,15,402,909,262,48,157,167,323,569,12,216,93,667,206,498,71,711,146,143,5885343,1805894,4194573,187,2799686,4,1572,549,333,444,1,2,80,1,900,583,3,310,1,8,1,2,2132,1,1,1,1,1,414,1,748,141,59,726,3,7,563,1,3759,102,160,4,16,38,33,44,1,2,10,3,1,4,12,3,5,1,23965805\\',authuser:0,kscs:\\'c9c918f0_c6aZXef_CMmNr7wP97-pgAY\\',kGL:\\'TW\\',kBL:\\'_Dc8\\'};google.sn=\\'webhp\\';google.kHL=\\'zh-TW\\';google.jsfs=\\'Ffpdje\\';})();(function(){google.lc=[];google.li=0;google.getEI=function(a){for(var b;a&&(!a.getAttribute||!(b=a.getAttribute(\"eid\")));)a=a.parentNode;return b||google.kEI};google.getLEI=function(a){for(var b=null;a&&(!a.getAttribute||!(b=a.getAttribute(\"leid\")));)a=a.parentNode;return b};google.https=function(){return\"https:\"==window.location.protocol};google.ml=function(){return null};google.time=function(){return(new Date).getTime()};google.log=function(a,b,e,c,g){if(a=google.logUrl(a,b,e,c,g)){b=new Image;var d=google.lc,f=google.li;d[f]=b;b.onerror=b.onload=b.onabort=function(){delete d[f]};google.vel&&google.vel.lu&&google.vel.lu(a);b.src=a;google.li=f+1}};google.logUrl=function(a,b,e,c,g){var d=\"\",f=google.ls||\"\";e||-1!=b.search(\"&ei=\")||(d=\"&ei=\"+google.getEI(c),-1==b.search(\"&lei=\")&&(c=google.getLEI(c))&&(d+=\"&lei=\"+c));c=\"\";!e&&google.cshid&&-1==b.search(\"&cshid=\")&&\"slh\"!=a&&(c=\"&cshid=\"+google.cshid);a=e||\"/\"+(g||\"gen_204\")+\"?atyp=i&ct=\"+a+\"&cad=\"+b+d+f+\"&zx=\"+google.time()+c;/^http:/i.test(a)&&google.https()&&(google.ml(Error(\"a\"),!1,{src:a,glmm:1}),a=\"\");return a};}).call(this);(function(){google.y={};google.x=function(a,b){if(a)var c=a.id;else{do c=Math.random();while(google.y[c])}google.y[c]=[a,b];return!1};google.lm=[];google.plm=function(a){google.lm.push.apply(google.lm,a)};google.lq=[];google.load=function(a,b,c){google.lq.push([[a],b,c])};google.loadAll=function(a,b){google.lq.push([a,b])};}).call(this);google.f={};var a=window.location,b=a.href.indexOf(\"#\");if(0<=b){var c=a.href.substring(b+1);/(^|&)q=/.test(c)&&-1==c.indexOf(\"#\")&&a.replace(\"/search?\"+c.replace(/(^|&)fp=[^&]*/g,\"\")+\"&cad=h\")};</script><style>#gbar,#guser{font-size:13px;padding-top:1px !important;}#gbar{height:22px}#guser{padding-bottom:7px !important;text-align:right}.gbh,.gbd{border-top:1px solid #c9d7f1;font-size:1px}.gbh{height:0;position:absolute;top:24px;width:100%}@media all{.gb1{height:22px;margin-right:.5em;vertical-align:top}#gbar{float:left}}a.gb1,a.gb4{text-decoration:underline !important}a.gb1,a.gb4{color:#00c !important}.gbi .gb4{color:#dd8e27 !important}.gbf .gb4{color:#900 !important}\\n</style><style>body,td,a,p,.h{font-family:arial,sans-serif}body{margin:0;overflow-y:scroll}#gog{padding:3px 8px 0}td{line-height:.8em}.gac_m td{line-height:17px}form{margin-bottom:20px}.h{color:#36c}.q{color:#00c}.ts td{padding:0}.ts{border-collapse:collapse}em{color:#c03;font-style:normal;font-weight:normal}a em{text-decoration:underline}.lst{height:25px;width:496px}.gsfi,.lst{font:18px arial,sans-serif}.gsfs{font:17px arial,sans-serif}.ds{display:inline-box;display:inline-block;margin:3px 0 4px;margin-left:4px}input{font-family:inherit}a.gb1,a.gb2,a.gb3,a.gb4{color:#11c !important}body{background:#fff;color:black}a{color:#11c;text-decoration:none}a:hover,a:active{text-decoration:underline}.fl a{color:#36c}a:visited{color:#551a8b}a.gb1,a.gb4{text-decoration:underline}a.gb3:hover{text-decoration:none}#ghead a.gb2:hover{color:#fff !important}.sblc{padding-top:5px}.sblc a{display:block;margin:2px 0;margin-left:13px;font-size:11px}.lsbb{background:#eee;border:solid 1px;border-color:#ccc #999 #999 #ccc;height:30px}.lsbb{display:block}.ftl,#fll a{display:inline-block;margin:0 12px}.lsb{background:url(/images/nav_logo229.png) 0 -261px repeat-x;border:none;color:#000;cursor:pointer;height:30px;margin:0;outline:0;font:15px arial,sans-serif;vertical-align:top}.lsb:active{background:#ccc}.lst:focus{outline:none}</style><script nonce=\"d92g6Rq9AIdHsWN8rXwDOQ==\"></script></head><body bgcolor=\"#fff\"><script nonce=\"d92g6Rq9AIdHsWN8rXwDOQ==\">(function(){var src=\\'/images/nav_logo229.png\\';var iesg=false;document.body.onload = function(){window.n && window.n();if (document.images){new Image().src=src;}\\nif (!iesg){document.f&&document.f.q.focus();document.gbqf&&document.gbqf.q.focus();}\\n}\\n})();</script><div id=\"mngb\"> <div id=gbar><nobr><b class=gb1>&#25628;&#23563;</b> <a class=gb1 href=\"https://www.google.com.tw/imghp?hl=zh-TW&tab=wi\">&#22294;&#29255;</a> <a class=gb1 href=\"https://maps.google.com.tw/maps?hl=zh-TW&tab=wl\">&#22320;&#22294;</a> <a class=gb1 href=\"https://play.google.com/?hl=zh-TW&tab=w8\">Play</a> <a class=gb1 href=\"https://www.youtube.com/?gl=TW&tab=w1\">YouTube</a> <a class=gb1 href=\"https://news.google.com.tw/nwshp?hl=zh-TW&tab=wn\">&#26032;&#32862;</a> <a class=gb1 href=\"https://mail.google.com/mail/?tab=wm\">Gmail</a> <a class=gb1 href=\"https://drive.google.com/?tab=wo\">&#38642;&#31471;&#30828;&#30879;</a> <a class=gb1 style=\"text-decoration:none\" href=\"https://www.google.com.tw/intl/zh-TW/about/products?tab=wh\"><u>&#26356;&#22810;</u> &raquo;</a></nobr></div><div id=guser width=100%><nobr><span id=gbn class=gbi></span><span id=gbf class=gbf></span><span id=gbe></span><a href=\"http://www.google.com.tw/history/optout?hl=zh-TW\" class=gb4>&#32178;&#38913;&#35352;&#37636;</a> | <a  href=\"/preferences?hl=zh-TW\" class=gb4>&#35373;&#23450;</a> | <a target=_top id=gb_70 href=\"https://accounts.google.com/ServiceLogin?hl=zh-TW&passive=true&continue=https://www.google.com/\" class=gb4>&#30331;&#20837;</a></nobr></div><div class=gbh style=left:0></div><div class=gbh style=right:0></div> </div><center><br clear=\"all\" id=\"lgpd\"><div id=\"lga\"><img alt=\"Google\" height=\"92\" src=\"/images/branding/googlelogo/1x/googlelogo_white_background_color_272x92dp.png\" style=\"padding:28px 0 14px\" width=\"272\" id=\"hplogo\"><br><br></div><form action=\"/search\" name=\"f\"><table cellpadding=\"0\" cellspacing=\"0\"><tr valign=\"top\"><td width=\"25%\">&nbsp;</td><td align=\"center\" nowrap=\"\"><input name=\"ie\" value=\"ISO-8859-1\" type=\"hidden\"><input value=\"zh-TW\" name=\"hl\" type=\"hidden\"><input name=\"source\" type=\"hidden\" value=\"hp\"><input name=\"biw\" type=\"hidden\"><input name=\"bih\" type=\"hidden\"><div class=\"ds\" style=\"height:32px;margin:4px 0\"><input style=\"color:#000;margin:0;padding:5px 8px 0 6px;vertical-align:top\" autocomplete=\"off\" class=\"lst\" value=\"\" title=\"Google &#25628;&#23563;\" maxlength=\"2048\" name=\"q\" size=\"57\"></div><br style=\"line-height:0\"><span class=\"ds\"><span class=\"lsbb\"><input class=\"lsb\" value=\"Google &#25628;&#23563;\" name=\"btnG\" type=\"submit\"></span></span><span class=\"ds\"><span class=\"lsbb\"><input class=\"lsb\" id=\"tsuid1\" value=\"&#22909;&#25163;&#27683;\" name=\"btnI\" type=\"submit\"><script nonce=\"d92g6Rq9AIdHsWN8rXwDOQ==\">(function(){var id=\\'tsuid1\\';document.getElementById(id).onclick = function(){if (this.form.q.value){this.checked = 1;if (this.form.iflsig)this.form.iflsig.disabled = false;}\\nelse top.location=\\'/doodles/\\';};})();</script><input value=\"AAP1E1EAAAAAXZm0gwcG0d0HufRuY0JN1wt2D2O6TbGy\" name=\"iflsig\" type=\"hidden\"></span></span></td><td class=\"fl sblc\" align=\"left\" nowrap=\"\" width=\"25%\"><a href=\"/advanced_search?hl=zh-TW&amp;authuser=0\">&#36914;&#38542;&#25628;&#23563;</a><a href=\"/language_tools?hl=zh-TW&amp;authuser=0\">&#35486;&#35328;&#24037;&#20855;</a></td></tr></table><input id=\"gbv\" name=\"gbv\" type=\"hidden\" value=\"1\"><script nonce=\"d92g6Rq9AIdHsWN8rXwDOQ==\">(function(){var a,b=\"1\";if(document&&document.getElementById)if(\"undefined\"!=typeof XMLHttpRequest)b=\"2\";else if(\"undefined\"!=typeof ActiveXObject){var c,d,e=[\"MSXML2.XMLHTTP.6.0\",\"MSXML2.XMLHTTP.3.0\",\"MSXML2.XMLHTTP\",\"Microsoft.XMLHTTP\"];for(c=0;d=e[c++];)try{new ActiveXObject(d),b=\"2\"}catch(h){}}a=b;if(\"2\"==a&&-1==location.search.indexOf(\"&gbv=2\")){var f=google.gbvu,g=document.getElementById(\"gbv\");g&&(g.value=a);f&&window.setTimeout(function(){location.href=f},0)};}).call(this);</script></form><div id=\"gac_scont\"></div><div style=\"font-size:83%;min-height:3.5em\"><br></div><span id=\"footer\"><div style=\"font-size:10pt\"><div style=\"margin:19px auto;text-align:center\" id=\"fll\"><a href=\"/intl/zh-TW/ads/\">&#24291;&#21578;&#26381;&#21209;</a><a href=\"http://www.google.com.tw/intl/zh-TW/services/\">&#21830;&#26989;&#35299;&#27770;&#26041;&#26696;</a><a href=\"/intl/zh-TW/about.html\">Google &#23436;&#20840;&#25163;&#20874;</a><a href=\"https://www.google.com/setprefdomain?prefdom=TW&amp;prev=https://www.google.com.tw/&amp;sig=K_kPsRh7XEjFwabOLHt_119sNMA_s%3D\">Google.com.tw</a></div></div><p style=\"color:#767676;font-size:8pt\">&copy; 2019 - <a href=\"/intl/zh-TW/policies/privacy/\">&#38577;&#31169;&#27402;</a> - <a href=\"/intl/zh-TW/policies/terms/\">&#26381;&#21209;&#26781;&#27454;</a></p></span></center><script nonce=\"d92g6Rq9AIdHsWN8rXwDOQ==\">(function(){window.google.cdo={height:0,width:0};(function(){var a=window.innerWidth,b=window.innerHeight;if(!a||!b){var c=window.document,d=\"CSS1Compat\"==c.compatMode?c.documentElement:c.body;a=d.clientWidth;b=d.clientHeight}a&&b&&(a!=google.cdo.width||b!=google.cdo.height)&&google.log(\"\",\"\",\"/client_204?&atyp=i&biw=\"+a+\"&bih=\"+b+\"&ei=\"+google.kEI);}).call(this);})();(function(){var u=\\'/xjs/_/js/k\\\\x3dxjs.hp.en.P5V6bnnozgk.O/m\\\\x3dsb_he,d/am\\\\x3d4AQ2Aw/d\\\\x3d1/rs\\\\x3dACT90oH9WymtnsMTJf5wJ3h6uZEqIA3xXA\\';setTimeout(function(){var a=document.createElement(\"script\");a.src=u;google.timers&&google.timers.load&&google.tick&&google.tick(\"load\",\"xjsls\");document.body.appendChild(a)},0);})();(function(){window.google.xjsu=\\'/xjs/_/js/k\\\\x3dxjs.hp.en.P5V6bnnozgk.O/m\\\\x3dsb_he,d/am\\\\x3d4AQ2Aw/d\\\\x3d1/rs\\\\x3dACT90oH9WymtnsMTJf5wJ3h6uZEqIA3xXA\\';})();function _DumpException(e){throw e;}\\nfunction _F_installCss(c){}\\n(function(){google.spjs=false;google.snet=true;google.em=[];google.emw=false;})();(function(){var pmc=\\'{\\\\x22CaHQXQ\\\\x22:{},\\\\x22Qnk92g\\\\x22:{},\\\\x22RWGcrA\\\\x22:{},\\\\x22U5B21g\\\\x22:{},\\\\x22YFCs/g\\\\x22:{},\\\\x22ZI/YVQ\\\\x22:{},\\\\x22d\\\\x22:{},\\\\x22mVopag\\\\x22:{},\\\\x22sb_he\\\\x22:{\\\\x22agen\\\\x22:true,\\\\x22cgen\\\\x22:true,\\\\x22client\\\\x22:\\\\x22heirloom-hp\\\\x22,\\\\x22dh\\\\x22:true,\\\\x22dhqt\\\\x22:true,\\\\x22ds\\\\x22:\\\\x22\\\\x22,\\\\x22ffql\\\\x22:\\\\x22zh-TW\\\\x22,\\\\x22fl\\\\x22:true,\\\\x22host\\\\x22:\\\\x22google.com\\\\x22,\\\\x22isbh\\\\x22:28,\\\\x22jsonp\\\\x22:true,\\\\x22msgs\\\\x22:{\\\\x22cibl\\\\x22:\\\\x22&#28165;&#38500;&#25628;&#23563;\\\\x22,\\\\x22dym\\\\x22:\\\\x22&#24744;&#26159;&#19981;&#26159;&#35201;&#26597;&#65306;\\\\x22,\\\\x22lcky\\\\x22:\\\\x22&#22909;&#25163;&#27683;\\\\x22,\\\\x22lml\\\\x22:\\\\x22&#30637;&#35299;&#35443;&#24773;\\\\x22,\\\\x22oskt\\\\x22:\\\\x22&#36664;&#20837;&#24037;&#20855;\\\\x22,\\\\x22psrc\\\\x22:\\\\x22&#24050;&#24478;&#24744;&#30340;&#12300;\\\\\\\\u003Ca href\\\\x3d\\\\\\\\\\\\x22/history\\\\\\\\\\\\x22\\\\\\\\u003E&#32178;&#38913;&#35352;&#37636;\\\\\\\\u003C/a\\\\\\\\u003E&#12301;&#20013;&#31227;&#38500;&#36889;&#31558;&#25628;&#23563;&#35352;&#37636;\\\\x22,\\\\x22psrl\\\\x22:\\\\x22&#31227;&#38500;\\\\x22,\\\\x22sbit\\\\x22:\\\\x22&#20197;&#22294;&#25628;&#23563;\\\\x22,\\\\x22srch\\\\x22:\\\\x22Google &#25628;&#23563;\\\\x22},\\\\x22ovr\\\\x22:{},\\\\x22pq\\\\x22:\\\\x22\\\\x22,\\\\x22refpd\\\\x22:true,\\\\x22refspre\\\\x22:true,\\\\x22rfs\\\\x22:[],\\\\x22sbpl\\\\x22:24,\\\\x22sbpr\\\\x22:24,\\\\x22scd\\\\x22:10,\\\\x22sce\\\\x22:5,\\\\x22stok\\\\x22:\\\\x22Uuk_aXP8q5_bmUvxXUNkkKYTXQY\\\\x22,\\\\x22uhde\\\\x22:false}}\\';google.pmc=JSON.parse(pmc);})();</script>        </body></html>'\n"
     ]
    }
   ],
   "source": [
    "import urllib.request; #用來建立請求\n",
    "import urllib.parse;\n",
    "\n",
    "x = urllib.request.urlopen('https://www.google.com');\n",
    "print(x.read()); "
   ]
  },
  {
   "cell_type": "markdown",
   "metadata": {},
   "source": [
    "### example-2，試著用參數來進行查詢"
   ]
  },
  {
   "cell_type": "code",
   "execution_count": 87,
   "metadata": {},
   "outputs": [
    {
     "name": "stdout",
     "output_type": "stream",
     "text": [
      "b'<html>\\n\\t<head>\\n\\n\\t\\t<!--\\n\\t\\tpalette:\\n\\t\\tdark blue: #003F72\\n\\t\\tyellow: #FFD166\\n\\t\\tsalmon: #EF476F\\n\\t\\toffwhite: #e7d7d7\\n\\t\\tLight Blue: #118AB2\\n\\t\\tLight green: #7DDF64\\n\\t\\t-->\\n\\n\\t\\t<meta name=\"viewport\" content = \"width=device-width, initial-scale=1.0\">\\n\\t\\t<title>Python Programming Tutorials</title>\\n\\n\\t\\t<meta name=\"description\" content=\"Python Programming tutorials from beginner to advanced on a massive variety of topics. All video and text tutorials are free.\">\\n\\n\\t\\t<link rel=\"shortcut icon\" href=\"/static/favicon.ico\">\\n\\t\\t<link rel=\"stylesheet\" href=\"/static/css/materialize.min.css\">\\n        <link href=\"https://fonts.googleapis.com/icon?family=Material+Icons\" rel=\"stylesheet\">\\n        <meta name=\"google-site-verification\" content=\"3fLok05gk5gGtWd_VSXbSSSH27F2kr1QqcxYz9vYq2k\" />\\n        <link rel=\"stylesheet\" type=\"text/css\" href=\"/static/css/bootstrap.css\">\\n\\n\\n\\t\\t  <!-- Compiled and minified CSS -->\\n\\n\\t\\t<!-- Compiled and minified JavaScript -->\\n\\n\\t\\t<script src=\"https://code.jquery.com/jquery-2.1.4.min.js\"></script>\\n\\t\\t<script src=\"https://cdnjs.cloudflare.com/ajax/libs/materialize/0.97.3/js/materialize.min.js\"></script>\\n\\n\\n\\n        <style>\\n\\t\\t@media (min-width:992px) {\\n\\t\\t#aside {\\n\\t\\t\\twidth:250px;\\n\\t\\t}\\n\\t\\tpre { tab-size: 4;}\\n\\t\\t.btn {background-color:#FFD166;\\n\\t\\t\\t  color:#000;\\n\\t\\t      height:auto;\\n\\t\\t\\t  font-color:#000;\\n\\t\\t\\t  }\\n\\t\\t.btn:hover {background-color:#FFD166;\\n\\t\\t\\t\\t\\t}\\n\\n\\n\\t\\t</style>\\n\\n\\t\\t<!-- Google Tracking -->\\n\\t\\t<script>\\n\\t\\t\\t  (function(i,s,o,g,r,a,m){i[\\'GoogleAnalyticsObject\\']=r;i[r]=i[r]||function(){\\n\\t\\t\\t  (i[r].q=i[r].q||[]).push(arguments)},i[r].l=1*new Date();a=s.createElement(o),\\n\\t\\t\\t  m=s.getElementsByTagName(o)[0];a.async=1;a.src=g;m.parentNode.insertBefore(a,m)\\n\\t\\t\\t  })(window,document,\\'script\\',\\'//www.google-analytics.com/analytics.js\\',\\'ga\\');\\n              ga(\\'config\\', \\'UA-51891827-1\\', {\\'anonymize_ip\\': true});\\xef\\xbb\\xbf\\n\\t\\t\\t  ga(\\'create\\', \\'UA-51891827-1\\', \\'auto\\');\\n\\t\\t\\t  ga(\\'send\\', \\'pageview\\');\\n\\n\\t\\t</script>\\n\\n            \\n            \\n\\n\\n\\n\\n\\t</head>\\n\\n\\t<body>\\n\\n\\t\\t<div class=\"navbar-fixed\">\\n\\t\\t\\t<nav style=\"background-color:#003F72\">\\n\\t\\t\\t\\t<div class=\"nav-wrapper container\">\\n\\t\\t\\t\\t\\t<a href=\"/\" class=\"brand-logo\"><img class=\"img-responsive\" style=\"width:50px; height;50px; margin-top:5px\" src=\"/static/images/mainlogowhitethick.jpg\"></a>\\n\\t\\t\\t\\t\\t<a href=\"#\" data-activates=\"navsidebar\" class=\"button-collapse\"><i class=\"mdi-navigation-menu\"></i></a>\\n\\t\\t\\t\\t\\t<ul class=\"right hide-on-med-and-down\">\\n\\t\\t\\t\\t\\t<li><i class=\"material-icons\">search</i></li>\\n\\t\\t\\t\\t\\t<li>\\n\\t\\t\\t\\t\\t\\t<form method=\\'get\\' id=\\'searchform\\' style=\\'height:50px; padding-top:10px\\' action=\\'/search/?l=hi\\'>\\n\\t\\t\\t\\t\\t\\t\\t<input name=\\'q\\' id=\"search\" type=\"search\" placeholder=\"search\"  style=\\'font-size:16px\\'>\\n\\t\\t\\t\\t\\t\\t</form>\\n\\t\\t\\t\\t\\t</li>\\n\\t\\t\\t\\t\\t\\t\\n\\t\\t\\t<li><a href=\"/\">Home</a></li>\\n\\t\\t\\t<li><a class=\"tooltipped\" data-position=\"bottom\" data-delay=\"50\" data-tooltip=\"sudo apt-get upgrade\" href=\"/+=1/\">+=1</a></li>\\n\\t\\t\\t<!--<li><a href=\"/store/python-hoodie/\">Store</a></li>-->\\n\\t\\t\\t<li><a href=\"/support/\">Support the Content</a></li>\\n\\t\\t\\t\\n\\t\\t\\t<li><a href=\"https://goo.gl/7zgAVQ\" target=\\'blank\\'><!--<i class=\"material-icons\">question_answer</i>-->Community</a></li>\\n\\t\\t\\t\\t<li><a href=\"/login/\">Log in</a></li>\\n                <li><a href=\"/register/\">Sign up</a></li>\\n\\t\\t\\t\\n\\n\\t\\t\\t\\t\\t</ul>\\n\\t\\t\\t\\t\\t<ul class=\"side-nav\" id=\"navsidebar\">\\n\\t\\t\\t\\t\\t<li>\\n\\t\\t\\t\\t\\t\\t<form method=\\'get\\' id=\\'searchform\\' style=\\'height:50px; padding-top:10px\\' action=\\'/search/?l=hi\\'>\\n\\t\\t\\t\\t\\t\\t\\t<input name=\\'q\\' id=\"search\" type=\"search\" placeholder=\"search\"  style=\\'font-size:16px\\'>\\n\\t\\t\\t\\t\\t\\t</form>\\n\\t\\t\\t\\t\\t</li>\\n\\t\\t\\t\\t\\t\\t\\n\\t\\t\\t<li><a href=\"/\">Home</a></li>\\n\\t\\t\\t<li><a class=\"tooltipped\" data-position=\"bottom\" data-delay=\"50\" data-tooltip=\"sudo apt-get upgrade\" href=\"/+=1/\">+=1</a></li>\\n\\t\\t\\t<!--<li><a href=\"/store/python-hoodie/\">Store</a></li>-->\\n\\t\\t\\t<li><a href=\"/support/\">Support the Content</a></li>\\n\\t\\t\\t\\n\\t\\t\\t<li><a href=\"https://goo.gl/7zgAVQ\" target=\\'blank\\'><!--<i class=\"material-icons\">question_answer</i>-->Community</a></li>\\n\\t\\t\\t\\t<li><a href=\"/login/\">Log in</a></li>\\n                <li><a href=\"/register/\">Sign up</a></li>\\n\\t\\t\\t\\n\\n\\t\\t\\t\\t\\t</ul>\\n\\t\\t\\t\\t</div>\\n\\t\\t\\t</nav>\\n\\t\\t</div>\\n\\n\\n\\n\\t\\t<!-- main content -->\\n\\t\\t<div class=\"container\" style=\"max-width:1500px; min-height:100%\">\\n\\t\\t\\t<!--Notification:-->\\n            <!--<p style=\"font-size:80%\">TensorFlow.js Livestream:  <a href=\"https://www.youtube.com/watch?v=NjSlj95lliM\" target=\"blank\"><strong>Deep Learning in the browser</strong></a></p>-->\\n            <!--End Notification:-->\\n\\n\\t\\t\\t\\t\\t\\n\\t\\t\\t\\t\\t\\n\\t\\t\\t\\t\\t  \\n\\t\\t\\t\\t\\t\\n\\n\\t\\t\\t\\t\\t\\n\\t<div class=\"row\">\\n\\t<!-- size 4 on a large screen, 12 on a small, 6 on a med -->\\n        <div class=\"col l4 s12 m6\">\\n          <a href=\"/machine-learning-tutorials/\" class=\"waves-effect waves-light\" style=\"color:#000\">\\n            <div class=\"card-panel hoverable\" style=\"height:360px; background-color:#FFFFFF;\">\\n              <div class=\"card-image\">\\n                <img class=\"responsive-img\" src=\"/static/images/categories/machine-learning-playlist.png\" style=\"width:250px\">\\n                <br><span class=\"card-title\"><strong>Machine Learning</strong></span>\\n              </div>\\n              <div class=\"card-content\">\\n                <p>Employ both supervised and unsupervised machine learning, to make predictions or to understand data.</p>\\n              </div>\\n              <div class=\"card-action right-align\">\\n                <a href=\"/machine-learning-tutorials/\" class=\"waves-effect waves-light btn\" style=\"color:#000000; background-color:#FFD166\">View</a>\\n              </div>\\n            </div>\\n          </a>\\n        </div>\\n\\n\\n\\t\\t<div class=\"col l4 s12 m6\">\\n\\t\\t\\t<a href=\"/data-analysis-tutorials/\" class=\"waves-effect waves-light\" style=\"color:#000\">\\n\\t\\t\\t<div class=\"card-panel hoverable\" style=\"height:360px; background-color:#FFFFFF;\">\\n\\t\\t\\t\\t<div class=\"card-image\">\\n\\t\\t\\t\\t  <img class=\"responsive-img\" src=\"/static/images/categories/3D-Matplotlib.png\" style=\"width:250px\">\\n\\t\\t\\t\\t  <br><span class=\"card-title\"><strong>Data Analysis</strong></span>\\n\\t\\t\\t\\t</div>\\n\\t\\t\\t\\t<div class=\"card-content\">\\n\\t\\t\\t\\t  <p>Learn how to use Python with Pandas, Matplotlib, and other modules to gather insights from and about your data.</p>\\n\\t\\t\\t\\t</div>\\n\\t\\t\\t\\t<div class=\"card-action right-align\">\\n\\t\\t\\t\\t  <a href=\"/data-analysis-tutorials/\" class=\"waves-effect waves-light btn\" style=\"color:#000000; background-color:#FFD166\">View</a>\\n\\t\\t\\t\\t</div>\\n            </div>\\n            </a>\\n\\t\\t</div>\\n\\n\\n\\n\\n\\n\\n\\n\\t\\t<div class=\"col l4 s12 m6\">\\n\\t\\t\\t<a href=\"/game-development-tutorials/\" class=\"waves-effect waves-light\" style=\"color:#000\">\\n\\t\\t\\t<div class=\"card-panel hoverable\" style=\"height:360px; background-color:#FFFFFF;\">\\n\\t\\t\\t\\t<div class=\"card-image\">\\n\\t\\t\\t\\t  <img class=\"responsive-img\" src=\"/static/images/categories/pygame-tutorials.png\" style=\"width:250px\">\\n\\t\\t\\t\\t  <br><span class=\"card-title\"><strong>Game Development</strong></span>\\n\\t\\t\\t\\t</div>\\n\\t\\t\\t\\t<div class=\"card-content\">\\n\\t\\t\\t\\t  <p>Create your own games with Python\\'s PyGame library, or check out the multi-platform Kivy.</p>\\n\\t\\t\\t\\t</div>\\n\\t\\t\\t\\t<div class=\"card-action right-align\">\\n\\t\\t\\t\\t  <a href=\"/game-development-tutorials/\" class=\"waves-effect waves-light btn\" style=\"color:#000000; background-color:#FFD166\">View</a>\\n\\t\\t\\t\\t</div>\\n            </div>\\n            </a>\\n\\t\\t</div>\\n\\n\\n\\n\\t\\t<div class=\"col l4 s12 m6\">\\n\\t\\t\\t<a href=\"/python-fundamental-tutorials/\" class=\"waves-effect waves-light\" style=\"color:#000\">\\n\\t\\t\\t<div class=\"card-panel hoverable\" style=\"height:360px; background-color:#FFFFFF;\">\\n\\t\\t\\t\\t<div class=\"card-image\">\\n\\t\\t\\t\\t  <img class=\"responsive-img\" src=\"/static/images/categories/python-3-basics.png\" style=\"width:250px\">\\n\\t\\t\\t\\t  <br><span class=\"card-title\"><strong>Python Fundamentals</strong></span>\\n\\t\\t\\t\\t</div>\\n\\t\\t\\t\\t<div class=\"card-content\">\\n\\t\\t\\t\\t  <p>Learn the basic and intermediate Python fundamentals.</p>\\n\\t\\t\\t\\t</div>\\n\\t\\t\\t\\t<div class=\"card-action right-align\">\\n\\t\\t\\t\\t  <a href=\"/python-fundamental-tutorials/\" class=\"waves-effect waves-light btn\" style=\"color:#000000; background-color:#FFD166\">View</a>\\n\\t\\t\\t\\t</div>\\n            </div>\\n            </a>\\n\\t\\t</div>\\n\\n\\n\\n\\n\\t\\t<!--<div class=\"col l4 s12 m6\">\\n\\t\\t\\t\\n\\t\\t\\t<div class=\"card-panel hoverable\" style=\"height:360px; background-color:#FFFFFF;\">\\n\\t\\t\\t<a href=\"/introduction-to-python-programming/\" class=\"waves-effect waves-light\" style=\"color:#000\">\\n\\t\\t\\t\\t<div class=\"card-image\">\\n\\t\\t\\t\\t  <img class=\"responsive-img\" src=\"/static/images/categories/python-3-basics.png\" style=\"width:250px\">\\n\\t\\t\\t\\t  <br><span class=\"card-title\"><strong>Basics</strong></span>\\n\\t\\t\\t\\t</div>\\n\\t\\t\\t\\t<div class=\"card-content\">\\n\\t\\t\\t\\t  <p>Just getting started?</p> \\n\\t\\t\\t\\t  <p>Not a problem, learn the basics of programming with Python 3 here!</p>\\n\\t\\t\\t\\t</div>\\n\\t\\t\\t\\t<div class=\"card-action right-align\">\\n\\t\\t\\t\\t  <a href=\"/introduction-to-python-programming/\" class=\"waves-effect waves-light btn\" style=\"color:#000000; background-color:#FFD166\">Start</a>\\n\\t\\t\\t\\t</div>\\n\\t\\t\\t\\t</a>\\n            </div>\\n\\n\\n\\t\\t</div>-->\\n\\n        <div class=\"col l4 s12 m6\">\\n            <a href=\"/web-development-tutorials/\" class=\"waves-effect waves-light\" style=\"color:#000\">\\n            <div class=\"card-panel hoverable\" style=\"height:360px; background-color:#FFFFFF;\">\\n                <div class=\"card-image\">\\n                  <img class=\"responsive-img\" src=\"/static/images/categories/webdev.png\" style=\"width:250px\">\\n                  <br><span class=\"card-title\"><strong>Web Development</strong></span>\\n                </div>\\n                <div class=\"card-content\">\\n                  <p>How to develop websites with either the Flask or Django frameworks for Python.</p>\\n                </div>\\n                <div class=\"card-action right-align\">\\n                  <a href=\"/web-development-tutorials/\" class=\"waves-effect waves-light btn\" style=\"color:#000000; background-color:#FFD166\">View</a>\\n                </div>\\n            </div>\\n            </a>\\n        </div>\\n\\n\\t\\t<div class=\"col l4 s12 m6\">\\n\\n\\t\\t\\t<a href=\"/bot-tutorials/\" class=\"waves-effect waves-light\" style=\"color:#000\">\\n\\t\\t\\t<div class=\"card-panel hoverable\" style=\"height:360px; background-color:#FFFFFF;\">\\n\\t\\t\\t\\t<div class=\"card-image\">\\n\\t\\t\\t\\t  <img class=\"responsive-img\" src=\"/static/images/categories/bots.png\" style=\"width:250px\">\\n\\t\\t\\t\\t  <br><span class=\"card-title\"><strong>Bots &amp; AI</strong></span>\\n\\t\\t\\t\\t</div>\\n\\t\\t\\t\\t<div class=\"card-content\">\\n\\t\\t\\t\\t  <p>Creating various software bots, like bots in games, in chats, and to interact with the web. Not to be confused with robotics!</p>\\n\\t\\t\\t\\t</div>\\n\\t\\t\\t\\t<div class=\"card-action right-align\">\\n\\t\\t\\t\\t  <a href=\"/bot-tutorials/\" class=\"waves-effect waves-light btn\" style=\"color:#000000; background-color:#FFD166\">View</a>\\n\\t\\t\\t\\t</div>\\n            </div>\\n            </a>\\n\\n\\t\\t</div>\\n\\t</div>\\n\\n\\n    <div class=\"row\">\\n\\n        <div class=\"col l4 s12 m6\">\\n            <a href=\"/robotics-tutorials/\" class=\"waves-effect waves-light\" style=\"color:#000\">\\n            <div class=\"card-panel hoverable\" style=\"height:360px; background-color:#FFFFFF;\">\\n                <div class=\"card-image\">\\n                  <img class=\"responsive-img\" src=\"/static/images/categories/robotics_with_raspberry_pi_gopigo.jpg\" style=\"width:250px\">\\n                  <br><span class=\"card-title\"><strong>Robotics</strong></span>\\n                </div>\\n                <div class=\"card-content\">\\n                  <p>Control hardware with Python programming and the Raspberry Pi.</p>\\n                </div>\\n                <div class=\"card-action right-align\">\\n                  <a href=\"/robotics-tutorials/\" class=\"waves-effect waves-light btn\" style=\"color:#000000; background-color:#FFD166\">View</a>\\n                </div>\\n            </div>\\n            </a>\\n        </div>\\n\\n        <div class=\"col l4 s12 m6\">\\n\\n            <a href=\"/gui-development-tutorials/\" class=\"waves-effect waves-light\" style=\"color:#000\">\\n            <div class=\"card-panel hoverable\" style=\"height:360px; background-color:#FFFFFF;\">\\n                <div class=\"card-image\">\\n                  <img class=\"responsive-img\" src=\"/static/images/categories/tkinter-gui-tutorial-with-python-3.png\" style=\"width:250px\">\\n                  <br><span class=\"card-title\"><strong>GUIs</strong></span>\\n                </div>\\n                <div class=\"card-content\">\\n                  <p>Create software with a user interface using Tkinter, PyQt, or Kivy.</p>\\n                </div>\\n                <div class=\"card-action right-align\">\\n                  <a href=\"/gui-development-tutorials/\" class=\"waves-effect waves-light btn\" style=\"color:#000000; background-color:#FFD166\">View</a>\\n                </div>\\n            </div>\\n            </a>\\n\\n        </div>\\n\\n\\n\\n        <div class=\"col l4 s12 m6\">\\n    \\t  <div class=\"card\">\\n    \\t    <!--<div class=\"card-content\">\\n    \\t      <p>Curious about more than just Python? While not covered in nearly as much depth, here are some tutorials in other languages:</p>\\n    \\t    </div>-->\\n\\n    \\t    <div class=\"card-tabs\">\\n    \\t      <ul class=\"tabs tabs-fixed-width\">\\n    \\t        <li class=\"tab\"><a class=\"active\" href=\"#golang\">Golang</a></li>\\n    \\t        <!--<li class=\"tab\"><a href=\"#cpp\">C++</a></li>\\n    \\t        <li class=\"tab\"><a href=\"#julia\">Julia</a></li>-->\\n    \\t      </ul>\\n    \\t    </div>\\n\\n    \\t    <div class=\"card-content grey lighten-4\">\\n    \\t      <div id=\"golang\">\\n    \\t        <p>Go is a programming language aimed at being simple, easy to work with, and capable of high performance.</p><br>\\n    \\t        <a href=\"/go/\">\\n    \\t          <img class=\"responsive-img\" src=\"/static/images/categories/golang-tutorials.png\" style=\"width:150px;\">\\n    \\t        </a>\\n\\n    \\t        <div class=\"card-action left-align\">\\n    \\t          <a href=\"/go/\" class=\"waves-effect waves-light btn\" style=\"color:#000000; background-color:#FFD166\">View Tutorial</a>\\n    \\t        </div>\\n    \\t      </div>\\n\\n    \\t      <!--<div id=\"gpp\">C++ content</div>\\n    \\t      <div id=\"julia\">Julia content</div>-->\\n\\n    \\t    </div>\\n    \\t  </div>\\n        </div>\\n\\n\\n    </div>\\n\\n\\n\\n\\t\\t\\t</div>\\n\\t\\t</div>\\n\\n\\t\\t<!--login modal-->\\n\\t\\t\\n\\n\\t\\t<!--Register modal-->\\n\\t\\t\\n\\n\\n\\t\\t<script>\\n\\t\\t\\t$(document).ready(function(){\\n\\t\\t\\t\\t$(\".button-collapse\").sideNav();\\n\\t\\t\\t\\t$(\\'.modal-trigger\\').leanModal();\\n\\t\\t\\t\\t$(\\'.collapsible\\').collapsible({\\n\\t\\t\\t\\t  accordion : false // A setting that changes the collapsible behavior to expandable instead of the default accordion style\\n\\t\\t\\t\\t});\\n\\t\\t\\t\\t$(\\'#aside\\').pushpin({ top:110, bottom:500 });\\n\\t\\t  });\\n\\t\\t</script>\\n\\t\\t<script>\\n\\t\\t  $(document).ready(function(){\\n\\t\\t\\t$(\\'.collapsible\\').collapsible({\\n\\t\\t\\t  accordion : false // A setting that changes the collapsible behavior to expandable instead of the default accordion style\\n\\t\\t\\t});\\n\\t\\t\\t$(\\'select\\').material_select();\\n\\t\\t  });\\n\\t  </script>\\n\\t  <script>\\n\\t\\tfunction goBack() {\\n\\t\\t\\twindow.history.back()\\n\\t\\t}\\n\\t</script>\\n\\t\\t<script type=\"text/javascript\" src=\"/static/js/run_prettify.js\"></script>\\n\\n\\t</body>\\n\\n<footer class=\"page-footer\">\\n          <div class=\"container\">\\n            <div class=\"row\">\\n              <div class=\"col l6 s12\">\\n                <h5 class=\"white-text\">You\\'ve reached the end!</h5>\\n\\n                <p class=\"grey-text text-lighten-4\">Contact: Harrison@pythonprogramming.net.</p>\\n                <ul>\\n                  <li><a class=\"grey-text text-lighten-3\" href=\"/support-donate/\">Support this Website!</a></li>\\n                  <li><a class=\"grey-text text-lighten-3\" href=\"/consulting/\">Consulting and Contracting</a></li>\\n                  <li><a class=\"grey-text text-lighten-3\" href=\"https://www.facebook.com/pythonprogramming.net/\">Facebook</a></li>\\n                  <li><a class=\"grey-text text-lighten-3\" href=\"https://twitter.com/sentdex\">Twitter</a></li>\\n                  <li><a class=\"grey-text text-lighten-3\" href=\"https://instagram.com/sentdex\">Instagram</a></li>\\n                </ul>\\n              </div>\\n              <div class=\"col l4 offset-l2 s12\">\\n                <h6 class=\"white-text\">Legal stuff:</h6>\\n                <ul>\\n                  <li><a class=\"grey-text text-lighten-3\" href=\"/about/tos/\">Terms and Conditions</a></li>\\n                  <li><a class=\"grey-text text-lighten-3\" href=\"/about/privacy-policy/\">Privacy Policy</a></li>\\n\\n                </ul>\\n              </div>\\n            </div>\\n          </div>\\n          <a href=\"https://xkcd.com/353/\" target=\\'blank\\'><p class=\"grey-text right\" style=\\'padding-right:10px\\'>Programming is a superpower.</p></a>\\n          <div class=\"footer-copyright\">\\n            <div class=\"container\">\\n            \\xc2\\xa9 OVER 9000! PythonProgramming.net\\n\\n            </div>\\n\\n          </div>\\n        </footer>\\n\\n</html>\\n\\n\\n\\n\\n\\n\\n\\n\\n\\n\\n\\n\\n\\n\\n'\n"
     ]
    }
   ],
   "source": [
    "url = 'http://pythonprogramming.net';\n",
    "values = {'s':'basic',\n",
    "          'submit':'search'}; #參數及參數值\n",
    "\n",
    "data = urllib.parse.urlencode(values); #解析並轉為url編碼格式\n",
    "\n",
    "data = data.encode('utf-8'); #將所有網址用utf8解碼\n",
    "\n",
    "req = urllib.request.Request(url, data); #建立請求\n",
    "\n",
    "resp = urllib.request.urlopen(req); #開啟網頁\n",
    "\n",
    "respData = resp.read();\n",
    "\n",
    "print(respData);"
   ]
  },
  {
   "cell_type": "markdown",
   "metadata": {},
   "source": [
    "### example-3，試著存取google，以關鍵字python來查詢\n",
    "\n",
    "```出現 example-3 HTTP Error 403: Forbidden```"
   ]
  },
  {
   "cell_type": "code",
   "execution_count": 88,
   "metadata": {},
   "outputs": [
    {
     "name": "stdout",
     "output_type": "stream",
     "text": [
      "example-3 HTTP Error 403: Forbidden\n"
     ]
    }
   ],
   "source": [
    "try:  \n",
    "    url = 'https://www.google.com.tw/search?q=python' ;\n",
    "    x = urllib.request.urlopen(url);  \n",
    "    print('example-3', x.read());\n",
    "except Exception as e:\n",
    "    print('example-3', str(e));"
   ]
  },
  {
   "cell_type": "markdown",
   "metadata": {},
   "source": [
    "### example-4 試著變更 headers 的資訊來存取google網頁的資訊"
   ]
  },
  {
   "cell_type": "code",
   "execution_count": 95,
   "metadata": {},
   "outputs": [],
   "source": [
    "try:  \n",
    "    url = 'https://www.google.com.tw/search?q=python';\n",
    "    #url = 'https://www.google.com.tw/#q=python'; #雖然在google網址上看到搜尋時是這個方式，但是實際操作起來是不成功的  \n",
    "    headers = {};\n",
    "    headers['User-Agent'] = 'Mozilla/5.0 (Macintosh; Intel Mac OS X 10_14_6) AppleWebKit/537.36 (KHTML, like Gecko)';\n",
    "    #headers['User-Agent'] = 'Mozilla/5.0 (Windows NT 6.3; rv:36.0) Gecko/20100101 Firefox/36.0';\n",
    "    \n",
    "    req = urllib.request.Request(url, headers=headers);\n",
    "    \n",
    "    resp = urllib.request.urlopen(req);\n",
    "    \n",
    "    respData = str(resp.read().decode('utf-8')); #將所得的資料解碼\n",
    "    \n",
    "    saveFile = open('./dataset/withHeaders.txt','w', encoding='utf8');\n",
    "    \n",
    "    saveFile.write(str(respData));\n",
    "    \n",
    "    saveFile.close();\n",
    "\n",
    "except Exception as e:\n",
    "    \n",
    "    print(str(e));"
   ]
  },
  {
   "cell_type": "code",
   "execution_count": null,
   "metadata": {},
   "outputs": [],
   "source": []
  }
 ],
 "metadata": {
  "kernelspec": {
   "display_name": "Python 3",
   "language": "python",
   "name": "python3"
  },
  "language_info": {
   "codemirror_mode": {
    "name": "ipython",
    "version": 3
   },
   "file_extension": ".py",
   "mimetype": "text/x-python",
   "name": "python",
   "nbconvert_exporter": "python",
   "pygments_lexer": "ipython3",
   "version": "3.7.3"
  }
 },
 "nbformat": 4,
 "nbformat_minor": 2
}
