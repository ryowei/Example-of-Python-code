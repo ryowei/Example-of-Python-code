{
 "cells": [
  {
   "cell_type": "markdown",
   "metadata": {},
   "source": [
    "## Reference\n",
    "[1.] [brilliantcode.net](https://www.brilliantcode.net/1111/numpy-tutorial-shape-manipulation-stack-split-matrices/)\n",
    "\n",
    "\n",
    "\n",
    "\n"
   ]
  },
  {
   "cell_type": "markdown",
   "metadata": {},
   "source": [
    "# 形狀操作 (Shape Manipulation)\n",
    "\n",
    " - 矩陣 $ M\\times N $ 的**形狀 (shape)** 很重要 \n",
    " \n",
    "     + (row, col)\n",
    " \n",
    " \n",
    " - 在進行科學運算時，最常用到矩陣運算\n",
    " \n",
    " \n",
    " \n",
    " \n",
    " \n",
    " - 不過，強大的NumPy中提供了很多**改變矩陣形狀**的功能，可以滿足開發者的需求！\n",
    "\n",
    "\n",
    "\n",
    " - **np.reshape(a, b)**：這是最基本的塑形功能，可以直接將陣列重新塑形成 a-by-b 或是更高維度的形狀！\n",
    "   + (a, b) --> 實際跑出來的結果是 (a, b-1)\n",
    " \n",
    " \n",
    " "
   ]
  },
  {
   "cell_type": "code",
   "execution_count": 7,
   "metadata": {},
   "outputs": [
    {
     "name": "stdout",
     "output_type": "stream",
     "text": [
      "a => \n",
      "[[ 1  2  3  4  5  6  7  8  9 10]\n",
      " [11 12 13 14 15 16 17 18 19 20]\n",
      " [21 22 23 24 25 26 27 28 29 30]\n",
      " [31 32 33 34 35 36 37 38 39 40]\n",
      " [41 42 43 44 45 46 47 48 49 50]]\n",
      "\n",
      "a 的形狀： a.shape => (5, 10)\n"
     ]
    }
   ],
   "source": [
    "import numpy as np\n",
    "\n",
    "a = np.arange(1,51).reshape(5, 10)\n",
    "\n",
    "print(\"a => \\n{0}\".format(a))\n",
    "\n",
    "print()\n",
    "\n",
    "print(\"a 的形狀： a.shape => {0}\".format(a.shape))"
   ]
  },
  {
   "cell_type": "markdown",
   "metadata": {},
   "source": [
    "## np.reshape(a, b, -1)：使用 **-1** 代表這個維度就交給NumPy自動計算！"
   ]
  },
  {
   "cell_type": "code",
   "execution_count": 14,
   "metadata": {},
   "outputs": [
    {
     "name": "stdout",
     "output_type": "stream",
     "text": [
      "case 1:------------\n",
      "a.reshape(5, 2, 5) => \n",
      "[[[ 1  2  3  4  5]\n",
      "  [ 6  7  8  9 10]]\n",
      "\n",
      " [[11 12 13 14 15]\n",
      "  [16 17 18 19 20]]\n",
      "\n",
      " [[21 22 23 24 25]\n",
      "  [26 27 28 29 30]]\n",
      "\n",
      " [[31 32 33 34 35]\n",
      "  [36 37 38 39 40]]\n",
      "\n",
      " [[41 42 43 44 45]\n",
      "  [46 47 48 49 50]]]\n",
      "\n",
      "case 2:------------\n",
      "a.reshape(5, 2, -1) => \n",
      "[[[ 1  2  3  4  5]\n",
      "  [ 6  7  8  9 10]]\n",
      "\n",
      " [[11 12 13 14 15]\n",
      "  [16 17 18 19 20]]\n",
      "\n",
      " [[21 22 23 24 25]\n",
      "  [26 27 28 29 30]]\n",
      "\n",
      " [[31 32 33 34 35]\n",
      "  [36 37 38 39 40]]\n",
      "\n",
      " [[41 42 43 44 45]\n",
      "  [46 47 48 49 50]]]\n",
      "\n",
      "會發現 case 1 與 case 2 的結果一樣\n"
     ]
    }
   ],
   "source": [
    "a = np.arange(1,51).reshape(5,10)\n",
    "\n",
    "\n",
    "print(\"case 1:------------\")\n",
    "print(\"a.reshape(5, 2, 5) => \\n{0}\".format(a.reshape(5, 2, 5)))\n",
    "\n",
    "print()\n",
    "\n",
    "print(\"case 2:------------\")\n",
    "print(\"a.reshape(5, 2, -1) => \\n{0}\".format(a.reshape(5,2,-1)))\n",
    "\n",
    "\n",
    "\n",
    "\n",
    "print(\"-------------------\")\n",
    "print(\"\\n會發現 case 1 與 case 2 的結果一樣\")"
   ]
  },
  {
   "cell_type": "code",
   "execution_count": null,
   "metadata": {},
   "outputs": [],
   "source": [
    "\n",
    "\n"
   ]
  }
 ],
 "metadata": {
  "kernelspec": {
   "display_name": "Python 3",
   "language": "python",
   "name": "python3"
  },
  "language_info": {
   "codemirror_mode": {
    "name": "ipython",
    "version": 3
   },
   "file_extension": ".py",
   "mimetype": "text/x-python",
   "name": "python",
   "nbconvert_exporter": "python",
   "pygments_lexer": "ipython3",
   "version": "3.7.3"
  }
 },
 "nbformat": 4,
 "nbformat_minor": 2
}
