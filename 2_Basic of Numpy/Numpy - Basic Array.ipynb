{
 "cells": [
  {
   "cell_type": "markdown",
   "metadata": {},
   "source": [
    "# NumPy"
   ]
  },
  {
   "cell_type": "markdown",
   "metadata": {},
   "source": [
    "### Introduction\n",
    "\n",
    " - Numpy 底層以 C 和 Fortran 語言實作，所以能快速操作多重維度的陣列。\n",
    "\n",
    "\n",
    " - 當 Python 處理龐大資料時，其原生 **list** 效能表現並不理想（但可以動態存異質資料）\n",
    "\n",
    "\n",
    " - Numpy 具備平行處理的能力，可以將操作動作一次套用在大型陣列上。\n",
    "\n",
    "\n",
    " - 此外 Python 其餘重量級的資料科學相關套件\n",
    " \n",
    "   + Pandas、SciPy、Scikit-learn 等都幾乎是奠基在 Numpy 的基礎上。\n",
    "   \n",
    "   + 因此學會 Numpy 對於往後學習其他資料科學相關套件打好堅實的基礎。\n",
    "   \n",
    "   "
   ]
  },
  {
   "cell_type": "code",
   "execution_count": 1,
   "metadata": {},
   "outputs": [
    {
     "data": {
      "image/png": "[encoded data removed]",
      "text/plain": [
       "<PIL.PngImagePlugin.PngImageFile image mode=RGBA size=646x333 at 0x105A2A1D0>"
      ]
     },
     "execution_count": 1,
     "metadata": {},
     "output_type": "execute_result"
    }
   ],
   "source": [
    "'''\n",
    "讀取圖片//常用套件: skimage, PIL, OpenCV\n",
    "'''\n",
    "%matplotlib inline\n",
    "from PIL import Image\n",
    "\n",
    "Image.open(\"../graph/numpy_arrays.png\")"
   ]
  },
  {
   "cell_type": "markdown",
   "metadata": {},
   "source": [
    "### Numpy 陣列\n",
    "\n",
    " - Numpy 的重點在於**陣列**的操作\n",
    "\n",
    " - 功能都建築在 \n",
    "    + 同質\n",
    "    + 多重維度的 **ndarray（N-dimensional array）**。\n",
    " \n",
    " \n",
    " \n",
    " - ndarray 的關鍵屬性是\n",
    "    + 維度（ndim）\n",
    "    + 形狀（shape）\n",
    "    + 數值類型（dtype）：ndarray物件內組成元素的型態\n",
    "    + ndarry.size：ndarry 物件所組成之 array 的總元素數量，回應之數值會等於 ndarray.shape 的每個元素相乘\n",
    "    + ndarray.itemsize：陣列中每一個元素的大小(Bytes) (ex: int16=>16/8=2 Bytes)\n",
    "    + ndarry.data：這是一個存有實際陣列元素的緩衝，通常我們不需要使用這個屬性，因為我們可以使用 **index** 存取這些元素。\n",
    " \n",
    " \n",
    " - 一般我們稱\n",
    "    + 一維陣列為 vector \n",
    "    + 二維陣列為 matrix\n",
    " \n",
    " \n",
    " - 引入 numpy 模組，透過傳入 **list** 到 numpy.array() 創建**陣列**。"
   ]
  },
  {
   "cell_type": "markdown",
   "metadata": {},
   "source": [
    "### Loading Numpy library"
   ]
  },
  {
   "cell_type": "code",
   "execution_count": 2,
   "metadata": {},
   "outputs": [
    {
     "name": "stdout",
     "output_type": "stream",
     "text": [
      "[1 2 3]\n",
      "[3 4 5]\n",
      "[1 2 3 4 5 6]\n"
     ]
    }
   ],
   "source": [
    "import numpy as np\n",
    "\n",
    "np1 = np.array([1,2,3])\n",
    "np2 = np.array([3,4,5])\n",
    "np3 = np.array([1,2,3,4,5,6])\n",
    "\n",
    "print(np1)\n",
    "print(np2)\n",
    "print(np3)"
   ]
  },
  {
   "cell_type": "markdown",
   "metadata": {},
   "source": [
    "### 陣列相加"
   ]
  },
  {
   "cell_type": "code",
   "execution_count": 3,
   "metadata": {},
   "outputs": [
    {
     "data": {
      "text/plain": [
       "array([4, 6, 8])"
      ]
     },
     "execution_count": 3,
     "metadata": {},
     "output_type": "execute_result"
    }
   ],
   "source": [
    "np1 + np2"
   ]
  },
  {
   "cell_type": "markdown",
   "metadata": {},
   "source": [
    "### 顯示屬性 (Attributes)"
   ]
  },
  {
   "cell_type": "code",
   "execution_count": 4,
   "metadata": {},
   "outputs": [
    {
     "name": "stdout",
     "output_type": "stream",
     "text": [
      "\n",
      "\n",
      "維度----ndarray.ndim----\n",
      "ndim: 1 \n",
      "\n",
      "\n",
      "形狀----ndarry.shape----\n",
      "shape: (3,) \n",
      "\n",
      "\n",
      "型別----ndarry.dtype----\n",
      "dtype: int64 \n",
      "\n",
      "\n",
      "----ndarry.size----\n",
      "size: 3 \n",
      "\n",
      "\n",
      "--ndarray.itemsize--\n",
      "itemsize: 8 \n",
      "\n",
      "\n",
      "----ndarry.data----\n",
      "data: <memory at 0x10d0b8648> \n"
     ]
    }
   ],
   "source": [
    "#  維度\n",
    "print(\"\\n\\n維度----ndarray.ndim----\")\n",
    "print(\"ndim: {0} \".format(np1.ndim))\n",
    "\n",
    "#  形狀\n",
    "print(\"\\n\\n形狀----ndarry.shape----\")\n",
    "print(\"shape: {0} \".format(np1.shape))\n",
    "\n",
    "#  型別\n",
    "print(\"\\n\\n型別----ndarry.dtype----\")\n",
    "print(\"dtype: {0} \".format(np1.dtype))\n",
    "\n",
    "'''\n",
    "# 物件所組成之 array 的總元素數量4\n",
    "# 回應之數值會等於 ndarray.shape 的每個元素相乘\n",
    "'''\n",
    "print(\"\\n\\n----ndarry.size----\")\n",
    "print(\"size: {0} \".format(np1.size))\n",
    "\n",
    "'''\n",
    "# 陣列中每一個 元素的大小 (Bytes) \n",
    "ex: int16 => 16/8 = 2 Bytes\n",
    "'''\n",
    "print(\"\\n\\n--ndarray.itemsize--\")\n",
    "print(\"itemsize: {0} \".format(np1.itemsize))\n",
    "\n",
    "\n",
    "\n",
    "print(\"\\n\\n----ndarry.data----\")\n",
    "print(\"data: {0} \".format(np1.data))"
   ]
  },
  {
   "cell_type": "markdown",
   "metadata": {},
   "source": [
    "### 改變陣列的維度與比較"
   ]
  },
  {
   "cell_type": "code",
   "execution_count": 5,
   "metadata": {},
   "outputs": [
    {
     "name": "stdout",
     "output_type": "stream",
     "text": [
      "#------------------#\n",
      "# Orginal dimension\n",
      "#------------------#\n",
      "np3.ndim: 1 \n",
      "np3.shape: (6,) \n",
      "np3.dtype: int64 \n",
      "\n",
      "#------------------#\n",
      "# Change dimension\n",
      "#------------------#\n",
      "np3_1.ndim: 2 \n",
      "np3_1.shape: (2, 3) \n",
      "np3_1.dtype: int64 \n",
      "\n",
      "#------------------#\n",
      "# Compare the array\n",
      "#------------------#\n",
      "np3: [1 2 3 4 5 6] \n",
      "\t\n",
      "np3_1: [[1 2 3]\n",
      " [4 5 6]] \n"
     ]
    }
   ],
   "source": [
    "#------------------#\n",
    "# Orginal dimension\n",
    "#------------------# \n",
    "print(\"#------------------#\\n# Orginal dimension\\n#------------------#\") \n",
    "print(\"np3.ndim: {0} \".format(np3.ndim))\n",
    "print(\"np3.shape: {0} \".format(np3.shape))\n",
    "print(\"np3.dtype: {0} \".format(np3.dtype))\n",
    "\n",
    "\n",
    "\n",
    "#------------------#\n",
    "# Change dimension\n",
    "#------------------# \n",
    "print(\"\\n#------------------#\\n# Change dimension\\n#------------------#\") \n",
    "np3_1 = np3.reshape([2,3])\n",
    "\n",
    "print(\"np3_1.ndim: {0} \".format(np3_1.ndim))\n",
    "print(\"np3_1.shape: {0} \".format(np3_1.shape))\n",
    "print(\"np3_1.dtype: {0} \".format(np3_1.dtype))\n",
    "\n",
    "\n",
    "#------------------#\n",
    "# Compare the array\n",
    "#------------------# \n",
    "print(\"\\n#------------------#\\n# Compare the array\\n#------------------#\") \n",
    "\n",
    "print(\"np3: {0} \".format(np3))\n",
    "print(\"\\t\")\n",
    "print(\"np3_1: {0} \".format(np3_1))"
   ]
  },
  {
   "cell_type": "markdown",
   "metadata": {},
   "source": [
    "### 改變陣列型別 (dtype)\n",
    "\n",
    "  - bool\n",
    "    + True\n",
    "    + False\n",
    "  \n",
    "  - int (數字是指 bit)\n",
    "    + int16\n",
    "    + int32\n",
    "    + int64\n",
    "  \n",
    "  - float\n",
    "    + 表示小數點後幾位\n",
    "    + 16, 32, 64\n",
    "  \n",
    "  - string\n",
    "    + string\n",
    "    + unicode\n",
    "     \n",
    "  - nan: missing data"
   ]
  },
  {
   "cell_type": "code",
   "execution_count": 6,
   "metadata": {},
   "outputs": [
    {
     "name": "stdout",
     "output_type": "stream",
     "text": [
      "\n",
      "#------------------#\n",
      "# Change dtype\n",
      "#------------------#\n",
      "np3_1.dtype: int64 \n",
      "\t\n",
      "np3_2.dtype: int32 \n",
      "\t\n"
     ]
    }
   ],
   "source": [
    "\n",
    "#------------------#\n",
    "#   Change dtype\n",
    "#------------------# \n",
    "np3_2 = np3_1.astype('int32')\n",
    "\n",
    "print(\"\\n#------------------#\\n# Change dtype\\n#------------------#\") \n",
    "\n",
    "print(\"np3_1.dtype: {0} \".format(np3_1.dtype))\n",
    "print(\"\\t\")\n",
    "print(\"np3_2.dtype: {0} \".format(np3_2.dtype))\n",
    "print(\"\\t\")"
   ]
  },
  {
   "cell_type": "markdown",
   "metadata": {},
   "source": [
    "### --------------------------------------------------------------"
   ]
  },
  {
   "cell_type": "markdown",
   "metadata": {},
   "source": [
    "### 建立陣列\n",
    "\n",
    " - 建立填滿 0 或 1 的陣列"
   ]
  },
  {
   "cell_type": "code",
   "execution_count": 7,
   "metadata": {},
   "outputs": [
    {
     "name": "stdout",
     "output_type": "stream",
     "text": [
      "[[0. 0. 0.]\n",
      " [0. 0. 0.]]\n"
     ]
    }
   ],
   "source": [
    "#-------------#\n",
    "# 填滿 0 的陣列\n",
    "#-------------#\n",
    "#[row, column]\n",
    "\n",
    "np_0 = np.zeros([2,3])\n",
    "print(np_0)"
   ]
  },
  {
   "cell_type": "code",
   "execution_count": 8,
   "metadata": {},
   "outputs": [
    {
     "name": "stdout",
     "output_type": "stream",
     "text": [
      "[[1. 1. 1.]\n",
      " [1. 1. 1.]]\n"
     ]
    }
   ],
   "source": [
    "#-------------#\n",
    "# 填滿 1 的陣列\n",
    "#-------------#\n",
    "#[row, column]\n",
    "\n",
    "np_1 = np.ones([2,3])\n",
    "print(np_1)"
   ]
  },
  {
   "cell_type": "markdown",
   "metadata": {},
   "source": [
    "### --------------------------------------------------------------"
   ]
  },
  {
   "cell_type": "markdown",
   "metadata": {},
   "source": [
    "## range() 與 np.arange()\n",
    "\n",
    "### 1 維陣列\n",
    " - np.array( [<陣列元素用逗號隔開>] )：簡易一維陣列\n",
    " - np.arange( 起始值, 結束值, 步幅, 資料型別 )\n",
    "     + 也是產生一維陣列，和 np.array() 的差別在於 **arange 擁有較大的彈性**，而且元素數值是自動化產生！\n",
    "\n",
    "\n",
    "#### range()\n",
    " - 返回的是 **range object**\n",
    " - 儘可用於 **迭代**\n",
    " - **不支援步長為小數**\n",
    "\n",
    "\n",
    "#### np.nrange()\n",
    " - 返回的是 **numpy.ndarray()** \n",
    " - 它是一個序列，可被當做**向量使用。**\n",
    " - **支援步長為小數**\n",
    "\n",
    "\n",
    "\n",
    "#### 共同處\n",
    "\n",
    "\n",
    " - 兩者都可用於迭代\n",
    "\n",
    " - 兩者都有三個引數\n",
    "   + 以第一個引數為起點\n",
    "   + 第三個引數為步長\n",
    "   + 截止到第二個引數之前的不包括第二個引數的資料序列 \n",
    "\n",
    " - 某種意義上，和 STL 中由迭代器組成的區間是一樣的\n",
    "   + 左閉右開的區間 **[first, last)**\n",
    "   + 或者不加嚴謹地寫做[first:step:last)"
   ]
  },
  {
   "cell_type": "markdown",
   "metadata": {},
   "source": [
    "### range"
   ]
  },
  {
   "cell_type": "code",
   "execution_count": 9,
   "metadata": {},
   "outputs": [
    {
     "name": "stdout",
     "output_type": "stream",
     "text": [
      "range(1,5): range(1, 5) \n",
      "\t\n",
      "tuple(range(1, 5)): (1, 2, 3, 4) \n",
      "\t\n",
      "list(range(1, 5)): [1, 2, 3, 4] \n",
      "\t\n",
      "type(range(1, 5)): <class 'range'> \n",
      "\t\n"
     ]
    }
   ],
   "source": [
    "print(\"range(1,5): {0} \".format(range(1,5)))\n",
    "print(\"\\t\")\n",
    "\n",
    "print(\"tuple(range(1, 5)): {0} \".format(tuple(range(1, 5))))\n",
    "print(\"\\t\")\n",
    "\n",
    "print(\"list(range(1, 5)): {0} \".format(list(range(1, 5))))\n",
    "print(\"\\t\")\n",
    "\n",
    "print(\"type(range(1, 5)): {0} \".format(type(range(1, 5))))\n",
    "print(\"\\t\")"
   ]
  },
  {
   "cell_type": "markdown",
   "metadata": {},
   "source": [
    "### np.arange v.s range"
   ]
  },
  {
   "cell_type": "code",
   "execution_count": 10,
   "metadata": {},
   "outputs": [
    {
     "name": "stdout",
     "output_type": "stream",
     "text": [
      "np.arange(1, 5): [1 2 3 4] \n",
      "\t\n",
      "range(1, 5, 2): range(1, 5, 2) \n",
      "\t\n",
      "np.arange(1, 5): [1 2 3 4] \n",
      "\t\n",
      "np.arange(1, 5, .5): [1.  1.5 2.  2.5 3.  3.5 4.  4.5] \n",
      "\t\n"
     ]
    }
   ],
   "source": [
    "print(\"np.arange(1, 5): {0} \".format(np.arange(1, 5)))\n",
    "print(\"\\t\")\n",
    "\n",
    "print(\"range(1, 5, 2): {0} \".format(range(1, 5, 2)))\n",
    "print(\"\\t\")\n",
    "\n",
    "print(\"np.arange(1, 5): {0} \".format(np.arange(1, 5)))\n",
    "print(\"\\t\")\n",
    "\n",
    "print(\"np.arange(1, 5, .5): {0} \".format(np.arange(1, 5, .5)))\n",
    "print(\"\\t\")"
   ]
  },
  {
   "cell_type": "code",
   "execution_count": 11,
   "metadata": {},
   "outputs": [
    {
     "ename": "TypeError",
     "evalue": "'float' object cannot be interpreted as an integer",
     "output_type": "error",
     "traceback": [
      "\u001b[0;31m---------------------------------------------------------------------------\u001b[0m",
      "\u001b[0;31mTypeError\u001b[0m                                 Traceback (most recent call last)",
      "\u001b[0;32m<ipython-input-11-39432b9d09b4>\u001b[0m in \u001b[0;36m<module>\u001b[0;34m\u001b[0m\n\u001b[1;32m      3\u001b[0m \u001b[0m這裡呈現一個錯誤的程式碼給大家參考\u001b[0m\u001b[0;31m！\u001b[0m\u001b[0;34m\u001b[0m\u001b[0;34m\u001b[0m\u001b[0m\n\u001b[1;32m      4\u001b[0m '''\n\u001b[0;32m----> 5\u001b[0;31m \u001b[0mprint\u001b[0m\u001b[0;34m(\u001b[0m\u001b[0;34m\"range(1, 5, .2) : {0} \"\u001b[0m\u001b[0;34m.\u001b[0m\u001b[0mformat\u001b[0m\u001b[0;34m(\u001b[0m\u001b[0mrange\u001b[0m\u001b[0;34m(\u001b[0m\u001b[0;36m1\u001b[0m\u001b[0;34m,\u001b[0m \u001b[0;36m5\u001b[0m\u001b[0;34m,\u001b[0m \u001b[0;36m.2\u001b[0m\u001b[0;34m)\u001b[0m \u001b[0;34m)\u001b[0m\u001b[0;34m)\u001b[0m\u001b[0;34m\u001b[0m\u001b[0;34m\u001b[0m\u001b[0m\n\u001b[0m\u001b[1;32m      6\u001b[0m \u001b[0mprint\u001b[0m\u001b[0;34m(\u001b[0m\u001b[0;34m\"\\t\"\u001b[0m\u001b[0;34m)\u001b[0m\u001b[0;34m\u001b[0m\u001b[0;34m\u001b[0m\u001b[0m\n",
      "\u001b[0;31mTypeError\u001b[0m: 'float' object cannot be interpreted as an integer"
     ]
    }
   ],
   "source": [
    "'''\n",
    "range 不能用小數點做分隔的動作，很重要！\n",
    "這裡呈現一個錯誤的程式碼給大家參考！\n",
    "'''\n",
    "print(\"range(1, 5, .2) : {0} \".format(range(1, 5, .2) ))\n",
    "print(\"\\t\")"
   ]
  },
  {
   "cell_type": "markdown",
   "metadata": {},
   "source": [
    "### --------------------------------------------------------------"
   ]
  },
  {
   "cell_type": "markdown",
   "metadata": {},
   "source": [
    "### For Loop 應用\n",
    "\n",
    " - 運用不同的 loop 方法，他的起始點都不盡相同，要特別注意"
   ]
  },
  {
   "cell_type": "code",
   "execution_count": 119,
   "metadata": {
    "scrolled": false
   },
   "outputs": [
    {
     "name": "stdout",
     "output_type": "stream",
     "text": [
      "\n",
      "\n",
      "#--------------#\n",
      "#   *case 1*   #\n",
      "#--------------#\n",
      "for i in range(1,5):\n",
      "1 2 3 4 \n",
      "\n",
      "#--------------#\n",
      "#    case 2    #\n",
      "#--------------#\n",
      "for i in range(5):\n",
      "0 1 2 3 4 \n",
      "\n",
      "#--------------#\n",
      "#    case 3    #\n",
      "#--------------#\n",
      "for i in range(1, 5, 2):\n",
      "1 3 \n",
      "\n",
      "#--------------#\n",
      "#   *case 4*   #\n",
      "#--------------#\n",
      "for i in arange(1,5):\n",
      "1 2 3 4 "
     ]
    }
   ],
   "source": [
    "''' [1,5) 跟 case 4 的結果相同''' \n",
    "print(\"\\n\\n#--------------#\\n#   *case 1*   #\\n#--------------#\")\n",
    "print(\"for i in range(1,5):\")\n",
    "for i in range(1,5): print(i,end = \" \")\n",
    "\n",
    "    \n",
    "    \n",
    "'''直接使用 range 他預設是從 0 開始'''\n",
    "print(\"\\n\\n#--------------#\\n#    case 2    #\\n#--------------#\")\n",
    "print(\"for i in range(5):\")\n",
    "for i in range(5): print(i,end = \" \")\n",
    "    \n",
    "    \n",
    "''' [1,5) by 2 '''\n",
    "print(\"\\n\\n#--------------#\\n#    case 3    #\\n#--------------#\")\n",
    "print(\"for i in range(1, 5, 2):\")\n",
    "for i in range(1, 5, 2): print(i,end = \" \")\n",
    "    \n",
    "    \n",
    "''' [1,5) 跟 case 1 的結果相同''' \n",
    "print(\"\\n\\n#--------------#\\n#   *case 4*   #\\n#--------------#\")\n",
    "print(\"for i in arange(1,5):\")\n",
    "for i in np.arange(1, 5):  print(i,end =\" \")"
   ]
  },
  {
   "cell_type": "markdown",
   "metadata": {},
   "source": [
    "### --------------------------------------------------------------"
   ]
  },
  {
   "cell_type": "markdown",
   "metadata": {},
   "source": [
    "### 陣列所對應的位置\n",
    " \n",
    " - 如果今天我們要抓取以下的格子，要怎麼擷取呢？\n",
    " - 在這裡這主要目的是他的 index 會與直觀有些不一樣。\n",
    " "
   ]
  },
  {
   "cell_type": "code",
   "execution_count": 2,
   "metadata": {},
   "outputs": [
    {
     "data": {
      "image/png": "[encoded data removed]",
      "text/plain": [
       "<PIL.Image.Image image mode=RGBA size=750x300 at 0x10E970BE0>"
      ]
     },
     "execution_count": 2,
     "metadata": {},
     "output_type": "execute_result"
    }
   ],
   "source": [
    "%matplotlib inline\n",
    "from PIL import Image\n",
    "\n",
    "img = Image.open(\"../graph/numpy_indexing.png\")\n",
    "img.resize((750,300))\n"
   ]
  },
  {
   "cell_type": "markdown",
   "metadata": {},
   "source": [
    "## Concatenate\n",
    " - concatenate: Join a sequence of \"arrays\" along an existing axis."
   ]
  },
  {
   "cell_type": "code",
   "execution_count": 25,
   "metadata": {},
   "outputs": [],
   "source": [
    "################\n",
    "#    Example\n",
    "################\n",
    "\n",
    "# >>> a = np.array([[1, 2], [3, 4]])\n",
    "# >>> b = np.array([[5, 6]])\n",
    "\n",
    "#--------------------------------#\n",
    "#採用 row 的方式堆疊\n",
    "#--------------------------------#\n",
    "# >>> np.concatenate((a, b), axis=0)\n",
    "# array([[1, 2],\n",
    "#        [3, 4],\n",
    "#        [5, 6]])\n",
    "\n",
    "#--------------------------------#\n",
    "#採用 轉置過後 column 的方式堆疊\n",
    "#--------------------------------#\n",
    "# >>> np.concatenate((a, b.T), axis=1)\n",
    "# array([[1, 2, 5],\n",
    "#        [3, 4, 6]])\n",
    "\n",
    "#--------------------------------#\n",
    "# 直接打直的\n",
    "#--------------------------------#\n",
    "# >>> np.concatenate((a, b), axis=None)\n",
    "# array([1, 2, 3, 4, 5, 6])\n"
   ]
  },
  {
   "cell_type": "code",
   "execution_count": 26,
   "metadata": {},
   "outputs": [
    {
     "name": "stdout",
     "output_type": "stream",
     "text": [
      "1\n",
      "(36,)\n",
      "int64\n"
     ]
    }
   ],
   "source": [
    "np4 = np.concatenate((\n",
    "    np.arange(0,6),\n",
    "    np.arange(10,16),\n",
    "    np.arange(20,26),\n",
    "    np.arange(30,36),\n",
    "    np.arange(40,46),\n",
    "    np.arange(50,56)), \n",
    "    axis=None)\n",
    "\n",
    "#------------------#\n",
    "# Orginal dimension\n",
    "#------------------# \n",
    "print(np4.ndim)\n",
    "print(np4.shape)\n",
    "print(np4.dtype)\n",
    "\n"
   ]
  },
  {
   "cell_type": "code",
   "execution_count": 27,
   "metadata": {},
   "outputs": [
    {
     "name": "stdout",
     "output_type": "stream",
     "text": [
      "\n",
      "#------------------#\n",
      "#   轉換過後的格子   #\n",
      "#------------------#\n",
      "[[ 0  1  2  3  4  5]\n",
      " [10 11 12 13 14 15]\n",
      " [20 21 22 23 24 25]\n",
      " [30 31 32 33 34 35]\n",
      " [40 41 42 43 44 45]\n",
      " [50 51 52 53 54 55]]\n",
      "\n",
      "\n",
      "#------------------#\n",
      "# Change dimension #\n",
      "#------------------#\n",
      "2\n",
      "2\n",
      "int64\n"
     ]
    }
   ],
   "source": [
    "np4_1 = np4.reshape([6,6])\n",
    "print(\"\\n#------------------#\\n#   轉換過後的格子   #\\n#------------------#\")\n",
    "\n",
    "print(np4_1)\n",
    "\n",
    "#------------------#\n",
    "# Change dimension\n",
    "#------------------# \n",
    "print(\"\\n\\n#------------------#\\n# Change dimension #\\n#------------------#\")\n",
    "print(np4_1.ndim)\n",
    "print(np4_1.ndim)\n",
    "print(np4_1.dtype)"
   ]
  },
  {
   "cell_type": "code",
   "execution_count": 28,
   "metadata": {
    "scrolled": true
   },
   "outputs": [
    {
     "name": "stdout",
     "output_type": "stream",
     "text": [
      "#------------------#\n",
      "#     橘色的部分     #\n",
      "#------------------#\n",
      "\n",
      "[ 1 12 23 34 45]\n",
      "\n",
      "座標就是：(0,1), (1,2), (2,3), (3,4),(4,5)\n",
      "\n",
      "#------------------#\n",
      "#     藍色的部分     #\n",
      "#------------------#\n",
      "\n",
      "[[30 32 35]\n",
      " [40 42 45]\n",
      " [50 52 55]]\n",
      "\n",
      "座標就是：(3:,0), (3:,2), (3:,5) -> (3:5,0), (3:5,2), (3:5,5)\n",
      "\n",
      "#------------------#\n",
      "#     紅色的部分     #\n",
      "#------------------#\n",
      "\n",
      "[ 2 22 52]\n",
      "\n",
      "座標就是：(1,3), (3,3), (6,3)\n",
      "\n"
     ]
    }
   ],
   "source": [
    "#------------------#\n",
    "#     橘色的部分\n",
    "#------------------# \n",
    "print(\"#------------------#\\n#     橘色的部分     #\\n#------------------#\\n\")\n",
    "\n",
    "print(np4_1[(0,1,2,3,4),\n",
    "      (1,2,3,4,5)])\n",
    "\n",
    "print(\"\\n座標就是：(0,1), (1,2), (2,3), (3,4),(4,5)\\n\")\n",
    "\n",
    "#------------------#\n",
    "#     藍色的部分\n",
    "#------------------# \n",
    "print(\"#------------------#\\n#     藍色的部分     #\\n#------------------#\\n\")\n",
    "\n",
    "print(np4_1[ 3:,\n",
    "       [0,2,5]])\n",
    "\n",
    "print(\"\\n座標就是：(3:,0), (3:,2), (3:,5) -> (3:5,0), (3:5,2), (3:5,5)\\n\")\n",
    "\n",
    "\n",
    "#------------------#\n",
    "#     紅色的部分\n",
    "#------------------# \n",
    "print(\"#------------------#\\n#     紅色的部分     #\\n#------------------#\\n\")\n",
    "\n",
    "# true(1) and false(0)\n",
    "mask = np.array([1,0,1,0,0,1], dtype = bool)\n",
    "\n",
    "\n",
    "# [row, column]\n",
    "# mask 的部分放在 row\n",
    "# 2 代表的是 3rd column \n",
    "print(np4_1[mask,2])\n",
    "\n",
    "print(\"\\n座標就是：(1,3), (3,3), (6,3)\\n\")"
   ]
  },
  {
   "cell_type": "markdown",
   "metadata": {},
   "source": [
    "### --------------------------------------------------------------"
   ]
  },
  {
   "cell_type": "markdown",
   "metadata": {},
   "source": [
    "### 陣列索引與切片"
   ]
  },
  {
   "cell_type": "markdown",
   "metadata": {},
   "source": [
    "#### 一維陣列操作和 Python 原生 list 類似"
   ]
  },
  {
   "cell_type": "code",
   "execution_count": 29,
   "metadata": {},
   "outputs": [
    {
     "name": "stdout",
     "output_type": "stream",
     "text": [
      "3\n"
     ]
    }
   ],
   "source": [
    "np5 = np.array([1,2,3,4,5,6])\n",
    "\n",
    "'''\n",
    "對應關係\n",
    "value：\n",
    "[1,2,3,4,5,6]\n",
    "\n",
    "index：\n",
    "[0,1,2,3,4,5]\n",
    "'''\n",
    "\n",
    "# 2 是 index, 所以對應到上面的 value 是 3\n",
    "print( np5[2] )\n"
   ]
  },
  {
   "cell_type": "markdown",
   "metadata": {},
   "source": [
    "#### 二維陣列"
   ]
  },
  {
   "cell_type": "code",
   "execution_count": 30,
   "metadata": {},
   "outputs": [
    {
     "name": "stdout",
     "output_type": "stream",
     "text": [
      "[[1 2 3]\n",
      " [4 5 6]]\n"
     ]
    }
   ],
   "source": [
    "np6 = np5.reshape([2,3]) # shape is [row, column]\n",
    "\n",
    "print(np6)"
   ]
  },
  {
   "cell_type": "code",
   "execution_count": 31,
   "metadata": {},
   "outputs": [
    {
     "data": {
      "image/png": "[encoded data removed]",
      "text/plain": [
       "<PIL.PngImagePlugin.PngImageFile image mode=RGB size=1071x383 at 0x115292E10>"
      ]
     },
     "execution_count": 31,
     "metadata": {},
     "output_type": "execute_result"
    }
   ],
   "source": [
    "Image.open(\"./graph/axis for numpy.png\")\n",
    "\n",
    "# axis = 0 is row\n",
    "# axis = 1 is column\n",
    "# axis = 2 means that 3D (height)\n",
    "# shape is dimension"
   ]
  },
  {
   "cell_type": "markdown",
   "metadata": {},
   "source": [
    "### 基本操作"
   ]
  },
  {
   "cell_type": "code",
   "execution_count": 33,
   "metadata": {},
   "outputs": [
    {
     "name": "stdout",
     "output_type": "stream",
     "text": [
      "[1 2 3 4 5 6]\n",
      "[False False False  True  True  True]\n",
      "[4 5 6]\n"
     ]
    }
   ],
   "source": [
    "\n",
    "# 原本的 value\n",
    "print(np5) \n",
    "\n",
    "# 呈現 True and False\n",
    "print(np5 > 3) \n",
    "\n",
    "# 透過邏輯運算式，他會 print 出 True 的 值\n",
    "print(np5[ np5>3 ])"
   ]
  },
  {
   "cell_type": "markdown",
   "metadata": {},
   "source": [
    " - 建立一個陣列，並給予一些初始值！\n",
    " - 這邊分別以兩種型別(整數、浮點數)的數值來做範例，整數、浮點數分別為a和b。\n",
    " - ndarray.dtype：該陣列型別的屬性"
   ]
  },
  {
   "cell_type": "code",
   "execution_count": 44,
   "metadata": {},
   "outputs": [],
   "source": [
    "# 建立一個 array: a (interger)\n",
    "a = np.array([1, 2, 3, 4, 5])"
   ]
  },
  {
   "cell_type": "code",
   "execution_count": 41,
   "metadata": {},
   "outputs": [
    {
     "name": "stdout",
     "output_type": "stream",
     "text": [
      "a => [1 2 3 4 5]\n"
     ]
    }
   ],
   "source": [
    "# 前面 \"a => \" 是 string\n",
    "# 後面 .format() 是呈現括弧 () 裡面的資訊\n",
    "\n",
    "print(\"a => {0}\".format(a))"
   ]
  },
  {
   "cell_type": "code",
   "execution_count": 43,
   "metadata": {},
   "outputs": [
    {
     "name": "stdout",
     "output_type": "stream",
     "text": [
      "b.dtype => int64\n"
     ]
    }
   ],
   "source": [
    "# 前面 \"b.dtype => \" 是 string\n",
    "# 後面 .format() 是呈現括弧 () 裡面的資訊\n",
    "\n",
    "print(\"b.dtype => {0}\".format(a.dtype))"
   ]
  },
  {
   "cell_type": "code",
   "execution_count": 120,
   "metadata": {},
   "outputs": [],
   "source": [
    "# 建立一個 array: c (float)\n",
    "c = np.array([1.25, 2.25, 3.25, 4.25, 5.25])"
   ]
  },
  {
   "cell_type": "code",
   "execution_count": 46,
   "metadata": {},
   "outputs": [
    {
     "ename": "NameError",
     "evalue": "name 'b' is not defined",
     "output_type": "error",
     "traceback": [
      "\u001b[0;31m---------------------------------------------------------------------------\u001b[0m",
      "\u001b[0;31mNameError\u001b[0m                                 Traceback (most recent call last)",
      "\u001b[0;32m<ipython-input-46-901254d44730>\u001b[0m in \u001b[0;36m<module>\u001b[0;34m\u001b[0m\n\u001b[1;32m      1\u001b[0m \u001b[0;31m# 這裡\u001b[0m\u001b[0;34m\u001b[0m\u001b[0;34m\u001b[0m\u001b[0;34m\u001b[0m\u001b[0m\n\u001b[0;32m----> 2\u001b[0;31m \u001b[0mprint\u001b[0m\u001b[0;34m(\u001b[0m\u001b[0;34m\"b.dtype=>{0}\"\u001b[0m\u001b[0;34m.\u001b[0m\u001b[0mformat\u001b[0m\u001b[0;34m(\u001b[0m\u001b[0mb\u001b[0m\u001b[0;34m.\u001b[0m\u001b[0mdtype\u001b[0m\u001b[0;34m)\u001b[0m\u001b[0;34m)\u001b[0m\u001b[0;34m\u001b[0m\u001b[0;34m\u001b[0m\u001b[0m\n\u001b[0m",
      "\u001b[0;31mNameError\u001b[0m: name 'b' is not defined"
     ]
    }
   ],
   "source": [
    "# 這裡\n",
    "print(\"c.dtype => {0}\".format(c.dtype))"
   ]
  },
  {
   "cell_type": "code",
   "execution_count": null,
   "metadata": {},
   "outputs": [],
   "source": []
  },
  {
   "cell_type": "markdown",
   "metadata": {},
   "source": [
    "# Summaries\n",
    "\n",
    " - 基本的 array(陣列）, ndarray（多重維度）\n",
    "\n",
    " - 下一步就可以學習 **Pandas** 與 **Series**"
   ]
  },
  {
   "cell_type": "markdown",
   "metadata": {},
   "source": [
    "## Reference\n",
    "[1]. [TechBridge 技術共筆部落格](https://blog.techbridge.cc/2017/07/28/data-science-101-numpy-tutorial/)\n",
    "\n",
    "[2]. [Python 基礎——range() 與 np.arange()](https://codertw.com/%E7%A8%8B%E5%BC%8F%E8%AA%9E%E8%A8%80/561623/)\n",
    "\n",
    "[3]. [brilliantcode.net](https://www.brilliantcode.net/1022/numpy-tutorial-basics-array-creations/)"
   ]
  }
 ],
 "metadata": {
  "kernelspec": {
   "display_name": "Python 3",
   "language": "python",
   "name": "python3"
  },
  "language_info": {
   "codemirror_mode": {
    "name": "ipython",
    "version": 3
   },
   "file_extension": ".py",
   "mimetype": "text/x-python",
   "name": "python",
   "nbconvert_exporter": "python",
   "pygments_lexer": "ipython3",
   "version": "3.7.3"
  }
 },
 "nbformat": 4,
 "nbformat_minor": 2
}
