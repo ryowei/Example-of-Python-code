{
 "cells": [
  {
   "cell_type": "markdown",
   "metadata": {},
   "source": [
    "## Reference\n",
    "[1.] [brilliantcode.net](https://www.brilliantcode.net/1130/numpy-tutorial-simple-assignments-views-deep-copy/)\n",
    "\n",
    "* * * \n",
    "## NumPy提供\n",
    "### 1. 簡易指定 Simple Assignments\n",
    "  - a = np.arange(12)\n",
    "  - b **=** a\n",
    " \n",
    "### 2. 檢視 View / 淺拷貝(Shadow Copy)\n",
    "  - a = np.arange(12)\n",
    "  - b = a.**view()**\n",
    " \n",
    "### 3. 深度拷貝 Deep Copy\n",
    "  - a = np.arange(12)\n",
    "  - b = a.**copy()**\n",
    "\n",
    "* * * \n",
    "\n",
    "\n",
    "\n",
    ">作者前言： \n",
    "\n",
    "因為陣列這類**包含大量指標的變數**，對於程式語言來說，通常會兩種複製的方法\n",
    " \n",
    " - 一種是類似於**捷徑**的做法\n",
    " \n",
    " \n",
    " \n",
    " \n",
    " - 另一種則是以**建立完整的內容**來達成相同的效果\n",
    " \n",
    " \n",
    " \n",
    " \n",
    " - 但兩者在使用上會有不同的效果！在撰寫時也必須要視情況而定\n",
    " \n",
    " \n",
    " \n",
    " "
   ]
  },
  {
   "cell_type": "markdown",
   "metadata": {},
   "source": [
    "# 1. 簡易指定 (Simple Assignments)\n",
    "\n",
    " - NumPy 會直接把變數的內容 **以記憶體指標** -> 指向 -> 你要的內容。\n",
    " \n",
    " \n",
    " \n",
    " - 這種做法是**不會創造新的資料**\n",
    " \n",
    " \n",
    " \n",
    " \n",
    " - 像是作業系統中**捷徑**的概念！"
   ]
  },
  {
   "cell_type": "code",
   "execution_count": 2,
   "metadata": {},
   "outputs": [
    {
     "name": "stdout",
     "output_type": "stream",
     "text": [
      "b is equal to a?: True\n",
      "a's shape?: (12,)\n",
      "b's shape?: (12,)\n"
     ]
    }
   ],
   "source": [
    "import numpy as np\n",
    "# 簡易指定並非真正複製內容\n",
    "a = np.arange(12)\n",
    "\n",
    "# This will assign the a's [address] to b instead of copy the content of a to b.\n",
    "# 這會把 a 的[記憶體位址]指定給b, 並非真正複製內容\n",
    "\n",
    "b = a\n",
    "\n",
    "print(\"b is equal to a?: {0}\".format(b is a))\n",
    "print(\"a's shape?: {0}\".format(a.shape))\n",
    "print(\"b's shape?: {0}\".format(b.shape))"
   ]
  },
  {
   "cell_type": "markdown",
   "metadata": {},
   "source": [
    "### 原陣列 [改變形狀]，看看簡易指定後的變數是否也會跟著改變！！"
   ]
  },
  {
   "cell_type": "code",
   "execution_count": 3,
   "metadata": {},
   "outputs": [
    {
     "name": "stdout",
     "output_type": "stream",
     "text": [
      "\n",
      "改變 a 的形狀\n",
      "a's shape?: (3, 4)\n",
      "b's shape?: (3, 4)\n"
     ]
    }
   ],
   "source": [
    "# changes the shape of a\n",
    "# 改變a陣列的形狀\n",
    "\n",
    "print(\"\\n改變 a 的形狀\")\n",
    "\n",
    "a.shape = 3,4\n",
    "\n",
    "print(\"a's shape?: {0}\".format(a.shape))\n",
    "print(\"b's shape?: {0}\".format(b.shape))"
   ]
  },
  {
   "cell_type": "markdown",
   "metadata": {},
   "source": [
    "### 簡易 [指定的變數]，**本質上根本就是 [指標]**。\n",
    "\n",
    "後續以\n",
    " - base\n",
    " \n",
    " \n",
    " - flags.owndata\n",
    " \n",
    " \n",
    " \n",
    "這兩個屬性來比較 \n",
    " - view (淺拷貝, shadow copy)\n",
    " \n",
    " \n",
    " \n",
    " - 深拷貝 (deep copy)之間的差異。\n",
    " \n",
    " \n",
    " "
   ]
  },
  {
   "cell_type": "code",
   "execution_count": 10,
   "metadata": {},
   "outputs": [
    {
     "name": "stdout",
     "output_type": "stream",
     "text": [
      "The array of features of simple assignments:\n",
      "簡單指定陣列的特性:\n",
      "\tb is a:? True\n",
      "\tb is base on who:? None\n",
      "\tb flags.owndata:? True\n"
     ]
    }
   ],
   "source": [
    "print(\"The array of features of simple assignments:\")\n",
    "print(\"簡單指定陣列的特性:\")\n",
    "\n",
    "print(\"\\tb is a:? {0}\".format(b is a))\n",
    "\n",
    "# XXX.base\n",
    "print(\"\\tb is base on who:? {0}\".format(b.base))\n",
    "\n",
    "# XXX.flags.owndata\n",
    "print(\"\\tb flags.owndata:? {0}\".format(b.flags.owndata))\n",
    "\n"
   ]
  },
  {
   "cell_type": "markdown",
   "metadata": {},
   "source": [
    "# 2. 檢視(View) / 淺拷貝(Shadow Copy)\n",
    "\n",
    " - 檢視 = 淺拷貝\n",
    " - 與**簡易指定很相似**，但是相較起來**檢視 (view)會比較正式**喔！\n",
    "\n",
    "\n",
    "### 首先，先把陣列宣告好: \n",
    "\n",
    ">a = np.arange(12)\n",
    "\n",
    ">c = a.view()\n"
   ]
  },
  {
   "cell_type": "code",
   "execution_count": 9,
   "metadata": {},
   "outputs": [
    {
     "name": "stdout",
     "output_type": "stream",
     "text": [
      "a => [ 0  1  2  3  4  5  6  7  8  9 10 11]\n",
      "c => [ 0  1  2  3  4  5  6  7  8  9 10 11]\n",
      "\n",
      "c.shape=3, 4\n",
      "\n",
      "c => \n",
      "[[ 0  1  2  3]\n",
      " [ 4  5  6  7]\n",
      " [ 8  9 10 11]]\n",
      "\n",
      " a => [ 0  1  2  3  4  5  6  7  8  9 10 11]\n"
     ]
    }
   ],
   "source": [
    "# View\n",
    "# 檢視\n",
    "a = np.arange(12)\n",
    "c = a.view()\n",
    "\n",
    "print(\"a => {0}\".format(a))\n",
    "print(\"c => {0}\".format(c))\n",
    "\n",
    "print()\n",
    "\n",
    "# Changes the shape of c.\n",
    "# 改變c陣列的形狀\n",
    "\n",
    "c.shape = 3, 4\n",
    "\n",
    "\n",
    "print(\"c.shape=3, 4\\n\\nc => \\n{0}\".format(c))\n",
    "print(\"\\n a => {0}\".format(a))\n",
    "\n"
   ]
  },
  {
   "cell_type": "markdown",
   "metadata": {},
   "source": [
    "\n",
    " - (1) 變更 c 的形狀\n",
    " - (2) 變更 c[1, 2] 的內容，來觀察 a 是否也會改變\n"
   ]
  },
  {
   "cell_type": "code",
   "execution_count": 10,
   "metadata": {},
   "outputs": [
    {
     "name": "stdout",
     "output_type": "stream",
     "text": [
      "\n",
      "c.shape = 3,4\n",
      "c => \n",
      "[[ 0  1  2  3]\n",
      " [ 4  5  6  7]\n",
      " [ 8  9 10 11]]\n",
      "\n",
      "a=>\n",
      "[ 0  1  2  3  4  5  6  7  8  9 10 11]\n"
     ]
    }
   ],
   "source": [
    "print()\n",
    "# Changes the shape of c.\n",
    "# 改變c陣列的形狀\n",
    "c.shape = 3, 4\n",
    "\n",
    "\n",
    "print(\"c.shape = 3,4\\nc => \\n{0}\".format(c))\n",
    "print(\"\\na=>\\n{0}\".format(a))\n"
   ]
  },
  {
   "cell_type": "code",
   "execution_count": 13,
   "metadata": {},
   "outputs": [
    {
     "name": "stdout",
     "output_type": "stream",
     "text": [
      "c[1,2] =  999\n",
      "c => \n",
      "[[  0   1   2   3]\n",
      " [  4   5 999   7]\n",
      " [  8   9  10  11]]\n",
      "\n",
      "a => [  0   1   2   3   4   5 999   7   8   9  10  11]\n"
     ]
    }
   ],
   "source": [
    "# Let's change some element value of c.\n",
    "# 來變更 c 的元素值看看\n",
    "\n",
    "\n",
    "c[1,2] = 999 #---> 6 變更成 999\n",
    "print(\"c[1,2] =  999\\nc => \\n{0}\".format(c))\n",
    "print(\"\\na => {0}\".format(a))\n"
   ]
  },
  {
   "cell_type": "markdown",
   "metadata": {},
   "source": [
    "### 發現 a 的第七個元素被改成 999\n",
    "\n",
    " -  從 c[1,2] 矩陣由上到下，由左而右去數，就是排在第七的位置\n"
   ]
  },
  {
   "cell_type": "code",
   "execution_count": 29,
   "metadata": {},
   "outputs": [
    {
     "name": "stdout",
     "output_type": "stream",
     "text": [
      "c =>\n",
      "[[ 0  1  2  3]\n",
      " [ 4  5  6  7]\n",
      " [ 8  9 10 11]]\n",
      "\n",
      "s = c[:, 1:3] 取出 c 的 col的1,2; row 全取\n",
      "\n",
      "s => \n",
      "[[ 1  2]\n",
      " [ 5  6]\n",
      " [ 9 10]]\n",
      "\n",
      "s[:] = 10 \n",
      "s => \n",
      "[[10 10]\n",
      " [10 10]\n",
      " [10 10]]\n",
      "\n",
      "因為 s 的更動，c 的元素也會跟著變動\n",
      "c => \n",
      "[[ 0 10 10  3]\n",
      " [ 4 10 10  7]\n",
      " [ 8 10 10 11]]\n",
      "\n"
     ]
    }
   ],
   "source": [
    "# Slices an array will return a view of it.\n",
    "# If you change elements' value of the view, \n",
    "# the related elements' value of source array \n",
    "# will be changed simultaneously.\n",
    "# 對陣列/矩陣切片,會回傳檢視喔!\n",
    "# 如果你更改了檢視的元素值,來源陣列的相對應的元素值也會同時被改變!\n",
    "\n",
    "# orginal\n",
    "a = np.arange(12)\n",
    "c = a.view()\n",
    "c.shape = 3, 4\n",
    "\n",
    "print(\"c =>\\n{0}\".format(c))\n",
    "print()\n",
    "\n",
    "s = c[:, 1:3] \n",
    "# 1:3 意味著 index: 0, [1], [2], 3, 4 \n",
    "# 只會被選取這兩個 column\n",
    "\n",
    "print(\"s = c[:, 1:3] 取出 c 的 col的1,2; row 全取\\n\\ns => \\n{0}\".format(s))\n",
    "\n",
    "# 將 s 所有的元素取代為 10\n",
    "s[:] = 10\n",
    "\n",
    "print()\n",
    "\n",
    "print(\"s[:] = 10 \\ns => \\n{0}\".format(s))\n",
    "\n",
    "print()\n",
    "\n",
    "print(\"因為 s 的更動，c 的元素也會跟著變動\\nc => \\n{0}\".format(c))\n",
    "\n",
    "print()\n",
    "# why c change 10 in col_1 and col_2"
   ]
  },
  {
   "cell_type": "markdown",
   "metadata": {},
   "source": [
    "## 查看『base、flags.owndata』之後可以發現???\n",
    "\n",
    "\n",
    " - 檢視和簡易指定的差別在於 owndata。\n",
    " \n",
    " \n",
    " - 檢視的 owndata 值是 False，代表**檢視沒有自己的記憶體儲存空間**，\n",
    " \n",
    " \n",
    " - 所以它是去參考別人。\n",
    " \n",
    " \n",
    " - (其實我也不太懂為何這個差異會造成使用上的差別)  \n",
    "    + 原文解釋在這：numpy.ndarray.flags\n",
    "\n",
    "\n",
    " - 此外，檢視(view) 和 簡易指定(simple assignments) 使用上的差異:\n",
    " \n",
    "   + 更改檢視的形狀是不會影響**原本的參考來源**變數的形狀\n",
    " \n",
    " "
   ]
  },
  {
   "cell_type": "code",
   "execution_count": 30,
   "metadata": {},
   "outputs": [
    {
     "name": "stdout",
     "output_type": "stream",
     "text": [
      "\n",
      "The Features of View:\n",
      "View的特性:\n",
      "\tc is a:? False\n",
      "\tc is base on who:? [ 0 10 10  3  4 10 10  7  8 10 10 11]\n",
      "\tc.flags.owndata:? False\n"
     ]
    }
   ],
   "source": [
    "print()\n",
    "print(\"The Features of View:\")\n",
    "print(\"View的特性:\")\n",
    "print(\"\\tc is a:? {0}\".format(c is a))\n",
    "print(\"\\tc is base on who:? {0}\".format(c.base))\n",
    "print(\"\\tc.flags.owndata:? {0}\".format(c.flags.owndata))"
   ]
  },
  {
   "cell_type": "markdown",
   "metadata": {},
   "source": [
    "# 3. 深度拷貝 (Deep Copy)\n",
    "\n",
    "### 深度拷貝和上述簡易指定與檢視最大不同之處在於:\n",
    " \n",
    " \n",
    " - 深度拷貝會**建立一個完全獨立的物件**，**含記憶體空間**。\n",
    " \n",
    " \n",
    " - 所以，變數 b 並**沒有參考任何變數**！ \n",
    "   + b.base 會顯示 \"None\"。\n",
    "\n",
    "\n",
    " - numpy.ndarray.base：如果有參考其他物件的記憶體時會顯示\n",
    "\n",
    ">a = np.arange(12)\n",
    "\n",
    ">b = a.copy()\n"
   ]
  },
  {
   "cell_type": "code",
   "execution_count": 33,
   "metadata": {},
   "outputs": [
    {
     "name": "stdout",
     "output_type": "stream",
     "text": [
      "a => [ 0  1  2  3  4  5  6  7  8  9 10 11]\n",
      "b => [ 0  1  2  3  4  5  6  7  8  9 10 11]\n",
      "\n",
      "\n",
      "The Features of Deep Copy:\n",
      "Deep Copy的特性: \n",
      "b is a:? False\n",
      "b is base on who:? None\n",
      "b.flags.owndata:? True\n"
     ]
    }
   ],
   "source": [
    "## 深度拷貝\n",
    "a = np.arange(12)\n",
    "b = a.copy()\n",
    "\n",
    "print(\"a => {0}\".format(a))\n",
    "\n",
    "print(\"b => {0}\".format(b))\n",
    "\n",
    "print()\n",
    "\n",
    "print()\n",
    "print(\"The Features of Deep Copy:\")\n",
    "print(\"Deep Copy的特性: \")\n",
    "print(\"b is a:? {0}\".format(b is a))\n",
    "print(\"b is base on who:? {0}\".format(b.base))\n",
    "print(\"b.flags.owndata:? {0}\".format(b.flags.owndata))"
   ]
  },
  {
   "cell_type": "markdown",
   "metadata": {},
   "source": [
    "## 4. Testing the Deep copy!!!!!"
   ]
  },
  {
   "cell_type": "code",
   "execution_count": 46,
   "metadata": {},
   "outputs": [
    {
     "name": "stdout",
     "output_type": "stream",
     "text": [
      "a => [ 0  1  2  3  4  5  6  7  8  9 10 11]\n",
      "b => [ 0  1  2  3  4  5  6  7  8  9 10 11]\n",
      "\n",
      "\n",
      "b[5] = 999 ; b 的第五個元素被改成 999 \n",
      "b => [ 0  1  2  3  4  9  6  7  8  9 10 11]\n",
      "a => [ 0  1  2  3  4  5  6  7  8  9 10 11]\n",
      "\n",
      "Summarize:\n",
      "1. 可以發現只有 b 的第五個元素被改成 999\n",
      "2. 可以發現只有 a 的第五個元素還是保持原樣\n",
      "3. 這就是 .view() 與 .copy() 的差異\n",
      "4. 這就是 .view() 會連動改 index\n"
     ]
    }
   ],
   "source": [
    "## 深度拷貝\n",
    "a = np.arange(12)\n",
    "b = a.copy()\n",
    "print(\"a => {0}\".format(a))\n",
    "\n",
    "print(\"b => {0}\".format(b))\n",
    "\n",
    "print()\n",
    "\n",
    "b[5] = 9\n",
    "\n",
    "print(\"\\nb[5] = 999 ; b 的第五個元素被改成 999 \\nb => {0}\".format(b))\n",
    "print(\"a => {0}\".format(a))\n",
    "\n",
    "print(\"\\nSummarize:\")\n",
    "print(\"1. 可以發現只有 b 的第五個元素被改成 999\")\n",
    "print(\"2. 可以發現只有 a 的第五個元素還是保持原樣\")\n",
    "print(\"3. 這就是 .view() 與 .copy() 的差異\")\n",
    "print(\"4. 這就是 .view() 會連動改 index\")"
   ]
  },
  {
   "cell_type": "code",
   "execution_count": null,
   "metadata": {},
   "outputs": [],
   "source": []
  }
 ],
 "metadata": {
  "kernelspec": {
   "display_name": "Python 3",
   "language": "python",
   "name": "python3"
  },
  "language_info": {
   "codemirror_mode": {
    "name": "ipython",
    "version": 3
   },
   "file_extension": ".py",
   "mimetype": "text/x-python",
   "name": "python",
   "nbconvert_exporter": "python",
   "pygments_lexer": "ipython3",
   "version": "3.7.3"
  }
 },
 "nbformat": 4,
 "nbformat_minor": 2
}
