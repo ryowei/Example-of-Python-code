{
 "cells": [
  {
   "cell_type": "markdown",
   "metadata": {},
   "source": [
    "## Reference\n",
    "[1.] [brilliantcode.net](https://www.brilliantcode.net/1093/numpy-1-14-tutorial-04-indexing-slicing-iterating-from-function/)\n",
    "\n",
    "\n",
    "# 索引\n",
    "\n",
    "### 索引 (Indexing) 的用途\n",
    "\n",
    " - (i)從陣列和矩陣中取值 (常用功能)\n",
    " \n",
    " \n",
    " - (ii)可以取出連續區間\n",
    " \n",
    " \n",
    " - (iii)可以間隔取值\n",
    " \n"
   ]
  },
  {
   "cell_type": "markdown",
   "metadata": {},
   "source": [
    " \n",
    "## 選取連續區間 [a:b]\n",
    "\n",
    "\n",
    "#### 選取索引值 a 到 b 的資料 x[a:b]\n",
    "\n",
    "\n",
    " - a：選取資料的起始索引\n",
    " \n",
    "     + 不指定表示**從頭開始**\n",
    "     \n",
    "\n",
    " - b：選取資料的結束索引+1\n",
    " \n",
    "     + 不指定表示直到**陣列結束**\n"
   ]
  },
  {
   "cell_type": "code",
   "execution_count": 2,
   "metadata": {},
   "outputs": [
    {
     "ename": "NameError",
     "evalue": "name 'a' is not defined",
     "output_type": "error",
     "traceback": [
      "\u001b[0;31m---------------------------------------------------------------------------\u001b[0m",
      "\u001b[0;31mNameError\u001b[0m                                 Traceback (most recent call last)",
      "\u001b[0;32m<ipython-input-2-835ad1175a42>\u001b[0m in \u001b[0;36m<module>\u001b[0;34m\u001b[0m\n\u001b[1;32m      1\u001b[0m \u001b[0;32mimport\u001b[0m \u001b[0mnumpy\u001b[0m \u001b[0;32mas\u001b[0m \u001b[0mnp\u001b[0m\u001b[0;34m\u001b[0m\u001b[0;34m\u001b[0m\u001b[0m\n\u001b[1;32m      2\u001b[0m \u001b[0mx\u001b[0m \u001b[0;34m=\u001b[0m \u001b[0mnp\u001b[0m\u001b[0;34m.\u001b[0m\u001b[0marange\u001b[0m\u001b[0;34m(\u001b[0m\u001b[0;36m10\u001b[0m\u001b[0;34m)\u001b[0m\u001b[0;34m**\u001b[0m\u001b[0;36m2\u001b[0m\u001b[0;34m\u001b[0m\u001b[0;34m\u001b[0m\u001b[0m\n\u001b[0;32m----> 3\u001b[0;31m \u001b[0mprint\u001b[0m\u001b[0;34m(\u001b[0m\u001b[0;34m\"x => {0}\"\u001b[0m\u001b[0;34m.\u001b[0m\u001b[0mformat\u001b[0m\u001b[0;34m(\u001b[0m\u001b[0ma\u001b[0m\u001b[0;34m)\u001b[0m\u001b[0;34m)\u001b[0m\u001b[0;34m\u001b[0m\u001b[0;34m\u001b[0m\u001b[0m\n\u001b[0m\u001b[1;32m      4\u001b[0m \u001b[0mprint\u001b[0m\u001b[0;34m(\u001b[0m\u001b[0;34m)\u001b[0m\u001b[0;34m\u001b[0m\u001b[0;34m\u001b[0m\u001b[0m\n\u001b[1;32m      5\u001b[0m \u001b[0mprint\u001b[0m\u001b[0;34m(\u001b[0m\u001b[0;34m\"x[2:5] => {0}\"\u001b[0m\u001b[0;34m.\u001b[0m\u001b[0mformat\u001b[0m\u001b[0;34m(\u001b[0m\u001b[0ma\u001b[0m\u001b[0;34m[\u001b[0m\u001b[0;36m2\u001b[0m\u001b[0;34m:\u001b[0m\u001b[0;36m5\u001b[0m\u001b[0;34m]\u001b[0m\u001b[0;34m)\u001b[0m\u001b[0;34m)\u001b[0m\u001b[0;34m\u001b[0m\u001b[0;34m\u001b[0m\u001b[0m\n",
      "\u001b[0;31mNameError\u001b[0m: name 'a' is not defined"
     ]
    }
   ],
   "source": [
    "import numpy as np\n",
    "x = np.arange(10)**2\n",
    "print(\"x => {0}\".format(a))\n",
    "print()\n",
    "print(\"x[2:5] => {0}\".format(a[2:5]))\n",
    "\n",
    "\n",
    "\n",
    "# ?????\n",
    "print(\"x[2:5] => means that the index is 2,3,4\")\n",
    "\n",
    "\n",
    "\n",
    "print(\"\\n                     Table\")\n",
    "print(\"--------------------------------------------------\")\n",
    "print(\"value: 0   1   [4]   [9]    [16]   25   36   49   64   81 \\t\") # value\n",
    "print(\"index: 0   1   (2)   (3)    (4)    5    6    7    8    9 \\t\") # index\n",
    "print(\"--------------------------------------------------\")\n",
    "\n",
    "\n",
    "\n",
    "print(\"[]: 表示 value\\t\")\n",
    "print(\"(): 表示 index\")"
   ]
  },
  {
   "cell_type": "markdown",
   "metadata": {},
   "source": [
    "# 切片 (Slicing)\n",
    "\n",
    " - 用途和索引(Indexing) 很像！\n",
    "\n",
    " - 若能活用便能加快程式撰寫速度！\n",
    "\n",
    "## 間隔選取 [::c]\n",
    "### 以 1 維陣列來說明 x[a:b:c]\n",
    "\n",
    " - a：選取資料的起始索引\n",
    "\n",
    " - b：選取資料的結束索引+1\n",
    " \n",
    " - c：選取資料間隔，以索引值可以被此值整除的元素，不指定表示1\n",
    "\n",
    "\n",
    "### For Example\n",
    " - a[3:8:4] 的意思是：從第 3 個元素開始每隔 4 個輸出一次到第 8 個元素為止"
   ]
  },
  {
   "cell_type": "code",
   "execution_count": 3,
   "metadata": {},
   "outputs": [
    {
     "name": "stdout",
     "output_type": "stream",
     "text": [
      "a => [ 0  1  4  9 16 25 36 49 64 81]\n",
      "\n",
      "a[3:8:4] => \n",
      "[ 9 49]\n",
      "================================\n",
      "a[3:8:4] = 9999 =>> a[3:8:4] => \n",
      "[   0    1    4 9999   16   25   36 9999   64   81]\n"
     ]
    }
   ],
   "source": [
    "a = np.arange(10)**2\n",
    "print(\"a => {0}\".format(a))\n",
    "\n",
    "print()\n",
    "\n",
    "print(\"a[3:8:4] => \\n{0}\".format(a[3:8:4]))\n",
    "\n",
    "print(\"================================\")\n",
    "\n",
    "a[3:8:4] = 9999\n",
    "\n",
    "print(\"a[3:8:4] = 9999 =>> a[3:8:4] => \\n{0}\".format(a))\n"
   ]
  },
  {
   "cell_type": "markdown",
   "metadata": {},
   "source": [
    "## 倒序 [::-1]\n",
    "\n",
    " - 只是單純的把順序反過來，並無數值大小比較\n"
   ]
  },
  {
   "cell_type": "code",
   "execution_count": 4,
   "metadata": {},
   "outputs": [
    {
     "name": "stdout",
     "output_type": "stream",
     "text": [
      "a => \n",
      "[ 0  1  4  9 16 25 36 49 64 81]\n",
      "\n",
      "a[::-1]) => \n",
      "[81 64 49 36 25 16  9  4  1  0]\n"
     ]
    }
   ],
   "source": [
    "a = np.arange(10)**2\n",
    "print(\"a => \\n{0}\".format(a))\n",
    "print()\n",
    "print(\"a[::-1]) => \\n{0}\".format(a[::-1]))"
   ]
  },
  {
   "cell_type": "markdown",
   "metadata": {},
   "source": [
    "* * *"
   ]
  },
  {
   "cell_type": "markdown",
   "metadata": {},
   "source": [
    "# 迭代\n",
    "\n",
    " - 迭代(Iterating)比較熟悉一點，可以說就像foreach一樣的使用方法\n"
   ]
  },
  {
   "cell_type": "code",
   "execution_count": 5,
   "metadata": {},
   "outputs": [
    {
     "name": "stdout",
     "output_type": "stream",
     "text": [
      "a => [ 0  1  4  9 16 25 36 49 64 81]\n",
      "=====================================\n",
      "a**(0.5) => 0.0\n",
      "a**(0.5) => 1.0\n",
      "a**(0.5) => 2.0\n",
      "a**(0.5) => 3.0\n",
      "a**(0.5) => 4.0\n",
      "a**(0.5) => 5.0\n",
      "a**(0.5) => 6.0\n",
      "a**(0.5) => 7.0\n",
      "a**(0.5) => 8.0\n",
      "a**(0.5) => 9.0\n"
     ]
    }
   ],
   "source": [
    "# iterating over\n",
    "\n",
    "a = np.arange(10)**2\n",
    "\n",
    "print(\"a => {0}\".format(a))\n",
    "\n",
    "print(\"=====================================\")\n",
    "\n",
    "for i in a:\n",
    "    print(\"a**(0.5) => {0}\".format(  np.round(i**(0.5)),0)  )"
   ]
  },
  {
   "cell_type": "markdown",
   "metadata": {},
   "source": [
    " - 多維陣列在 **for loop** 中取值時，會以 **第一維度** 為優先！\n",
    " \n",
    " - 以二維陣列為例：\n",
    " \n",
    "   + 一層 for loop 優先獲取的陣列內容\n",
    "   \n",
    "   + 就是第一維度每 row 的內容"
   ]
  },
  {
   "cell_type": "code",
   "execution_count": 6,
   "metadata": {},
   "outputs": [
    {
     "name": "stdout",
     "output_type": "stream",
     "text": [
      "b => \n",
      "[[ 1  2  3  4  5  6  7  8]\n",
      " [ 9 10 11 12 13 14 15 16]\n",
      " [17 18 19 20 21 22 23 24]\n",
      " [25 26 27 28 29 30 31 32]\n",
      " [33 34 35 36 37 38 39 40]]\n",
      "=============================\n",
      "[1 2 3 4 5 6 7 8] /\n",
      "[ 9 10 11 12 13 14 15 16] /\n",
      "[17 18 19 20 21 22 23 24] /\n",
      "[25 26 27 28 29 30 31 32] /\n",
      "[33 34 35 36 37 38 39 40] /\n"
     ]
    }
   ],
   "source": [
    "b = np.arange(1,41).reshape(5,8)\n",
    "\n",
    "print(\"b => \\n{0}\".format(b))\n",
    "\n",
    "print(\"=============================\")\n",
    "\n",
    "# for loop\n",
    "\n",
    "for row in b:\n",
    "    # 二維矩陣他會 row by row 由上到下 print 出來\n",
    "    print(row,\"/\") \n"
   ]
  },
  {
   "cell_type": "markdown",
   "metadata": {},
   "source": [
    "* * *"
   ]
  },
  {
   "cell_type": "markdown",
   "metadata": {},
   "source": [
    "# 矩陣扁平化 code: XXX.flat\n",
    "\n",
    "\n",
    "- 直接將 matrix 所有元素 **扁平化**，//依序//取出所有元素！ \n",
    "\n",
    " \n",
    " - 此功能必須搭配for-loop, while-loop 使用！\n",
    " \n",
    " \n",
    " - 扁平化就會變成一維陣列 ！\n",
    " \n",
    " \n",
    " \n",
    " "
   ]
  },
  {
   "cell_type": "code",
   "execution_count": 7,
   "metadata": {},
   "outputs": [
    {
     "name": "stdout",
     "output_type": "stream",
     "text": [
      "b => \n",
      "[[ 1  2  3  4]\n",
      " [ 5  6  7  8]\n",
      " [ 9 10 11 12]]\n",
      "==============================\n",
      "1\n",
      "2\n",
      "3\n",
      "4\n",
      "5\n",
      "6\n",
      "7\n",
      "8\n",
      "9\n",
      "10\n",
      "11\n",
      "12\n"
     ]
    }
   ],
   "source": [
    "b = np.arange(1,13).reshape(3,4)\n",
    "\n",
    "print(\"b => \\n{0}\".format(b))\n",
    "\n",
    "print(\"==============================\")\n",
    "\n",
    "for element in b.flat:\n",
    "    print(element)"
   ]
  },
  {
   "cell_type": "markdown",
   "metadata": {},
   "source": [
    "* * *"
   ]
  },
  {
   "cell_type": "markdown",
   "metadata": {},
   "source": [
    "# From Function\n",
    "\n",
    "\n",
    "## What is From Function？\n",
    "\n",
    " - 格式是可透過\n",
    "    + 自定義的函數: **def**\n",
    "    + 陣列座標值(index) 來建構陣列的方法\n",
    " \n",
    "\n",
    "\n",
    " - 需要先建立一個函數！\n",
    "\n",
    "\n",
    "* * *\n",
    "\n",
    "\n",
    "* * *\n",
    "\n",
    "\n",
    "## np.fromfunction(函數名稱, 形狀, 資料型別)\n",
    "\n",
    "\n",
    " - np.fromfunction(fun_name, shape, dtype)\n",
    "\n",
    "\n",
    "\n",
    "### For Example: \n",
    "\n",
    "#### 下列範例設定的參數分別是：\n",
    " - 函數 my_f(row, col)\n",
    " \n",
    " \n",
    " - 用 row*5 + col 作為每一個陣列位置的數值。\n",
    " \n",
    " \n",
    " - 形狀為(5, 5)：就代表要產生5-by-5的矩陣！\n",
    " \n",
    " \n",
    " - 資料產生型別為 int 的矩陣"
   ]
  },
  {
   "cell_type": "code",
   "execution_count": 22,
   "metadata": {},
   "outputs": [
    {
     "name": "stdout",
     "output_type": "stream",
     "text": [
      "\n",
      "np.fromfunction(my_f, (5,5), dtype = int)\n",
      "\n",
      "------------ np.fromfunction 解說 ----------------\n",
      "\n",
      "1. 由於一開始設定的是 5*5 的矩陣，my_f 的設計主要在每個 matrix 的 index \n",
      "2. (0,0) -> 這個位子代入 my_f(row, col) -> 得到 0*5+0=0\n",
      "3. (2,0) -> 這個位子代入 my_f(row, col) -> 得到 2*5+0=10\n",
      "4. (4,3) -> 這個位子代入 my_f(row, col) -> 得到 4*5+3=23\n",
      "5. (4,4) -> 這個位子代入 my_f(row, col) -> 得到 4*5+4=24\n",
      "\n",
      "-------------- matrix 的index 擷取 ---------------\n",
      "b[row = 0:5, col = 4]\n",
      "[ 4  9 14 19 24]\n",
      "\n",
      "b[row = all, col = 4]\n",
      "[ 4  9 14 19 24]\n"
     ]
    }
   ],
   "source": [
    "def my_f(row, col):\n",
    "    return row*5 + col\n",
    "\n",
    "b = np.fromfunction(my_f, (5,5), dtype = int)\n",
    "\n",
    "print()\n",
    "\n",
    "print(\"np.fromfunction(my_f, (5,5), dtype = int)\".format(b))\n",
    "\n",
    "\n",
    "print(\"\\n------------ np.fromfunction 解說 ----------------\\n\")\n",
    "\n",
    "print(\"1. 由於一開始設定的是 5*5 的矩陣，my_f 的設計主要在每個 matrix 的 index \")\n",
    "print(\"2. (0,0) -> 這個位子代入 my_f(row, col) -> 得到 0*5+0=0\"  )\n",
    "print(\"3. (2,0) -> 這個位子代入 my_f(row, col) -> 得到 2*5+0=10\" )\n",
    "print(\"4. (4,3) -> 這個位子代入 my_f(row, col) -> 得到 4*5+3=23\" )\n",
    "print(\"5. (4,4) -> 這個位子代入 my_f(row, col) -> 得到 4*5+4=24\" )\n",
    "\n",
    "print()\n",
    "\n",
    "\n",
    "\n",
    "print(\"-------------- matrix 的index 擷取 ---------------\")\n",
    "\n",
    "print(\"b[row = 0:5, col = 4]\")\n",
    "print(b[0:5, 4])\n",
    "\n",
    "print()\n",
    "\n",
    "print(\"b[row = all, col = 4]\")\n",
    "print(b[:, 4])\n"
   ]
  }
 ],
 "metadata": {
  "kernelspec": {
   "display_name": "Python 3",
   "language": "python",
   "name": "python3"
  },
  "language_info": {
   "codemirror_mode": {
    "name": "ipython",
    "version": 3
   },
   "file_extension": ".py",
   "mimetype": "text/x-python",
   "name": "python",
   "nbconvert_exporter": "python",
   "pygments_lexer": "ipython3",
   "version": "3.7.3"
  }
 },
 "nbformat": 4,
 "nbformat_minor": 2
}
