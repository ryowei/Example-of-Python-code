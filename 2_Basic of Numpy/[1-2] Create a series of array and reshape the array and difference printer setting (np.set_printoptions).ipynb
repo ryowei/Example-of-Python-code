{
 "cells": [
  {
   "cell_type": "markdown",
   "metadata": {},
   "source": [
    "## Reference\n",
    "[1.] [brilliantcode.net](https://www.brilliantcode.net/1045/numpy-tutorial-how-to-print-array/)"
   ]
  },
  {
   "cell_type": "markdown",
   "metadata": {},
   "source": [
    "# 基本列印 (Basic of Print)\n",
    "\n",
    "\n",
    "## 下列會給三種陣列預設列印出來的樣子\n",
    "\n",
    "  - 三種陣列分別是 \n",
    "     + 1維 \n",
    "     + 2維 \n",
    "     + 3維\n",
    "\n",
    "\n",
    "## 改變維度的函數\n",
    "\n",
    " - reshape( )\n",
    " \n",
    "     + 這個函數是用來對 NumPy 的陣列進行**改變維度**的工具\n",
    "     \n",
    "     + np.reshape(<欲將陣列改變成維度的大小>)：\n",
    "          - np.reshape(1, 2)表示要改成1-by-2的矩陣\n"
   ]
  },
  {
   "cell_type": "code",
   "execution_count": 3,
   "metadata": {},
   "outputs": [],
   "source": [
    "# The first step\n",
    "import numpy as np"
   ]
  },
  {
   "cell_type": "markdown",
   "metadata": {},
   "source": [
    "## 1維陣列"
   ]
  },
  {
   "cell_type": "code",
   "execution_count": 13,
   "metadata": {},
   "outputs": [
    {
     "name": "stdout",
     "output_type": "stream",
     "text": [
      "[ 0  1  2  3  4  5  6  7  8  9 10 11]\n"
     ]
    }
   ],
   "source": [
    "# 1-dim\n",
    "a1 = np.arange(12)\n",
    "print(a1)"
   ]
  },
  {
   "cell_type": "markdown",
   "metadata": {},
   "source": [
    "## 2維陣列"
   ]
  },
  {
   "cell_type": "code",
   "execution_count": 14,
   "metadata": {},
   "outputs": [
    {
     "name": "stdout",
     "output_type": "stream",
     "text": [
      "[[ 0  1  2  3]\n",
      " [ 4  5  6  7]\n",
      " [ 8  9 10 11]]\n",
      "\n",
      "Keypoint:\n",
      "1. 先用 np.arange 創造一個 series\n",
      "2. 再把 np.reshape(row, column) 接在後面\n",
      "3. 他的 series 排序方式會從上排到下\n"
     ]
    }
   ],
   "source": [
    "# 2-dim\n",
    "a2 = np.arange(12).reshape(3,4)\n",
    "print(a2)\n",
    "\n",
    "\n",
    "print(\"\")\n",
    "print(\"Keypoint:\")\n",
    "print(\"1. 先用 np.arange 創造一個 series\")\n",
    "print(\"2. 再把 reshape(row, column) 接在後面\")\n",
    "print(\"3. 他的 series 排序方式會從上排到下\")\n",
    "\n"
   ]
  },
  {
   "cell_type": "markdown",
   "metadata": {},
   "source": [
    "## 3維陣列"
   ]
  },
  {
   "cell_type": "code",
   "execution_count": 20,
   "metadata": {},
   "outputs": [
    {
     "name": "stdout",
     "output_type": "stream",
     "text": [
      "[[[ 0  1  2  3]\n",
      "  [ 4  5  6  7]\n",
      "  [ 8  9 10 11]]\n",
      "\n",
      " [[12 13 14 15]\n",
      "  [16 17 18 19]\n",
      "  [20 21 22 23]]]\n",
      "Example: np.arange(24).reshape(2,3,4)\n",
      "1. reshape(第一層 block, 第二層 row , 第三層 column)\n",
      "2. series 排序由內層到外層\n"
     ]
    }
   ],
   "source": [
    "# 3-dim\n",
    "a3 = np.arange(24).reshape(2,3,4)\n",
    "\n",
    "print(a3)\n",
    "\n",
    "\n",
    "\n",
    "print(\"Example: np.arange(24).reshape(2,3,4)\")\n",
    "print(\"1. reshape(第一層 block, 第二層 row , 第三層 column)\")\n",
    "print(\"2. series 排序由內層到外層\")\n"
   ]
  },
  {
   "cell_type": "markdown",
   "metadata": {},
   "source": [
    "# 自訂列印選項\n",
    "\n",
    "\n",
    "> np.set_printoptions\n",
    "\n",
    "\n",
    " - 主要是由以下程式做參數調整。\n",
    " \n",
    "    + 列印選項\n",
    "    \n",
    "    + threshold=元素門檻值\n",
    "    \n",
    "    + precision=浮點數列印精度\n",
    "    \n",
    "    + edgeitems=省略列印內容時要顯示的元素數量\n",
    "    \n",
    "    + linewidth=每一行要印出幾個字元\n",
    "    \n",
    "    + suppress=是否要抑制顯示小數位\n",
    "    \n",
    "    + nanstr=當陣列元素值出現NaN時所顯示的字串\n",
    "    \n",
    "    + infstr=當陣列元素值出現inf時所顯示的字串\n",
    "    \n",
    "    + sign=控制正負號\n",
    "    \n",
    "    + formatter={ 使用lambda函數客製列印陣列元素的格式 } \n",
    "    \n",
    "    \n",
    "    \n",
    "\n",
    " \n",
    " - 相關細節請參考以下[連結](https://www.brilliantcode.net/1045/numpy-tutorial-how-to-print-array/)\n",
    " "
   ]
  },
  {
   "cell_type": "markdown",
   "metadata": {},
   "source": []
  }
 ],
 "metadata": {
  "kernelspec": {
   "display_name": "Python 3",
   "language": "python",
   "name": "python3"
  },
  "language_info": {
   "codemirror_mode": {
    "name": "ipython",
    "version": 3
   },
   "file_extension": ".py",
   "mimetype": "text/x-python",
   "name": "python",
   "nbconvert_exporter": "python",
   "pygments_lexer": "ipython3",
   "version": "3.7.3"
  }
 },
 "nbformat": 4,
 "nbformat_minor": 2
}
