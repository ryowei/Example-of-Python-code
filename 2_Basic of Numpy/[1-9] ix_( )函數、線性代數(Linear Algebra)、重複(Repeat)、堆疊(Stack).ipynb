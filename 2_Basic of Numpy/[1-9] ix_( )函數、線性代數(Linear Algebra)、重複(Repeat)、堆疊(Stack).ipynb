{
 "cells": [
  {
   "cell_type": "markdown",
   "metadata": {},
   "source": [
    "## Reference\n",
    "[1.] [brilliantcode.net](https://www.brilliantcode.net/1263/numpy-tutorial-ix-linear-algebra-repeat-stack/)\n",
    "\n",
    "***"
   ]
  },
  {
   "cell_type": "markdown",
   "metadata": {},
   "source": [
    "# ix_( ) : 可應用至取 matrix 的 index\n",
    "\n",
    "\n",
    "### ix_ function 運作模式：\n",
    "\n",
    "#### 可以 [輸入] 多個陣列 \n",
    " \n",
    " - Just like:   ix(v1, v2, v3, v4, ...)\n",
    "   \n",
    "   \n",
    "   \n",
    "   \n",
    "   \n",
    "   \n",
    " - 以輸入 2 個一維度陣列為例\n",
    "     + ix(v1, v2)\n",
    "     + v1: 第一個陣列\n",
    "     + v2: 第二個陣列\n",
    " \n",
    "\n",
    " \n",
    " - 第一個陣列  v1  作為 [[輸入]]參數 \"轉置\" 成 **column vector** 回傳。\n",
    " \n",
    "      + **col vector** 就是只有一個 col 的向量 (如下所示):\n",
    "      \n",
    "      + e.g., 輸入(1,3) 放在 v1    -> ix_((1,3),:) -> 輸出轉置如下 -> $\\begin{bmatrix}\n",
    "1\\\\3 \n",
    "\\end{bmatrix}$\n",
    "\n",
    " - 第二個陣列  v2  作為 [[輸出]] 以 **row vector**。 \n",
    " \n",
    "      + **row vector** 就是只有一個 row 的向量 (如下所示):\n",
    "\n",
    "      + e.g., 輸入(2,4) 放在 v2 -> ix_(:,(2,4)) -> 輸出轉置如下 -> $\\begin{bmatrix}\n",
    "2 & 4\n",
    "\\end{bmatrix}$\n",
    "\n",
    "\n",
    "\n",
    " - 如果分別將 ix_(v1,v2) 的回傳值 [分別取出]，就可以看出上述的差異。\n",
    "   \n",
    "\n",
    "***\n",
    "\n",
    "   \n",
    " - 如果 [直接使用一個變數] 來接收 ix_( ) 的回傳值，會收到一個 **tuple**。\n",
    " \n",
    " \n",
    " \n",
    " \n",
    " - 這個 **tuple** 則是以 x = ix_(v1, v2) 第一、第二個輸入參數所轉換成的陣列 x -> 依序組合而成的。\n",
    " \n",
    "   + Example: x = ix_(v1, v2),  x is **tuple**.\n",
    "   \n",
    "   \n"
   ]
  },
  {
   "cell_type": "code",
   "execution_count": 2,
   "metadata": {},
   "outputs": [
    {
     "name": "stdout",
     "output_type": "stream",
     "text": [
      "matrix_a => \n",
      "[[ 0  1  2  3  4]\n",
      " [ 5  6  7  8  9]\n",
      " [10 11 12 13 14]\n",
      " [15 16 17 18 19]\n",
      " [20 21 22 23 24]]\n"
     ]
    }
   ],
   "source": [
    "# load library\n",
    "import numpy as np\n",
    "\n",
    "\n",
    "# create a 5X5 matrix_a\n",
    "\n",
    "matrix_a = np.arange(0,25).reshape(5,5)\n",
    "\n",
    "\n",
    "print(\"matrix_a => \\n{0}\".format(matrix_a))"
   ]
  },
  {
   "cell_type": "code",
   "execution_count": 14,
   "metadata": {},
   "outputs": [
    {
     "name": "stdout",
     "output_type": "stream",
     "text": [
      "\n",
      "np.ix_([1,3],[2,4]) => \n",
      "(array([[1],\n",
      "       [3]]), array([[2, 4]]))\n",
      "\n",
      "\n",
      "直接使用一個變數 x 來接收 ix_( ) 的回傳值，會收到一個 tuple: \n",
      "\n",
      "x = np.ix_([1,3],[2,4]) => \n",
      "(array([[1],\n",
      "       [3]]), array([[2, 4]]))\n"
     ]
    }
   ],
   "source": [
    "\n",
    "# ix_() will return a tuple \n",
    "# what is composed by array [1,3] and array [2,4].\n",
    "# ix_() 會回傳一個由 [1,3] 和 [2,4] 兩個輸入值而組成的 tuple.\n",
    "\n",
    "\n",
    "\n",
    "print()\n",
    "print('np.ix_([1,3],[2,4]) => \\n{0}'.format(np.ix_([1,3],[2,4])))\n",
    "\n",
    "print(\"\\n\")\n",
    "print(\"直接使用一個變數 x 來接收 ix_( ) 的回傳值，會收到一個 tuple: \\n\")\n",
    "\n",
    "x = np.ix_([1,3],[2,4])\n",
    "\n",
    "print(\"x = np.ix_([1,3],[2,4]) => \\n{0}\".format(x))"
   ]
  },
  {
   "cell_type": "code",
   "execution_count": 24,
   "metadata": {},
   "outputs": [
    {
     "name": "stdout",
     "output_type": "stream",
     "text": [
      "我們可以分別將 ix_() 的回傳值拆成 [兩個不同的陣列] 取出,\n",
      "得到 2 個變數, 分別為 rows 變數與 cols 變數:\n",
      "----------------------------------------------------------------------------\n",
      "\n",
      "Seperate the return value of ix_(): rows, cols = np.ix_([1,3],[2,4])\n",
      "rows, cols = np.ix_([1,3],[2,4])\n",
      "\n",
      "rows => \n",
      "[[1]\n",
      " [3]]\n",
      "\n",
      "cols => \n",
      "[[2 4]]\n"
     ]
    }
   ],
   "source": [
    "# We can seperate the return value of ix_() as two different array.\n",
    "\n",
    "\n",
    "print(\"我們可以分別將 ix_() 的回傳值拆成 [兩個不同的陣列] 取出,\\n得到 2 個變數, 分別為 rows 變數與 cols 變數:\")\n",
    "print(\"----------------------------------------------------------------------------\\n\")\n",
    "\n",
    "\n",
    "print('Seperate the return value of ix_(): rows, cols = np.ix_([1,3],[2,4])')\n",
    "\n",
    "rows, cols = np.ix_([1,3],[2,4])\n",
    "\n",
    "print('rows, cols = np.ix_([1,3],[2,4])\\n\\nrows => \\n{0}\\n\\ncols => \\n{1}'.format(rows, cols))"
   ]
  },
  {
   "cell_type": "markdown",
   "metadata": {},
   "source": [
    "### ix_ 函數把輸入值轉換成這樣，可以用在哪些地方呢？\n",
    "\n",
    " - **輸入參數**可以是欲選取矩陣中特定資料的**索引值**，利用 ix_ 對目標矩陣選取需要的資料：\n",
    " \n",
    " \n",
    " \n",
    " - 如果我想要選取上述 matrix_a 矩陣中的索引[index] : (1,2)、(1,4)、(3,2)、(3,4) 四筆資料，\n",
    " \n",
    " \n",
    " \n",
    " - 因此，對應至矩陣的 row 分別為 (1,3) 以及 column 分別為 (2,4) 的索引值可以分別處理成兩個向量：\n",
    "  \n",
    "  + ($\\mathrm{v1}$): $\\begin{bmatrix} 1 & 3 \\end{bmatrix}$\n",
    "  + ($\\mathrm{v2}$): $\\begin{bmatrix} 2 & 4 \\end{bmatrix}$\n",
    "\n",
    " \n",
    " \n",
    " \n",
    " - 最後，就可以直接用 ix_ 的回傳值來選取資料！\n",
    "    + ix_$( \\mathrm{v1}, \\mathrm{v2} )$, where $\\mathrm{v1} = (1,3)$ and $\\mathrm{v2} = (2,4)$."
   ]
  },
  {
   "cell_type": "code",
   "execution_count": 82,
   "metadata": {},
   "outputs": [
    {
     "name": "stdout",
     "output_type": "stream",
     "text": [
      "matrix_a => \n",
      "[[ 0  1  2  3  4]\n",
      " [ 5  6  7  8  9]\n",
      " [10 11 12 13 14]\n",
      " [15 16 17 18 19]\n",
      " [20 21 22 23 24]]\n",
      "\n",
      "Get values by ix_():\n",
      "\n",
      "a_ix = matrix_a[ np.ix_([1,3],[2,4]) ] \n",
      "\n",
      "np.ix_([1,3],[2,4]) = (1,2),(1,4),(3,2),(3,4)\n",
      "\n",
      "\n",
      "a_ix => \n",
      "[[ 7  9]\n",
      " [17 19]]\n"
     ]
    }
   ],
   "source": [
    "# The return value of ix_() can divide into two part:\n",
    "# 1. part composed by the 1st input array, and the 1st part will become a column vector.\n",
    "# 2. part composed by the 2nd input array, and it will become a row vector.\n",
    "# Therefore, we can use the return value of ix_() as an index set.\n",
    "\n",
    "\n",
    "# to get values from a 2-dimension matrix directly.\n",
    "# ix_()的回傳值分為兩個部分：\n",
    "# 第一部分由第一個輸入陣列組成, 它會變成一個 column vector. \n",
    "# 第二部分由第二個輸入陣列組成, 它會變成一個 row vector. \n",
    "# 因此, 我們可以利用ix_()的回傳值形成一組索引集, 直接從一個二維陣列中取值.\n",
    "\n",
    "\n",
    "print(\"matrix_a => \\n{0}\".format(matrix_a))\n",
    "print()\n",
    "print('Get values by ix_():')\n",
    "print()\n",
    "print('a_ix = matrix_a[ np.ix_([1,3],[2,4]) ] ')\n",
    "print()\n",
    "print(\"np.ix_([1,3],[2,4]) = (1,2),(1,4),(3,2),(3,4)\")\n",
    "print()\n",
    "a_ix = matrix_a[np.ix_([1,3],[2,4])]\n",
    "print()\n",
    "print('a_ix => \\n{0}'.format(a_ix))"
   ]
  },
  {
   "cell_type": "markdown",
   "metadata": {},
   "source": [
    "* * *\n",
    "\n",
    "# Linear Algebra\n",
    "\n",
    "## 線性代數常用方法\n",
    "\n",
    " - 這邊介紹一些較簡單的線性代數方法：\n",
    " \n",
    "   + 矩陣相乘(matrix product)\n",
    "   \n",
    "   + 矩陣內元素相乘(element-by-element multiplication)\n",
    "   \n",
    "   + 轉置(transpose)\n",
    "   \n",
    "   + 單位矩陣(identify matrix)\n",
    "   "
   ]
  },
  {
   "cell_type": "markdown",
   "metadata": {},
   "source": [
    "## 建立 2 個 matrix"
   ]
  },
  {
   "cell_type": "code",
   "execution_count": 39,
   "metadata": {},
   "outputs": [
    {
     "name": "stdout",
     "output_type": "stream",
     "text": [
      "x1 is 2X2 matrix => \n",
      "[[1. 2.]\n",
      " [3. 4.]]\n",
      "\n",
      "x2 is 2X1 matrix => \n",
      "[[5.]\n",
      " [6.]]\n",
      "\n"
     ]
    }
   ],
   "source": [
    "## Linear Algebra\n",
    "\n",
    "x1 = np.array([\n",
    "    [1,2],[3,4]\n",
    "], dtype = np.float32).reshape(2,2)\n",
    "\n",
    "print(\"x1 is 2X2 matrix => \\n{0}\\n\".format(x1))\n",
    "\n",
    "x2 = np.array([\n",
    "    [5,6]\n",
    "], dtype = np.float32).reshape(2,1)\n",
    "\n",
    "print(\"x2 is 2X1 matrix => \\n{0}\\n\".format(x2))\n"
   ]
  },
  {
   "cell_type": "markdown",
   "metadata": {},
   "source": [
    "## 矩陣相乘 (matrix product)\n",
    "\n",
    "```\n",
    "code: np.dot(A,B)\n",
    "```"
   ]
  },
  {
   "cell_type": "code",
   "execution_count": 40,
   "metadata": {},
   "outputs": [
    {
     "name": "stdout",
     "output_type": "stream",
     "text": [
      "So, x1 X x2 is 2X1 matrix!\n",
      "np.dot(x1,x2) => \n",
      "[[17.]\n",
      " [39.]]\n"
     ]
    }
   ],
   "source": [
    "# matrix product\n",
    "# 矩陣相乘\n",
    "# code: np.dot(A,B)\n",
    "\n",
    "print(\"So, x1 X x2 is 2X1 matrix!\")\n",
    "print(\"np.dot(x1,x2) => \\n{0}\".format(np.dot(x1,x2)))"
   ]
  },
  {
   "cell_type": "markdown",
   "metadata": {},
   "source": [
    "## 矩陣內**元素**相乘 (element-by-element multiplication)\n",
    "\n",
    "```\n",
    "code: x1 * x2\n",
    "```"
   ]
  },
  {
   "cell_type": "code",
   "execution_count": 42,
   "metadata": {},
   "outputs": [
    {
     "name": "stdout",
     "output_type": "stream",
     "text": [
      "\n",
      "x1 times x2=>\n",
      "[[ 5. 10.]\n",
      " [18. 24.]]\n"
     ]
    }
   ],
   "source": [
    "# element-by-element multiplication\n",
    "# 矩陣內**元素**相乘\n",
    "# code: x1 * x2\n",
    "\n",
    "print()\n",
    "print('x1 times x2=>\\n{0}'.format(x1*x2))"
   ]
  },
  {
   "cell_type": "markdown",
   "metadata": {},
   "source": [
    "## 轉置矩陣 (transpose)\n",
    "\n",
    "```\n",
    "code: np.transpose(x1)\n",
    "```"
   ]
  },
  {
   "cell_type": "code",
   "execution_count": 43,
   "metadata": {},
   "outputs": [
    {
     "name": "stdout",
     "output_type": "stream",
     "text": [
      "\n",
      "transpose x1=>\n",
      "[[1. 3.]\n",
      " [2. 4.]]\n"
     ]
    }
   ],
   "source": [
    "# transpose\n",
    "# 轉置矩陣\n",
    "# code: np.transpose(x1)\n",
    "\n",
    "print()\n",
    "print('transpose x1=>\\n{0}'.format(np.transpose(x1)))"
   ]
  },
  {
   "cell_type": "markdown",
   "metadata": {},
   "source": [
    "## 單位矩陣 (identity matrix)"
   ]
  },
  {
   "cell_type": "code",
   "execution_count": 25,
   "metadata": {},
   "outputs": [
    {
     "name": "stdout",
     "output_type": "stream",
     "text": [
      "\n",
      "identify matrix I=>\n",
      "[[1. 0. 0.]\n",
      " [0. 1. 0.]\n",
      " [0. 0. 1.]]\n"
     ]
    }
   ],
   "source": [
    "#identity matrix\n",
    "# 單位矩陣\n",
    "print()\n",
    "print('identify matrix I=>\\n{0}'.format(np.eye(3)))"
   ]
  },
  {
   "cell_type": "markdown",
   "metadata": {},
   "source": [
    "# 重複: Repeat / 堆疊: Stack\n",
    "\n",
    "### 1. 重複 (repeat) /  重製(tile)\n",
    "### 2. 堆疊 (hstack, vstack)\n",
    "***"
   ]
  },
  {
   "cell_type": "markdown",
   "metadata": {},
   "source": [
    "### np.repeat(\"a\", \"repeats\", \"axis\")\n",
    "\n",
    " - a：目標矩陣或陣列\n",
    " \n",
    " \n",
    " \n",
    " - repeats：輸入值可以是整數、陣列\n",
    " \n",
    " \n",
    " \n",
    " - axis：為整數，表示執行重製的軸向\n",
    " \n",
    " \n",
    " \n",
    " - 將目標矩陣沿著設定的軸向(第一軸 axis = 0)進行重製。"
   ]
  },
  {
   "cell_type": "code",
   "execution_count": 62,
   "metadata": {},
   "outputs": [
    {
     "name": "stdout",
     "output_type": "stream",
     "text": [
      "col=>\n",
      "[[0]\n",
      " [1]\n",
      " [2]]\n",
      "----------------------------------------------\n",
      "\n",
      "repeat col for 5 times at axis = 1 =>\n",
      "[[0 0 0 0 0]\n",
      " [1 1 1 1 1]\n",
      " [2 2 2 2 2]]\n"
     ]
    }
   ],
   "source": [
    "# 建立一個 3X1 的 matrix: col\n",
    "col = np.arange(0,3).reshape(3,1)   \n",
    "# col --> (0,1,2) --> t( (0,1,2) )\n",
    "print('col=>\\n{0}'.format(col))\n",
    "\n",
    "print(\"----------------------------------------------\")\n",
    "# Repeat col for 5 times along the 2nd axis.\n",
    "# 沿著 axis = 1 沿著第 col 軸，重製 col 5次\n",
    "a = np.repeat(col, 5, axis = 1)\n",
    "print()\n",
    "print('repeat col for 5 times at axis = 1 =>\\n{0}'.format(a))"
   ]
  },
  {
   "cell_type": "code",
   "execution_count": 66,
   "metadata": {},
   "outputs": [
    {
     "name": "stdout",
     "output_type": "stream",
     "text": [
      "\n",
      "repeat col for 5 times at axis = 0 => \n",
      "[[0]\n",
      " [0]\n",
      " [0]\n",
      " [0]\n",
      " [0]\n",
      " [1]\n",
      " [1]\n",
      " [1]\n",
      " [1]\n",
      " [1]\n",
      " [2]\n",
      " [2]\n",
      " [2]\n",
      " [2]\n",
      " [2]]\n"
     ]
    }
   ],
   "source": [
    "# Repeat col for 5 times along the 2nd axis.\n",
    "# 沿著 axis = 0 表第 row 軸，重製 row 5次\n",
    "a = np.repeat(col, 5, axis = 0)\n",
    "print()\n",
    "print('repeat col for 5 times at axis = 0 => \\n{0}'.format(a))"
   ]
  },
  {
   "cell_type": "markdown",
   "metadata": {},
   "source": [
    "***\n",
    "### np.tile(\"a\", \"repeats\")\n",
    " - a：目標矩陣或陣列\n",
    " \n",
    " \n",
    " \n",
    " - repeats：參數為一個 **tuple**\n",
    "    + e.g., tuple: (2,4)\n",
    " \n",
    " \n",
    " \n",
    " - 1. 將目標矩陣依 repeats 設定每個維度數值重複執行 n 次\n",
    " - 2. 同時沿著 [**各個維度**] 的方向重製。"
   ]
  },
  {
   "cell_type": "code",
   "execution_count": 80,
   "metadata": {},
   "outputs": [
    {
     "name": "stdout",
     "output_type": "stream",
     "text": [
      "Case 1:\n",
      "\n",
      "repeat col like [2,4] =>\n",
      "[[0 0 0 0]\n",
      " [1 1 1 1]\n",
      " [2 2 2 2]\n",
      " [0 0 0 0]\n",
      " [1 1 1 1]\n",
      " [2 2 2 2]]\n",
      "\n",
      "-----------------------------\n",
      "\n",
      "Case 2:\n",
      "\n",
      "repeat col like [1,2] =>\n",
      "[[0 0]\n",
      " [1 1]\n",
      " [2 2]]\n",
      "\n",
      "-----------------------------\n",
      "\n"
     ]
    }
   ],
   "source": [
    "print(\"Case 1:\")\n",
    "# Repeat col 2 times along the direction of 1st dimension,\n",
    "# Repeat col 4 times along the direction of 2nd dimension.\n",
    "# 1. 沿著第一個維度的方向重複 col 2次\n",
    "# 2. 沿著第二個維度的方向重複 col 4次.\n",
    "\n",
    "a1 = np.tile(col, (2,4))\n",
    "print()\n",
    "print('repeat col like [2,4] =>\\n{0}'.format(a1))\n",
    "\n",
    "print(\"\\n-----------------------------\\n\")\n",
    "\n",
    "print(\"Case 2:\")\n",
    "# Repeat col 1 times along the direction of 1st dimension,\n",
    "# Repeat col 2 times along the direction of 2nd dimension.\n",
    "\n",
    "# 1. 沿著第一個維度的方向重複 col 1次\n",
    "# 2. 沿著第二個維度的方向重複 col 2次.\n",
    "\n",
    "\n",
    "\n",
    "a2 = np.tile(col, (1,2))\n",
    "print()\n",
    "print('repeat col like [1,2] =>\\n{0}'.format(a2))\n",
    "\n",
    "print(\"\\n-----------------------------\\n\")"
   ]
  },
  {
   "cell_type": "markdown",
   "metadata": {},
   "source": [
    "***\n",
    "\n",
    "### np.hstack(\"array\")\n",
    " \n",
    " \n",
    " - 1. 輸入參數內的陣列 [**size必須一致**]\n",
    " \n",
    " \n",
    " - 2. 輸入的陣列沿著 -> [水平方向] -> 合併後 -> 輸出。"
   ]
  },
  {
   "cell_type": "code",
   "execution_count": 71,
   "metadata": {},
   "outputs": [
    {
     "name": "stdout",
     "output_type": "stream",
     "text": [
      "\n",
      "hstack col=>\n",
      "[[0 0 0]\n",
      " [1 1 1]\n",
      " [2 2 2]]\n"
     ]
    }
   ],
   "source": [
    "# Stack col with horizontal line.\n",
    "# 將 col 沿著 水平線 堆疊.\n",
    "print()\n",
    "print('hstack col=>\\n{0}'.format(np.hstack([col, col, col])))"
   ]
  },
  {
   "cell_type": "markdown",
   "metadata": {},
   "source": [
    "***\n",
    "### np.vstack(\"array\")\n",
    "\n",
    " - 1. 輸入參數內的陣列 [**size 必須一致**]\n",
    "\n",
    "\n",
    " - 2. 輸入的陣列沿著 -> [垂直方向] -> 合併後 -> 輸出。"
   ]
  },
  {
   "cell_type": "code",
   "execution_count": 70,
   "metadata": {},
   "outputs": [
    {
     "name": "stdout",
     "output_type": "stream",
     "text": [
      "\n",
      "vstack col=>\n",
      "[[0]\n",
      " [1]\n",
      " [2]\n",
      " [0]\n",
      " [1]\n",
      " [2]\n",
      " [0]\n",
      " [1]\n",
      " [2]\n",
      " [0]\n",
      " [1]\n",
      " [2]]\n"
     ]
    }
   ],
   "source": [
    "# Stack col with vertical line.\n",
    "# 將 col 沿著 垂直線 堆疊.\n",
    "print()\n",
    "print('vstack col=>\\n{0}'.format(np.vstack([col, col, col, col])))"
   ]
  }
 ],
 "metadata": {
  "kernelspec": {
   "display_name": "Python 3",
   "language": "python",
   "name": "python3"
  },
  "language_info": {
   "codemirror_mode": {
    "name": "ipython",
    "version": 3
   },
   "file_extension": ".py",
   "mimetype": "text/x-python",
   "name": "python",
   "nbconvert_exporter": "python",
   "pygments_lexer": "ipython3",
   "version": "3.7.3"
  }
 },
 "nbformat": 4,
 "nbformat_minor": 2
}
