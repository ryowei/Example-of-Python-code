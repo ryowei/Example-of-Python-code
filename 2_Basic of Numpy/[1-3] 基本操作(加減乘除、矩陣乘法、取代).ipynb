{
 "cells": [
  {
   "cell_type": "markdown",
   "metadata": {},
   "source": [
    "## Reference\n",
    "[1.] [brilliantcode.net](https://www.brilliantcode.net/1062/numpy-tutorial-basic-operations/)\n",
    "\n",
    "\n",
    "### 該作者前言：\n",
    "> 本文將會介紹NumPy矩陣之間的加減乘除(包含矩陣乘法)、取代、屬性以及常用方法(dot, sum, min, max, mean, cumsum, sqrt, add, exp, …)！\n",
    "\n"
   ]
  },
  {
   "cell_type": "markdown",
   "metadata": {},
   "source": [
    "# 陣列 (Array) 加、減、次方\n",
    "\n",
    "## 基礎運算 - 1\n",
    "\n",
    " - 加: +\n",
    " \n",
    " - 減: -\n",
    " \n",
    " - 次方: **\n",
    " \n",
    " \n",
    "> 例如：加、減、次方都可以直接做單一數值的同加、同減、次方。"
   ]
  },
  {
   "cell_type": "code",
   "execution_count": 34,
   "metadata": {},
   "outputs": [],
   "source": [
    "# load the library\n",
    "import numpy as np"
   ]
  },
  {
   "cell_type": "markdown",
   "metadata": {},
   "source": [
    "## For Example 1: 「維度相同的矩陣」相加、相減"
   ]
  },
  {
   "cell_type": "code",
   "execution_count": 25,
   "metadata": {},
   "outputs": [
    {
     "name": "stdout",
     "output_type": "stream",
     "text": [
      "For Example: 「維度相同的矩陣」相加、相減:\n",
      "---------------------------------------\n",
      "    手動一一輸入: a => [1 2 4 5]\n",
      "    序列從  0~3: b => [0 1 2 3]\n",
      " 相減的結果 a-b: c => [1 1 2 2]\n",
      "---------------------------------------\n",
      "    手動一一輸入: a => [1 2 4 5]\n",
      "    序列從  0~3: b => [0 1 2 3]\n",
      " 相加的結果 a+b: d => [1 3 6 8]\n"
     ]
    }
   ],
   "source": [
    "print(\"For Example 1: 「維度相同的矩陣」相加、相減:\")\n",
    "\n",
    "print(\"---------------------------------------\")\n",
    "\n",
    "\n",
    "a = np.array( [1,2,4,5] ) # 手動一一輸入\n",
    "b = np.arange(4) # a series from 0~3\n",
    "c = a - b # 相減的結果\n",
    "d = a + b # 相加的結果\n",
    "\n",
    "\n",
    "print(\"    手動一一輸入: a => {0}\".format(a))\n",
    "print(\"    序列從  0~3: b => {0}\".format(b))\n",
    "print(\" 相減的結果 a-b: c => {0}\".format(c))\n",
    "\n",
    "print(\"---------------------------------------\")\n",
    "\n",
    "print(\"    手動一一輸入: a => {0}\".format(a))\n",
    "print(\"    序列從  0~3: b => {0}\".format(b))\n",
    "print(\" 相加的結果 a+b: d => {0}\".format(d))\n",
    "\n"
   ]
  },
  {
   "cell_type": "markdown",
   "metadata": {},
   "source": [
    "## For Example 2：同加、同減一個數值"
   ]
  },
  {
   "cell_type": "code",
   "execution_count": 44,
   "metadata": {
    "scrolled": true
   },
   "outputs": [
    {
     "name": "stdout",
     "output_type": "stream",
     "text": [
      "For Example 2: 同加、同減一個數值\n",
      "\n",
      "---------------------------------------\n",
      "初始值：                   手動一一輸入: a => [1 2 4 5]\n",
      "初始值：                   序列從  0~3: b => [0 1 2 3]\n",
      "---------------------------------------\n",
      "a += 5 : 表示 a* = a + 5 (a*表示更新) => [ 6  7  9 10]\n",
      "b -= 5 : 表示 b* = b - 5 (b*表示更新) => [-5 -4 -3 -2]\n"
     ]
    }
   ],
   "source": [
    "print(\"For Example 2: 同加、同減一個數值\\n\")\n",
    "\n",
    "\n",
    "print(\"---------------------------------------\")\n",
    "\n",
    "a = np.array( [1,2,4,5] ) # 手動一一輸入\n",
    "b = np.arange(4) # a series from 0~3\n",
    "\n",
    "print(\"初始值：                   手動一一輸入: a => {0}\".format(a))\n",
    "print(\"初始值：                   序列從  0~3: b => {0}\".format(b))\n",
    "\n",
    "\n",
    "print(\"---------------------------------------\")\n",
    "\n",
    "a += 5   # 表示 a* = a + 5  // a* 表示更新\n",
    "b -= 5   # 表示 b* = b - 5  // b* 表示更新\n",
    "\n",
    "print(\"a += 5 : 表示 a* = a + 5 (a*表示更新) => {0}\".format(a))\n",
    "print(\"b -= 5 : 表示 b* = b - 5 (b*表示更新) => {0}\".format(b))\n"
   ]
  },
  {
   "cell_type": "markdown",
   "metadata": {},
   "source": [
    "* * *"
   ]
  },
  {
   "cell_type": "markdown",
   "metadata": {},
   "source": [
    "# 矩陣 (matrix) 同除、同乘特定數\n",
    "\n",
    "## 基礎運算-2\n",
    "\n",
    " - 矩陣(matrix) 同乘上某個特定 **純量(scalar)**\n",
    " \n",
    " \n",
    " \n",
    " - 矩陣相乘"
   ]
  },
  {
   "cell_type": "code",
   "execution_count": 40,
   "metadata": {},
   "outputs": [
    {
     "name": "stdout",
     "output_type": "stream",
     "text": [
      "a => [0 1 2 3 4]\n",
      "b => [10  9  8  7  6]\n"
     ]
    }
   ],
   "source": [
    "a = np.arange(5) # 自動生成 series\n",
    "b = np.arange(10, 5, -1)  # 給定一段區間, by -1 遞減\n",
    "\n",
    "print(\"a => {0}\".format(a))\n",
    "print(\"b => {0}\".format(b))\n"
   ]
  },
  {
   "cell_type": "markdown",
   "metadata": {},
   "source": [
    "## Example 3:  純量 (scalar) 同除與同乘"
   ]
  },
  {
   "cell_type": "code",
   "execution_count": 53,
   "metadata": {},
   "outputs": [
    {
     "name": "stdout",
     "output_type": "stream",
     "text": [
      "For Example 3: 同乘與同除\n",
      "---------------------------------------\n",
      "==== c 等於 a 同除以 2 ===\n",
      "      a => [ 6  7  9 10]\n",
      "c = a/2 => [3.  3.5 4.5 5. ]\n",
      "---------------------------------------\n",
      "=== d 等於 b 同乘以 2 ===\n",
      "      b => [-5 -4 -3 -2]\n",
      "d = b*2 => [-10  -8  -6  -4]\n"
     ]
    }
   ],
   "source": [
    "print(\"For Example 3: 同乘與同除\")\n",
    "\n",
    "print(\"---------------------------------------\")\n",
    "\n",
    "print(\"==== c 等於 a 同除以 2 ===\")\n",
    "c = a / 2\n",
    "\n",
    "print(\"      a => {0}\".format(a))\n",
    "print(\"c = a/2 => {0}\".format(c))\n",
    "\n",
    "\n",
    "print(\"---------------------------------------\")\n",
    "print(\"=== d 等於 b 同乘以 2 ===\")\n",
    "d = b * 2\n",
    "\n",
    "\n",
    "print(\"      b => {0}\".format(b))\n",
    "print(\"d = b*2 => {0}\".format(d))\n"
   ]
  },
  {
   "cell_type": "markdown",
   "metadata": {},
   "source": [
    "## Exampe 4: 矩陣運算 (相乘)"
   ]
  },
  {
   "cell_type": "markdown",
   "metadata": {},
   "source": [
    "## 矩陣乘法（Matrix multiplication）\n",
    "\n",
    "\n",
    "\n",
    "### 一般矩陣乘積 (Matrix product) - AB or A · B\n",
    "\n",
    "若 A 為 ${\\displaystyle m\\times n}$ 矩陣，B 為 ${\\displaystyle n\\times p}$ 矩陣，則他們的乘積 AB (有時記做 A · B）會是一個${\\displaystyle m\\times p}$ 矩陣。\n",
    "   \n",
    "其乘積矩陣的元素如下面式子得出：\n",
    "\n",
    "$${\\displaystyle (AB)_{ij}=\\sum _{r=1}^{n}a_{ir}b_{rj}=a_{i1}b_{1j}+a_{i2}b_{2j}+\\cdots +a_{in}b_{nj}}$$.\n",
    "\n",
    "\n",
    "\n",
    "\n",
    "### 阿達馬乘積 (Hadamard product) - $ A \\circ B $\n",
    "#### Definition\n",
    "For two matrices A and B of the **same dimension** m × n, the Hadamard product $ A ∘ B $  (or ${\\displaystyle A\\odot B }$) is a matrix of the same dimension as the operands, with elements given by\n",
    "\n",
    "$${\\displaystyle (A\\circ B)_{ij}=(A\\odot B)_{ij}=(A)_{ij}(B)_{ij}.}$$\n",
    "\n",
    " \n",
    " - 矩陣相對應位置相乘\n",
    "\n",
    "\n",
    "\n",
    "## Reference from wiki"
   ]
  },
  {
   "cell_type": "code",
   "execution_count": 64,
   "metadata": {},
   "outputs": [
    {
     "data": {
      "image/png": "[encoded data removed]",
      "text/plain": [
       "<PIL.PngImagePlugin.PngImageFile image mode=RGBA size=448x447 at 0x10BBFFA20>"
      ]
     },
     "execution_count": 64,
     "metadata": {},
     "output_type": "execute_result"
    }
   ],
   "source": [
    "%matplotlib inline\n",
    "from PIL import Image\n",
    "Image.open(\"../graph/numpy_matrix_example.png\")"
   ]
  },
  {
   "cell_type": "code",
   "execution_count": 75,
   "metadata": {},
   "outputs": [
    {
     "name": "stdout",
     "output_type": "stream",
     "text": [
      "For Example 4: Matrix product ＆ Hadamard product\n",
      "\n",
      "---------------------------------------\n",
      "\n",
      "A => \n",
      "[[1 2]\n",
      " [3 4]]\n",
      "B => \n",
      "[[5 6]\n",
      " [7 8]]\n",
      "\n",
      "Matrix product ---> A.dot(B)\n",
      "A.dot(B) => \n",
      "[[19 22]\n",
      " [43 50]]\n",
      "\n",
      "---------------------------------------\n",
      "\n",
      "A => \n",
      "[[1 2]\n",
      " [3 4]]\n",
      "B => \n",
      "[[5 6]\n",
      " [7 8]]\n",
      "\n",
      "Hadamard product ---> A*B\n",
      "A*B => \n",
      "[[ 5 12]\n",
      " [21 32]]\n"
     ]
    }
   ],
   "source": [
    "print(\"For Example 4: Matrix product ＆ Hadamard product\")\n",
    "print(\"\\n---------------------------------------\\n\")\n",
    "\n",
    "A = np.array([[1,2],[3,4]])\n",
    "B = np.array([[5,6],[7,8]])\n",
    "\n",
    "\n",
    "print(\"A => \\n{0}\".format(A))\n",
    "print(\"B => \\n{0}\".format(B))\n",
    "\n",
    "print()\n",
    "\n",
    "# matrix product\n",
    "print(\"Matrix product ---> A.dot(B)\")\n",
    "print(\"A.dot(B) => \\n{0}\".format(A.dot(B)))\n",
    "\n",
    "print(\"\\n---------------------------------------\\n\")\n",
    "\n",
    "\n",
    "\n",
    "print(\"A => \\n{0}\".format(A))\n",
    "print(\"B => \\n{0}\".format(B))\n",
    "\n",
    "\n",
    "print()\n",
    "\n",
    "\n",
    "# Hadamard product\n",
    "print(\"Hadamard product ---> A*B\")\n",
    "print(\"A*B => \\n{0}\".format(A*B))"
   ]
  },
  {
   "cell_type": "markdown",
   "metadata": {},
   "source": [
    "* * *"
   ]
  },
  {
   "cell_type": "markdown",
   "metadata": {},
   "source": [
    "# 取代\n",
    "\n",
    "### 使用時機點/舉例：\n",
    "\n",
    " - 把矩陣裡面 **NaN的數值** 取代成 **0** 的時候\n",
    " \n",
    " \n",
    " - 判斷陣列元素值**小於等於 0 **的元素，把那些元素的數值取代成 **1**"
   ]
  },
  {
   "cell_type": "code",
   "execution_count": 96,
   "metadata": {},
   "outputs": [
    {
     "name": "stdout",
     "output_type": "stream",
     "text": [
      "在哪幾個的元素位置 array < 0 ? => \n",
      "[False  True False False False]\n",
      "[ 5 -1  3  9  6]\n"
     ]
    }
   ],
   "source": [
    "# 印出陣列中小於 0 的元素\n",
    "x = np.array([5, -1, 3, 9, 6])\n",
    "print(\"在哪幾個的元素位置 array < 0 ? => \\n{0}\".format( x < 0 ))\n",
    "print(x)"
   ]
  },
  {
   "cell_type": "code",
   "execution_count": 95,
   "metadata": {},
   "outputs": [
    {
     "name": "stdout",
     "output_type": "stream",
     "text": [
      "把小於 0 的元素取代成 1 => \n",
      "[5 1 3 9 6]\n",
      "you can find -1 transfer to 1\n"
     ]
    }
   ],
   "source": [
    "# 把小於 0 的元素取代成 1\n",
    "x[x<0] = 1\n",
    "print(\"把小於 0 的元素取代成 1 => \\n{0}\".format(x))\n",
    "print(\"you can find -1 transfer to 1\")"
   ]
  },
  {
   "cell_type": "markdown",
   "metadata": {},
   "source": [
    "* * *"
   ]
  },
  {
   "cell_type": "markdown",
   "metadata": {},
   "source": [
    "# 陣列元素的型別\n",
    " ## 常犯錯誤\n",
    "\n",
    "\n",
    "#### 該作者前言：\n",
    "> 因為 NumPy 太好用了，導致有時候甚至會忽略兩個要做運算的陣列**型別**根本不符，最後就會出錯"
   ]
  },
  {
   "cell_type": "code",
   "execution_count": 146,
   "metadata": {},
   "outputs": [
    {
     "name": "stdout",
     "output_type": "stream",
     "text": [
      "===========================\n",
      "      float 型別 ->  正常運作\n",
      "===========================\n",
      "a = np.ones([2,3], dtype = np.float) => \n",
      "[[1. 1. 1.]\n",
      " [1. 1. 1.]]\n",
      "\n",
      "----------------------------------\n",
      "\n",
      "b = np.random.random([2,3]) => \n",
      "[[0.46098812 0.52532299 0.81734847]\n",
      " [0.96277815 0.02250089 0.08711739]]\n"
     ]
    }
   ],
   "source": [
    "print(\"===========================\")\n",
    "print(\"      float 型別 ->  正常運作\")\n",
    "print(\"===========================\")\n",
    "\n",
    "a = np.ones([2,3], dtype = np.float)  #型別為浮點數\n",
    "print(\"a = np.ones([2,3], dtype = np.float) => \\n{0}\".format(a))\n",
    "\n",
    "print(\"\\n----------------------------------\\n\")\n",
    "\n",
    "b = np.random.random([2,3]) #型別為浮點數\n",
    "print(\"b = np.random.random([2,3]) => \\n{0}\".format(b))"
   ]
  },
  {
   "cell_type": "markdown",
   "metadata": {},
   "source": [
    "### Case 1: Operation +="
   ]
  },
  {
   "cell_type": "code",
   "execution_count": 147,
   "metadata": {},
   "outputs": [
    {
     "name": "stdout",
     "output_type": "stream",
     "text": [
      "a += 5 => [[6. 6. 6.]\n",
      " [6. 6. 6.]]\n"
     ]
    }
   ],
   "source": [
    "a += 5  # a1 = a + 5\n",
    "\n",
    "print(\"a += 5 => {0}\".format(a))"
   ]
  },
  {
   "cell_type": "code",
   "execution_count": 148,
   "metadata": {},
   "outputs": [
    {
     "name": "stdout",
     "output_type": "stream",
     "text": [
      "b += a => [[6.46098812 6.52532299 6.81734847]\n",
      " [6.96277815 6.02250089 6.08711739]]\n"
     ]
    }
   ],
   "source": [
    "b += a   # b1 = b + a\n",
    "\n",
    "print(\"b += a => {0}\".format(b))"
   ]
  },
  {
   "cell_type": "code",
   "execution_count": 149,
   "metadata": {},
   "outputs": [
    {
     "name": "stdout",
     "output_type": "stream",
     "text": [
      "a += b => [[12.46098812 12.52532299 12.81734847]\n",
      " [12.96277815 12.02250089 12.08711739]]\n"
     ]
    }
   ],
   "source": [
    "a += b   # a2 = a1 + b1\n",
    "\n",
    "print(\"a += b => {0}\".format(a))"
   ]
  },
  {
   "cell_type": "markdown",
   "metadata": {},
   "source": [
    "### Case 2 : Operation *="
   ]
  },
  {
   "cell_type": "code",
   "execution_count": 150,
   "metadata": {},
   "outputs": [
    {
     "name": "stdout",
     "output_type": "stream",
     "text": [
      "a *= 5 => [[62.30494061 62.62661497 64.08674234]\n",
      " [64.81389074 60.11250444 60.43558694]]\n"
     ]
    }
   ],
   "source": [
    "a *= 5  # a2 = a1*5\n",
    "\n",
    "print(\"a *= 5 => {0}\".format(a))"
   ]
  },
  {
   "cell_type": "markdown",
   "metadata": {},
   "source": [
    "### 把型別 改成 int 的結果？"
   ]
  },
  {
   "cell_type": "code",
   "execution_count": 179,
   "metadata": {},
   "outputs": [
    {
     "name": "stdout",
     "output_type": "stream",
     "text": [
      "===========================\n",
      "    改 int 型別 ->  正常運作?\n",
      "===========================\n",
      "a = np.ones([2,3], dtype = np.float) => \n",
      "[[1 1 1]\n",
      " [1 1 1]]\n",
      "\n",
      "----------------------------------\n",
      "\n",
      "b = np.random.random([2,3]) => \n",
      "[[0.81888681 0.98407492 0.68636965]\n",
      " [0.83538208 0.33561148 0.15460302]]\n"
     ]
    }
   ],
   "source": [
    "print(\"===========================\")\n",
    "print(\"    改 int 型別 ->  正常運作?\")\n",
    "print(\"===========================\")\n",
    "\n",
    "a = np.ones([2,3], dtype = np.int64)  #型別為 Integer\n",
    "print(\"a = np.ones([2,3], dtype = np.float) => \\n{0}\".format(a))\n",
    "\n",
    "print(\"\\n----------------------------------\\n\")\n",
    "\n",
    "b = np.random.random([2,3]) #型別為浮點數\n",
    "print(\"b = np.random.random([2,3]) => \\n{0}\".format(b))"
   ]
  },
  {
   "cell_type": "markdown",
   "metadata": {},
   "source": [
    "### Case 3: Operation +="
   ]
  },
  {
   "cell_type": "code",
   "execution_count": 180,
   "metadata": {},
   "outputs": [
    {
     "name": "stdout",
     "output_type": "stream",
     "text": [
      "a += 5 => [[6 6 6]\n",
      " [6 6 6]]\n",
      "\n"
     ]
    }
   ],
   "source": [
    "a += 5  # a1 = a + 5\n",
    "\n",
    "print(\"a += 5 => {0}\\n\".format(a))"
   ]
  },
  {
   "cell_type": "code",
   "execution_count": 181,
   "metadata": {},
   "outputs": [
    {
     "name": "stdout",
     "output_type": "stream",
     "text": [
      "b += a => [[6.81888681 6.98407492 6.68636965]\n",
      " [6.83538208 6.33561148 6.15460302]]\n",
      "\n"
     ]
    }
   ],
   "source": [
    "b += a   # b1 = b + a\n",
    "\n",
    "print(\"b += a => {0}\\n\".format(b))"
   ]
  },
  {
   "cell_type": "code",
   "execution_count": 182,
   "metadata": {},
   "outputs": [
    {
     "ename": "UFuncTypeError",
     "evalue": "Cannot cast ufunc 'add' output from dtype('float64') to dtype('int64') with casting rule 'same_kind'",
     "output_type": "error",
     "traceback": [
      "\u001b[0;31m---------------------------------------------------------\u001b[0m",
      "\u001b[0;31mUFuncTypeError\u001b[0m          Traceback (most recent call last)",
      "\u001b[0;32m<ipython-input-182-28b8466f093d>\u001b[0m in \u001b[0;36m<module>\u001b[0;34m\u001b[0m\n\u001b[0;32m----> 1\u001b[0;31m \u001b[0ma\u001b[0m \u001b[0;34m+=\u001b[0m \u001b[0mb\u001b[0m   \u001b[0;31m# a2 = a1 + b1\u001b[0m\u001b[0;34m\u001b[0m\u001b[0;34m\u001b[0m\u001b[0m\n\u001b[0m\u001b[1;32m      2\u001b[0m \u001b[0;34m\u001b[0m\u001b[0m\n\u001b[1;32m      3\u001b[0m \u001b[0mprint\u001b[0m\u001b[0;34m(\u001b[0m\u001b[0;34m\"a += b => {0}\\n\"\u001b[0m\u001b[0;34m.\u001b[0m\u001b[0mformat\u001b[0m\u001b[0;34m(\u001b[0m\u001b[0ma\u001b[0m\u001b[0;34m)\u001b[0m\u001b[0;34m)\u001b[0m\u001b[0;34m\u001b[0m\u001b[0;34m\u001b[0m\u001b[0m\n",
      "\u001b[0;31mUFuncTypeError\u001b[0m: Cannot cast ufunc 'add' output from dtype('float64') to dtype('int64') with casting rule 'same_kind'"
     ]
    }
   ],
   "source": [
    "a += b   # a2 = a1 + b1\n",
    "\n",
    "print(\"a += b => {0}\\n\".format(a))"
   ]
  },
  {
   "cell_type": "code",
   "execution_count": 183,
   "metadata": {},
   "outputs": [
    {
     "name": "stdout",
     "output_type": "stream",
     "text": [
      " 以上錯誤原因是 型態問題 dtype \n",
      "如果把上面範例第二行程式的 np.float 改成 np.int 就會出錯\n"
     ]
    }
   ],
   "source": [
    "print(\" 以上錯誤原因是 型態問題 dtype \")\n",
    "print(\"如果把上面範例第二行程式的 np.float 改成 np.int 就會出錯\")"
   ]
  },
  {
   "cell_type": "markdown",
   "metadata": {},
   "source": [
    "### Case 4 : Operation *="
   ]
  },
  {
   "cell_type": "code",
   "execution_count": 184,
   "metadata": {},
   "outputs": [
    {
     "name": "stdout",
     "output_type": "stream",
     "text": [
      "a *= 5 =>\n",
      "[[30 30 30]\n",
      " [30 30 30]]\n"
     ]
    }
   ],
   "source": [
    "a *= 5  # a2 = a1*5\n",
    "\n",
    "print(\"a *= 5 =>\\n{0}\".format(a))"
   ]
  },
  {
   "cell_type": "markdown",
   "metadata": {},
   "source": [
    "* * *"
   ]
  },
  {
   "cell_type": "markdown",
   "metadata": {},
   "source": [
    "# 矩陣的屬性"
   ]
  },
  {
   "cell_type": "markdown",
   "metadata": {},
   "source": [
    "## 常用方法-1\n",
    "\n",
    "NumPy矩陣本身在初始化之後就內建一些好用的方法！\n",
    "\n",
    " - sum：矩陣加總\n",
    " \n",
    " \n",
    " - min：矩陣最小值\n",
    " \n",
    " \n",
    " - max：矩陣最大值\n",
    " \n",
    " \n",
    " - mean：矩陣平均值\n",
    " \n"
   ]
  },
  {
   "cell_type": "code",
   "execution_count": 189,
   "metadata": {},
   "outputs": [
    {
     "name": "stdout",
     "output_type": "stream",
     "text": [
      "Matrix: \n",
      "[[0 1 2 3 4]\n",
      " [5 6 7 8 9]]\n",
      "================\n",
      "45\n",
      "0\n",
      "9\n",
      "4.5\n",
      "================\n",
      " sum => 45\n",
      " max => 9 \n",
      " min => 0 \n",
      " mean => 4.5\n"
     ]
    }
   ],
   "source": [
    "## Methods: sum, min, max, mean\n",
    "\n",
    "# create a array\n",
    "a = np.arange(10).reshape(2,5)\n",
    "print(\"Matrix: \\n{0}\".format(a))\n",
    "\n",
    "\n",
    "print(\"================\")\n",
    "\n",
    "print(a.sum())\n",
    "print(a.min())\n",
    "print(a.max())\n",
    "print(a.mean())\n",
    "\n",
    "\n",
    "print(\"================\")\n",
    "\n",
    "# 一起寫的寫法\n",
    "print(\" sum => {0}\\n max => {1} \\n min => {2} \\n mean => {3}\".format(a.sum(), a.max(), a.min(), a.mean()))\n",
    "\n",
    "# {0},{1},{2},{3} 表示要放的參數\n",
    "# format({0}, {1}, {2}, {3}, {4})"
   ]
  },
  {
   "cell_type": "markdown",
   "metadata": {},
   "source": [
    "## 常用方法-2\n",
    "\n",
    " - sum：axis = 0 or 1 算是進階用法，可以**指定要加總哪一個維度**\n",
    " \n",
    " \n",
    " - cumsum：這是可以拿來對陣列值做出累計加總的效果\n",
    "    + 可以用在**一維陣列**上，數值就可以直接拿來畫出**累計趨勢圖**"
   ]
  },
  {
   "cell_type": "code",
   "execution_count": 173,
   "metadata": {},
   "outputs": [
    {
     "name": "stdout",
     "output_type": "stream",
     "text": [
      "b => \n",
      "[[ 0  1  2  3  4  5]\n",
      " [ 6  7  8  9 10 11]]\n"
     ]
    }
   ],
   "source": [
    "b = np.arange(12).reshape(2,6)\n",
    "\n",
    "print(\"b => \\n{0}\".format(b))"
   ]
  },
  {
   "cell_type": "code",
   "execution_count": 193,
   "metadata": {},
   "outputs": [
    {
     "name": "stdout",
     "output_type": "stream",
     "text": [
      "b.sum(axis = 0) => [13.65426889 13.3196864  12.84097267]\n",
      "b.sum(axis = 1) => [20.48933138 19.32559658]\n"
     ]
    }
   ],
   "source": [
    "# 加總每一欄(column) axis = 0 表示 column\n",
    "print(\"b.sum(axis = 0) => {0}\".format(b.sum(axis = 0)))\n",
    "\n",
    "# 加總每一列(row) axis = 1 表示 row\n",
    "print(\"b.sum(axis = 1) => {0}\".format(b.sum(axis = 1)))"
   ]
  },
  {
   "cell_type": "code",
   "execution_count": 204,
   "metadata": {},
   "outputs": [
    {
     "name": "stdout",
     "output_type": "stream",
     "text": [
      "np.random.random((1,12)) => \n",
      "[[0.91040695 0.73244282 0.40943955 0.31610354 0.40909024 0.37907129\n",
      "  0.84248672 0.51824853 0.05446355 0.36699535 0.24297001 0.04936379]]\n"
     ]
    }
   ],
   "source": [
    "# 產生 12 個亂數的 series\n",
    "import random # need to library random \n",
    "random.seed(100) # set seed\n",
    "\n",
    "rd = np.random.random((1,12))\n",
    "print(\"np.random.random((1,12)) => \\n{0}\".format(rd))"
   ]
  },
  {
   "cell_type": "code",
   "execution_count": 206,
   "metadata": {},
   "outputs": [
    {
     "name": "stdout",
     "output_type": "stream",
     "text": [
      "rd * 100 => \n",
      "[[91.0406946  73.24428174 40.94395518 31.61035416 40.90902364 37.90712933\n",
      "  84.24867207 51.82485256  5.44635547 36.69953467 24.29700137  4.93637922]]\n"
     ]
    }
   ],
   "source": [
    "# 產生 12 個亂數的 series\n",
    "# 每一個元素再乘以 100\n",
    "\n",
    "print(\"rd * 100 => \\n{0}\".format(rd *100))"
   ]
  },
  {
   "cell_type": "code",
   "execution_count": 210,
   "metadata": {},
   "outputs": [
    {
     "name": "stdout",
     "output_type": "stream",
     "text": [
      "[[91. 73. 41. 32. 41. 38. 84. 52.  5. 37. 24.  5.]]\n"
     ]
    }
   ],
   "source": [
    "# 產生 12 個亂數的 series\n",
    "# 每一個元素再乘以 100\n",
    "# rounding 到整數位數\n",
    "\n",
    "print(np.round( rd * 100 , 0))"
   ]
  },
  {
   "cell_type": "code",
   "execution_count": 212,
   "metadata": {},
   "outputs": [
    {
     "name": "stdout",
     "output_type": "stream",
     "text": [
      "revenu => \n",
      "[[91. 73. 41. 32. 41. 38. 84. 52.  5. 37. 24.  5.]]\n"
     ]
    }
   ],
   "source": [
    "# Summarize: 整個一起寫\n",
    "# 產生 12 個亂數的 series\n",
    "# 每一個元素再乘以 100\n",
    "# rounding 到整數位數\n",
    "\n",
    "revenu = np.round(rd * 100, 0)\n",
    "print(\"revenu => \\n{0}\".format(revenu))"
   ]
  },
  {
   "cell_type": "markdown",
   "metadata": {},
   "source": [
    "# 常用方法-3\n",
    "\n",
    " - np.sqrt：**矩陣**內所有元素開平方根\n",
    "\n",
    "\n",
    " - np.exp：**矩陣**內所有元素進行 Exponential function(e)運算\n",
    " \n",
    " \n",
    " - np.add：**矩陣**或**矩陣**相加"
   ]
  },
  {
   "cell_type": "code",
   "execution_count": 217,
   "metadata": {},
   "outputs": [
    {
     "name": "stdout",
     "output_type": "stream",
     "text": [
      "[0 1 2]\n"
     ]
    }
   ],
   "source": [
    "B = np.arange(3)\n",
    "print(B)"
   ]
  },
  {
   "cell_type": "code",
   "execution_count": 219,
   "metadata": {},
   "outputs": [
    {
     "name": "stdout",
     "output_type": "stream",
     "text": [
      "B_sqrt = np.sqrt(B) => [0.         1.         1.41421356]\n"
     ]
    }
   ],
   "source": [
    "B_sqrt = np.sqrt(B)\n",
    "print(\"B_sqrt = np.sqrt(B) => {0}\".format(B_sqrt))"
   ]
  },
  {
   "cell_type": "code",
   "execution_count": 220,
   "metadata": {},
   "outputs": [
    {
     "name": "stdout",
     "output_type": "stream",
     "text": [
      "B_exp = np.exp(B) => [1.         2.71828183 7.3890561 ]\n"
     ]
    }
   ],
   "source": [
    "B_exp = np.exp(B)\n",
    "print(\"B_exp = np.exp(B) => {0}\".format(B_exp))"
   ]
  },
  {
   "cell_type": "code",
   "execution_count": 223,
   "metadata": {},
   "outputs": [
    {
     "name": "stdout",
     "output_type": "stream",
     "text": [
      "[2 1 0]\n",
      "BC_add = np.add(B,C) => [2 2 2]\n"
     ]
    }
   ],
   "source": [
    "C = np.array([2, 1, 0])\n",
    "\n",
    "print(C)\n",
    "\n",
    "BC_add = np.add(B,C)\n",
    "print(\"BC_add = np.add(B,C) => {0}\".format(BC_add))"
   ]
  },
  {
   "cell_type": "markdown",
   "metadata": {},
   "source": [
    "# 還有很多常用的方法：\n",
    ">all, any, apply_along_axis, argmax, argmin, argsort, average, bincount, ceil, clip, conj, corrcoef, cov, cross, cumprod, cumsum, diff, dot, floor, inner, inv, lexsort, max, maximum, mean, median, min, minimum, nonzero, outer, prod, re, round, sort, std, sum, trace, transpose, var, vdot, vectorize, where"
   ]
  }
 ],
 "metadata": {
  "kernelspec": {
   "display_name": "Python 3",
   "language": "python",
   "name": "python3"
  },
  "language_info": {
   "codemirror_mode": {
    "name": "ipython",
    "version": 3
   },
   "file_extension": ".py",
   "mimetype": "text/x-python",
   "name": "python",
   "nbconvert_exporter": "python",
   "pygments_lexer": "ipython3",
   "version": "3.7.3"
  }
 },
 "nbformat": 4,
 "nbformat_minor": 2
}
