{
 "cells": [
  {
   "cell_type": "markdown",
   "metadata": {},
   "source": [
    "## Reference \n",
    "[1.] [brilliantcode.net](https://www.brilliantcode.net/1206/numpy-tutorial-indexing-with-boolean-array/)\n",
    "\n",
    "\n",
    "* * *"
   ]
  },
  {
   "cell_type": "markdown",
   "metadata": {},
   "source": [
    "# by Elements/ by Cells\n",
    "\n",
    "\n",
    "### 判斷每一個元素 Elements / Cells\n",
    "\n",
    " - 判斷矩陣 a 中每一個位置的數值是否符合我們設定的條件，\n",
    " - 再將這個判斷結果儲存成一個布林(boolean)矩陣。\n",
    " - 布林矩陣的大小會跟矩陣 a 的大小一致，\n",
    " - 可以直接使用這個布林矩陣當作矩陣a的索引值，\n",
    " - NumPy會篩選布林矩陣值為True的位置的元素。\n",
    "\n",
    "\n",
    "For Example at line 3:\n",
    "1. 直接用 **條件 < 20** 判斷是符合這個條件的元素位置\n",
    "2. 產生布林矩陣 filter\n",
    "3. line 11:  取布林矩陣 filter 為 True 的 元素(index) -> 對應到矩陣 a 的位置的**值**更改為 0\n",
    "4. True 的元素(index)對應到矩陣 a 的位置的**值** 更改為 **0**。\n"
   ]
  },
  {
   "cell_type": "code",
   "execution_count": 5,
   "metadata": {},
   "outputs": [
    {
     "name": "stdout",
     "output_type": "stream",
     "text": [
      "a => \n",
      "[[ 0  1  2  3  4]\n",
      " [ 5  6  7  8  9]\n",
      " [10 11 12 13 14]\n",
      " [15 16 17 18 19]\n",
      " [20 21 22 23 24]]\n",
      "\n",
      "filter => \n",
      "[[ True  True  True  True  True]\n",
      " [ True  True  True  True  True]\n",
      " [ True  True  True  True  True]\n",
      " [ True  True  True  True  True]\n",
      " [False False False False False]]\n"
     ]
    }
   ],
   "source": [
    "import numpy as np\n",
    "\n",
    "a = np.arange(25).reshape(5,5)\n",
    "\n",
    "print(\"a => \\n{0}\".format(a))\n",
    "\n",
    "# 從矩陣a中篩選出數值小於20的index位置，並依此邏輯建立篩選器filter\n",
    "filter = a < 20\n",
    "\n",
    "print()\n",
    "\n",
    "print(\"filter => \\n{0}\".format(filter))\n"
   ]
  },
  {
   "cell_type": "code",
   "execution_count": 7,
   "metadata": {},
   "outputs": [
    {
     "name": "stdout",
     "output_type": "stream",
     "text": [
      "Replace numbers with zero that number is small than 20:\n",
      "a => \n",
      "[[ 0  0  0  0  0]\n",
      " [ 0  0  0  0  0]\n",
      " [ 0  0  0  0  0]\n",
      " [ 0  0  0  0  0]\n",
      " [20 21 22 23 24]]\n"
     ]
    }
   ],
   "source": [
    "print('Replace numbers with zero that number is small than 20:')\n",
    "# 直接將篩選器 (filter) 作為 index 數值\n",
    "# 將篩選器數值為True對應到a矩陣位置的數值 -> 更改為 0\n",
    "\n",
    "a[filter] = 0\n",
    "\n",
    "print(\"a => \\n{0}\".format(a))"
   ]
  },
  {
   "cell_type": "markdown",
   "metadata": {},
   "source": [
    "*** "
   ]
  },
  {
   "cell_type": "markdown",
   "metadata": {},
   "source": [
    "# by Rows/ by Columns\n",
    "### 依據 Rows / Columns 判斷\n",
    "\n",
    " - NumPy 可以透過 **布林矩陣** 作為 [篩選條件過濾矩陣內的每一個元素]\n",
    " \n",
    " \n",
    " - 也可以對矩陣選取需要的 Row 或 Column！\n",
    " \n",
    "    + 建立一個布林陣列\n",
    "       \n",
    "    + 陣列大小與這次的目標矩陣 a 的 Row or Column 數相等\n",
    "    \n",
    "    + 即可依據欲作篩選的維度進行篩選 a[維度1, 維度2, …]。\n",
    "    \n",
    "    "
   ]
  },
  {
   "cell_type": "code",
   "execution_count": 12,
   "metadata": {},
   "outputs": [
    {
     "name": "stdout",
     "output_type": "stream",
     "text": [
      "a => \n",
      "[[ 0  1  2  3]\n",
      " [ 4  5  6  7]\n",
      " [ 8  9 10 11]]\n",
      "\n",
      "b_row => [False False  True]\n",
      "\n",
      "b_col => [ True False  True False]\n"
     ]
    }
   ],
   "source": [
    "a = np.arange(12).reshape(3,4)\n",
    "\n",
    "print(\"a => \\n{0}\".format(a))\n",
    "\n",
    "print()\n",
    "\n",
    "b_row = np.array([False,False,True])\n",
    "b_col = np.array([True, False, True, False])\n",
    "\n",
    "print(\"b_row => {0}\".format(b_row))\n",
    "print()\n",
    "print(\"b_col => {0}\".format(b_col))\n",
    "\n"
   ]
  },
  {
   "cell_type": "code",
   "execution_count": 13,
   "metadata": {},
   "outputs": [
    {
     "name": "stdout",
     "output_type": "stream",
     "text": [
      "Display rows in matrix \"a\" that are selected by array \"b_row\":\n",
      "a[b_row,:]=>\n",
      "[[ 8  9 10 11]]\n",
      "\n",
      "\n",
      "\n",
      "Display columns in matrix \"a\" that are selected by array \"b_col\":\n",
      "a[:,b_col]=>\n",
      "[[ 0  2]\n",
      " [ 4  6]\n",
      " [ 8 10]]\n"
     ]
    }
   ],
   "source": [
    "print('Display rows in matrix \"a\" that are selected by array \"b_row\":')\n",
    "# 使用 b_row 作為矩陣 a 的 row 篩選器，\n",
    "# 印出 b_row 值為 True 對應到 a 矩陣的數值\n",
    "print('a[b_row,:]=>\\n{0}'.format(a[b_row,:]))\n",
    "\n",
    "print(\"\\n\")\n",
    "\n",
    "print('')\n",
    "print('Display columns in matrix \"a\" that are selected by array \"b_col\":')\n",
    "# 使用 b_col 作為矩陣 a 的 col 篩選器\n",
    "# 印出 _col 值為 True 對應到 a 矩陣的數值\n",
    "print('a[:,b_col]=>\\n{0}'.format(a[:,b_col]))"
   ]
  }
 ],
 "metadata": {
  "kernelspec": {
   "display_name": "Python 3",
   "language": "python",
   "name": "python3"
  },
  "language_info": {
   "codemirror_mode": {
    "name": "ipython",
    "version": 3
   },
   "file_extension": ".py",
   "mimetype": "text/x-python",
   "name": "python",
   "nbconvert_exporter": "python",
   "pygments_lexer": "ipython3",
   "version": "3.7.3"
  }
 },
 "nbformat": 4,
 "nbformat_minor": 2
}
