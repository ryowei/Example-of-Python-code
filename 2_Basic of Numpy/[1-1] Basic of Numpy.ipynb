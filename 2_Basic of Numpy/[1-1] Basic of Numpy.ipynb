{
 "cells": [
  {
   "cell_type": "markdown",
   "metadata": {},
   "source": [
    "## Reference\n",
    "[1.] [brilliantcode.net](https://www.brilliantcode.net/1045/numpy-tutorial-how-to-print-array/)"
   ]
  },
  {
   "cell_type": "markdown",
   "metadata": {},
   "source": [
    "## Import NumPy"
   ]
  },
  {
   "cell_type": "code",
   "execution_count": 1,
   "metadata": {},
   "outputs": [],
   "source": [
    "import numpy as np"
   ]
  },
  {
   "cell_type": "markdown",
   "metadata": {},
   "source": [
    "\n",
    "1. 建立一個陣列，並給一些初始值！\n",
    "\n",
    "\n",
    "2. 這邊分別以兩種型別 做舉例\n",
    "\n",
    "    + 整數: a\n",
    "    \n",
    "    + 浮點數: b"
   ]
  },
  {
   "cell_type": "code",
   "execution_count": 5,
   "metadata": {},
   "outputs": [
    {
     "name": "stdout",
     "output_type": "stream",
     "text": [
      "整數: a  => [1 2 3 4 5]\n",
      "a.dtype => int64\n"
     ]
    }
   ],
   "source": [
    "# 整數\n",
    "# array 採用（[]）\n",
    "a = np.array([1, 2, 3, 4, 5])  \n",
    "\n",
    "print(\"整數: a  => {0}\".format(a))\n",
    "print(\"a.dtype => {0}\".format(a.dtype))"
   ]
  },
  {
   "cell_type": "code",
   "execution_count": 7,
   "metadata": {},
   "outputs": [
    {
     "name": "stdout",
     "output_type": "stream",
     "text": [
      "浮點數: b => [1.25 2.25 3.25 4.25 5.25]\n",
      "b.dtype => float64\n"
     ]
    }
   ],
   "source": [
    "# 浮點數\n",
    "# array 採用（[]）\n",
    "b = np.array([1.25, 2.25, 3.25, 4.25, 5.25])  \n",
    "\n",
    "print(\"浮點數: b => {0}\".format(b))\n",
    "print(\"b.dtype => {0}\".format(b.dtype))"
   ]
  },
  {
   "cell_type": "markdown",
   "metadata": {},
   "source": [
    "## 重要屬性\n",
    " - **ndarray.ndim**：NumPy ndarray物件的 **維度**\n",
    "\n",
    "\n",
    " - **ndarry.shape**：ndarry物件的每一個維度的 **大小(size)**，回傳資料類別為 **Tuple**\n",
    "\n",
    "\n",
    " - **ndarry.size**：\n",
    " \n",
    "    + ndarry物件所組成之 array 的**總元素數量**\n",
    "    \n",
    "    + 回應之數值會等於ndarray.shape的每個元素相乘\n",
    "\n",
    "\n",
    " - **ndarry.dtype**：ndarray物件內組成元素的型態\n",
    "\n",
    "\n",
    " - **ndarray.itemsize**：陣列中每一個元素的大小(Bytes) \n",
    "   + ex: int16 => 16/8 = 2 Bytes\n",
    "\n",
    " - **ndarry.data**：\n",
    " \n",
    "   + 這是一個存有**實際**陣列元素的**緩衝**\n",
    "   \n",
    "   + 通常我們不需要使用這個屬性，因為我們可以使用 **index** 存取這些元素。"
   ]
  },
  {
   "cell_type": "code",
   "execution_count": 9,
   "metadata": {},
   "outputs": [
    {
     "name": "stdout",
     "output_type": "stream",
     "text": [
      "ndim:2\n",
      "shape:(2, 3)\n",
      "size:6\n",
      "dtype:int16\n",
      "itemsize:2\n",
      "data:<memory at 0x1177f1dc8>\n"
     ]
    }
   ],
   "source": [
    "c = np.array([(1.9, 1.5, 1.3), (2.9, 2.5, 2.3)], dtype=np.int16)\n",
    "\n",
    "# ndarray.ndim\n",
    "print(\"ndim:{0}\".format(c.ndim))\n",
    "# ndarry.shape\n",
    "print(\"shape:{0}\".format(c.shape))\n",
    "# ndarry.size\n",
    "print(\"size:{0}\".format(c.size))\n",
    "# ndarry.dtype\n",
    "print(\"dtype:{0}\".format(c.dtype))\n",
    "# ndarray.itemsize\n",
    "print(\"itemsize:{0}\".format(c.itemsize))\n",
    "# ndarry.data\n",
    "print(\"data:{0}\".format(c.data))\n"
   ]
  },
  {
   "cell_type": "markdown",
   "metadata": {},
   "source": [
    "# 1 維陣列\n",
    "\n",
    " - np.array( [ <陣列元素用**逗號**隔開> ] )：簡易一維陣列\n",
    " \n",
    " \n",
    " - np.arange( 起始值, 結束值, 步幅, 資料型別 )：也是產生一維陣列 \n",
    " \n",
    " \n",
    " #### np.array() 的差別在於arange擁有較大的彈性，而且元素數值是自動化產生！\n",
    "\n"
   ]
  },
  {
   "cell_type": "code",
   "execution_count": 22,
   "metadata": {},
   "outputs": [
    {
     "name": "stdout",
     "output_type": "stream",
     "text": [
      "==========\t\n",
      "  1維陣列\t\n",
      "==========\n",
      "\n",
      "---陣列元素用逗號隔開--\n",
      "a => [6 5 4 3 2]\n",
      "---陣列元素從 0~9----\n",
      "b => [0 1 2 3 4 5 6 7 8 9]\n",
      "--陣列從 0~9, by 1.5-\n",
      "c => [0.  1.5 3.  4.5 6.  7.5 9. ]\n"
     ]
    }
   ],
   "source": [
    "\n",
    "print(\"==========\\t\")\n",
    "print(\"  1維陣列\\t\")\n",
    "print(\"==========\\n\")\n",
    "\n",
    "\n",
    "print(\"---陣列元素用逗號隔開--\")\n",
    "a = np.array([6, 5, 4, 3, 2])\n",
    "print(\"a => {0}\".format(a))\n",
    "print(\"---陣列元素從 0~9----\")\n",
    "b = np.arange(10)\n",
    "print(\"b => {0}\".format(b))\n",
    "print(\"--陣列從 0~9, by 1.5-\")\n",
    "c = np.arange(0, 10, 1.5, dtype = np.float64)\n",
    "print(\"c => {0}\".format(c))"
   ]
  },
  {
   "cell_type": "markdown",
   "metadata": {},
   "source": [
    "# 2 維陣列\n",
    " - 生簡易二維陣列\n",
    "   + np.array( [[ <Row1陣列元素> ], [ <Row2陣列元素> ]] )\n",
    "\n"
   ]
  },
  {
   "cell_type": "code",
   "execution_count": 24,
   "metadata": {},
   "outputs": [
    {
     "name": "stdout",
     "output_type": "stream",
     "text": [
      "b2 => [[1.1 1.2 1.3]\n",
      " [2.1 2.2 2.3]]\n"
     ]
    }
   ],
   "source": [
    "## 2維陣列 2-by-3 array\n",
    "\n",
    "b2 = np.array([\n",
    "    [1.1, 1.2, 1.3],\n",
    "    [2.1, 2.2, 2.3]\n",
    "])\n",
    "\n",
    "print(\"b2 => {0}\".format(b2))"
   ]
  },
  {
   "cell_type": "markdown",
   "metadata": {},
   "source": [
    "# 指定陣列型別\n",
    "\n",
    " - 產生型別為 int 的陣列\n",
    " \n",
    " \n",
    "   + np.array( [[ <Row1陣列元素> ], [ <Row2陣列元素> ]], dtype = np.int16 )：\n",
    " \n",
    " \n",
    "   + 主要是 \"後面的 dtype\" 指定修改"
   ]
  },
  {
   "cell_type": "code",
   "execution_count": 30,
   "metadata": {},
   "outputs": [
    {
     "name": "stdout",
     "output_type": "stream",
     "text": [
      "a2 => [[1 1 1]\n",
      " [2 2 2]]\n",
      "\n",
      "a2.dtype => int64\n",
      "\n"
     ]
    }
   ],
   "source": [
    "## Assign a particular data type to an array\n",
    "\n",
    "a2 = np.array([\n",
    "   [1.9, 1.5, 1.3],[2.9, 2.5, 2.3] \n",
    "], dtype = np.int64)  \n",
    "\n",
    "print(\"a2 => {0}\".format(a2))\n",
    "print()\n",
    "print(\"a2.dtype => {0}\".format(a2.dtype))\n",
    "print()"
   ]
  },
  {
   "cell_type": "markdown",
   "metadata": {},
   "source": [
    "# 複數陣列 (Complex)\n",
    "\n",
    "\n",
    " \n",
    " - 用 dtype = complex 指定陣列元素為複數\n",
    " \n",
    " \n",
    " - 把陣列元素用 **複數表示法** 指定就好了：\n",
    " \n",
    "   + 實部+虛部 j\n",
    " \n",
    " "
   ]
  },
  {
   "cell_type": "code",
   "execution_count": 34,
   "metadata": {},
   "outputs": [
    {
     "name": "stdout",
     "output_type": "stream",
     "text": [
      "c1 => [[1.1+0.j 1.2+0.j 1.3+0.j]\n",
      " [2.1+0.j 2.2+0.j 2.3+0.j]]\n",
      "\n",
      "c1.dtype => complex128\n",
      "\n",
      "----------------------\n",
      "\n",
      "c2 => [2.1 +6.j 3.2 +9.j 4.3+12.j]\n",
      "\n",
      "c2.dtype => complex128\n"
     ]
    }
   ],
   "source": [
    "# case 1\n",
    "c1 = np.array([(1.1, 1.2, 1.3), (2.1, 2.2, 2.3)], dtype = \"complex\")\n",
    "\n",
    "print(\"c1 => {0}\".format(c1))\n",
    "print()\n",
    "print(\"c1.dtype => {0}\".format(c1.dtype))\n",
    "\n",
    "print(\"\\n----------------------\\n\")\n",
    "\n",
    "# case 2\n",
    "c2 = np.array([2.1+6j, 3.2+9j, 4.3+12j])\n",
    "print(\"c2 => {0}\".format(c2))\n",
    "print()\n",
    "print(\"c2.dtype => {0}\".format(c2.dtype))\n"
   ]
  },
  {
   "cell_type": "markdown",
   "metadata": {},
   "source": [
    "#  "
   ]
  },
  {
   "cell_type": "markdown",
   "metadata": {},
   "source": [
    "# 陣列常用函數"
   ]
  },
  {
   "cell_type": "markdown",
   "metadata": {},
   "source": [
    "## Zeros\n",
    " - np.zeros( (陣列各維度大小用逗號區分) )：\n",
    "   + 建立全為 0 的陣列，可以小括號定義陣列的各個維度的大小！\n",
    " \n",
    "## Ones\n",
    " - np.ones( (陣列各維度大小用逗號區分) )：\n",
    "   + 建立全為 1 的陣列，可以小括號定義陣列的各個維度的大小！\n",
    "\n",
    "## Empty\n",
    " - np.empty( (陣列各維度大小用逗號區分) )：\n",
    "   + 用法與 np.zeros 一樣\n",
    "   \n",
    "   + 但唯一的差別是 NumPy **不會初始化陣列內元素的初始值**，所以**內容將會是不確定的**。\n",
    "   \n",
    "## Linspace\n",
    " - np.linspace( 起始值, 結束值, 起始與結束的區間內要產生幾個元素 )：\n",
    "    + 畫線時還蠻常用到\n",
    "    + 只要給定 **陣列的區間** (起始值、結束值)，就可以要求在這個區間內產生幾個元素！"
   ]
  },
  {
   "cell_type": "code",
   "execution_count": 46,
   "metadata": {},
   "outputs": [
    {
     "name": "stdout",
     "output_type": "stream",
     "text": [
      "--------zeros--------\n",
      "zeros =>[[0. 0. 0. 0. 0.]\n",
      " [0. 0. 0. 0. 0.]\n",
      " [0. 0. 0. 0. 0.]]\n",
      "\n",
      "\n",
      "\n",
      "\n",
      "--------Ones--------\n",
      "ones =>[[1. 1. 1. 1. 1.]\n",
      " [1. 1. 1. 1. 1.]\n",
      " [1. 1. 1. 1. 1.]]\n",
      "\n",
      "\n",
      "\n",
      "\n",
      "--------Empty--------\n",
      "empty =>[[0.0e+000 4.9e-324 9.9e-324 1.5e-323 2.0e-323]\n",
      " [2.5e-323 3.0e-323 3.5e-323 4.0e-323 4.4e-323]]\n",
      "\n",
      "\n",
      "\n",
      "\n",
      "------Linspace------\n",
      "lin => [3.   3.25 3.5  3.75 4.   4.25 4.5  4.75 5.  ]\n",
      "lin =>\n",
      " [3.   3.25 3.5  3.75 4.   4.25 4.5  4.75 5.  ]\n"
     ]
    }
   ],
   "source": [
    "print(\"--------zeros--------\")\n",
    "## zeros\n",
    "zeros = np.zeros( (3, 5) )\n",
    "print(\"zeros =>{0}\".format(zeros))\n",
    "\n",
    "print(\"\\n\")\n",
    "\n",
    "\n",
    "print(\"\\n\\n--------Ones--------\")\n",
    "## Ones\n",
    "ones = np.ones( (3, 5) )\n",
    "print(\"ones =>{0}\".format(ones))\n",
    "\n",
    "\n",
    "print(\"\\n\")\n",
    "\n",
    "print(\"\\n\\n--------Empty--------\")\n",
    "## Empty\n",
    "## It means that we want to declare a uninitialized matrix.\n",
    "empty = np.empty( (2, 5) )\n",
    "print(\"empty =>{0}\".format(empty))\n",
    "\n",
    "\n",
    "print(\"\\n\")\n",
    "\n",
    "\n",
    "\n",
    "\n",
    "\n",
    "\n",
    "print(\"\\n\\n------Linspace------\")\n",
    "## Linspace\n",
    "lin = np.linspace(3, 5, 9)          # 起始：3, 終點：5, 此區間[3,5]之間要產生幾個元素：9\n",
    "print(\"lin => {0}\".format(lin))     \n",
    "print(\"lin =>\\n {0}\".format(lin))   # add \\n 表示換行"
   ]
  },
  {
   "cell_type": "code",
   "execution_count": null,
   "metadata": {},
   "outputs": [],
   "source": []
  }
 ],
 "metadata": {
  "kernelspec": {
   "display_name": "Python 3",
   "language": "python",
   "name": "python3"
  },
  "language_info": {
   "codemirror_mode": {
    "name": "ipython",
    "version": 3
   },
   "file_extension": ".py",
   "mimetype": "text/x-python",
   "name": "python",
   "nbconvert_exporter": "python",
   "pygments_lexer": "ipython3",
   "version": "3.7.3"
  }
 },
 "nbformat": 4,
 "nbformat_minor": 2
}
