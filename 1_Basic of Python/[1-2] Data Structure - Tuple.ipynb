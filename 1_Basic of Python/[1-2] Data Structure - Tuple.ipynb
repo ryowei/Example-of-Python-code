{
 "cells": [
  {
   "cell_type": "markdown",
   "metadata": {},
   "source": [
    "## Reference\n",
    "[1]. [https://www.brilliantcode.net](https://www.brilliantcode.net/713/python3-6-list-tuple-set-dictionary/)\n",
    "\n",
    "\n",
    " - Tuple 跟 List 很像，但一經宣告之後，便**無法修改內容！**\n",
    "\n"
   ]
  },
  {
   "cell_type": "markdown",
   "metadata": {},
   "source": [
    "## Tuple 主要使用 小括弧 （）"
   ]
  },
  {
   "cell_type": "code",
   "execution_count": 12,
   "metadata": {},
   "outputs": [
    {
     "name": "stdout",
     "output_type": "stream",
     "text": [
      "---------------\n",
      "  Example\n",
      "---------------\n",
      "(1, 2, 3, 4, 5)\n",
      "\n",
      "                     Table\n",
      "--------------------------------------------------\n",
      "value: [1]   2   3   4   5 \t\n",
      "index: (0)   1   2   3   4 \t\n",
      "--------------------------------------------------\n",
      "[]: 表示 value\t\n",
      "(): 表示 index\n",
      "\n",
      "\n",
      "----------------------------------\n",
      " 用中括號 [index] 來顯示 value 在哪裡\n",
      "----------------------------------\n",
      "t_1[0] ==> 1\n"
     ]
    }
   ],
   "source": [
    "print(\"---------------\")\n",
    "print(\"  Example\")\n",
    "print(\"---------------\")\n",
    "t_1 = (1,2,3,4,5)\n",
    "\n",
    "print(t_1)\n",
    "\n",
    "\n",
    "print(\"\\n                     Table\")\n",
    "print(\"--------------------------------------------------\")\n",
    "print(\"value: [1]   2   3   4   5 \\t\") # value\n",
    "print(\"index: (0)   1   2   3   4 \\t\") # index\n",
    "print(\"--------------------------------------------------\")\n",
    "\n",
    "print(\"[]: 表示 value\\t\")\n",
    "print(\"(): 表示 index\")\n",
    "\n",
    "\n",
    "\n",
    "\n",
    "\n",
    "print(\"\\n\")\n",
    "\n",
    "print(\"----------------------------------\")\n",
    "print(\" 用中括號 [index] 來顯示 value 在哪裡\")\n",
    "print(\"----------------------------------\")\n",
    "print(\"t_1[0] ==> {0}\".format(t_1[0]))"
   ]
  },
  {
   "cell_type": "markdown",
   "metadata": {},
   "source": [
    "## 如果需要將 list 轉型成 tuple 可以用『tuple(變數)』來完成轉型！"
   ]
  },
  {
   "cell_type": "code",
   "execution_count": 11,
   "metadata": {},
   "outputs": [
    {
     "name": "stdout",
     "output_type": "stream",
     "text": [
      "-------------------\n",
      "  Example of List\n",
      "-------------------\n",
      "檢查資料目前型態\n",
      "<class 'list'>\n",
      "\n",
      "\n",
      "-------------------\n",
      "  convert to tuple\n",
      "-------------------\n",
      "檢查資料目前型態\n",
      "<class 'tuple'>\n"
     ]
    }
   ],
   "source": [
    "print(\"-------------------\")\n",
    "print(\"  Example of List\")\n",
    "print(\"-------------------\")\n",
    "list_1 = [1,2,3,4]\n",
    "\n",
    "print(\"檢查資料目前型態\")\n",
    "print( type( list_1) )\n",
    "\n",
    "print(\"\\n\")\n",
    "\n",
    "print(\"-------------------\")\n",
    "print(\"  convert to tuple\")\n",
    "print(\"-------------------\")\n",
    "\n",
    "# 這是轉換的動作\n",
    "tuple_1 = tuple(list_1)\n",
    "\n",
    "print(\"檢查資料目前型態\")\n",
    "print( type(tuple_1) )\n"
   ]
  },
  {
   "cell_type": "code",
   "execution_count": null,
   "metadata": {},
   "outputs": [],
   "source": []
  }
 ],
 "metadata": {
  "kernelspec": {
   "display_name": "Python 3",
   "language": "python",
   "name": "python3"
  },
  "language_info": {
   "codemirror_mode": {
    "name": "ipython",
    "version": 3
   },
   "file_extension": ".py",
   "mimetype": "text/x-python",
   "name": "python",
   "nbconvert_exporter": "python",
   "pygments_lexer": "ipython3",
   "version": "3.7.3"
  }
 },
 "nbformat": 4,
 "nbformat_minor": 2
}
