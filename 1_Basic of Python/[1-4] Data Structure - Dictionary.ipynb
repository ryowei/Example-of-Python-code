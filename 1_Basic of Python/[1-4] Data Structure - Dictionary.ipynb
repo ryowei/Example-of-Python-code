{
 "cells": [
  {
   "cell_type": "markdown",
   "metadata": {},
   "source": [
    "## Reference\n",
    "[1]. [https://www.brilliantcode.net](https://www.brilliantcode.net/713/python3-6-list-tuple-set-dictionary/)\n",
    "\n",
    " - 字典 (Dictionary)，算是很經典的資料結構之一。\n",
    " \n",
    " \n",
    " - Dictionary 有點像 data.frame?\n",
    " \n",
    " \n",
    " - Dictionary {key1: value1, key2: value2}\n",
    " \n",
    " \n",
    " - 使用 **大括號  { } ** 宣告字典即可。"
   ]
  },
  {
   "cell_type": "markdown",
   "metadata": {},
   "source": [
    "## 宣告 (Declare)"
   ]
  },
  {
   "cell_type": "code",
   "execution_count": 91,
   "metadata": {},
   "outputs": [
    {
     "name": "stdout",
     "output_type": "stream",
     "text": [
      "----------------------\n",
      "Declare the dictionary\n",
      "----------------------\n",
      "{'Apple': 16, 'Banana': 9, 'Coconut': 34, 'Dragon Fruit': 39}\n"
     ]
    }
   ],
   "source": [
    "print(\"----------------------\")\n",
    "print(\"Declare the dictionary\")\n",
    "print(\"----------------------\")\n",
    "\n",
    "dict_fruit = {\n",
    "    \"Apple\": 16,\n",
    "    \"Banana\": 9,\n",
    "    \"Coconut\":34,\n",
    "    \"Dragon Fruit\":39}\n",
    "\n",
    "\n",
    "print(dict_fruit)\n"
   ]
  },
  {
   "cell_type": "markdown",
   "metadata": {},
   "source": [
    "## Change the numeric (修改數值)\n",
    "\n",
    " - 若要提取 '變數/variable/**key**' 所對應的 '值/**value**'\")\n",
    "\n",
    " > print(\"則用 dict['變數名稱']\")"
   ]
  },
  {
   "cell_type": "code",
   "execution_count": 60,
   "metadata": {},
   "outputs": [
    {
     "name": "stdout",
     "output_type": "stream",
     "text": [
      "----------------------\n",
      "       Original       \n",
      "----------------------\t\n",
      "dict_fruit['Apple'] ==> 45\n",
      "\n",
      "\n",
      "----------------------\n",
      "  Change the numeric  \n",
      "  直接 insert 進去就好  \n",
      "----------------------\t\n",
      "This is input:\n",
      "dict_fruit['Apple'] = 45 \n",
      "\t\n",
      "This is output:\n"
     ]
    },
    {
     "data": {
      "text/plain": [
       "45"
      ]
     },
     "execution_count": 60,
     "metadata": {},
     "output_type": "execute_result"
    }
   ],
   "source": [
    "print(\"----------------------\")\n",
    "print(\"       Original       \")\n",
    "print(\"----------------------\\t\")\n",
    "\n",
    "print(\"dict_fruit['Apple'] ==> {0}\".format(dict_fruit['Apple']))\n",
    "\n",
    "\n",
    "print(\"\\n\\n----------------------\")\n",
    "print(\"  Change the numeric  \")\n",
    "print(\"  直接 insert 進去就好  \")\n",
    "print(\"----------------------\\t\")\n",
    "dict_fruit['Apple'] = 45 \n",
    "\n",
    "print(\"This is input:\")\n",
    "print(\"dict_fruit['Apple'] = 45 \")\n",
    "\n",
    "print(\"\\t\")\n",
    "\n",
    "print(\"This is output:\")\n",
    "dict_fruit['Apple']"
   ]
  },
  {
   "cell_type": "markdown",
   "metadata": {},
   "source": [
    "## 字典 Key 清單\n",
    "\n",
    " - 取出字典內的 **Key** 值"
   ]
  },
  {
   "cell_type": "code",
   "execution_count": 63,
   "metadata": {},
   "outputs": [
    {
     "data": {
      "text/plain": [
       "dict_keys(['Apple', 'Banana', 'Coconut', 'Dragon Fruit'])"
      ]
     },
     "execution_count": 63,
     "metadata": {},
     "output_type": "execute_result"
    }
   ],
   "source": [
    "dict_fruit.keys()"
   ]
  },
  {
   "cell_type": "markdown",
   "metadata": {},
   "source": [
    "## 將 dictionary 的 key 值 轉換成 list, 並存入 list_fruit 變數中"
   ]
  },
  {
   "cell_type": "code",
   "execution_count": 67,
   "metadata": {},
   "outputs": [
    {
     "name": "stdout",
     "output_type": "stream",
     "text": [
      "['Apple', 'Banana', 'Coconut', 'Dragon Fruit']\n"
     ]
    }
   ],
   "source": [
    "list_fruit = list(dict_fruit.keys())\n",
    "\n",
    "print(list_fruit)"
   ]
  },
  {
   "cell_type": "markdown",
   "metadata": {},
   "source": [
    "## 確認字典是否存在某特定 Key\n",
    " > 'Lemon' in dict_fruit"
   ]
  },
  {
   "cell_type": "code",
   "execution_count": 73,
   "metadata": {},
   "outputs": [
    {
     "name": "stdout",
     "output_type": "stream",
     "text": [
      "----------------------\n",
      "       Original       \n",
      "----------------------\t\n",
      "{'Apple': 16, 'Banana': 9, 'Coconut': 34, 'Dragon Fruit': 39}\n",
      "\n",
      "\n",
      "------------------------------\n",
      "判斷「Lemon」是否存在於 dict_fruit\n",
      "------------------------------\t\n",
      "'Lemon' in dict_fruit ==> False\n"
     ]
    }
   ],
   "source": [
    "print(\"----------------------\")\n",
    "print(\"       Original       \")\n",
    "print(\"----------------------\\t\")\n",
    "\n",
    "print(dict_fruit)\n",
    "\n",
    "\n",
    "print(\"\\n\\n------------------------------\")\n",
    "print(\"判斷「Lemon」是否存在於 dict_fruit\")\n",
    "print(\"------------------------------\\t\")\n",
    "\n",
    "#  'Lemon' in dict_fruit\n",
    "\n",
    "print(\"'Lemon' in dict_fruit ==> {0}\".format('Lemon' in dict_fruit))"
   ]
  },
  {
   "cell_type": "markdown",
   "metadata": {},
   "source": [
    "## 刪除字典裡的元素 Key"
   ]
  },
  {
   "cell_type": "code",
   "execution_count": 92,
   "metadata": {},
   "outputs": [
    {
     "name": "stdout",
     "output_type": "stream",
     "text": [
      "----------------------\n",
      "       Original       \n",
      "----------------------\t\n",
      "{'Apple': 16, 'Banana': 9, 'Coconut': 34, 'Dragon Fruit': 39}\n",
      "\n",
      "\n",
      "----------------------\n",
      "      刪除 Banana      \n",
      "----------------------\t\n",
      "del dict_fruit['Banana'] ==> \n",
      "{'Apple': 16, 'Coconut': 34, 'Dragon Fruit': 39}\n"
     ]
    }
   ],
   "source": [
    "print(\"----------------------\")\n",
    "print(\"       Original       \")\n",
    "print(\"----------------------\\t\")\n",
    "\n",
    "print(dict_fruit)\n",
    "\n",
    "\n",
    "print(\"\\n\\n----------------------\")\n",
    "print(\"      刪除 Banana      \")\n",
    "print(\"----------------------\\t\")\n",
    "\n",
    "\n",
    "# 刪除 Banana 的動作\n",
    "del dict_fruit['Banana']\n",
    "\n",
    "print(\"del dict_fruit['Banana'] ==> \\n{0}\".format(dict_fruit))"
   ]
  },
  {
   "cell_type": "code",
   "execution_count": null,
   "metadata": {},
   "outputs": [],
   "source": []
  }
 ],
 "metadata": {
  "kernelspec": {
   "display_name": "Python 3",
   "language": "python",
   "name": "python3"
  },
  "language_info": {
   "codemirror_mode": {
    "name": "ipython",
    "version": 3
   },
   "file_extension": ".py",
   "mimetype": "text/x-python",
   "name": "python",
   "nbconvert_exporter": "python",
   "pygments_lexer": "ipython3",
   "version": "3.7.3"
  }
 },
 "nbformat": 4,
 "nbformat_minor": 2
}
