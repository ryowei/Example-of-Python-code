{
 "cells": [
  {
   "cell_type": "markdown",
   "metadata": {},
   "source": [
    "## Reference\n",
    "[1]. [https://www.brilliantcode.net](https://www.brilliantcode.net/713/python3-6-list-tuple-set-dictionary/)"
   ]
  },
  {
   "cell_type": "markdown",
   "metadata": {},
   "source": [
    "## 從零開始學習 Python 的完整筆記：\n",
    "\n",
    "#### Python教學：\n",
    "\n",
    " - 變數使用\n",
    " \n",
    " \n",
    " - 流程控制(for, while, if)\n",
    " \n",
    " \n",
    " - 資料結構(List, Dictionary, Truple, Set)\n",
    " \n",
    " \n",
    " - 模組(import)\n",
    " \n",
    " \n",
    " - 檔案編輯(open, write, read, JSON)\n",
    " \n",
    " \n",
    " - 錯誤處理(Try-catch)\n",
    " \n",
    " \n",
    " - 顯示(print, format, repr, codec)\n",
    " \n",
    " \n",
    " - 類別(建構子, 繼承, 覆載, 多型, 特殊用法)\n",
    " \n",
    " \n",
    "\n",
    "\n",
    "#### NumPy教學：(#01~#09)\n",
    "\n",
    " - 建立陣列 (array) / 矩陣 (matrix)\n",
    " \n",
    " \n",
    " - 客製輸出 (set_printoptions)\n",
    " \n",
    " \n",
    " - 矩陣乘法 (dot)\n",
    " \n",
    " \n",
    " - 矩陣索引 (indexing)\n",
    " \n",
    " \n",
    " - 矩陣切片 (slicing)\n",
    " \n",
    " \n",
    " - 重新塑形 (reshpe)\n",
    " \n",
    " \n",
    " - 矩陣堆疊 (stacking)\n",
    " \n",
    " \n",
    " - 矩陣分割 (splitting)\n",
    " \n",
    " \n",
    " - 檢視 (view)\n",
    " \n",
    " \n",
    " - 深度拷貝 (deep copy)\n",
    " \n",
    " \n",
    " - 使用 **陣列**選取矩陣內容、**布林矩陣**選取矩陣內容**\n",
    " \n",
    " \n",
    " - ix_函數\n",
    " \n",
    " \n",
    " - 重製 (repeat/tile)\n",
    " \n",
    " \n",
    " - 堆疊 (hstack/vstack)\n",
    " \n",
    " \n",
    " - 線性代數 . . .\n",
    "\n",
    "\n"
   ]
  },
  {
   "cell_type": "code",
   "execution_count": 1,
   "metadata": {},
   "outputs": [
    {
     "name": "stdout",
     "output_type": "stream",
     "text": [
      "Hello the world,and welcome to join the Python!\n"
     ]
    }
   ],
   "source": [
    "# 學程式一開始就會有這句話\n",
    "\n",
    "print(\"Hello the world,and welcome to join the Python!\")"
   ]
  },
  {
   "cell_type": "markdown",
   "metadata": {},
   "source": [
    "## Mathematical Operation"
   ]
  },
  {
   "cell_type": "code",
   "execution_count": 2,
   "metadata": {},
   "outputs": [
    {
     "name": "stdout",
     "output_type": "stream",
     "text": [
      "5 的 2平方: 5 ** 2 = 25\n",
      "2 的 7平方: 2 ** 7 = 128\n"
     ]
    }
   ],
   "source": [
    "#### 次方的運算子是『**』 ####\n",
    "\n",
    "print(\"5 的 2平方: 5 ** 2 = {0}\".format(5**2))\n",
    "\n",
    "print(\"2 的 7平方: 2 ** 7 = {0}\".format(2**7))"
   ]
  },
  {
   "cell_type": "code",
   "execution_count": 3,
   "metadata": {},
   "outputs": [
    {
     "name": "stdout",
     "output_type": "stream",
     "text": [
      "17 除以 3 取整數位數: 17 // 3 = 5\n",
      "7 除以 2 取整數位數: 7 // 2 = 3\n"
     ]
    }
   ],
   "source": [
    "#### 浮點數除法，只取整數部位 ####\n",
    "\n",
    "print(\"17 除以 3 取整數位數: 17 // 3 = {0}\".format(17//3)) #5\n",
    "\n",
    "print(\"7 除以 2 取整數位數: 7 // 2 = {0}\".format(7//2)) #3"
   ]
  },
  {
   "cell_type": "markdown",
   "metadata": {},
   "source": [
    "## String Operation"
   ]
  },
  {
   "cell_type": "markdown",
   "metadata": {},
   "source": [
    "###   重複字串"
   ]
  },
  {
   "cell_type": "code",
   "execution_count": 4,
   "metadata": {},
   "outputs": [
    {
     "name": "stdout",
     "output_type": "stream",
     "text": [
      "I am vary hungry.\n",
      "I'am very very very hungry.\n"
     ]
    }
   ],
   "source": [
    "print('I am vary hungry.')\n",
    "\n",
    "# 在這裡用三種不同的 string 再用 + 把它們串起來。\n",
    "print('I\\'am' + 3 * ' very' + ' hungry.')   #重複3次『 very』"
   ]
  },
  {
   "cell_type": "markdown",
   "metadata": {},
   "source": [
    "###   字串 index 切片"
   ]
  },
  {
   "cell_type": "code",
   "execution_count": 5,
   "metadata": {},
   "outputs": [
    {
     "name": "stdout",
     "output_type": "stream",
     "text": [
      " +---+---+---+---+---+---+\t\n",
      " | P | y | t | h | o | n |\t\n",
      " +---+---+---+---+---+---+\t\n",
      " 0   1   2   3   4   5   6\t\n",
      "-6  -5  -4  -3  -2  -1    \t\n"
     ]
    }
   ],
   "source": [
    "print(\" +---+---+---+---+---+---+\\t\")\n",
    "print(\" | P | y | t | h | o | n |\\t\")\n",
    "print(\" +---+---+---+---+---+---+\\t\")\n",
    "print(\" 0   1   2   3   4   5   6\\t\")\n",
    "print(\"-6  -5  -4  -3  -2  -1    \\t\") "
   ]
  },
  {
   "cell_type": "code",
   "execution_count": 6,
   "metadata": {},
   "outputs": [
    {
     "name": "stdout",
     "output_type": "stream",
     "text": [
      "Python\n",
      "Py\n",
      "ho\n"
     ]
    }
   ],
   "source": [
    "str = 'Python'\n",
    "\n",
    "print(str[0:6]) #//// I guess Python (2019/08/31)\n",
    "\n",
    "print(str[0:2]) #//// I guess Py (2019/08/31)\n",
    "\n",
    "print(str[-3:-1]) #//// I guess ho (2019/08/31)"
   ]
  },
  {
   "cell_type": "code",
   "execution_count": 7,
   "metadata": {},
   "outputs": [
    {
     "name": "stdout",
     "output_type": "stream",
     "text": [
      "iPhone\n",
      "hone is a good product.\n"
     ]
    }
   ],
   "source": [
    "str = 'iPhone is a good product.'\n",
    "\n",
    "print(str[:6])   #從頭開始到第6個切片 //// I guess \"iPhone\" (2019/08/31)\n",
    "\n",
    "print(str[2:])   #第2個切片往後數，開始到字串尾端『str[2:]』 //// I guess \"hone is a good product.\" (2019/08/29)"
   ]
  },
  {
   "cell_type": "markdown",
   "metadata": {},
   "source": [
    "## Flow Control\n",
    "\n",
    " - If elif else\n",
    " \n",
    " - Python 沒有 Switch..Case\n",
    " \n",
    " - For loop\n",
    " \n",
    " - While loop"
   ]
  },
  {
   "cell_type": "markdown",
   "metadata": {},
   "source": [
    "### If elif else"
   ]
  },
  {
   "cell_type": "code",
   "execution_count": 8,
   "metadata": {},
   "outputs": [
    {
     "name": "stdout",
     "output_type": "stream",
     "text": [
      "Alright !\n"
     ]
    }
   ],
   "source": [
    "if 'Apple'=='Apple':\n",
    "    print('Alright !')\n",
    "elif 1==1:\n",
    "    print('Equal !')\n",
    "else:\n",
    "    print('Else')"
   ]
  },
  {
   "cell_type": "markdown",
   "metadata": {},
   "source": [
    "### For loop\n",
    " -  下列程式相當於\n",
    "\n",
    "    + for( i = 0;  i < 10;  i++){ print(i) }\n",
    "\n",
    "    "
   ]
  },
  {
   "cell_type": "code",
   "execution_count": 9,
   "metadata": {},
   "outputs": [
    {
     "name": "stdout",
     "output_type": "stream",
     "text": [
      "0 1 2 3 4 5 6 7 8 9 "
     ]
    }
   ],
   "source": [
    "for i in range(10):\n",
    "    print(i, end = \" \")"
   ]
  },
  {
   "cell_type": "markdown",
   "metadata": {},
   "source": [
    "### range 的使用介紹，可搭配 for loop 使用\n",
    "\n",
    "  - range(a,b) means that\n",
    "      + [a,b) \n",
    "      + [a, b-1]\n",
    "  \n",
    "  \n",
    "  \n",
    "  - range(a) means that\n",
    "      + [0,a)\n",
    "      + [0, a-1]\n",
    "      \n",
    "      \n",
    "  - range(a, b, 2) means that\n",
    "      + a, a+2,a+4, a+6, ..., a+2*k < b"
   ]
  },
  {
   "cell_type": "code",
   "execution_count": 6,
   "metadata": {},
   "outputs": [
    {
     "name": "stdout",
     "output_type": "stream",
     "text": [
      "list(range(10)): [0, 1, 2, 3, 4, 5, 6, 7, 8, 9]\n",
      "list(range(1, 11)): [1, 2, 3, 4, 5, 6, 7, 8, 9, 10]\n",
      "list(range(0, 30, 5)): [0, 5, 10, 15, 20, 25]\n",
      "list(range(0, 10, 3)): [0, 3, 6, 9]\n",
      "list(range(0, -10, -1)): [0, -1, -2, -3, -4, -5, -6, -7, -8, -9]\n",
      "\t\n",
      "============\n",
      "Special Case\n",
      "============\n",
      "list(range(0)): []\n",
      "list(range(1, 0)): []\n"
     ]
    }
   ],
   "source": [
    "print(\"list(range(10)): {0}\".format(list(range(10))))\n",
    "\n",
    "print(\"list(range(1, 11)): {0}\".format(list(range(1, 11))))\n",
    "\n",
    "print(\"list(range(0, 30, 5)): {0}\".format(list(range(0, 30, 5))))\n",
    "\n",
    "print(\"list(range(0, 10, 3)): {0}\".format(list(range(0, 10, 3))))\n",
    "\n",
    "print(\"list(range(0, -10, -1)): {0}\".format(list(range(0, -10, -1))))\n",
    "\n",
    "\n",
    "print(\"\\t\")\n",
    "print(\"============\")\n",
    "print(\"Special Case\")\n",
    "print(\"============\")\n",
    "\n",
    "print(\"list(range(0)): {0}\".format(list(range(0))))            \n",
    "print(\"list(range(1, 0)): {0}\".format(list(range(1, 0))))      "
   ]
  },
  {
   "cell_type": "markdown",
   "metadata": {},
   "source": [
    "### While loop"
   ]
  },
  {
   "cell_type": "code",
   "execution_count": 11,
   "metadata": {},
   "outputs": [
    {
     "name": "stdout",
     "output_type": "stream",
     "text": [
      "0 1 2 3 4 "
     ]
    }
   ],
   "source": [
    "i = 0\n",
    "while i < 5:\n",
    "    print(i, end = \" \")\n",
    "    i += 1 #//// += means that a = a+b"
   ]
  },
  {
   "cell_type": "markdown",
   "metadata": {},
   "source": [
    "## Reference\n",
    "[1]. [brilliantcode.net](https://www.brilliantcode.net/693/python-3-6-interpreter-calculator-control-flow/)"
   ]
  }
 ],
 "metadata": {
  "kernelspec": {
   "display_name": "Python 3",
   "language": "python",
   "name": "python3"
  },
  "language_info": {
   "codemirror_mode": {
    "name": "ipython",
    "version": 3
   },
   "file_extension": ".py",
   "mimetype": "text/x-python",
   "name": "python",
   "nbconvert_exporter": "python",
   "pygments_lexer": "ipython3",
   "version": "3.7.3"
  }
 },
 "nbformat": 4,
 "nbformat_minor": 2
}
