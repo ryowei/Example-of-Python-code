{
 "cells": [
  {
   "cell_type": "markdown",
   "metadata": {},
   "source": [
    "## Reference\n",
    "[1.] [https://www.brilliantcode.net](https://www.brilliantcode.net/761/python-3-6-class/)"
   ]
  },
  {
   "cell_type": "markdown",
   "metadata": {},
   "source": [
    "## Class 類別相關語法：\n",
    "\n",
    "#### Python Class\n",
    "\n",
    " - 繼承\n",
    " \n",
    " \n",
    " \n",
    " - 多型\n",
    " \n",
    " \n",
    " \n",
    " - 封裝\n",
    " \n",
    " \n",
    " \n",
    " - 建構子\n",
    " \n",
    " \n",
    " \n",
    " - 變數 \n",
    " \n",
    " \n",
    " \n",
    " - 父類別的屬性/方法如何使用\n",
    " \n",
    " \n",
    " \n",
    " - 覆載的語法??\n",
    "\n",
    "> Python 也是 **物件導向程式語言**，在學習這個部分時，可以帶入 Java 的觀念來記憶會更深刻喔！\n",
    "\n",
    ">(以下語法皆以Python 3.6 撰寫。)"
   ]
  },
  {
   "cell_type": "markdown",
   "metadata": {},
   "source": [
    "# Class\n",
    "\n",
    "\n",
    " - 使用 class \"關鍵字 keyword\" 來完成 \"類別的結構\"\n",
    "\n",
    "\n",
    " - **定義類別**的語法『 class 類別名稱: 』\n",
    " \n",
    " \n",
    "    + class:\n",
    " \n",
    " \n",
    " - **宣告物件**的方法『 物件名稱 = 類別建構子名稱 (參數) 』\n",
    " \n",
    " \n",
    "    + object = class(parameter)\n",
    " \n",
    " \n",
    " "
   ]
  },
  {
   "cell_type": "code",
   "execution_count": 2,
   "metadata": {},
   "outputs": [],
   "source": [
    "class FirstClass:\n",
    "    \n",
    "    # ---interrupt the class---\n",
    "    \"\"\"My First class in Python.\"\"\"\n",
    "    \n",
    "    \n",
    "    \n",
    "    # ---public variable (公開變數)---\n",
    "    str = \"Apple\" \n",
    "    \n",
    "    \n",
    "    # ---public function (公開函數)---\n",
    "    def fun(self): # 在類別 (class) 內 的函數，至少要傳入 (input) self\n",
    "        return \"Hello the World!\"\n",
    "    \n",
    "    "
   ]
  },
  {
   "cell_type": "code",
   "execution_count": 3,
   "metadata": {},
   "outputs": [
    {
     "name": "stdout",
     "output_type": "stream",
     "text": [
      "----------------------\n",
      "  my_obj 是一個宣告物件 \n",
      "----------------------\n"
     ]
    }
   ],
   "source": [
    "print(\"----------------------\")\n",
    "print(\"  my_obj 是一個宣告物件 \")\n",
    "print(\"----------------------\")\n",
    "\n",
    "# 宣告一個類別 (class) 為 FirstClass 的物件\n",
    "\n",
    "# 宣告物件 --->  object = class()\n",
    "my_obj = FirstClass() "
   ]
  },
  {
   "cell_type": "code",
   "execution_count": 4,
   "metadata": {},
   "outputs": [
    {
     "name": "stdout",
     "output_type": "stream",
     "text": [
      "Apple\n"
     ]
    }
   ],
   "source": [
    "# 使用物件 object 的 ----> 公開變數\n",
    "\n",
    "# ---public variable (公開變數)---\n",
    "print(my_obj.str)"
   ]
  },
  {
   "cell_type": "code",
   "execution_count": 5,
   "metadata": {},
   "outputs": [
    {
     "name": "stdout",
     "output_type": "stream",
     "text": [
      "<bound method FirstClass.fun of <__main__.FirstClass object at 0x1063c7dd8>>\n"
     ]
    }
   ],
   "source": [
    "# 使用物件的 ----- 公開函數\n",
    "\n",
    "# ---public function (公開函數)---\n",
    "print(my_obj.fun)"
   ]
  },
  {
   "cell_type": "markdown",
   "metadata": {},
   "source": [
    "## 建構子\n",
    "\n",
    "### 語法：\n",
    "\n",
    " > def __init__(self, 其他參數):\n",
    "\n",
    " - 在建構子裡面 **self** 也是必須傳入 (input) 的參數喔！\n",
    "\n",
    "\n",
    " - Python **不支援多建構子(multi constructor)**\n",
    "\n",
    "\n",
    " - 但是可以透過預設值的方式來達成！\n",
    "\n",
    "------------------------------------------------------\n",
    "\n",
    "> def __init__(self, \n",
    "               para1 = ”para1預設值1”, \n",
    "               para2 = ”para2預設值2″):\n",
    "\n",
    "------------------------------------------------------\n",
    " \n",
    " - 如此一來，就可以有3種宣告方式！\n",
    " \n",
    " \n",
    "\n",
    " - 使用類別自己的變數、函數都須要加上『 **self.變數名稱**』才能使用！"
   ]
  },
  {
   "cell_type": "code",
   "execution_count": 6,
   "metadata": {},
   "outputs": [],
   "source": [
    "class FirstClass:\n",
    "    \n",
    "    # description the class\n",
    "    \"\"\"My first class in python.\"\"\"\n",
    "    \n",
    "    # public variable 1\n",
    "    str1 = \"Apple\"\n",
    "    \n",
    "    # public variable 1\n",
    "    str2 = \"IBM\"\n",
    "    \n",
    "    \n",
    "    # public def__init__  ---> input: self, str1, str2\n",
    "    def __init__(self, str1 = \"參數1\", str2 = \"參數2\"):\n",
    "        self.str1 = str1\n",
    "        self.str2 = str2\n",
    "    \n",
    "    # public function\n",
    "    def fun(self):\n",
    "        return \"Hello world!\""
   ]
  },
  {
   "cell_type": "code",
   "execution_count": 7,
   "metadata": {},
   "outputs": [
    {
     "name": "stdout",
     "output_type": "stream",
     "text": [
      "\n",
      "------- Case 1 ------\n",
      "參數1\n",
      "參數2\n",
      "\n",
      "------- Case 2 ------\n",
      "我是參數1\n",
      "參數2\n",
      "\n",
      "------- Case 3 ------\n",
      "我是參數1\n",
      "我是參數2\n",
      "\n",
      "------- Case 4 ------\n",
      "Apple\n",
      "IBM\n"
     ]
    }
   ],
   "source": [
    "print(\"\\n------- Case 1 ------\")\n",
    "my_obj1 = FirstClass() # 先將 class 傳入 my_obj1\n",
    "print(my_obj1.str1)    # my_obj1.str1 代表 public variable str1\n",
    "print(my_obj1.str2)    # my_obj1.str2 代表 public variable str2\n",
    "\n",
    "\n",
    "\n",
    "\n",
    "print(\"\\n------- Case 2 ------\")\n",
    "my_obj2 = FirstClass(\"我是參數1\") \n",
    "print(my_obj2.str1)  # only input str1\n",
    "print(my_obj2.str2)  # so, str2 is default\n",
    "\n",
    "\n",
    "\n",
    "\n",
    "print(\"\\n------- Case 3 ------\")\n",
    "my_obj3 = FirstClass(\"我是參數1\", \"我是參數2\")\n",
    "print(my_obj3.str1) # input str1 at def __init__\n",
    "print(my_obj3.str2) # input str2 at def __init__\n",
    "\n",
    "\n",
    "\n",
    "\n",
    "print(\"\\n------- Case 4 ------\")\n",
    "print(FirstClass.str1) # 代表 public variable1\n",
    "print(FirstClass.str2) # 代表 public variable2"
   ]
  },
  {
   "cell_type": "markdown",
   "metadata": {},
   "source": [
    "# Class 繼承\n",
    "\n",
    "\n",
    "### 語法如下：\n",
    "\n",
    " > class 類別名稱 (父類別):\n",
    "\n",
    " - 繼承 父類別 要記得實作\n",
    "    + **父類別**的**建構子**，像是下列第 16 行那樣"
   ]
  },
  {
   "cell_type": "markdown",
   "metadata": {},
   "source": [
    "## class car\n",
    " \n",
    " \n",
    " - wheels_number:輪胎數量\n",
    " \n",
    " \n",
    " - car_doors:車門數量\n",
    " \n",
    " \n",
    " - passengers:乘客數量"
   ]
  },
  {
   "cell_type": "code",
   "execution_count": 8,
   "metadata": {},
   "outputs": [
    {
     "name": "stdout",
     "output_type": "stream",
     "text": [
      "(1) 建立 class       \t\n",
      "(2) 建立 def __init__\t\n",
      "(3) 建立 def function\t\n"
     ]
    }
   ],
   "source": [
    "\n",
    "print(\"(1) 建立 class       \\t\")\n",
    "print(\"(2) 建立 def __init__\\t\")  \n",
    "print(\"(3) 建立 def function\\t\")    \n",
    "\n",
    "class Car:\n",
    "\n",
    "    def __init__(self, \n",
    "                 wheels_number = 4, \n",
    "                     car_doors = 4, \n",
    "                    passengers = 4):\n",
    "\n",
    "        self.car_doors = car_doors   #物件導向\n",
    "        self.passengers = passengers #物件導向\n",
    "\n",
    "    def drive(self):\n",
    "        print(\"Drive a car\")\n",
    "                "
   ]
  },
  {
   "cell_type": "markdown",
   "metadata": {},
   "source": [
    "### class SUV\n",
    " \n",
    "\n",
    " - brand_name:品牌名稱\n",
    " \n",
    " \n",
    " - air_bag:安全氣囊數\n",
    " \n",
    " \n",
    " - sunroof:是否擁有天窗\n",
    " \n",
    "----------------------------- \n",
    "### Car (父）\n",
    " - SUV（子）: 是一種車子，所以 “繼承” Car"
   ]
  },
  {
   "cell_type": "code",
   "execution_count": 9,
   "metadata": {},
   "outputs": [],
   "source": [
    "# SUV 也是一種車子，所以 “繼承” car\n",
    "\n",
    "class SUV(Car):\n",
    "\n",
    "    \n",
    "    def __init__(self, \n",
    "                 wheels_number,   # for Car\n",
    "                 car_doors,       # for Car\n",
    "                 passengers,      # for Car\n",
    "                 brand_name = \"\", # for SUV\n",
    "                 air_bag = 2,     # for SUV\n",
    "                 sunroof = False):# for SUV\n",
    "        \n",
    "        \n",
    "        # super().__init__ ：表示他是父親， 最大\n",
    "        super().__init__(wheels_number, # for Car\n",
    "                         car_doors,     # for Car\n",
    "                         passengers)    # for Car\n",
    "        \n",
    "        \n",
    "        self.brand_name = brand_name    # for SUV\n",
    "        self.air_bag = air_bag          # for SUV\n",
    "        self.sunroof = sunroof          # for SUV\n",
    "        \n",
    "        \n",
    "        \n",
    "    # \"覆寫\" 父類別的 drive\n",
    "    def drive(self):\n",
    "        print(\"Drive this{0} to my vacation.\".format(self.brand_name))\n",
    "    \n",
    "    # 在 SUV 增加 function for print result\n",
    "    def getDetails(self):\n",
    "        print(\"==== Details ====\")\n",
    "        print(\"Wheels numbers:\" , self.wheels_number)     # 可直接呼叫父類別的變數(屬性)\n",
    "        print(\"Doors numbers:\"  , self.car_doors)         # 可直接呼叫父類別的變數(屬性)\n",
    "        print(\"Air-bags number:\", self.air_bag)\n",
    "        print(\"Sunroof:\"        , self.sunroof)\n",
    "        print(\"Brand:\"          , self.brand_name)\n",
    "    \n"
   ]
  },
  {
   "cell_type": "markdown",
   "metadata": {},
   "source": [
    "### Bus\n",
    "\n",
    " -  brand_name: 品牌名稱\n",
    " \n",
    " \n",
    " -  air_bag:    安全氣囊數\n",
    " \n",
    " \n",
    " -  sunroof:    是否擁有天窗\n",
    " \n",
    " ----------------------------- \n",
    "### Car (父）\n",
    " - Bus（子）: 是一種車子，所以 “繼承” Car"
   ]
  },
  {
   "cell_type": "code",
   "execution_count": 10,
   "metadata": {},
   "outputs": [],
   "source": [
    "# Bus 也是一種車子，所以 “繼承” **Car**   \n",
    "\n",
    "class Bus(Car):\n",
    "    # brand_name:品牌名稱, air_bag:安全氣囊數, sunroof:是否擁有天窗\n",
    "    def __init__(self, \n",
    "                 wheels_number,   # for Car\n",
    "                 car_doors,       # for Car\n",
    "                 passengers,      # for Car\n",
    "                 brand_name = \"\", # for Bus\n",
    "                 air_bag=0):      # for Bus \n",
    "        super().__init__(wheels_number, # for Car\n",
    "                         car_doors,     # for Car\n",
    "                         passengers)    # for Caf\n",
    "        self.brand_name = brand_name\n",
    "        self.air_bag = air_bag\n",
    " \n",
    "    # 覆寫父類別的drive\n",
    "    def drive(self):\n",
    "        print(\"Take this {0} to my vacation.\".format(self.brand_name))\n",
    "\n",
    "        \n",
    "    # 在 Bus 增加 function for print result\n",
    "    def getDetails(self):\n",
    "        print(\"==== Details ====\")\n",
    "        print(\"Brand:\", self.brand_name)\n",
    "        print(\"Wheels numbers:\", self.wheels_number) # 可直接呼叫父類別的變數(屬性)\n",
    "        print(\"Doors number:\", self.car_doors)       # 可直接呼叫父類別的變數(屬性)\n",
    "        print(\"Air-bags numbers:\", self.air_bag)\n",
    "        print(\"=================\")\n"
   ]
  },
  {
   "cell_type": "code",
   "execution_count": 14,
   "metadata": {},
   "outputs": [],
   "source": [
    "# 宣告一台 Toyota RAV 的休旅車(SUV)\n",
    "toyota_rav = SUV(4, 5, 5, \"Toyota RAV\", 4, True)\n",
    "\n",
    "# 宣告一台 BMW X5 的休旅車\n",
    "bmw_x5 = SUV(4, 5, 5, \"BMW X5\", 6, True)\n",
    "\n",
    "# 宣告一台 Volvo Bus 的巴士\n",
    "volvo_bus = Bus(4, 3, 50, \"Volvo Bus\", 0)"
   ]
  },
  {
   "cell_type": "code",
   "execution_count": 17,
   "metadata": {},
   "outputs": [
    {
     "name": "stdout",
     "output_type": "stream",
     "text": [
      "<__main__.Car object at 0x106439f60>\n",
      "<__main__.SUV object at 0x106439fd0>\n",
      "<__main__.SUV object at 0x106439b00>\n",
      "<__main__.Bus object at 0x106440c88>\n"
     ]
    }
   ],
   "source": [
    "# 宣告一台車\n",
    "Car1 = Car()\n",
    "# 宣告一台Toyota RAV的休旅車(SUV)\n",
    "toyota_rav = SUV(4, 5, 5, \"Toyota RAV\", 4, True)\n",
    "# 宣告一台BMW X5的休旅車\n",
    "bmw_x5 = SUV(4, 5, 5, \"BMW X5\", 6, True)\n",
    "# 宣告一台Volvo Bus的巴士\n",
    "volvo_bus = Bus(4, 3, 50, \"Volvo Bus\", 0)\n",
    "\n",
    "#-----------------------------\n",
    "print(Car1)\n",
    "print(toyota_rav)\n",
    "print(bmw_x5)\n",
    "print(volvo_bus)"
   ]
  },
  {
   "cell_type": "markdown",
   "metadata": {},
   "source": [
    "# 多型 "
   ]
  },
  {
   "cell_type": "code",
   "execution_count": 18,
   "metadata": {},
   "outputs": [
    {
     "name": "stdout",
     "output_type": "stream",
     "text": [
      "Drive thisToyota RAV to my vacation.\n",
      "Drive thisBMW X5 to my vacation.\n",
      "Take this Volvo Bus to my vacation.\n"
     ]
    }
   ],
   "source": [
    "# 分別呼叫各種車輛的drive()方法\n",
    "def letsDrive(cars):\n",
    "    for car in cars:\n",
    "        car.drive()\n",
    " \n",
    "letsDrive([toyota_rav, bmw_x5, volvo_bus])"
   ]
  },
  {
   "cell_type": "markdown",
   "metadata": {},
   "source": [
    "# 特殊用法\n"
   ]
  },
  {
   "cell_type": "markdown",
   "metadata": {},
   "source": [
    "please following the article:\n",
    "https://www.brilliantcode.net/761/python-3-6-class/"
   ]
  },
  {
   "cell_type": "code",
   "execution_count": null,
   "metadata": {},
   "outputs": [],
   "source": []
  }
 ],
 "metadata": {
  "kernelspec": {
   "display_name": "Python 3",
   "language": "python",
   "name": "python3"
  },
  "language_info": {
   "codemirror_mode": {
    "name": "ipython",
    "version": 3
   },
   "file_extension": ".py",
   "mimetype": "text/x-python",
   "name": "python",
   "nbconvert_exporter": "python",
   "pygments_lexer": "ipython3",
   "version": "3.7.3"
  }
 },
 "nbformat": 4,
 "nbformat_minor": 2
}
