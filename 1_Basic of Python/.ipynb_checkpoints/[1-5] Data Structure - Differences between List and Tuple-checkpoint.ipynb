{
 "cells": [
  {
   "cell_type": "markdown",
   "metadata": {},
   "source": [
    "## Reference\n",
    "[1]. [https://www.brilliantcode.net](https://www.brilliantcode.net/713/python3-6-list-tuple-set-dictionary/)\n"
   ]
  },
  {
   "cell_type": "markdown",
   "metadata": {},
   "source": [
    "我們都知道 List 和 Tuple 最大的差異是:\n",
    "\n",
    " - 在於 Tuple 的內容是創建之後就無法修改的。\n",
    " \n",
    " - List & Tuple 這兩個資料結構該怎麼運用呢？\n",
    "\n",
    "我相信 Tuple 的運用情境肯定比較困難，終於找到一個情境："
   ]
  },
  {
   "cell_type": "markdown",
   "metadata": {},
   "source": [
    "## 用 Tuple 實作 multi-key Dict"
   ]
  },
  {
   "cell_type": "code",
   "execution_count": 33,
   "metadata": {},
   "outputs": [
    {
     "name": "stdout",
     "output_type": "stream",
     "text": [
      "-------------------\n",
      "     Tuple 泛指     \n",
      "-------------------\n",
      "\n",
      "('andy','wang') \n",
      "\n",
      "('emily','chen') \n",
      "\n",
      "('john','tsai')\n"
     ]
    }
   ],
   "source": [
    "\n",
    "key_val = {('andy','wang'): 'NCU',\n",
    "           ('emily','chen'): 'NTU',\n",
    "           ('john','tsai'): 'UCLA'}\n",
    "\n",
    "\n",
    "print(\"-------------------\")\n",
    "print(\"     Tuple 泛指     \")\n",
    "print(\"-------------------\\n\")\n",
    "print(\"('andy','wang') \\n\\n('emily','chen') \\n\\n('john','tsai')\")\n"
   ]
  },
  {
   "cell_type": "code",
   "execution_count": 31,
   "metadata": {},
   "outputs": [
    {
     "name": "stdout",
     "output_type": "stream",
     "text": [
      "------------------------\n",
      "      key_val 的 Key    \n",
      "------------------------\n",
      "\n",
      "dict_keys([('andy', 'wang'), ('emily', 'chen'), ('john', 'tsai')])\n"
     ]
    }
   ],
   "source": [
    "print(\"------------------------\")\n",
    "print(\"      key_val 的 Key    \")\n",
    "print(\"------------------------\\n\")\n",
    "print(key_val.keys())"
   ]
  },
  {
   "cell_type": "markdown",
   "metadata": {},
   "source": [
    "## 將 muti-key 輸入, 其 value 為？"
   ]
  },
  {
   "cell_type": "code",
   "execution_count": 28,
   "metadata": {},
   "outputs": [
    {
     "name": "stdout",
     "output_type": "stream",
     "text": [
      "\n",
      "-----------------------------\n",
      " 注意打的時候要把 小括弧：（） 去掉 \n",
      "-----------------------------\n",
      "\n",
      "\n",
      "------------------------\n",
      " code ==> output (value)\n",
      "------------------------\n",
      "key_val['andy','wang'] ==> NCU\n",
      "key_val['emily','chen']==> NTU\n",
      "key_val['john','tsai'] ==> UCLA\n"
     ]
    }
   ],
   "source": [
    "print(\"\\n-----------------------------\")\n",
    "print(\" 注意打的時候要把 小括弧：（） 去掉 \")\n",
    "print(\"-----------------------------\\n\")\n",
    "\n",
    "\n",
    "print(\"\\n------------------------\")\n",
    "print(\" code ==> output (value)\")\n",
    "print(\"------------------------\")\n",
    "\n",
    "print(\"key_val['andy','wang'] ==> {0}\".format(key_val['andy','wang']))\n",
    "\n",
    "print(\"key_val['emily','chen']==> {0}\".format(key_val['emily','chen']))\n",
    "\n",
    "print(\"key_val['john','tsai'] ==> {0}\".format(key_val['john','tsai']))\n",
    "\n",
    "\n"
   ]
  }
 ],
 "metadata": {
  "kernelspec": {
   "display_name": "Python 3",
   "language": "python",
   "name": "python3"
  },
  "language_info": {
   "codemirror_mode": {
    "name": "ipython",
    "version": 3
   },
   "file_extension": ".py",
   "mimetype": "text/x-python",
   "name": "python",
   "nbconvert_exporter": "python",
   "pygments_lexer": "ipython3",
   "version": "3.7.3"
  }
 },
 "nbformat": 4,
 "nbformat_minor": 2
}
