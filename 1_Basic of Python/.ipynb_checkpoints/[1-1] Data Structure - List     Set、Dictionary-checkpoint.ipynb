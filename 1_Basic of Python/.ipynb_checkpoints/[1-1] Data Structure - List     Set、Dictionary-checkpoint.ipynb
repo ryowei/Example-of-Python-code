{
 "cells": [
  {
   "cell_type": "markdown",
   "metadata": {},
   "source": [
    "## Reference\n",
    "[1]. [https://www.brilliantcode.net](https://www.brilliantcode.net/713/python3-6-list-tuple-set-dictionary/)"
   ]
  },
  {
   "cell_type": "markdown",
   "metadata": {},
   "source": [
    "# List\n",
    "\n",
    "### Method\n",
    " - list.append(element)\n",
    "    + 將元素x加入至list的尾端，等同於語法『 list[len(list):] = [x] 』\n",
    "   \n",
    "   \n",
    " - list.extend(L)\n",
    "    + 將L這個List增加至list之中，等同於語法『 list[len(list):] = L 』\n",
    "   \n",
    "   \n",
    " - list.insert(i, element)\n",
    "    + 將element插入至第 i 個index的位置\n",
    "    \n",
    "   \n",
    " - list.remove(value)\n",
    "    + 刪除list中特定元素值的第一個元素\n",
    "    \n",
    "    \n",
    " - list.pop(i)\n",
    "    + 取出list中指定第 i 個元素，並且將該元素刪除\n",
    "    \n",
    "    \n",
    "    \n",
    " - list.pop()\n",
    "    + 取出list中最尾端的元素，並且將該元素刪除(像是堆疊Stack那樣)\n",
    "    + 在實務應用上可以用一個變數來接收pop出來的元素喔！\n",
    "    \n",
    "    \n",
    "    \n",
    " - list.index(value)\n",
    "    + 找出特定元素值的第一個位置(index)\n",
    "    \n",
    "    \n",
    "    \n",
    " - list.count(value)\n",
    "    + 列出特定元素值的元素數量\n",
    "    \n",
    "    \n",
    "    \n",
    " - list.sort()\n",
    "    + 將list由小至大排序\n",
    "    \n",
    "    \n",
    "    \n",
    " - list.reverse()\n",
    "    + 將list由大至小排序\n",
    "    \n",
    "    \n",
    "    "
   ]
  },
  {
   "cell_type": "code",
   "execution_count": 18,
   "metadata": {},
   "outputs": [
    {
     "name": "stdout",
     "output_type": "stream",
     "text": [
      "[1, 2, 3, 4, 5, 6, 7, 8, 9, 10]\n"
     ]
    }
   ],
   "source": [
    "list_1 = [1, 2, 3, 4, 5, 6, 7, 8, 9, 10]\n",
    "print(list_1)"
   ]
  },
  {
   "cell_type": "markdown",
   "metadata": {},
   "source": [
    "### list.append(element)\n",
    "  - 將元素x加入至list的尾端\n",
    "  - 等同於語法:  \n",
    "    > list[ len( list ) : ] = [x]"
   ]
  },
  {
   "cell_type": "code",
   "execution_count": 79,
   "metadata": {},
   "outputs": [
    {
     "name": "stdout",
     "output_type": "stream",
     "text": [
      "---------------\n",
      "  orginal list\n",
      "---------------\n",
      "[1, 2, 3, 4, 5, 6, 7, 8, 9, 10]\n",
      "\t\n",
      "---------------\n",
      "  append 1\n",
      "---------------\n",
      "list_1.append(100) --> [1, 2, 3, 4, 5, 6, 7, 8, 9, 10, 100]\n",
      "\t\n",
      "---------------\n",
      "  append 2\n",
      "---------------\n",
      "list_1[len(list_1):] = [200] --> [1, 2, 3, 4, 5, 6, 7, 8, 9, 10, 100, 200]\n",
      "\t\n",
      "---------------\n",
      "  append 3\n",
      "---------------\n",
      "list_1.append([30,40,50,60]) --> [1, 2, 3, 4, 5, 6, 7, 8, 9, 10, 100, 200, [30, 40, 50, 60]]\n"
     ]
    }
   ],
   "source": [
    "print(\"---------------\")\n",
    "print(\"  orginal list\")\n",
    "print(\"---------------\")\n",
    "print(list_1)\n",
    "\n",
    "print(\"\\t\")\n",
    "\n",
    "print(\"---------------\")\n",
    "print(\"  append 1\")\n",
    "print(\"---------------\")\n",
    "\n",
    "# 這是一個 append 的動作\n",
    "# 要將元素 [100] 新增至 list_1 的最後一個位置\n",
    "list_1.append(100)\n",
    "print(\"list_1.append(100) --> {0}\".format(list_1))\n",
    "\n",
    "print(\"\\t\")\n",
    "\n",
    "print(\"---------------\")\n",
    "print(\"  append 2\")\n",
    "print(\"---------------\")\n",
    "# 這是一個 append 的動作\n",
    "# 將元素 [200] 新增至 list_1 的尾端\n",
    "list_1[len(list_1):]=[200]\n",
    "print(\"list_1[len(list_1):] = [200] --> {0}\".format(list_1))\n",
    "\n",
    "print(\"\\t\")\n",
    "\n",
    "print(\"---------------\")\n",
    "print(\"  append 3\")\n",
    "print(\"---------------\")\n",
    "# 這是一個 append 的動作\n",
    "# 將一個 list 新增至 list_1 的尾端\n",
    "list_1.append([30,40,50,60])\n",
    "print(\"list_1.append([30,40,50,60]) --> {0}\".format(list_1))\n",
    "\n"
   ]
  },
  {
   "cell_type": "markdown",
   "metadata": {},
   "source": [
    "### list.extend(L)\n",
    "   - 將L這個List增加至list之中，等同於語法『 list[len(list):] = L 』"
   ]
  },
  {
   "cell_type": "code",
   "execution_count": 80,
   "metadata": {},
   "outputs": [
    {
     "name": "stdout",
     "output_type": "stream",
     "text": [
      "-------------------\n",
      " check list_1 內容\n",
      "-------------------\n",
      "[1, 2, 3, 4, 5, 6, 7, 8, 9, 10, 100, 200, [30, 40, 50, 60]]\n",
      "\t\n",
      "-------------------\n",
      " create a new list\n",
      "-------------------\n",
      "\t\n",
      "-------------------------------------\n",
      " 將 new_list 的內容 附加在 list_1 的後面\n",
      "-------------------------------------\n",
      "list_1.extend(new_list) --> [1, 2, 3, 4, 5, 6, 7, 8, 9, 10, 100, 200, [30, 40, 50, 60]]\n",
      "\n",
      "\n",
      "-------------------------------------\n",
      " 另一種寫法                            \n",
      " 將 new_list_2 的內容附加在 list_1 的後面\n",
      "-------------------------------------\n",
      "list_1[len(list_1):] = new_list_2 --> [1, 2, 3, 4, 5, 6, 7, 8, 9, 10, 100, 200, [30, 40, 50, 60], 2, 2, 2, 2, 2]\n"
     ]
    }
   ],
   "source": [
    "print(\"-------------------\")\n",
    "print(\" check list_1 內容\")\n",
    "print(\"-------------------\")\n",
    "print(list_1)\n",
    "\n",
    "print(\"\\t\")\n",
    "\n",
    "print(\"-------------------\")\n",
    "print(\" create a new list\")\n",
    "print(\"-------------------\")\n",
    "new_list = [0,0,0,0,0]\n",
    "\n",
    "\n",
    "print(\"\\t\")\n",
    "\n",
    "print(\"-------------------------------------\")\n",
    "print(\" 將 new_list 的內容 附加在 list_1 的後面\")\n",
    "print(\"-------------------------------------\")\n",
    "\n",
    "print(\"list_1.extend(new_list) --> {0}\".format(list_1))\n",
    "\n",
    "\n",
    "print(\"\\n\")\n",
    "\n",
    "print(\"-------------------------------------\")\n",
    "print(\" 另一種寫法                            \")\n",
    "print(\" 將 new_list_2 的內容附加在 list_1 的後面\")\n",
    "print(\"-------------------------------------\")\n",
    "\n",
    "new_list_2 = [2,2,2,2,2]\n",
    "list_1[len(list_1):] = new_list_2 \n",
    "\n",
    "print(\"list_1[len(list_1):] = new_list_2 --> {0}\".format(list_1))\n"
   ]
  },
  {
   "cell_type": "code",
   "execution_count": 81,
   "metadata": {},
   "outputs": [
    {
     "name": "stdout",
     "output_type": "stream",
     "text": [
      "[1, 2, 3, 4, 5, 6, 7, 8, 9, 10, 100, 200, [30, 40, 50, 60], 2, 2, 2, 2, 2]\n"
     ]
    }
   ],
   "source": [
    "print(list_1)"
   ]
  },
  {
   "cell_type": "markdown",
   "metadata": {},
   "source": [
    "### list.insert(i, element)\n",
    "    + 將element插入至第 i 個index的位置"
   ]
  },
  {
   "cell_type": "code",
   "execution_count": 82,
   "metadata": {},
   "outputs": [
    {
     "name": "stdout",
     "output_type": "stream",
     "text": [
      "-------------------\n",
      " check list_1 內容\n",
      "-------------------\n",
      "[1, 2, 3, 4, 5, 6, 7, 8, 9, 10, 100, 200, [30, 40, 50, 60], 2, 2, 2, 2, 2]\n",
      "\t\n",
      "-----------------------------------------\n",
      " 將元素 value [70] 放在 index 5 的位置\n",
      " 其實是放在(0,1,2,3,4,5)從右邊數來第 6 個位置\n",
      "-----------------------------------------\n",
      "[1, 2, 3, 4, 5, 70, 6, 7, 8, 9, 10, 100, 200, [30, 40, 50, 60], 2, 2, 2, 2, 2]\n"
     ]
    }
   ],
   "source": [
    "print(\"-------------------\")\n",
    "print(\" check list_1 內容\")\n",
    "print(\"-------------------\")\n",
    "print(list_1)\n",
    "\n",
    "print(\"\\t\")\n",
    "\n",
    "print(\"-----------------------------------------\")\n",
    "print(\" 將元素 value [70] 放在 index 5 的位置\")\n",
    "print(\" 其實是放在(0,1,2,3,4,5)從右邊數來第 6 個位置\")\n",
    "print(\"-----------------------------------------\")\n",
    "# 這是一個 insert 的動作\n",
    "list_1.insert(5, 70)\n",
    "print(list_1)"
   ]
  },
  {
   "cell_type": "markdown",
   "metadata": {},
   "source": [
    "### list.remove(value)\n",
    "    + 刪除list中特定元素值的第一個元素"
   ]
  },
  {
   "cell_type": "code",
   "execution_count": 83,
   "metadata": {},
   "outputs": [
    {
     "name": "stdout",
     "output_type": "stream",
     "text": [
      "-------------------\n",
      " check list_1 內容\n",
      "-------------------\n",
      "[1, 2, 3, 4, 5, 70, 6, 7, 8, 9, 10, 100, 200, [30, 40, 50, 60], 2, 2, 2, 2, 2]\n",
      "\t\n",
      "---------------------------\n",
      " 把第1個值value為 3 的元素刪除 \n",
      "---------------------------\n",
      "list_1.remove(3) ==> [1, 2, 4, 5, 70, 6, 7, 8, 9, 10, 100, 200, [30, 40, 50, 60], 2, 2, 2, 2, 2]\n"
     ]
    }
   ],
   "source": [
    "print(\"-------------------\")\n",
    "print(\" check list_1 內容\")\n",
    "print(\"-------------------\")\n",
    "print(list_1)\n",
    "\n",
    "print(\"\\t\")\n",
    "\n",
    "print(\"---------------------------\")\n",
    "print(\" 把第1個值value為 3 的元素刪除 \")\n",
    "print(\"---------------------------\")\n",
    "# 這是一個 remove 的動作\n",
    "list_1.remove(3)\n",
    "\n",
    "print(\"list_1.remove(3) ==> {0}\".format(list_1))"
   ]
  },
  {
   "cell_type": "markdown",
   "metadata": {},
   "source": [
    "### list.pop(i)\n",
    "    + 取出list中指定第 i 個元素，並且將該元素 **刪除** 的動作"
   ]
  },
  {
   "cell_type": "code",
   "execution_count": 15,
   "metadata": {},
   "outputs": [
    {
     "name": "stdout",
     "output_type": "stream",
     "text": [
      "-------------------\n",
      " check list_1 內容\n",
      "-------------------\n",
      "[1, 2, 3, 4, 5, 6, 7, 8]\n",
      "\t\n",
      "-------------------\n",
      " 指定 index 5 的元素/值/value 刪掉\n",
      " (0,1,2,3,4,5) ==> 表示在第 6 個位置\n",
      "-------------------\n",
      "\t\n",
      "list_1.pop(5) ==> [1, 2, 3, 4, 5, 7, 8]\n"
     ]
    }
   ],
   "source": [
    "print(\"-------------------\")\n",
    "print(\" check list_1 內容\")\n",
    "print(\"-------------------\")\n",
    "print(list_1)\n",
    "\n",
    "print(\"\\t\")\n",
    "print(\"-------------------\")\n",
    "print(\" 指定 index 5 的元素/值/value 刪掉\")\n",
    "print(\" (0,1,2,3,4,5) ==> 表示在第 6 個位置\")\n",
    "print(\"-------------------\")\n",
    "# 這是一個 delete 的動作\n",
    "list_1.pop(5)\n",
    "\n",
    "print(\"\\t\")\n",
    "\n",
    "print(\"list_1.pop(5) ==> {0}\".format(list_1))"
   ]
  },
  {
   "cell_type": "markdown",
   "metadata": {},
   "source": [
    "### list.pop()\n",
    "    + 取出list中最尾端的元素，並且將該元素刪除 (像是堆疊Stack那樣)\n",
    "    + 在實務應用上**可以用一個變數**來接收pop出來的元素喔！"
   ]
  },
  {
   "cell_type": "code",
   "execution_count": 60,
   "metadata": {},
   "outputs": [
    {
     "name": "stdout",
     "output_type": "stream",
     "text": [
      "---------------\n",
      "  orginal list\n",
      "---------------\n",
      "[1, 2, 3, 4, 5, 6, 7, 8, 9, 10]\n",
      "\n",
      "                     Table\n",
      "--------------------------------------------------\n",
      "value: 1   2   [3]   4   5   6   7   8   9   10 \t\n",
      "index: 0   1   (2)   3   4   5   6   7   8   9  \t\n",
      "--------------------------------------------------\n",
      "[]: 表示 value\t\n",
      "(): 表示 index\n",
      "\n",
      "\n",
      "-------------------\n",
      "      Example\n",
      "-------------------\n",
      "input  pop(index) ==> example: index = 2\n",
      "output value      ==> example: value = 3\n",
      "\n",
      "\n",
      "顯示 value: 3, 其中他的位置 index: 2, 而後面再 print(list_1) value: 3 將會被 delete \t\n",
      "list_1.pop(2) ==> 3\n",
      "\n",
      "\n",
      "執行過後， value: 3 被刪掉:\n",
      "[1, 2, 4, 5, 6, 7, 8, 9, 10]\n",
      "\n",
      "\n",
      "\n",
      "======================================================\n",
      "                     Comparison                       \n",
      "======================================================\n",
      "\n",
      "\n",
      "\n",
      "---------------\n",
      "  orginal list\n",
      "---------------\n",
      "[1, 2, 3, 4, 5, 6, 7, 8, 9, 10]\n",
      "\n",
      "\n",
      "\n",
      "\n",
      "* .pop() 可以用 '一個變數' 來接收 pop output 出來的元素/值/value \n",
      "\n",
      "* 他只會呈現最後一筆 值 / value \n",
      "\n",
      "list_1.pop() ==> 10\n",
      "\t\n",
      "執行： list_2 = list_1.pop()\n",
      "\t\n",
      "list_2 ==> 10\n",
      "\t\n"
     ]
    }
   ],
   "source": [
    "print(\"---------------\")\n",
    "print(\"  orginal list\")\n",
    "print(\"---------------\")\n",
    "\n",
    "list_1 = [1, 2, 3, 4, 5, 6, 7, 8, 9, 10]\n",
    "print(list_1)\n",
    "\n",
    "\n",
    "# pop: 會取出該元素 / 值 / value\n",
    "# 所以沒有將元素指定給其他變數\n",
    "# 執行結束後印出該元素\n",
    "\n",
    "\n",
    "print(\"\\n                     Table\")\n",
    "print(\"--------------------------------------------------\")\n",
    "print(\"value: 1   2   [3]   4   5   6   7   8   9   10 \\t\") # value\n",
    "print(\"index: 0   1   (2)   3   4   5   6   7   8   9  \\t\") # index\n",
    "print(\"--------------------------------------------------\")\n",
    "\n",
    "print(\"[]: 表示 value\\t\")\n",
    "print(\"(): 表示 index\")\n",
    "\n",
    "\n",
    "\n",
    "\n",
    "print(\"\\n\\n-------------------\")\n",
    "print(\"      Example\")\n",
    "print(\"-------------------\")\n",
    "\n",
    "\n",
    "print(\"input  pop(index) ==> example: index = 2\")\n",
    "print(\"output value      ==> example: value = 3\")\n",
    "\n",
    "print(\"\\n\")\n",
    "\n",
    "print(\"顯示 value: 3, 其中他的位置 index: 2, 而後面再 print(list_1) value: 3 將會被 delete \\t\")\n",
    "\n",
    "print(\"list_1.pop(2) ==> {0}\".format(list_1.pop(2)))\n",
    "\n",
    "print(\"\\n\")\n",
    "\n",
    "print(\"執行過後， value: 3 被刪掉:\")\n",
    "print(list_1)\n",
    "\n",
    "\n",
    "\n",
    "print(\"\\n\\n\\n======================================================\")\n",
    "print(\"                     Comparison                       \")\n",
    "print(\"======================================================\\n\\n\\n\")\n",
    "\n",
    "\n",
    "print(\"---------------\")\n",
    "print(\"  orginal list\")\n",
    "print(\"---------------\")\n",
    "\n",
    "list_1 = [1, 2, 3, 4, 5, 6, 7, 8, 9, 10]\n",
    "print(list_1)\n",
    "\n",
    "print(\"\\n\\n\\n\")\n",
    "\n",
    "print(\"* .pop() 可以用 '一個變數' 來接收 pop output 出來的元素/值/value \\n\")\n",
    "print(\"* 他只會呈現最後一筆 值 / value \\n\")\n",
    "\n",
    "list_2 = list_1.pop()\n",
    "\n",
    "print(\"list_1.pop() ==> {0}\".format(list_2))\n",
    "\n",
    "print(\"\\t\")\n",
    "\n",
    "print(\"執行： list_2 = list_1.pop()\")\n",
    "\n",
    "print(\"\\t\")\n",
    "\n",
    "print(\"list_2 ==> {0}\".format(list_2))\n",
    "\n",
    "print(\"\\t\")"
   ]
  },
  {
   "cell_type": "markdown",
   "metadata": {},
   "source": [
    "### list.index(value)\n",
    "    + 找出特定元素值在第一個位置(index)"
   ]
  },
  {
   "cell_type": "code",
   "execution_count": 131,
   "metadata": {},
   "outputs": [
    {
     "name": "stdout",
     "output_type": "stream",
     "text": [
      "-------------------\n",
      " check list_1 內容\n",
      "-------------------\n",
      "[1, 2, 3, 4, 5, 6, 7, 8, 9, 10]\n",
      "\t\n",
      "-------------------\n",
      "找出特定元素/值/value 在第一個位置(index)\t\n",
      "換句話說,我要 search 值為 [2] 對應的 index 在哪\t\n",
      "而且該值是要第一個出現的 index\n",
      "-------------------\n",
      "\t\n",
      "\n",
      "                     Table\n",
      "--------------------------------------------------\n",
      "value: 1   [2]   3   4   5   6   7   8   9   10 \t\n",
      "index: 0   (1)   2   3   4   5   6   7   8   9  \t\n",
      "--------------------------------------------------\n",
      "\t\n",
      "目標尋找 值為 [2] 所對應的 index 在哪, 其 index 為 (1) \t\n",
      "[]: 表示 value, \t\n",
      "(): 表示 index\n",
      "\n",
      "\n",
      "program:\n",
      "list_1.index(2) ==> 1\n"
     ]
    }
   ],
   "source": [
    "print(\"-------------------\")\n",
    "print(\" check list_1 內容\")\n",
    "print(\"-------------------\")\n",
    "print(list_1)\n",
    "\n",
    "\n",
    "print(\"\\t\")\n",
    "\n",
    "\n",
    "print(\"-------------------\")\n",
    "print(\"找出特定元素/值/value 在第一個位置(index)\\t\")\n",
    "print(\"換句話說,我要 search 值為 [2] 對應的 index 在哪\\t\")\n",
    "print(\"而且該值是要第一個出現的 index\")\n",
    "print(\"-------------------\")\n",
    "\n",
    "\n",
    "print(\"\\t\")\n",
    "\n",
    "\n",
    "print(\"\\n                     Table\")\n",
    "print(\"--------------------------------------------------\")\n",
    "print(\"value: 1   [2]   3   4   5   6   7   8   9   10 \\t\") # value\n",
    "print(\"index: 0   (1)   2   3   4   5   6   7   8   9  \\t\") # index\n",
    "print(\"--------------------------------------------------\")\n",
    "\n",
    "\n",
    "print(\"\\t\")\n",
    "\n",
    "\n",
    "print(\"目標尋找 值為 [2] 所對應的 index 在哪, 其 index 為 (1) \\t\")\n",
    "\n",
    "print(\"[]: 表示 value, \\t\")\n",
    "print(\"(): 表示 index\")\n",
    "\n",
    "print(\"\\n\")\n",
    "\n",
    "print(\"program:\")\n",
    "print(\"list_1.index(2) ==> {0}\".format(list_1.index(2)))"
   ]
  },
  {
   "cell_type": "markdown",
   "metadata": {},
   "source": [
    "### list.count(value)\n",
    "    + 列出特定元素值的元素數量"
   ]
  },
  {
   "cell_type": "code",
   "execution_count": 109,
   "metadata": {},
   "outputs": [
    {
     "name": "stdout",
     "output_type": "stream",
     "text": [
      "-------------------\n",
      " check list_1 內容\n",
      "-------------------\n",
      "[1, 2, 3, 4, 5, 6, 7, 8, 9, 10]\n",
      "\t\n",
      "-------------------\n",
      "列出特定元素值的元素數量\n",
      "-------------------\n",
      "list_1.count(9) ==> 1\n",
      "list_1.count(5) ==> 1\n",
      "list_1.count(2) ==> 1\n"
     ]
    }
   ],
   "source": [
    "print(\"-------------------\")\n",
    "print(\" check list_1 內容\")\n",
    "print(\"-------------------\")\n",
    "print(list_1)\n",
    "\n",
    "\n",
    "print(\"\\t\")\n",
    "\n",
    "\n",
    "print(\"-------------------\")\n",
    "print(\"列出特定元素值的元素數量\")\n",
    "print(\"-------------------\")\n",
    "\n",
    "# list_1 有 9 這個數值有幾個\n",
    "print(\"list_1.count(9) ==> {0}\".format(list_1.count(9)))\n",
    "\n",
    "\n",
    "# list_1 有 5 這個數值有幾個\n",
    "print(\"list_1.count(5) ==> {0}\".format(list_1.count(5)))\n",
    "\n",
    "\n",
    "# list_1 有 2 這個數值有幾個\n",
    "print(\"list_1.count(2) ==> {0}\".format(list_1.count(2)))"
   ]
  },
  {
   "cell_type": "markdown",
   "metadata": {},
   "source": [
    "### list.sort()\n",
    "    + 將list由小至大排序"
   ]
  },
  {
   "cell_type": "code",
   "execution_count": 98,
   "metadata": {},
   "outputs": [
    {
     "name": "stdout",
     "output_type": "stream",
     "text": [
      "-------------------\n",
      " check list_1 內容\n",
      "-------------------\n",
      "[1, 2, 3, 4, 5, 6, 7, 8, 9, 10]\n",
      "\t\n",
      "-------------------\n",
      " 由小到大排序\n",
      "-------------------\n",
      "list_1.sort() ==> [1, 2, 3, 4, 5, 6, 7, 8, 9, 10]\n"
     ]
    }
   ],
   "source": [
    "print(\"-------------------\")\n",
    "print(\" check list_1 內容\")\n",
    "print(\"-------------------\")\n",
    "print(list_1)\n",
    "\n",
    "# 這是一個 sort 的動作\n",
    "list_1.sort()\n",
    "\n",
    "print(\"\\t\")\n",
    "\n",
    "print(\"-------------------\")\n",
    "print(\" 由小到大排序\")\n",
    "print(\"-------------------\")\n",
    "\n",
    "print(\"list_1.sort() ==> {0}\".format(list_1))"
   ]
  },
  {
   "cell_type": "markdown",
   "metadata": {},
   "source": [
    "### list.reverse()\n",
    "    + 將list由大至小排序"
   ]
  },
  {
   "cell_type": "code",
   "execution_count": 96,
   "metadata": {},
   "outputs": [
    {
     "name": "stdout",
     "output_type": "stream",
     "text": [
      "-------------------\n",
      " check list_1 內容\n",
      "-------------------\n",
      "[1, 2, 3, 4, 5, 6, 7, 8, 9, 10]\n",
      "\t\n",
      "-------------------\n",
      " 由大到小排序\n",
      "-------------------\n",
      "list_1.reverse() ==> [10, 9, 8, 7, 6, 5, 4, 3, 2, 1]\n"
     ]
    }
   ],
   "source": [
    "print(\"-------------------\")\n",
    "print(\" check list_1 內容\")\n",
    "print(\"-------------------\")\n",
    "print(list_1)\n",
    "\n",
    "# 這是一個 reserve 的動作\n",
    "list_1.reverse()\n",
    "\n",
    "print(\"\\t\")\n",
    "\n",
    "print(\"-------------------\")\n",
    "print(\" 由大到小排序\")\n",
    "print(\"-------------------\")\n",
    "\n",
    "print(\"list_1.reverse() ==> {0}\".format(list_1))"
   ]
  },
  {
   "cell_type": "code",
   "execution_count": null,
   "metadata": {},
   "outputs": [],
   "source": []
  },
  {
   "cell_type": "code",
   "execution_count": null,
   "metadata": {},
   "outputs": [],
   "source": []
  },
  {
   "cell_type": "code",
   "execution_count": null,
   "metadata": {},
   "outputs": [],
   "source": []
  },
  {
   "cell_type": "code",
   "execution_count": null,
   "metadata": {},
   "outputs": [],
   "source": []
  },
  {
   "cell_type": "code",
   "execution_count": null,
   "metadata": {},
   "outputs": [],
   "source": []
  }
 ],
 "metadata": {
  "kernelspec": {
   "display_name": "Python 3",
   "language": "python",
   "name": "python3"
  },
  "language_info": {
   "codemirror_mode": {
    "name": "ipython",
    "version": 3
   },
   "file_extension": ".py",
   "mimetype": "text/x-python",
   "name": "python",
   "nbconvert_exporter": "python",
   "pygments_lexer": "ipython3",
   "version": "3.7.3"
  }
 },
 "nbformat": 4,
 "nbformat_minor": 2
}
