{
 "cells": [
  {
   "cell_type": "markdown",
   "metadata": {},
   "source": [
    "## Reference\n",
    "[1]. [https://www.brilliantcode.net](https://www.brilliantcode.net/713/python3-6-list-tuple-set-dictionary/)\n",
    "\n",
    " - 在集合 (Set) 裡面存放的是一群 \n",
    " \n",
    "    + 沒有順序\n",
    "    + 唯一 (only) 的元素！ (修改）\n",
    "    + 元素中若有重複，只會放一個元素/值/value"
   ]
  },
  {
   "cell_type": "code",
   "execution_count": 11,
   "metadata": {},
   "outputs": [
    {
     "name": "stdout",
     "output_type": "stream",
     "text": [
      "---------------------\n",
      "  Example of datadet\n",
      "---------------------\n",
      "\n",
      "{'Banana', 'Dragon Fruit', 'Apple', 'Coconut'}\n"
     ]
    }
   ],
   "source": [
    "## input set([])\n",
    "\n",
    "print(\"---------------------\")\n",
    "print(\"  Example of datadet\")\n",
    "print(\"---------------------\\n\")\n",
    "\n",
    "my_set = set([\"Apple\", \"Banana\", \"Coconut\", \"Banana\", \"Dragon Fruit\"])\n",
    "\n",
    "print(my_set)"
   ]
  },
  {
   "cell_type": "markdown",
   "metadata": {},
   "source": [
    "## set(element)\n",
    "\n",
    " - 用 set() 宣告集合！\n",
    " - 空格符號特色：set( [ a, b, c ] )"
   ]
  },
  {
   "cell_type": "code",
   "execution_count": 13,
   "metadata": {},
   "outputs": [
    {
     "name": "stdout",
     "output_type": "stream",
     "text": [
      "{'Banana', 'Dragon Fruit', 'Apple', 'Coconut'}\n",
      "\n",
      "\n",
      "Input   ==> set([\"Apple\", \"Banana\", \"Coconut\", \"Banana\", \"Dragon Fruit\"])\n",
      "Output: ==> {'Banana', 'Dragon Fruit', 'Apple', 'Coconut'}\n",
      "\n",
      "\n",
      "\n",
      "可以觀察到: \t\n",
      "1. 沒有順序\n",
      "2. Banana 不見了\n"
     ]
    }
   ],
   "source": [
    "print(my_set)\n",
    "\n",
    "print(\"\\n\")\n",
    "\n",
    "print('Input   ==> set([\"Apple\", \"Banana\", \"Coconut\", \"Banana\", \"Dragon Fruit\"])')\n",
    "print('Output: ==> {0}'.format(my_set))\n",
    "\n",
    "print(\"\\n\")\n",
    "\n",
    "print(\"\\n可以觀察到: \\t\")\n",
    "print(\"1. 沒有順序\")\n",
    "print(\"2. Banana 不見了\")"
   ]
  },
  {
   "cell_type": "markdown",
   "metadata": {},
   "source": [
    "## in (包含）\n",
    "\n",
    "\n",
    "\n",
    " - 確認 **元素 / 值 / value** 是否存在於Set之中\n",
    " \n",
    " \n",
    " - $A \\sqsubset B$ ? \n",
    " "
   ]
  },
  {
   "cell_type": "code",
   "execution_count": 24,
   "metadata": {},
   "outputs": [
    {
     "name": "stdout",
     "output_type": "stream",
     "text": [
      "---------------\n",
      "  Original\n",
      "---------------\n",
      "\n",
      "{'Banana', 'Dragon Fruit', 'Apple', 'Coconut'}\n",
      "\n",
      "------------------------------\n",
      "  確認 Apple 有沒有在 my_set 裡面\n",
      "  並且回傳 True / False\n",
      "------------------------------\n",
      "\n",
      "'Apple' in my_set ==> True\n"
     ]
    }
   ],
   "source": [
    "print(\"---------------\")\n",
    "print(\"  Original\")\n",
    "print(\"---------------\\n\")\n",
    "\n",
    "\n",
    "\n",
    "print(my_set)\n",
    "\n",
    "\n",
    "print(\"\\n------------------------------\")\n",
    "print(\"  確認 Apple 有沒有在 my_set 裡面\")\n",
    "print(\"  並且回傳 True / False\")\n",
    "print(\"------------------------------\\n\")\n",
    "\n",
    "'Apple' in my_set\n",
    "\n",
    "print(\"'Apple' in my_set ==> {0}\".format('Apple' in my_set))"
   ]
  },
  {
   "cell_type": "markdown",
   "metadata": {},
   "source": [
    "## Difference (差集）\n",
    "\n",
    " - SetA – SetB\n",
    "    + 輸出結果為 SetA 有，而 SetB 沒有的元素\n",
    "    \n",
    "    \n",
    " \n",
    " - A - B 剩下什麼元素 / 值 / value\n",
    " "
   ]
  },
  {
   "cell_type": "code",
   "execution_count": 31,
   "metadata": {},
   "outputs": [
    {
     "name": "stdout",
     "output_type": "stream",
     "text": [
      "--------------------\n",
      "  Load the library\n",
      "--------------------\n",
      "\n"
     ]
    },
    {
     "data": {
      "image/png": "[encoded data removed]",
      "text/plain": [
       "<PIL.PngImagePlugin.PngImageFile image mode=RGBA size=435x247 at 0x1127D7B38>"
      ]
     },
     "execution_count": 31,
     "metadata": {},
     "output_type": "execute_result"
    }
   ],
   "source": [
    "'''\n",
    "讀取圖片//常用套件: skimage, PIL, OpenCV\n",
    "'''\n",
    "print(\"--------------------\")\n",
    "print(\"  Load the library\")\n",
    "print(\"--------------------\\n\")\n",
    "%matplotlib inline\n",
    "from PIL import Image\n",
    "\n",
    "\n",
    "Image.open(\"../graph/set_difference.png\")"
   ]
  },
  {
   "cell_type": "markdown",
   "metadata": {},
   "source": [
    "Picture from: [Python的差集運算 - 何者更快?](https://steemit.com/cn/@kenchung/python)"
   ]
  },
  {
   "cell_type": "markdown",
   "metadata": {},
   "source": [
    "## Union (聯集)\n",
    "\n",
    " - 回傳兩個 Set 所有的元素 / 值 / value\n",
    " \n",
    " \n",
    " - $A \\cup  B$"
   ]
  },
  {
   "cell_type": "code",
   "execution_count": 33,
   "metadata": {},
   "outputs": [
    {
     "data": {
      "image/png": "[encoded data removed]",
      "text/plain": [
       "<PIL.GifImagePlugin.GifImageFile image mode=P size=436x261 at 0x119FD7D68>"
      ]
     },
     "execution_count": 33,
     "metadata": {},
     "output_type": "execute_result"
    }
   ],
   "source": [
    "Image.open(\"../graph/set_union.GIF\")"
   ]
  },
  {
   "cell_type": "code",
   "execution_count": 61,
   "metadata": {},
   "outputs": [
    {
     "name": "stdout",
     "output_type": "stream",
     "text": [
      "---------------\n",
      "  my set\n",
      "---------------\n",
      "\n",
      "{'Banana', 'Dragon Fruit', 'Apple', 'Coconut'}\n",
      "\n",
      "---------------\n",
      "  your set\n",
      "---------------\n",
      "\n",
      "{'wine', 'juice', 'maik', 'coffee', 'matcha', 'water'}\n",
      "\n",
      "\n",
      "========================\n",
      "        Union code       \n",
      "=========================\n",
      "\n",
      "\n",
      "my_set | your_set ==> {'matcha', 'Banana', 'wine', 'juice', 'Apple', 'maik', 'Coconut', 'coffee', 'Dragon Fruit', 'water'}\n"
     ]
    }
   ],
   "source": [
    "print(\"---------------\")\n",
    "print(\"  my set\")\n",
    "print(\"---------------\\n\")\n",
    "print(my_set)\n",
    "\n",
    "\n",
    "print(\"\\n---------------\")\n",
    "print(\"  your set\")\n",
    "print(\"---------------\\n\")\n",
    "your_set = {\"maik\",\"juice\",\"coffee\",\"wine\",\"matcha\",\"water\"}\n",
    "print(your_set)\n",
    "\n",
    "\n",
    "print(\"\\n\\n========================\")\n",
    "print(\"        Union code       \")\n",
    "print(\"=========================\")\n",
    "\n",
    "# union operation\n",
    "# print(my_set | your_set)\n",
    "\n",
    "set_union = my_set | your_set\n",
    "\n",
    "print(\"\\n\")\n",
    "\n",
    "print(\"my_set | your_set ==> {0}\".format(set_union))"
   ]
  },
  {
   "cell_type": "markdown",
   "metadata": {},
   "source": [
    "## Intersection (交集)\n",
    "\n",
    " - 回傳兩個 Set 都要存在的元素\n",
    "\n",
    " - $A \\cap B$\n"
   ]
  },
  {
   "cell_type": "code",
   "execution_count": 60,
   "metadata": {},
   "outputs": [
    {
     "data": {
      "image/png": "[encoded data removed]",
      "text/plain": [
       "<PIL.GifImagePlugin.GifImageFile image mode=P size=436x261 at 0x11A005B38>"
      ]
     },
     "execution_count": 60,
     "metadata": {},
     "output_type": "execute_result"
    }
   ],
   "source": [
    "Image.open(\"../graph/set_union.GIF\")"
   ]
  },
  {
   "cell_type": "code",
   "execution_count": 63,
   "metadata": {},
   "outputs": [
    {
     "name": "stdout",
     "output_type": "stream",
     "text": [
      "---------------\n",
      "  my set\n",
      "---------------\n",
      "\n",
      "{'Banana', 'Dragon Fruit', 'Apple', 'Coconut'}\n",
      "\n",
      "---------------\n",
      "  your set\n",
      "---------------\n",
      "\n",
      "{'wine', 'juice', 'maik', 'coffee', 'matcha', 'water'}\n",
      "\n",
      "\n",
      "========================\n",
      "    intersection code       \n",
      "=========================\n",
      "\n",
      "\n",
      "my_set ^ your_set ==> {'Banana', 'maik', 'Coconut', 'water', 'Dragon Fruit', 'wine', 'juice', 'Apple', 'coffee', 'matcha'}\n"
     ]
    }
   ],
   "source": [
    "print(\"---------------\")\n",
    "print(\"  my set\")\n",
    "print(\"---------------\\n\")\n",
    "print(my_set)\n",
    "\n",
    "\n",
    "print(\"\\n---------------\")\n",
    "print(\"  your set\")\n",
    "print(\"---------------\\n\")\n",
    "your_set = {\"maik\",\"juice\",\"coffee\",\"wine\",\"matcha\",\"water\"}\n",
    "print(your_set)\n",
    "\n",
    "\n",
    "print(\"\\n\\n========================\")\n",
    "print(\"    intersection code       \")\n",
    "print(\"=========================\")\n",
    "\n",
    "\n",
    "# intersection operation\n",
    "# print(my_set ^ your_set)\n",
    "\n",
    "set_intersection = my_set ^ your_set\n",
    "\n",
    "print(\"\\n\")\n",
    "\n",
    "print(\"my_set ^ your_set ==> {0}\".format(set_intersection))\n"
   ]
  },
  {
   "attachments": {},
   "cell_type": "markdown",
   "metadata": {},
   "source": [
    "## Symmetric Difference (對稱差集合)\n",
    " - 這個原理有點複雜，點這裡看詳細解釋：\n",
    "     + [Symmetric Difference(Wikipedia](https://en.wikipedia.org/wiki/Symmetric_difference)\n",
    "\n",
    "\n",
    "\n",
    " - 但如果是只有兩個 Set 做運算的話，結果會是( SetA 或 SetB )而且(去除SetA、SetB都有的元素)！\n",
    " \n",
    " \n",
    " - 也就是 $A \\cup B$ -  $A \\cap B$\n",
    " \n",
    " \n",
    " - 符號表示方式\n",
    "   + $A \\Delta B$ or\n",
    "   +  $A \\Theta B$ or\n",
    "   + $A\\oplus B$\n",
    " \n",
    " "
   ]
  },
  {
   "cell_type": "code",
   "execution_count": 66,
   "metadata": {},
   "outputs": [
    {
     "data": {
      "image/png": "[encoded data removed]",
      "text/plain": [
       "<PIL.PngImagePlugin.PngImageFile image mode=RGBA size=610x420 at 0x11A7587B8>"
      ]
     },
     "execution_count": 66,
     "metadata": {},
     "output_type": "execute_result"
    }
   ],
   "source": [
    "Image.open(\"../graph/set_symmertric_difference.png\")"
   ]
  },
  {
   "cell_type": "code",
   "execution_count": null,
   "metadata": {},
   "outputs": [],
   "source": []
  }
 ],
 "metadata": {
  "kernelspec": {
   "display_name": "Python 3",
   "language": "python",
   "name": "python3"
  },
  "language_info": {
   "codemirror_mode": {
    "name": "ipython",
    "version": 3
   },
   "file_extension": ".py",
   "mimetype": "text/x-python",
   "name": "python",
   "nbconvert_exporter": "python",
   "pygments_lexer": "ipython3",
   "version": "3.7.3"
  }
 },
 "nbformat": 4,
 "nbformat_minor": 2
}
