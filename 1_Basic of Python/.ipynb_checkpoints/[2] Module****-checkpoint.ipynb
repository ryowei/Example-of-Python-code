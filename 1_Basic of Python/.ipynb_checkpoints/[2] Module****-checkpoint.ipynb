{
 "cells": [
  {
   "cell_type": "markdown",
   "metadata": {},
   "source": [
    "## Reference\n",
    "[1]. [https://www.brilliantcode.net](https://www.brilliantcode.net/713/python3-6-list-tuple-set-dictionary/)\n"
   ]
  },
  {
   "cell_type": "markdown",
   "metadata": {},
   "source": [
    "# Module\n",
    "\n",
    " - 模組，讓你的Python程式可以重用！\n",
    " \n",
    " \n",
    " - 同時也可以使用高手寫好的函式庫，讓你寫程式的過程中更省力！"
   ]
  },
  {
   "cell_type": "markdown",
   "metadata": {},
   "source": [
    "# 前置作業\n",
    "\n",
    "\n",
    " - 先使用Python編輯器編輯一個新的 Python 檔，並且定義兩個函數！\n",
    " \n",
    "\n",
    " - 檔名：calc.py\n",
    " \n",
    "\n",
    " - 函數名：add(), product()"
   ]
  },
  {
   "cell_type": "markdown",
   "metadata": {},
   "source": [
    "## 函數 def 的使用\n",
    "\n",
    "### 1. 創造一個專門放 “函數 def” 的檔名\n",
    "\n",
    " - filename: cale.py "
   ]
  },
  {
   "cell_type": "code",
   "execution_count": 9,
   "metadata": {},
   "outputs": [],
   "source": [
    "\n",
    "# 函數名\n",
    "def add(x):\n",
    "    return(x+2)\n",
    "\n",
    "def product(x):\n",
    "    return(x*2)\n"
   ]
  },
  {
   "cell_type": "markdown",
   "metadata": {},
   "source": [
    "## 匯入所有函數(一般用法)\n",
    "\n",
    " - 假設我們需要使用 **cale.py** 的程式裡面的函數\n",
    " \n",
    " \n",
    " - 可以利用下列語法匯入『cale.py』模組！\n",
    " \n",
    " \n",
    " - 匯入時不需要輸入副檔名\n",
    " \n",
    " \n",
    " - 只需要將這兩隻 **程式放在同一層資料夾** 即可！\n",
    "\n",
    "\n",
    "### 2. 新增一個檔案 \"main.py\"\n"
   ]
  },
  {
   "cell_type": "code",
   "execution_count": 16,
   "metadata": {},
   "outputs": [
    {
     "name": "stdout",
     "output_type": "stream",
     "text": [
      "Product: 10\n",
      "add: 7\n"
     ]
    }
   ],
   "source": [
    "import cale\n",
    "\n",
    "print(\"Product:\", Module_cale.product(5))\n",
    "print(\"add:\"    , Module_cale.add(5))"
   ]
  },
  {
   "cell_type": "markdown",
   "metadata": {},
   "source": [
    "## 部分匯入\n",
    "\n",
    " - 如果只需要匯入部分的函數，可以這樣使用！"
   ]
  },
  {
   "cell_type": "code",
   "execution_count": 17,
   "metadata": {},
   "outputs": [],
   "source": [
    "from cale import add, product  "
   ]
  },
  {
   "cell_type": "markdown",
   "metadata": {},
   "source": [
    "\n",
    "  - 因為只有匯入 **add** 和 **product** 兩個函數，\n",
    "  \n",
    "  - 所以在呼叫的時就可以直接呼叫『product』\n",
    "  \n",
    "     + 而不需要加上前面的『Module_cale.』\n",
    "\n"
   ]
  },
  {
   "cell_type": "markdown",
   "metadata": {},
   "source": [
    "# 建置主程式 (主程式的進入點)\n",
    "\n",
    " - 寫這麼多程式的目的：\n",
    "     + 讓 **電腦** 或 **伺服器** 能 **定期執行**\n",
    " \n",
    "\n",
    "\n",
    " - 這時候就會 **需要設定主程式** 的進入點！\n",
    "   + 程式被運行時會先被執行的地方\n",
    "\n",
    "\n",
    "\n",
    " - 直接在 **系統上執行 python 程式的方式如下：\n",
    "    \n",
    "    + Mac開啟終端機\n",
    "    \n",
    "    + Windows開啟命令提示字元"
   ]
  },
  {
   "cell_type": "code",
   "execution_count": 19,
   "metadata": {},
   "outputs": [
    {
     "ename": "SyntaxError",
     "evalue": "invalid syntax (<ipython-input-19-0ec6622228e6>, line 4)",
     "output_type": "error",
     "traceback": [
      "\u001b[0;36m  File \u001b[0;32m\"<ipython-input-19-0ec6622228e6>\"\u001b[0;36m, line \u001b[0;32m4\u001b[0m\n\u001b[0;31m    python main.py 50\u001b[0m\n\u001b[0m              ^\u001b[0m\n\u001b[0;31mSyntaxError\u001b[0m\u001b[0;31m:\u001b[0m invalid syntax\n"
     ]
    }
   ],
   "source": [
    "# python main.py <參數>\n",
    "# 以下列例子來說，50 就是輸入 Module_main.py 的參數\n",
    "\n",
    "python main.py 50"
   ]
  },
  {
   "cell_type": "markdown",
   "metadata": {},
   "source": [
    "主程式裡面則需要這樣寫：\n",
    " - 其中『sys.argv[0]、sys.argv[1]』就是用來main.py的參數\n",
    " - sys.argv[0]：預留給本程式的檔名\n",
    " - sys.argv[1]~sys.argv[xx]：這才是輸入main.py的參數"
   ]
  },
  {
   "cell_type": "code",
   "execution_count": 24,
   "metadata": {},
   "outputs": [
    {
     "name": "stdout",
     "output_type": "stream",
     "text": [
      "argv[0]: /Users/chibaryowei/anaconda3/lib/python3.7/site-packages/ipykernel_launcher.py\n"
     ]
    },
    {
     "ename": "ValueError",
     "evalue": "invalid literal for int() with base 10: '-f'",
     "output_type": "error",
     "traceback": [
      "\u001b[0;31m---------------------------------------------------------------------------\u001b[0m",
      "\u001b[0;31mValueError\u001b[0m                                Traceback (most recent call last)",
      "\u001b[0;32m<ipython-input-24-2db9b9e2cb25>\u001b[0m in \u001b[0;36m<module>\u001b[0;34m\u001b[0m\n\u001b[1;32m      4\u001b[0m     \u001b[0;32mimport\u001b[0m \u001b[0mcale\u001b[0m\u001b[0;34m\u001b[0m\u001b[0;34m\u001b[0m\u001b[0m\n\u001b[1;32m      5\u001b[0m     \u001b[0mprint\u001b[0m\u001b[0;34m(\u001b[0m\u001b[0;34m\"argv[0]:\"\u001b[0m\u001b[0;34m,\u001b[0m \u001b[0msys\u001b[0m\u001b[0;34m.\u001b[0m\u001b[0margv\u001b[0m\u001b[0;34m[\u001b[0m\u001b[0;36m0\u001b[0m\u001b[0;34m]\u001b[0m \u001b[0;34m)\u001b[0m\u001b[0;34m\u001b[0m\u001b[0;34m\u001b[0m\u001b[0m\n\u001b[0;32m----> 6\u001b[0;31m     \u001b[0mprint\u001b[0m\u001b[0;34m(\u001b[0m\u001b[0;34m\"Product:\"\u001b[0m\u001b[0;34m,\u001b[0m \u001b[0mcale\u001b[0m\u001b[0;34m.\u001b[0m\u001b[0mproduct\u001b[0m\u001b[0;34m(\u001b[0m\u001b[0mint\u001b[0m\u001b[0;34m(\u001b[0m\u001b[0msys\u001b[0m\u001b[0;34m.\u001b[0m\u001b[0margv\u001b[0m\u001b[0;34m[\u001b[0m\u001b[0;36m1\u001b[0m\u001b[0;34m]\u001b[0m\u001b[0;34m)\u001b[0m\u001b[0;34m)\u001b[0m\u001b[0;34m)\u001b[0m\u001b[0;34m\u001b[0m\u001b[0;34m\u001b[0m\u001b[0m\n\u001b[0m\u001b[1;32m      7\u001b[0m     \u001b[0mprint\u001b[0m\u001b[0;34m(\u001b[0m\u001b[0;34m\"Add:\"\u001b[0m\u001b[0;34m,\u001b[0m \u001b[0mcale\u001b[0m\u001b[0;34m.\u001b[0m\u001b[0madd\u001b[0m\u001b[0;34m(\u001b[0m\u001b[0mint\u001b[0m\u001b[0;34m(\u001b[0m\u001b[0msys\u001b[0m\u001b[0;34m.\u001b[0m\u001b[0margv\u001b[0m\u001b[0;34m[\u001b[0m\u001b[0;36m1\u001b[0m\u001b[0;34m]\u001b[0m\u001b[0;34m)\u001b[0m\u001b[0;34m)\u001b[0m\u001b[0;34m)\u001b[0m\u001b[0;34m\u001b[0m\u001b[0;34m\u001b[0m\u001b[0m\n",
      "\u001b[0;31mValueError\u001b[0m: invalid literal for int() with base 10: '-f'"
     ]
    }
   ],
   "source": [
    "# 讓Python知道，這邊就是程式的進入點\n",
    "if __name__ == \"__main__\":\n",
    "    import sys\n",
    "    import cale\n",
    "    print(\"argv[0]:\", sys.argv[0] )\n",
    "    print(\"Product:\", cale.product(int(sys.argv[1])))\n",
    "    print(\"Add:\", cale.add(int(sys.argv[1])))"
   ]
  },
  {
   "cell_type": "markdown",
   "metadata": {},
   "source": [
    "## 下列是執行、輸出的方式："
   ]
  },
  {
   "cell_type": "code",
   "execution_count": 25,
   "metadata": {},
   "outputs": [
    {
     "ename": "SyntaxError",
     "evalue": "invalid syntax (<ipython-input-25-555766747c00>, line 1)",
     "output_type": "error",
     "traceback": [
      "\u001b[0;36m  File \u001b[0;32m\"<ipython-input-25-555766747c00>\"\u001b[0;36m, line \u001b[0;32m1\u001b[0m\n\u001b[0;31m    Last login: Tue Jan 16 20:56:10 on ttys002\u001b[0m\n\u001b[0m             ^\u001b[0m\n\u001b[0;31mSyntaxError\u001b[0m\u001b[0;31m:\u001b[0m invalid syntax\n"
     ]
    }
   ],
   "source": [
    "Last login: Tue Jan 16 20:56:10 on ttys002\n",
    "Andy-MBP:~ Andy$ cd ~/Documents/Python/ch6\n",
    "Andy-MBP:ch6 Andy$ python3.6 main.py 50\n",
    "argv[0]: main.py\n",
    "Product: 100\n",
    "Add: 52"
   ]
  },
  {
   "cell_type": "markdown",
   "metadata": {},
   "source": [
    "## I/O: 在螢幕上輸出訊息\n",
    "\n",
    "       \n",
    "### 逗號『 , 』做分隔\n",
    " \n",
    " - 用簡單的逗號就可以達成 \"輸出文字\" 與 \"數字混合\" 的訊息！"
   ]
  },
  {
   "cell_type": "code",
   "execution_count": 31,
   "metadata": {},
   "outputs": [
    {
     "name": "stdout",
     "output_type": "stream",
     "text": [
      "I am 18 years old.\n"
     ]
    }
   ],
   "source": [
    "age = 18\n",
    "\n",
    "print(\"I am\", age, \"years old.\")\n"
   ]
  },
  {
   "cell_type": "markdown",
   "metadata": {},
   "source": [
    "### 類別 repr(str).rjust(N)\n",
    "\n",
    " - repr(str).rjust)N)：保留 N 位數，並預設**向右對齊** (可記成 right just)\n",
    " \n",
    " \n",
    " \n",
    " - repr(str).ljust(N)：保留 N 字元，並且**向左對齊** (可記成 left just)\n",
    " \n",
    " \n",
    " - repr(str).center(N)：保留 N 字元，並且**左右對齊(置中)** (可記成 center just)"
   ]
  },
  {
   "cell_type": "code",
   "execution_count": 2,
   "metadata": {},
   "outputs": [
    {
     "name": "stdout",
     "output_type": "stream",
     "text": [
      " 1x 1= 1\n",
      " 1x 2= 2\n",
      " 1x 3= 3\n",
      " 1x 4= 4\n",
      "\n",
      " 2x 1= 2\n",
      " 2x 2= 4\n",
      " 2x 3= 6\n",
      " 2x 4= 8\n",
      "\n",
      " 3x 1= 3\n",
      " 3x 2= 6\n",
      " 3x 3= 9\n",
      " 3x 4=12\n",
      "\n"
     ]
    }
   ],
   "source": [
    "for i in range(1,4):\n",
    "    #  先開一個空格\n",
    "    str = \"\"\n",
    "    \n",
    "    for j in range(1,5):\n",
    "        # str += : str = str + someting\n",
    "        str += repr(i).rjust(2) + \"x\"+ repr(j).rjust(2) + \"=\"+ repr(i*j).rjust(2)+\"\\n\"\n",
    "    \n",
    "    # print 要放在內圈的 for！\n",
    "    # 放在 外圈的 for 只會在 i = 3 不動 !\n",
    "    print(str)"
   ]
  },
  {
   "cell_type": "markdown",
   "metadata": {},
   "source": [
    "## 字串的方法 str.format()\n",
    "\n",
    " - “字串{變數}”.format(對應變數)\n",
    " \n",
    " \n",
    " - 變數格式的語法：{變數序號, 格式}\n",
    " \n",
    " \n",
    " - 變數序號：如果你有好幾個不同的變數，就必須要從 **0** 開始往後編號\n",
    " \n",
    " \n",
    " - 格式：\n",
    "   + 預留字元數\n",
    "   + 變數型態 \n",
    "      - **d:  整數**\n",
    "      - **f:  浮點數**\n",
    " \n",
    " "
   ]
  },
  {
   "cell_type": "markdown",
   "metadata": {},
   "source": [
    "### Example 1:"
   ]
  },
  {
   "cell_type": "code",
   "execution_count": 4,
   "metadata": {},
   "outputs": [
    {
     "name": "stdout",
     "output_type": "stream",
     "text": [
      "{0:2d}: 0 表示第一個位置， d 代表整數， 2 表示 [_,_]\n",
      "{1:3d}: 1 表示第一個位置， d 代表整數， 3 表示 [_,_,_]\n",
      " 1:   1\n",
      " 2:   4\n",
      " 3:   9\n",
      " 4:  16\n",
      " 5:  25\n"
     ]
    }
   ],
   "source": [
    "print(\"{0:2d}: 0 表示第一個位置， d 代表整數， 2 表示 [_,_]\")\n",
    "print(\"{1:3d}: 1 表示第一個位置， d 代表整數， 3 表示 [_,_,_]\")\n",
    "    \n",
    "for i in range(1,6):\n",
    "    print(\"{0:2d}: {1:3d}\".format(i,i*i))"
   ]
  },
  {
   "cell_type": "markdown",
   "metadata": {},
   "source": [
    "### Example 2:\n",
    "\n",
    " - 假設有 2 個不同的變數\n",
    "   + 1 個整數 <要預留 **3 位數**>\n",
    "   + 1 個浮點數  <要預留 **1位整數**、**5位小數**>"
   ]
  },
  {
   "cell_type": "code",
   "execution_count": 11,
   "metadata": {},
   "outputs": [
    {
     "name": "stdout",
     "output_type": "stream",
     "text": [
      "{0:3d}: 0 代表第一個位置, d 代表整數, 3 表示 [_,_,_]\n",
      "\t\n",
      "{1:6.5f}: 1 代表第二個位置, f 代表符點數, 6.5 表示[_,_,_,_,_,_]. [_,_,_,_,_]\n",
      "\n",
      "\n",
      "I'm  18 years old. And Pi is 3.14159\n"
     ]
    }
   ],
   "source": [
    "import math\n",
    "\n",
    "\n",
    "print(\"{0:3d}: 0 代表第一個位置, d 代表整數, 3 表示 [_,_,_]\")\n",
    "\n",
    "print(\"\\t\")\n",
    "\n",
    "print(\"{1:6.5f}: 1 代表第二個位置, f 代表符點數, 6.5 表示[_,_,_,_,_,_]. [_,_,_,_,_]\")\n",
    "\n",
    "\n",
    "print(\"\\n\")\n",
    "print(\"I'm {0:3d} years old. And Pi is {1:6.5f}\".format(18, math.pi))\n"
   ]
  },
  {
   "cell_type": "markdown",
   "metadata": {},
   "source": [
    "### Example 3\n",
    " - 使用字典 dictionary 加上**與format搭配印出指定的資料\n",
    " - e.g.,\n",
    "  > .format(**dictionary)"
   ]
  },
  {
   "cell_type": "code",
   "execution_count": 21,
   "metadata": {},
   "outputs": [
    {
     "name": "stdout",
     "output_type": "stream",
     "text": [
      "{Andy:d}: Andy 代表第一個位置, d 代表整數\n",
      "\n",
      "----------------------------\n",
      " 特別的語法： .format(**dict) \n",
      "----------------------------\n",
      " Andy got 100 and Emily got 75\n"
     ]
    }
   ],
   "source": [
    "# input dictionary dataset\n",
    "dict = {\"Andy\": 100, \"Betty\": 60, \"Cindy\": 85, \"Denny\": 20, \"Emily\": 75}\n",
    "\n",
    "\n",
    "print(\"{Andy:d}: Andy 代表第一個位置, d 代表整數\")\n",
    "\n",
    "\n",
    "print(\"\\n----------------------------\")\n",
    "print(\" 特別的語法： .format(**dict) \")\n",
    "print(\"----------------------------\")\n",
    "print(\" Andy got {Andy:d} and Emily got {Emily:d}\".format(**dict))"
   ]
  },
  {
   "cell_type": "markdown",
   "metadata": {},
   "source": [
    "# Open / Read / Write the file\n",
    "\n",
    " - **open()** 可用來\n",
    " \n",
    "   + 開啟\n",
    "   \n",
    "   + 讀取檔案\n",
    "   \n",
    "   + open(\"filename\", \"方法\", encoding = \"編碼\")\n",
    "   \n",
    "     - 方法：\n",
    "       + r:  只有讀取\n",
    "       + w:  完全取代原有內容\n",
    "       + a:  增加新的內容至文件尾端\n",
    "       + r+: 讀取加寫入\n",
    "   \n",
    "   \n",
    "   \n",
    " - 讀取檔案內容：\n",
    "   + **file.read()**"
   ]
  },
  {
   "cell_type": "code",
   "execution_count": 56,
   "metadata": {},
   "outputs": [
    {
     "name": "stdout",
     "output_type": "stream",
     "text": [
      "\n",
      "----------------------------\n",
      "            先打開             \n",
      "------------------------------\n",
      "file = open(path_name, \"r\", encoding = \"utf8\")\n",
      "\n",
      "\n",
      "\n",
      "----------------------------\n",
      "          讀取資料             \n",
      "------------------------------\n",
      "file.read()\n",
      "output:\n",
      "Id,MSSubClass,MSZoning,LotFrontage,LotArea,Street,Alley,LotShape,LandContour,Utilities,LotConfig,Lan\n"
     ]
    }
   ],
   "source": [
    "path_name = \"../dataset/house_train.csv\"\n",
    "\n",
    "print(\"\\n----------------------------\")\n",
    "print(\"            先打開             \")\n",
    "print(\"------------------------------\")\n",
    "\n",
    "print('file = open(path_name, \"r\", encoding = \"utf8\")')\n",
    "\n",
    "file = open(path_name, \"r\", encoding = \"utf8\")\n",
    "\n",
    "# UTF-8（8-bit Unicode Transformation Format）\n",
    "# 是一種針對Unicode的可變長度字元編碼，也是一種字首碼。\n",
    "\n",
    "\n",
    "print(\"\\n\")\n",
    "\n",
    "print(\"\\n----------------------------\")\n",
    "print(\"          讀取資料             \")\n",
    "print(\"------------------------------\")\n",
    "\n",
    "print(\"file.read()\")\n",
    "print(\"output:\")\n",
    "print(file.read()[0:100]) # 擷取前100的資料\n",
    "\n"
   ]
  },
  {
   "cell_type": "code",
   "execution_count": 49,
   "metadata": {},
   "outputs": [
    {
     "name": "stdout",
     "output_type": "stream",
     "text": [
      "\n",
      "----------------------------\n",
      "結束後，要記得把檔案關閉    \n",
      "------------------------------\n"
     ]
    }
   ],
   "source": [
    "print(\"\\n----------------------------\")\n",
    "print(      \"結束後，要記得把檔案關閉    \")\n",
    "print(\"------------------------------\")\n",
    "file.close()"
   ]
  },
  {
   "cell_type": "markdown",
   "metadata": {},
   "source": [
    "### 另一種更安全的讀寫檔方法『with open() as file』？？？"
   ]
  },
  {
   "cell_type": "code",
   "execution_count": 58,
   "metadata": {},
   "outputs": [
    {
     "ename": "FileNotFoundError",
     "evalue": "[Errno 2] No such file or directory: 'path_name'",
     "output_type": "error",
     "traceback": [
      "\u001b[0;31m---------------------------------------------------------------------------\u001b[0m",
      "\u001b[0;31mFileNotFoundError\u001b[0m                         Traceback (most recent call last)",
      "\u001b[0;32m<ipython-input-58-2a594d3e5b78>\u001b[0m in \u001b[0;36m<module>\u001b[0;34m\u001b[0m\n\u001b[1;32m      4\u001b[0m \u001b[0mpath_name\u001b[0m \u001b[0;34m=\u001b[0m \u001b[0;34m\"../dataset/house_train.csv\"\u001b[0m\u001b[0;34m\u001b[0m\u001b[0;34m\u001b[0m\u001b[0m\n\u001b[1;32m      5\u001b[0m \u001b[0;34m\u001b[0m\u001b[0m\n\u001b[0;32m----> 6\u001b[0;31m \u001b[0;32mwith\u001b[0m \u001b[0mopen\u001b[0m\u001b[0;34m(\u001b[0m\u001b[0;34m'path_name'\u001b[0m\u001b[0;34m,\u001b[0m \u001b[0;34m'r'\u001b[0m\u001b[0;34m,\u001b[0m \u001b[0mencoding\u001b[0m \u001b[0;34m=\u001b[0m \u001b[0;34m\"utf8\"\u001b[0m\u001b[0;34m)\u001b[0m \u001b[0;32mas\u001b[0m \u001b[0mread_f\u001b[0m\u001b[0;34m:\u001b[0m\u001b[0;34m\u001b[0m\u001b[0;34m\u001b[0m\u001b[0m\n\u001b[0m\u001b[1;32m      7\u001b[0m     \u001b[0;32mfor\u001b[0m \u001b[0mrow\u001b[0m \u001b[0;32min\u001b[0m \u001b[0mread_f\u001b[0m\u001b[0;34m.\u001b[0m\u001b[0mreading\u001b[0m\u001b[0;34m(\u001b[0m\u001b[0;34m)\u001b[0m\u001b[0;34m:\u001b[0m\u001b[0;34m\u001b[0m\u001b[0;34m\u001b[0m\u001b[0m\n\u001b[1;32m      8\u001b[0m         \u001b[0;31m# strip(\\n) 去除換行符號\u001b[0m\u001b[0;34m\u001b[0m\u001b[0;34m\u001b[0m\u001b[0;34m\u001b[0m\u001b[0m\n",
      "\u001b[0;31mFileNotFoundError\u001b[0m: [Errno 2] No such file or directory: 'path_name'"
     ]
    }
   ],
   "source": [
    "# 先開一個 list 的空間\n",
    "mu_list = []\n",
    "\n",
    "path_name = \"../dataset/house_train.csv\"\n",
    "\n",
    "with open('path_name', 'r', encoding = \"utf8\") as read_f:\n",
    "    for row in read_f.reading():\n",
    "        # strip(\\n) 去除換行符號\n",
    "        my_list.append(row.strip(\"\\n\"))\n",
    "        "
   ]
  },
  {
   "cell_type": "code",
   "execution_count": 61,
   "metadata": {},
   "outputs": [],
   "source": [
    "\n",
    "for data in my_list:\n",
    "    print(data)\n"
   ]
  },
  {
   "cell_type": "markdown",
   "metadata": {},
   "source": [
    "## 讀取JSON檔\n",
    "\n",
    " - 先建立一個JSON檔吧！將下列JSON內容另存成『json.json』！\n",
    " "
   ]
  },
  {
   "cell_type": "code",
   "execution_count": 68,
   "metadata": {},
   "outputs": [
    {
     "data": {
      "text/plain": [
       "[{'location': '桃園區',\n",
       "  '面積': 34.8046,\n",
       "  '下轄里數': 76,\n",
       "  '下轄鄰數': 1725,\n",
       "  '人口數': 439643,\n",
       "  '人口增減': '+467',\n",
       "  '人口密度': 12632,\n",
       "  '郵遞區號': 330},\n",
       " {'location': '中壢區',\n",
       "  '面積': 76.52,\n",
       "  '下轄里數': 85,\n",
       "  '下轄鄰數': 1943,\n",
       "  '人口數': 403915,\n",
       "  '人口增減': '+597',\n",
       "  '人口密度': 5279,\n",
       "  '郵遞區號': 320},\n",
       " {'location': '大溪區',\n",
       "  '面積': 105.1206,\n",
       "  '下轄里數': 27,\n",
       "  '下轄鄰數': 685,\n",
       "  '人口數': 94370,\n",
       "  '人口增減': '+45',\n",
       "  '人口密度': 898,\n",
       "  '郵遞區號': 335},\n",
       " {'location': '楊梅區',\n",
       "  '面積': 89.1229,\n",
       "  '下轄里數': 41,\n",
       "  '下轄鄰數': 972,\n",
       "  '人口數': 167075,\n",
       "  '人口增減': '+282',\n",
       "  '人口密度': 1875,\n",
       "  '郵遞區號': 326},\n",
       " {'location': '蘆竹區',\n",
       "  '面積': 75.5025,\n",
       "  '下轄里數': 37,\n",
       "  '下轄鄰數': 663,\n",
       "  '人口數': 161450,\n",
       "  '人口增減': '+257',\n",
       "  '人口密度': 2138,\n",
       "  '郵遞區號': 338},\n",
       " {'location': '大園區',\n",
       "  '面積': 87.3925,\n",
       "  '下轄里數': 18,\n",
       "  '下轄鄰數': 425,\n",
       "  '人口數': 88860,\n",
       "  '人口增減': '+131',\n",
       "  '人口密度': 1017,\n",
       "  '郵遞區號': 337},\n",
       " {'location': '龜山區',\n",
       "  '面積': 72.0177,\n",
       "  '下轄里數': 30,\n",
       "  '下轄鄰數': 804,\n",
       "  '人口數': 156971,\n",
       "  '人口增減': '+335',\n",
       "  '人口密度': 2180,\n",
       "  '郵遞區號': 333},\n",
       " {'location': '八德區',\n",
       "  '面積': 33.7111,\n",
       "  '下轄里數': 48,\n",
       "  '下轄鄰數': 1305,\n",
       "  '人口數': 197261,\n",
       "  '人口增減': '+369',\n",
       "  '人口密度': 5852,\n",
       "  '郵遞區號': 334},\n",
       " {'location': '龍潭區',\n",
       "  '面積': 75.2341,\n",
       "  '下轄里數': 30,\n",
       "  '下轄鄰數': 897,\n",
       "  '人口數': 121496,\n",
       "  '人口增減': '+126',\n",
       "  '人口密度': 1615,\n",
       "  '郵遞區號': 325},\n",
       " {'location': '平鎮區',\n",
       "  '面積': 47.7532,\n",
       "  '下轄里數': 46,\n",
       "  '下轄鄰數': 1497,\n",
       "  '人口數': 223754,\n",
       "  '人口增減': '+254',\n",
       "  '人口密度': 4686,\n",
       "  '郵遞區號': 324},\n",
       " {'location': '新屋區',\n",
       "  '面積': 85.0166,\n",
       "  '下轄里數': 23,\n",
       "  '下轄鄰數': 270,\n",
       "  '人口數': 48888,\n",
       "  '人口增減': '+26',\n",
       "  '人口密度': 575,\n",
       "  '郵遞區號': 327},\n",
       " {'location': '觀音區',\n",
       "  '面積': 87.9807,\n",
       "  '下轄里數': 24,\n",
       "  '下轄鄰數': 402,\n",
       "  '人口數': 66334,\n",
       "  '人口增減': '+110',\n",
       "  '人口密度': 754,\n",
       "  '郵遞區號': 328},\n",
       " {'location': '復興區',\n",
       "  '面積': 350.7775,\n",
       "  '下轄里數': 10,\n",
       "  '下轄鄰數': 125,\n",
       "  '人口數': 11453,\n",
       "  '人口增減': '+13',\n",
       "  '人口密度': 33,\n",
       "  '郵遞區號': 336}]"
      ]
     },
     "execution_count": 68,
     "metadata": {},
     "output_type": "execute_result"
    }
   ],
   "source": [
    "[{\"location\":\"桃園區\",\"面積\":34.8046,\"下轄里數\":76,\"下轄鄰數\":1725,\"人口數\":439643,\"人口增減\":\"+467\",\"人口密度\":12632,\"郵遞區號\":330},\n",
    "{\"location\":\"中壢區\",\"面積\":76.5200,\"下轄里數\":85,\"下轄鄰數\":1943,\"人口數\":403915,\"人口增減\":\"+597\",\"人口密度\":5279,\"郵遞區號\":320},\n",
    "{\"location\":\"大溪區\",\"面積\":105.1206,\"下轄里數\":27,\"下轄鄰數\":685,\"人口數\":94370,\"人口增減\":\"+45\",\"人口密度\":898,\"郵遞區號\":335},\n",
    "{\"location\":\"楊梅區\",\"面積\":89.1229,\"下轄里數\":41,\"下轄鄰數\":972,\"人口數\":167075,\"人口增減\":\"+282\",\"人口密度\":1875,\"郵遞區號\":326},\n",
    "{\"location\":\"蘆竹區\",\"面積\":75.5025,\"下轄里數\":37,\"下轄鄰數\":663,\"人口數\":161450,\"人口增減\":\"+257\",\"人口密度\":2138,\"郵遞區號\":338},\n",
    "{\"location\":\"大園區\",\"面積\":87.3925,\"下轄里數\":18,\"下轄鄰數\":425,\"人口數\":88860,\"人口增減\":\"+131\",\"人口密度\":1017,\"郵遞區號\":337},\n",
    "{\"location\":\"龜山區\",\"面積\":72.0177,\"下轄里數\":30,\"下轄鄰數\":804,\"人口數\":156971,\"人口增減\":\"+335\",\"人口密度\":2180,\"郵遞區號\":333},\n",
    "{\"location\":\"八德區\",\"面積\":33.7111,\"下轄里數\":48,\"下轄鄰數\":1305,\"人口數\":197261,\"人口增減\":\"+369\",\"人口密度\":5852,\"郵遞區號\":334},\n",
    "{\"location\":\"龍潭區\",\"面積\":75.2341,\"下轄里數\":30,\"下轄鄰數\":897,\"人口數\":121496,\"人口增減\":\"+126\",\"人口密度\":1615,\"郵遞區號\":325},\n",
    "{\"location\":\"平鎮區\",\"面積\":47.7532,\"下轄里數\":46,\"下轄鄰數\":1497,\"人口數\":223754,\"人口增減\":\"+254\",\"人口密度\":4686,\"郵遞區號\":324},\n",
    "{\"location\":\"新屋區\",\"面積\":85.0166,\"下轄里數\":23,\"下轄鄰數\":270,\"人口數\":48888,\"人口增減\":\"+26\",\"人口密度\":575,\"郵遞區號\":327},\n",
    "{\"location\":\"觀音區\",\"面積\":87.9807,\"下轄里數\":24,\"下轄鄰數\":402,\"人口數\":66334,\"人口增減\":\"+110\",\"人口密度\":754,\"郵遞區號\":328},\n",
    "{\"location\":\"復興區\",\"面積\":350.7775,\"下轄里數\":10,\"下轄鄰數\":125,\"人口數\":11453,\"人口增減\":\"+13\",\"人口密度\":33,\"郵遞區號\":336}]"
   ]
  },
  {
   "cell_type": "markdown",
   "metadata": {},
   "source": [
    " - 讀取方法如下：\n",
    "   + 需要先匯入json模組，才能使用json.loads讀取"
   ]
  },
  {
   "cell_type": "code",
   "execution_count": 75,
   "metadata": {},
   "outputs": [
    {
     "name": "stdout",
     "output_type": "stream",
     "text": [
      "桃園區 34.8046\n",
      "\t\n",
      "中壢區 76.52\n"
     ]
    }
   ],
   "source": [
    "# 匯入json模組\n",
    "import json\n",
    "\n",
    "file = open('../dataset/json.json', 'r', encoding='utf8')\n",
    "\n",
    "\n",
    "# 讀取JSON檔的方法json.loads(file.read())\n",
    "taoyuan = json.loads(file.read())\n",
    "\n",
    "print(taoyuan[0][\"location\"], taoyuan[0][\"面積\"])\n",
    "\n",
    "print(\"\\t\")\n",
    "\n",
    "print(taoyuan[1][\"location\"], taoyuan[1][\"面積\"])\n",
    "\n",
    "\n",
    "# file.close()"
   ]
  },
  {
   "cell_type": "markdown",
   "metadata": {},
   "source": [
    "## 寫入JSON檔 ？？？\n",
    " \n",
    " - 本範例包含解決 Python **寫入中文字** 的問題！\n",
    " \n",
    " \n",
    " \n",
    " - 為解決中文字寫入的問題，必須要**先匯入codecs**！\n",
    " \n",
    " "
   ]
  },
  {
   "cell_type": "code",
   "execution_count": 79,
   "metadata": {},
   "outputs": [
    {
     "ename": "TypeError",
     "evalue": "__init__() got an unexpected keyword argument 'ensure_ascil'",
     "output_type": "error",
     "traceback": [
      "\u001b[0;31m---------------------------------------------------------------------------\u001b[0m",
      "\u001b[0;31mTypeError\u001b[0m                                 Traceback (most recent call last)",
      "\u001b[0;32m<ipython-input-79-50b6ff0bbaf1>\u001b[0m in \u001b[0;36m<module>\u001b[0;34m\u001b[0m\n\u001b[1;32m      9\u001b[0m \u001b[0;34m\u001b[0m\u001b[0m\n\u001b[1;32m     10\u001b[0m     \u001b[0;31m# 將 Python 對象編碼成 json 字符串\u001b[0m\u001b[0;34m\u001b[0m\u001b[0;34m\u001b[0m\u001b[0;34m\u001b[0m\u001b[0m\n\u001b[0;32m---> 11\u001b[0;31m     \u001b[0mstr\u001b[0m \u001b[0;34m=\u001b[0m \u001b[0mjson\u001b[0m\u001b[0;34m.\u001b[0m\u001b[0mdumps\u001b[0m\u001b[0;34m(\u001b[0m\u001b[0mdict\u001b[0m\u001b[0;34m,\u001b[0m \u001b[0mensure_ascil\u001b[0m \u001b[0;34m=\u001b[0m \u001b[0;32mFalse\u001b[0m\u001b[0;34m)\u001b[0m\u001b[0;34m\u001b[0m\u001b[0;34m\u001b[0m\u001b[0m\n\u001b[0m\u001b[1;32m     12\u001b[0m \u001b[0;34m\u001b[0m\u001b[0m\n\u001b[1;32m     13\u001b[0m     \u001b[0mwf\u001b[0m\u001b[0;34m.\u001b[0m\u001b[0mwrite\u001b[0m\u001b[0;34m(\u001b[0m\u001b[0mstr\u001b[0m\u001b[0;34m)\u001b[0m\u001b[0;34m\u001b[0m\u001b[0;34m\u001b[0m\u001b[0m\n",
      "\u001b[0;32m~/anaconda3/lib/python3.7/json/__init__.py\u001b[0m in \u001b[0;36mdumps\u001b[0;34m(obj, skipkeys, ensure_ascii, check_circular, allow_nan, cls, indent, separators, default, sort_keys, **kw)\u001b[0m\n\u001b[1;32m    236\u001b[0m         \u001b[0mcheck_circular\u001b[0m\u001b[0;34m=\u001b[0m\u001b[0mcheck_circular\u001b[0m\u001b[0;34m,\u001b[0m \u001b[0mallow_nan\u001b[0m\u001b[0;34m=\u001b[0m\u001b[0mallow_nan\u001b[0m\u001b[0;34m,\u001b[0m \u001b[0mindent\u001b[0m\u001b[0;34m=\u001b[0m\u001b[0mindent\u001b[0m\u001b[0;34m,\u001b[0m\u001b[0;34m\u001b[0m\u001b[0;34m\u001b[0m\u001b[0m\n\u001b[1;32m    237\u001b[0m         \u001b[0mseparators\u001b[0m\u001b[0;34m=\u001b[0m\u001b[0mseparators\u001b[0m\u001b[0;34m,\u001b[0m \u001b[0mdefault\u001b[0m\u001b[0;34m=\u001b[0m\u001b[0mdefault\u001b[0m\u001b[0;34m,\u001b[0m \u001b[0msort_keys\u001b[0m\u001b[0;34m=\u001b[0m\u001b[0msort_keys\u001b[0m\u001b[0;34m,\u001b[0m\u001b[0;34m\u001b[0m\u001b[0;34m\u001b[0m\u001b[0m\n\u001b[0;32m--> 238\u001b[0;31m         **kw).encode(obj)\n\u001b[0m\u001b[1;32m    239\u001b[0m \u001b[0;34m\u001b[0m\u001b[0m\n\u001b[1;32m    240\u001b[0m \u001b[0;34m\u001b[0m\u001b[0m\n",
      "\u001b[0;31mTypeError\u001b[0m: __init__() got an unexpected keyword argument 'ensure_ascil'"
     ]
    }
   ],
   "source": [
    "import codecs\n",
    "\n",
    "dict = {\"台灣人口\": 23000000, \"台灣地理位置\": \"亞洲\"}\n",
    "\n",
    "# 開檔案改用 codecs \n",
    "\n",
    "with codecs.open(\"my_writing_JSON\",\"w\",\"utf8\") as wf:\n",
    "    # ensure_ascii一定要設定成False，否則無法正確寫入中文\n",
    "    \n",
    "    # 將 Python 對象編碼成 json 字符串\n",
    "    str = json.dumps(dict, ensure_ascil = False)\n",
    "    \n",
    "    wf.write(str)\n"
   ]
  }
 ],
 "metadata": {
  "kernelspec": {
   "display_name": "Python 3",
   "language": "python",
   "name": "python3"
  },
  "language_info": {
   "codemirror_mode": {
    "name": "ipython",
    "version": 3
   },
   "file_extension": ".py",
   "mimetype": "text/x-python",
   "name": "python",
   "nbconvert_exporter": "python",
   "pygments_lexer": "ipython3",
   "version": "3.7.3"
  }
 },
 "nbformat": 4,
 "nbformat_minor": 2
}
