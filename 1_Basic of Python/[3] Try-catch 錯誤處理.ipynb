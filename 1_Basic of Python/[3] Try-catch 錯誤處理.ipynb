{
 "cells": [
  {
   "cell_type": "markdown",
   "metadata": {},
   "source": [
    "## Reference\n",
    "[1]. [https://www.brilliantcode.net](https://www.brilliantcode.net/753/python3-6-try-catch/)"
   ]
  },
  {
   "cell_type": "markdown",
   "metadata": {},
   "source": [
    "# Try-catch\n",
    "\n",
    "\n",
    " - try 執行\n",
    " \n",
    " \n",
    " - except 例外\n",
    " \n",
    " \n",
    " - else 出錯就執行這區塊\n",
    " \n",
    " \n",
    " - finally 任何狀況下都要執行的區塊\n",
    " \n",
    " \n",
    " - raise 拋出錯誤\n",
    " \n",
    " "
   ]
  },
  {
   "cell_type": "markdown",
   "metadata": {},
   "source": [
    "> Python 的錯誤處理架構與**Java**或是**其他程式語言**差異不大，透過其他程式語言個觀念來思考可以加速理解喔！\n",
    "\n",
    ">藉由適當的錯誤處理，讓你的程式立於不敗之地～\n",
    "\n",
    ">(以下語法皆以Python3.6撰寫。)"
   ]
  },
  {
   "cell_type": "markdown",
   "metadata": {},
   "source": [
    "# Try-catch 語法"
   ]
  },
  {
   "cell_type": "code",
   "execution_count": 13,
   "metadata": {},
   "outputs": [
    {
     "name": "stdout",
     "output_type": "stream",
     "text": [
      "---------------\n",
      " Try-catch 語法\n",
      "---------------\n",
      "\n",
      "try: \n",
      "\n",
      "   #你要執行的程式 \n",
      "\n",
      "expect <錯誤類型>: \n",
      "\n",
      "   #發生錯誤時要執行的程式 \n",
      "\n"
     ]
    }
   ],
   "source": [
    "print(\"---------------\")\n",
    "print(\" Try-catch 語法\")\n",
    "print(\"---------------\\n\")\n",
    "\n",
    "\n",
    "print(\"try: \\n\")\n",
    "print(\"   #你要執行的程式 \\n\")\n",
    "\n",
    "print(\"expect <錯誤類型>: \\n\")\n",
    "print(\"   #發生錯誤時要執行的程式 \\n\")\n"
   ]
  },
  {
   "cell_type": "markdown",
   "metadata": {},
   "source": [
    "# 建構 Try-catch 時\n",
    "\n",
    "\n",
    " - 1. 先考慮到執行這段程式時會發生哪些錯誤。\n",
    "\n",
    "\n",
    " - 2. 再把可能會發生的錯誤處理規劃好！\n",
    " \n",
    " \n",
    " - 3. [Python各類型錯誤(Python Exception Type)](https://docs.python.org/3.6/library/exceptions.html)"
   ]
  },
  {
   "cell_type": "markdown",
   "metadata": {},
   "source": [
    "### Example 1\n",
    "\n",
    "> except ValueError:"
   ]
  },
  {
   "cell_type": "code",
   "execution_count": 16,
   "metadata": {},
   "outputs": [
    {
     "name": "stdout",
     "output_type": "stream",
     "text": [
      "@1 請輸入數字：oe\n",
      "@1 Hello! Your input is not 'numeric', Please try again!\n",
      "@1 請輸入數字：1\n",
      "@1 你剛才輸入的是： 1\n"
     ]
    }
   ],
   "source": [
    "while True:\n",
    "    try:\n",
    "        # 直接將 input (輸入值) 轉換成 numeric (數字)\n",
    "        # so, if imput is not numeric will be error!!!\n",
    "        \n",
    "        x = int( input(\"@1 請輸入數字：\") )\n",
    "        print(\"@1 你剛才輸入的是：\", x)\n",
    "        \n",
    "        break # 跳出迴圈\n",
    "        \n",
    "     # 數值錯誤 (input numeric error)   \n",
    "    except ValueError:\n",
    "        print(\"@1 Hello! Your input is not 'numeric', Please try again!\")"
   ]
  },
  {
   "cell_type": "markdown",
   "metadata": {},
   "source": [
    "### Example 2 ???? 看不出所以然\n",
    "\n",
    "\n",
    "#### 數值除以零的錯誤\n",
    "> except ZeroDivisionError :"
   ]
  },
  {
   "cell_type": "code",
   "execution_count": 22,
   "metadata": {},
   "outputs": [
    {
     "name": "stdout",
     "output_type": "stream",
     "text": [
      "@2 1不能除以 0, 誰都不行！\n"
     ]
    }
   ],
   "source": [
    "try:\n",
    "    # 故意除以 0 \n",
    "    print(\"@2 {0}除以 0 !\".format(x/0))\n",
    "\n",
    "    \n",
    "# 數值除以零的錯誤\n",
    "except ZeroDivisionError:\n",
    "    print(\"@2 {0}不能除以 0, 誰都不行！\".format(x))\n",
    "    "
   ]
  },
  {
   "cell_type": "markdown",
   "metadata": {},
   "source": [
    "### Example 3 \n",
    "\n",
    "\n",
    "#### 變數 “未宣告” 的 error \n",
    "> except NameError :"
   ]
  },
  {
   "cell_type": "code",
   "execution_count": 1,
   "metadata": {},
   "outputs": [
    {
     "name": "stdout",
     "output_type": "stream",
     "text": [
      "@3 變數未宣告的 error!!!\n"
     ]
    }
   ],
   "source": [
    "try:\n",
    "    # 故意使用沒有 “宣告” 過的變數 「magic_number」\n",
    "    print(\"@3 兩數相乘: {0}\", x * magic_number)\n",
    "    \n",
    "# 變數 “未宣告” 的 error \n",
    "except NameError:\n",
    "    print(\"@3 變數未宣告的 error!!!\")"
   ]
  },
  {
   "cell_type": "markdown",
   "metadata": {},
   "source": [
    "# 無法確定會發生什麼錯誤的做法\n",
    "\n",
    "> expect\n",
    "\n",
    "### sys.exc_info()[0] : 這是用來取出 except 的錯誤訊息的方法"
   ]
  },
  {
   "cell_type": "code",
   "execution_count": 11,
   "metadata": {},
   "outputs": [
    {
     "name": "stdout",
     "output_type": "stream",
     "text": [
      "Unexpected error: <class 'ZeroDivisionError'>\n",
      "\n",
      "---------------------------------------\n",
      "The error said that ZeroDivisionError!\t\n",
      "數值除以零的錯誤\n"
     ]
    }
   ],
   "source": [
    "import sys\n",
    "\n",
    "try:\n",
    "    mm = 9/0\n",
    "\n",
    "except:\n",
    "    # sys.exc_info()[0] \n",
    "    print(\"Unexpected error:\", sys.exc_info()[0])\n",
    "    \n",
    "print(\"\\n---------------------------------------\")\n",
    "print(\"The error said that ZeroDivisionError!\\t\") \n",
    "print(\"數值除以零的錯誤\")"
   ]
  },
  {
   "cell_type": "markdown",
   "metadata": {},
   "source": [
    "# 拋出錯誤  ????? 目的不清楚\n",
    "\n",
    "## raise 錯誤類型(“錯誤訊息”)\n",
    "\n",
    " - 拋出錯誤的語法就是這麼簡單！"
   ]
  },
  {
   "cell_type": "code",
   "execution_count": 15,
   "metadata": {},
   "outputs": [
    {
     "name": "stdout",
     "output_type": "stream",
     "text": [
      "We got Name Error!!\n"
     ]
    },
    {
     "ename": "NameError",
     "evalue": "This is Name Error!!",
     "output_type": "error",
     "traceback": [
      "\u001b[0;31m---------------------------------------------------------------------------\u001b[0m",
      "\u001b[0;31mNameError\u001b[0m                                 Traceback (most recent call last)",
      "\u001b[0;32m<ipython-input-15-d4ddfe1b9cf9>\u001b[0m in \u001b[0;36m<module>\u001b[0;34m\u001b[0m\n\u001b[1;32m      1\u001b[0m \u001b[0;32mtry\u001b[0m\u001b[0;34m:\u001b[0m\u001b[0;34m\u001b[0m\u001b[0;34m\u001b[0m\u001b[0m\n\u001b[0;32m----> 2\u001b[0;31m     \u001b[0;32mraise\u001b[0m \u001b[0mNameError\u001b[0m\u001b[0;34m(\u001b[0m\u001b[0;34m\"This is Name Error!!\"\u001b[0m\u001b[0;34m)\u001b[0m\u001b[0;34m\u001b[0m\u001b[0;34m\u001b[0m\u001b[0m\n\u001b[0m\u001b[1;32m      3\u001b[0m \u001b[0;34m\u001b[0m\u001b[0m\n\u001b[1;32m      4\u001b[0m \u001b[0;32mexcept\u001b[0m \u001b[0mNameError\u001b[0m\u001b[0;34m:\u001b[0m\u001b[0;34m\u001b[0m\u001b[0;34m\u001b[0m\u001b[0m\n\u001b[1;32m      5\u001b[0m         \u001b[0mprint\u001b[0m\u001b[0;34m(\u001b[0m\u001b[0;34m\"We got Name Error!!\"\u001b[0m\u001b[0;34m)\u001b[0m\u001b[0;34m\u001b[0m\u001b[0;34m\u001b[0m\u001b[0m\n",
      "\u001b[0;31mNameError\u001b[0m: This is Name Error!!"
     ]
    }
   ],
   "source": [
    "try: \n",
    "    raise NameError(\"This is Name Error!!\")\n",
    "\n",
    "except NameError:\n",
    "        print(\"We got Name Error!!\")\n",
    "        raise"
   ]
  },
  {
   "cell_type": "markdown",
   "metadata": {},
   "source": [
    "# 完整的 Try-catch 架構\n",
    "\n",
    "\n",
    "### Try-catch 的完整結構應該是這樣： try, except, else, finally\n",
    "\n",
    "\n",
    " - try： 需要被監控是否會出錯的程式區塊\n",
    "\n",
    "\n",
    " -  except： 出了哪種錯誤，要有怎樣相對應的處理\n",
    "\n",
    "\n",
    " -  else： 都沒錯誤，就會執行此區塊的程式\n",
    "\n",
    "\n",
    " -  finally： 不論如何都會執行此區塊的程式\n",
    " \n",
    " \n"
   ]
  },
  {
   "cell_type": "markdown",
   "metadata": {},
   "source": [
    "### 定義一個函數 def"
   ]
  },
  {
   "cell_type": "code",
   "execution_count": 19,
   "metadata": {},
   "outputs": [],
   "source": [
    "\n",
    "def divided(x,y):\n",
    "    try:\n",
    "        result = x / y\n",
    "    \n",
    "    except ZeroDivisionError:\n",
    "        print(\"不能除以 0 !!!!\")\n",
    "        \n",
    "    else:\n",
    "        print(\"相除的結果是：\", result)\n",
    "        \n",
    "    finally:\n",
    "        print(\"不論如何都會執行 finally\")\n",
    "        "
   ]
  },
  {
   "cell_type": "markdown",
   "metadata": {},
   "source": [
    "### 執行結果 "
   ]
  },
  {
   "cell_type": "code",
   "execution_count": 20,
   "metadata": {},
   "outputs": [
    {
     "name": "stdout",
     "output_type": "stream",
     "text": [
      "相除的結果是： 2.0\n",
      "不論如何都會執行 finally\n"
     ]
    }
   ],
   "source": [
    "divided(2,1)"
   ]
  },
  {
   "cell_type": "code",
   "execution_count": 21,
   "metadata": {},
   "outputs": [
    {
     "name": "stdout",
     "output_type": "stream",
     "text": [
      "不能除以 0 !!!!\n",
      "不論如何都會執行 finally\n"
     ]
    }
   ],
   "source": [
    "divided(2,0)"
   ]
  }
 ],
 "metadata": {
  "kernelspec": {
   "display_name": "Python 3",
   "language": "python",
   "name": "python3"
  },
  "language_info": {
   "codemirror_mode": {
    "name": "ipython",
    "version": 3
   },
   "file_extension": ".py",
   "mimetype": "text/x-python",
   "name": "python",
   "nbconvert_exporter": "python",
   "pygments_lexer": "ipython3",
   "version": "3.7.3"
  }
 },
 "nbformat": 4,
 "nbformat_minor": 2
}
