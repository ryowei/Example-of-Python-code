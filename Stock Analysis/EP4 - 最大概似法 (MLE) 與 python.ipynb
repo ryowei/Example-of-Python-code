{
 "cells": [
  {
   "cell_type": "markdown",
   "metadata": {},
   "source": [
    "## Reference\n",
    "\n",
    "[1] [超簡單台股每日爬蟲教學](https://www.finlab.tw/%E8%B6%85%E7%B0%A1%E5%96%AE%E5%8F%B0%E8%82%A1%E6%AF%8F%E6%97%A5%E7%88%AC%E8%9F%B2%E6%95%99%E5%AD%B8/)\n",
    "\n",
    "***\n",
    "\n",
    "# MLE\n",
    "\n",
    "在這邊，一個簡單的作法便是利用 MLE(最大概似法)來估計我們的參數，最大概似法的想法很簡單，當我們得到一組樣本 $s_1, \\cdots, s_n$ 後，\n",
    "\n",
    "我們想辦法找到參數使的出現這組樣本的機率最大，那這樣的參數便是我們想要的參數。\n",
    "\n",
    "$$ln(\\frac{P_{t}}{P_{t-1}})\\sim N(\\mu,\\sigma^2)$$\n",
    "\n",
    "\n",
    "$$\\hat{\\mu} = \\frac{\\sum^n_{i=1} x_i}{n}  $$$$\\hat{\\sigma^2} = \\frac{1}{n} \\sum_{i=1}^n (x_i - \\hat{\\mu})^2$$ 我們接下來計算MLE對於常態分配的估計吧\n"
   ]
  },
  {
   "cell_type": "code",
   "execution_count": 2,
   "metadata": {},
   "outputs": [],
   "source": [
    "# defination the function\n",
    "\n",
    "def mle_mu_fun(X):\n",
    "    n = len(X)\n",
    "    return sum(X) / n\n",
    "\n",
    "def mle_sig_fun(X):\n",
    "    n = len(X)\n",
    "    mu_hat = mle_mu_fun(X)\n",
    "    s = sum([(x - mu_hat)**2 for x in X])\n",
    "    return s/n\n"
   ]
  },
  {
   "cell_type": "code",
   "execution_count": 4,
   "metadata": {},
   "outputs": [
    {
     "name": "stdout",
     "output_type": "stream",
     "text": [
      "2.0\n",
      "0.6666666666666666\n"
     ]
    }
   ],
   "source": [
    "print(mle_mu_fun([1,2,3]))\n",
    "print(mle_sig_fun([1,2,3]))"
   ]
  },
  {
   "cell_type": "markdown",
   "metadata": {},
   "source": [
    "# 實際股價資料"
   ]
  },
  {
   "cell_type": "code",
   "execution_count": 5,
   "metadata": {},
   "outputs": [],
   "source": [
    "# loading library\n",
    "import pandas as pd\n",
    "import numpy as np\n",
    "import matplotlib.pyplot as plt\n",
    "import sqlite3\n"
   ]
  },
  {
   "cell_type": "code",
   "execution_count": 6,
   "metadata": {},
   "outputs": [],
   "source": [
    "\n",
    "db = sqlite3.connect('TWstock_2')\n",
    "#台積電2330\n",
    "tsmc = pd.read_sql(con=db,sql='SELECT * FROM \"2330\"')"
   ]
  },
  {
   "cell_type": "code",
   "execution_count": 7,
   "metadata": {},
   "outputs": [],
   "source": [
    "tsmc.index = tsmc['Date']\n",
    "tsmc.index = pd.to_datetime(tsmc.index)\n",
    "tsmc = tsmc[['證券名稱','收盤價']]\n",
    "tsmc['收盤價'] = pd.to_numeric(tsmc['收盤價'].apply(lambda x:x.replace(',','')),errors='coerce')\n",
    "tsmc.columns = ['stock_code','close']"
   ]
  },
  {
   "cell_type": "code",
   "execution_count": 8,
   "metadata": {},
   "outputs": [
    {
     "data": {
      "text/html": [
       "<div>\n",
       "<style scoped>\n",
       "    .dataframe tbody tr th:only-of-type {\n",
       "        vertical-align: middle;\n",
       "    }\n",
       "\n",
       "    .dataframe tbody tr th {\n",
       "        vertical-align: top;\n",
       "    }\n",
       "\n",
       "    .dataframe thead th {\n",
       "        text-align: right;\n",
       "    }\n",
       "</style>\n",
       "<table border=\"1\" class=\"dataframe\">\n",
       "  <thead>\n",
       "    <tr style=\"text-align: right;\">\n",
       "      <th></th>\n",
       "      <th>stock_code</th>\n",
       "      <th>close</th>\n",
       "    </tr>\n",
       "    <tr>\n",
       "      <th>Date</th>\n",
       "      <th></th>\n",
       "      <th></th>\n",
       "    </tr>\n",
       "  </thead>\n",
       "  <tbody>\n",
       "    <tr>\n",
       "      <th>2019-05-06</th>\n",
       "      <td>台積電</td>\n",
       "      <td>259.0</td>\n",
       "    </tr>\n",
       "    <tr>\n",
       "      <th>2019-05-07</th>\n",
       "      <td>台積電</td>\n",
       "      <td>262.5</td>\n",
       "    </tr>\n",
       "    <tr>\n",
       "      <th>2019-05-08</th>\n",
       "      <td>台積電</td>\n",
       "      <td>260.0</td>\n",
       "    </tr>\n",
       "    <tr>\n",
       "      <th>2019-05-09</th>\n",
       "      <td>台積電</td>\n",
       "      <td>256.5</td>\n",
       "    </tr>\n",
       "    <tr>\n",
       "      <th>2019-05-10</th>\n",
       "      <td>台積電</td>\n",
       "      <td>256.0</td>\n",
       "    </tr>\n",
       "  </tbody>\n",
       "</table>\n",
       "</div>"
      ],
      "text/plain": [
       "           stock_code  close\n",
       "Date                        \n",
       "2019-05-06        台積電  259.0\n",
       "2019-05-07        台積電  262.5\n",
       "2019-05-08        台積電  260.0\n",
       "2019-05-09        台積電  256.5\n",
       "2019-05-10        台積電  256.0"
      ]
     },
     "execution_count": 8,
     "metadata": {},
     "output_type": "execute_result"
    }
   ],
   "source": [
    "tsmc.head()"
   ]
  },
  {
   "cell_type": "code",
   "execution_count": 10,
   "metadata": {},
   "outputs": [],
   "source": [
    "# 做 週平均：resample('W').mean()\n",
    "# 並移除 NA 資料\n",
    "tsmc = tsmc[['close']].resample('W').mean().dropna()"
   ]
  },
  {
   "cell_type": "code",
   "execution_count": 15,
   "metadata": {},
   "outputs": [
    {
     "data": {
      "text/plain": [
       "[258.8, 247.3, 234.6, 231.5, 234.5, 241.3, 241.2, 238.7, 247.125]"
      ]
     },
     "execution_count": 15,
     "metadata": {},
     "output_type": "execute_result"
    }
   ],
   "source": [
    "# Calculate the continuous return rate\n",
    "\n",
    "import math\n",
    "price_list = list(tsmc['close'])\n"
   ]
  },
  {
   "cell_type": "code",
   "execution_count": 17,
   "metadata": {},
   "outputs": [
    {
     "name": "stdout",
     "output_type": "stream",
     "text": [
      "[258.8, 247.3, 234.6, 231.5, 234.5, 241.3, 241.2, 238.7, 247.125]\n",
      "[247.3, 234.6, 231.5, 234.5, 241.3, 241.2, 238.7, 247.125]\n",
      "[258.8, 247.3, 234.6, 231.5, 234.5, 241.3, 241.2, 238.7]\n"
     ]
    }
   ],
   "source": [
    "print(price_list)\n",
    "print(price_list[1:])\n",
    "print(price_list[:-1])"
   ]
  },
  {
   "cell_type": "code",
   "execution_count": 18,
   "metadata": {},
   "outputs": [
    {
     "name": "stdout",
     "output_type": "stream",
     "text": [
      "[0.955564142194745, 0.9486453699959563, 0.9867860187553282, 1.0129589632829374, 1.028997867803838, 0.9995855781185246, 0.9896351575456053, 1.035295349811479]\n"
     ]
    }
   ],
   "source": [
    "# P_{t}/P_{t-1} \n",
    "# zip: 兩個可迭代的物件放在一起\n",
    "\n",
    "ratio_list = [p_1/p_2 for p_1,p_2 in zip(price_list[1:],price_list[:-1])]\n",
    "print(ratio_list)"
   ]
  },
  {
   "cell_type": "code",
   "execution_count": 19,
   "metadata": {},
   "outputs": [
    {
     "name": "stdout",
     "output_type": "stream",
     "text": [
      "[-0.04545338809937501, -0.052720238307995486, -0.01330206269308631, 0.012875714360045367, 0.0285853847446521, -0.00041450777795577624, -0.010418931508246002, 0.0346867481459967]\n"
     ]
    }
   ],
   "source": [
    "# ln(P_{t}/P_{t-1})\n",
    "c_return_list = [math.log(x) for x in ratio_list]\n",
    "print(c_return_list)"
   ]
  },
  {
   "cell_type": "markdown",
   "metadata": {},
   "source": [
    "## Estimator the Volatility"
   ]
  },
  {
   "cell_type": "code",
   "execution_count": 22,
   "metadata": {},
   "outputs": [
    {
     "name": "stdout",
     "output_type": "stream",
     "text": [
      "-0.005770160141995555\n",
      "0.0008813531991296782\n"
     ]
    }
   ],
   "source": [
    "# estimate mu and sigma\n",
    "mu = mle_mu_fun(c_return_list)\n",
    "sigma_2 = mle_sig_fun(c_return_list)\n",
    "print(mu)\n",
    "print(sigma_2)"
   ]
  },
  {
   "cell_type": "code",
   "execution_count": 26,
   "metadata": {},
   "outputs": [
    {
     "name": "stdout",
     "output_type": "stream",
     "text": [
      "-0.052720238307995486\n",
      "0.0346867481459967\n"
     ]
    }
   ],
   "source": [
    "# Graphing\n",
    "\n",
    "import scipy.stats as stats\n",
    "import numpy as np\n",
    "\n",
    "h = sorted(c_return_list)\n",
    "print(h[0]) # 最小的 return\n",
    "print(h[-1]) # 最大的 return"
   ]
  },
  {
   "cell_type": "code",
   "execution_count": 27,
   "metadata": {},
   "outputs": [
    {
     "data": {
      "image/png": "[encoded data removed]",
      "text/plain": [
       "<Figure size 432x288 with 1 Axes>"
      ]
     },
     "metadata": {
      "needs_background": "light"
     },
     "output_type": "display_data"
    }
   ],
   "source": [
    "# 在最小與最大的 return 每隔 0.0001 切割一筆資料\n",
    "x_axis_data = np.arange(h[0],h[-1], 0.0001)\n",
    "\n",
    "# probability of density function (假設 Normal(mu, sigma_2))\n",
    "plt.plot(x_axis_data,\n",
    "         stats.norm.pdf(x_axis_data,mu,math.sqrt(sigma_2)))\n",
    "\n",
    "# histogram\n",
    "plt.hist(h) # 實際分配\n",
    "\n",
    "plt.show()\n"
   ]
  },
  {
   "cell_type": "code",
   "execution_count": 25,
   "metadata": {},
   "outputs": [
    {
     "name": "stdout",
     "output_type": "stream",
     "text": [
      "0.12445488309939479\n",
      "0.013366003647750868\n"
     ]
    }
   ],
   "source": [
    "# 估計週報酬 < -0.04 的機率(CDF)吧\n",
    "print(stats.norm(mu, math.sqrt(sigma_2)).cdf(-0.04))\n",
    "# 估計週報酬 > 0.06 的機率(CDF)\n",
    "print(1 - stats.norm(mu, math.sqrt(sigma_2)).cdf(0.06))"
   ]
  }
 ],
 "metadata": {
  "kernelspec": {
   "display_name": "Python 3",
   "language": "python",
   "name": "python3"
  },
  "language_info": {
   "codemirror_mode": {
    "name": "ipython",
    "version": 3
   },
   "file_extension": ".py",
   "mimetype": "text/x-python",
   "name": "python",
   "nbconvert_exporter": "python",
   "pygments_lexer": "ipython3",
   "version": "3.7.3"
  }
 },
 "nbformat": 4,
 "nbformat_minor": 2
}
