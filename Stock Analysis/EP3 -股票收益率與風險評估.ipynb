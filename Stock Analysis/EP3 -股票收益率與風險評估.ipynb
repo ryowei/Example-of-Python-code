{
 "cells": [
  {
   "cell_type": "markdown",
   "metadata": {},
   "source": [
    "## Reference\n",
    "\n",
    "[1] [超簡單台股每日爬蟲教學](https://www.finlab.tw/%E8%B6%85%E7%B0%A1%E5%96%AE%E5%8F%B0%E8%82%A1%E6%AF%8F%E6%97%A5%E7%88%AC%E8%9F%B2%E6%95%99%E5%AD%B8/)\n",
    "\n",
    "***\n",
    "\n",
    "\n",
    "# 股票收盤價日線資料探索\n",
    "\n",
    "### How to use 'pandas' and 'matplotlib' to explore the data?\n",
    " \n",
    " - Try to use simple method to estimate the risk level of stock.\n",
    " \n",
    " \n",
    " - The most important is understanding risk level\n",
    " \n",
    " \n",
    " - So, We need to estimate the stock's volatility for inventors.\n",
    " \n",
    " \n",
    " - But, if statistic property of price yesterday and today are different, we coundn't estimator the stock's volatility today.\n",
    " \n",
    " "
   ]
  },
  {
   "cell_type": "markdown",
   "metadata": {},
   "source": [
    "## Loading dataset\n",
    "\n",
    " - Using db of TWstock2 to query dataset."
   ]
  },
  {
   "cell_type": "code",
   "execution_count": 2,
   "metadata": {},
   "outputs": [
    {
     "name": "stderr",
     "output_type": "stream",
     "text": [
      "/Users/chibaryowei/anaconda3/lib/python3.7/importlib/_bootstrap.py:219: RuntimeWarning: numpy.ufunc size changed, may indicate binary incompatibility. Expected 192 from C header, got 216 from PyObject\n",
      "  return f(*args, **kwds)\n"
     ]
    }
   ],
   "source": [
    "# Loading package\n",
    "\n",
    "import pandas as pd\n",
    "import matplotlib.pyplot as plt\n",
    "import sqlite3\n",
    "import numpy as np\n"
   ]
  },
  {
   "cell_type": "code",
   "execution_count": 11,
   "metadata": {},
   "outputs": [],
   "source": [
    "db = sqlite3.connect('TWStock_2')\n",
    "\n",
    "# 挑選一些台灣的代表性股票\n",
    "stocks_dict = {}\n",
    "\n",
    "#台積電2330\n",
    "stocks_dict.update({'tsmc': pd.read_sql(con=db,sql='SELECT * FROM \"2330\"')})\n",
    "#台塑化6505\n",
    "stocks_dict.update({'fpc':pd.read_sql(con=db,sql='SELECT * FROM \"6505\"')})\n",
    "#鴻海2317\n",
    "stocks_dict.update({'foxconn':pd.read_sql(con=db,sql='SELECT * FROM \"2317\"')})\n",
    "#中華電2412\n",
    "stocks_dict.update({'cht':pd.read_sql(con=db,sql='SELECT * FROM \"2412\"')})\n",
    "#台塑1301\n",
    "stocks_dict.update({'fpg':pd.read_sql(con=db,sql='SELECT * FROM \"1301\"')})\n",
    "#台化1326\n",
    "stocks_dict.update({'fcfc':pd.read_sql(con=db,sql='SELECT * FROM \"1326\"')})\n",
    "#國泰金2882\n",
    "stocks_dict.update({'cfh':pd.read_sql(con=db,sql='SELECT * FROM \"2882\"')})\n",
    "#南亞1303\n",
    "stocks_dict.update({'ny':pd.read_sql(con=db,sql='SELECT * FROM \"1303\"')})\n",
    "#富邦金2881\n",
    "stocks_dict.update({'fubon':pd.read_sql(con=db,sql='SELECT * FROM \"2881\"')})\n",
    "#大立光3008\n",
    "stocks_dict.update({'largan':pd.read_sql(con=db,sql='SELECT * FROM \"3008\"')})"
   ]
  },
  {
   "cell_type": "markdown",
   "metadata": {},
   "source": [
    "## 繪製基本股價走勢圖\n"
   ]
  },
  {
   "cell_type": "code",
   "execution_count": 13,
   "metadata": {},
   "outputs": [
    {
     "data": {
      "text/html": [
       "<div>\n",
       "<style scoped>\n",
       "    .dataframe tbody tr th:only-of-type {\n",
       "        vertical-align: middle;\n",
       "    }\n",
       "\n",
       "    .dataframe tbody tr th {\n",
       "        vertical-align: top;\n",
       "    }\n",
       "\n",
       "    .dataframe thead th {\n",
       "        text-align: right;\n",
       "    }\n",
       "</style>\n",
       "<table border=\"1\" class=\"dataframe\">\n",
       "  <thead>\n",
       "    <tr style=\"text-align: right;\">\n",
       "      <th></th>\n",
       "      <th>index</th>\n",
       "      <th>證券名稱</th>\n",
       "      <th>成交股數</th>\n",
       "      <th>成交筆數</th>\n",
       "      <th>成交金額</th>\n",
       "      <th>開盤價</th>\n",
       "      <th>最高價</th>\n",
       "      <th>最低價</th>\n",
       "      <th>收盤價</th>\n",
       "      <th>漲跌(+/-)</th>\n",
       "      <th>漲跌價差</th>\n",
       "      <th>最後揭示買價</th>\n",
       "      <th>最後揭示買量</th>\n",
       "      <th>最後揭示賣價</th>\n",
       "      <th>最後揭示賣量</th>\n",
       "      <th>本益比</th>\n",
       "      <th>Date</th>\n",
       "    </tr>\n",
       "  </thead>\n",
       "  <tbody>\n",
       "    <tr>\n",
       "      <th>0</th>\n",
       "      <td>659</td>\n",
       "      <td>大立光</td>\n",
       "      <td>1,289,853</td>\n",
       "      <td>1,449</td>\n",
       "      <td>6,193,866,750</td>\n",
       "      <td>4,720.00</td>\n",
       "      <td>4,900.00</td>\n",
       "      <td>4,685.00</td>\n",
       "      <td>4,745.00</td>\n",
       "      <td>+</td>\n",
       "      <td>70.0</td>\n",
       "      <td>4,740.00</td>\n",
       "      <td>3</td>\n",
       "      <td>4,745.00</td>\n",
       "      <td>3</td>\n",
       "      <td>26.12</td>\n",
       "      <td>2019-05-06 00:00:00</td>\n",
       "    </tr>\n",
       "    <tr>\n",
       "      <th>1</th>\n",
       "      <td>659</td>\n",
       "      <td>大立光</td>\n",
       "      <td>715,608</td>\n",
       "      <td>843</td>\n",
       "      <td>3,439,453,000</td>\n",
       "      <td>4,800.00</td>\n",
       "      <td>4,840.00</td>\n",
       "      <td>4,770.00</td>\n",
       "      <td>4,775.00</td>\n",
       "      <td>+</td>\n",
       "      <td>30.0</td>\n",
       "      <td>4,775.00</td>\n",
       "      <td>2</td>\n",
       "      <td>4,785.00</td>\n",
       "      <td>1</td>\n",
       "      <td>26.28</td>\n",
       "      <td>2019-05-07 00:00:00</td>\n",
       "    </tr>\n",
       "    <tr>\n",
       "      <th>2</th>\n",
       "      <td>659</td>\n",
       "      <td>大立光</td>\n",
       "      <td>651,518</td>\n",
       "      <td>734</td>\n",
       "      <td>3,094,973,450</td>\n",
       "      <td>4,700.00</td>\n",
       "      <td>4,810.00</td>\n",
       "      <td>4,690.00</td>\n",
       "      <td>4,750.00</td>\n",
       "      <td>-</td>\n",
       "      <td>25.0</td>\n",
       "      <td>4,745.00</td>\n",
       "      <td>7</td>\n",
       "      <td>4,755.00</td>\n",
       "      <td>2</td>\n",
       "      <td>26.15</td>\n",
       "      <td>2019-05-08 00:00:00</td>\n",
       "    </tr>\n",
       "    <tr>\n",
       "      <th>3</th>\n",
       "      <td>659</td>\n",
       "      <td>大立光</td>\n",
       "      <td>1,521,610</td>\n",
       "      <td>1,863</td>\n",
       "      <td>6,908,255,350</td>\n",
       "      <td>4,720.00</td>\n",
       "      <td>4,725.00</td>\n",
       "      <td>4,400.00</td>\n",
       "      <td>4,410.00</td>\n",
       "      <td>-</td>\n",
       "      <td>340.0</td>\n",
       "      <td>4,410.00</td>\n",
       "      <td>9</td>\n",
       "      <td>4,445.00</td>\n",
       "      <td>2</td>\n",
       "      <td>24.27</td>\n",
       "      <td>2019-05-09 00:00:00</td>\n",
       "    </tr>\n",
       "    <tr>\n",
       "      <th>4</th>\n",
       "      <td>659</td>\n",
       "      <td>大立光</td>\n",
       "      <td>971,401</td>\n",
       "      <td>1,061</td>\n",
       "      <td>4,313,387,470</td>\n",
       "      <td>4,450.00</td>\n",
       "      <td>4,510.00</td>\n",
       "      <td>4,365.00</td>\n",
       "      <td>4,455.00</td>\n",
       "      <td>+</td>\n",
       "      <td>45.0</td>\n",
       "      <td>4,455.00</td>\n",
       "      <td>1</td>\n",
       "      <td>4,465.00</td>\n",
       "      <td>5</td>\n",
       "      <td>24.52</td>\n",
       "      <td>2019-05-10 00:00:00</td>\n",
       "    </tr>\n",
       "  </tbody>\n",
       "</table>\n",
       "</div>"
      ],
      "text/plain": [
       "   index 證券名稱       成交股數   成交筆數           成交金額       開盤價       最高價       最低價  \\\n",
       "0    659  大立光  1,289,853  1,449  6,193,866,750  4,720.00  4,900.00  4,685.00   \n",
       "1    659  大立光    715,608    843  3,439,453,000  4,800.00  4,840.00  4,770.00   \n",
       "2    659  大立光    651,518    734  3,094,973,450  4,700.00  4,810.00  4,690.00   \n",
       "3    659  大立光  1,521,610  1,863  6,908,255,350  4,720.00  4,725.00  4,400.00   \n",
       "4    659  大立光    971,401  1,061  4,313,387,470  4,450.00  4,510.00  4,365.00   \n",
       "\n",
       "        收盤價 漲跌(+/-)   漲跌價差    最後揭示買價 最後揭示買量    最後揭示賣價 最後揭示賣量    本益比  \\\n",
       "0  4,745.00       +   70.0  4,740.00      3  4,745.00      3  26.12   \n",
       "1  4,775.00       +   30.0  4,775.00      2  4,785.00      1  26.28   \n",
       "2  4,750.00       -   25.0  4,745.00      7  4,755.00      2  26.15   \n",
       "3  4,410.00       -  340.0  4,410.00      9  4,445.00      2  24.27   \n",
       "4  4,455.00       +   45.0  4,455.00      1  4,465.00      5  24.52   \n",
       "\n",
       "                  Date  \n",
       "0  2019-05-06 00:00:00  \n",
       "1  2019-05-07 00:00:00  \n",
       "2  2019-05-08 00:00:00  \n",
       "3  2019-05-09 00:00:00  \n",
       "4  2019-05-10 00:00:00  "
      ]
     },
     "execution_count": 13,
     "metadata": {},
     "output_type": "execute_result"
    }
   ],
   "source": [
    "# for example\n",
    "stocks_dict['largan'].head()"
   ]
  },
  {
   "cell_type": "code",
   "execution_count": 15,
   "metadata": {},
   "outputs": [],
   "source": [
    "'''\n",
    "創造可以畫圖的 data.frame\n",
    "'''\n",
    "\n",
    "# 將 ‘largan’ save df_test\n",
    "df_test = stocks_dict['largan'].copy()\n",
    "\n",
    "# index transfer to Date\n",
    "df_test.index = pd.to_datetime(df_test['Date'])\n",
    "\n",
    "# catch '證券名稱','收盤價' two column\n",
    "df_test = df_test[['證券名稱','收盤價']]\n",
    "\n",
    "# transfer column names\n",
    "df_test.columns = ['stock_code','close']\n",
    "\n",
    "# \"close\"'s format is character and common\n",
    "# step 1: replace common ','\n",
    "# step 2: character  ->  pd.to_numeric\n",
    "df_test['close'] = df_test['close'].apply(lambda x:x.replace(',',''))\n",
    "df_test['close'] = pd.to_numeric(df_test['close'])\n"
   ]
  },
  {
   "cell_type": "code",
   "execution_count": 16,
   "metadata": {},
   "outputs": [
    {
     "data": {
      "text/html": [
       "<div>\n",
       "<style scoped>\n",
       "    .dataframe tbody tr th:only-of-type {\n",
       "        vertical-align: middle;\n",
       "    }\n",
       "\n",
       "    .dataframe tbody tr th {\n",
       "        vertical-align: top;\n",
       "    }\n",
       "\n",
       "    .dataframe thead th {\n",
       "        text-align: right;\n",
       "    }\n",
       "</style>\n",
       "<table border=\"1\" class=\"dataframe\">\n",
       "  <thead>\n",
       "    <tr style=\"text-align: right;\">\n",
       "      <th></th>\n",
       "      <th>stock_code</th>\n",
       "      <th>close</th>\n",
       "    </tr>\n",
       "    <tr>\n",
       "      <th>Date</th>\n",
       "      <th></th>\n",
       "      <th></th>\n",
       "    </tr>\n",
       "  </thead>\n",
       "  <tbody>\n",
       "    <tr>\n",
       "      <th>2019-05-06</th>\n",
       "      <td>大立光</td>\n",
       "      <td>4745.0</td>\n",
       "    </tr>\n",
       "    <tr>\n",
       "      <th>2019-05-07</th>\n",
       "      <td>大立光</td>\n",
       "      <td>4775.0</td>\n",
       "    </tr>\n",
       "    <tr>\n",
       "      <th>2019-05-08</th>\n",
       "      <td>大立光</td>\n",
       "      <td>4750.0</td>\n",
       "    </tr>\n",
       "    <tr>\n",
       "      <th>2019-05-09</th>\n",
       "      <td>大立光</td>\n",
       "      <td>4410.0</td>\n",
       "    </tr>\n",
       "    <tr>\n",
       "      <th>2019-05-10</th>\n",
       "      <td>大立光</td>\n",
       "      <td>4455.0</td>\n",
       "    </tr>\n",
       "  </tbody>\n",
       "</table>\n",
       "</div>"
      ],
      "text/plain": [
       "           stock_code   close\n",
       "Date                         \n",
       "2019-05-06        大立光  4745.0\n",
       "2019-05-07        大立光  4775.0\n",
       "2019-05-08        大立光  4750.0\n",
       "2019-05-09        大立光  4410.0\n",
       "2019-05-10        大立光  4455.0"
      ]
     },
     "execution_count": 16,
     "metadata": {},
     "output_type": "execute_result"
    }
   ],
   "source": [
    "df_test.head()"
   ]
  },
  {
   "cell_type": "code",
   "execution_count": 17,
   "metadata": {},
   "outputs": [
    {
     "name": "stderr",
     "output_type": "stream",
     "text": [
      "/Users/chibaryowei/anaconda3/lib/python3.7/site-packages/ipykernel_launcher.py:12: SettingWithCopyWarning: \n",
      "A value is trying to be set on a copy of a slice from a DataFrame.\n",
      "Try using .loc[row_indexer,col_indexer] = value instead\n",
      "\n",
      "See the caveats in the documentation: http://pandas.pydata.org/pandas-docs/stable/indexing.html#indexing-view-versus-copy\n",
      "  if sys.path[0] == '':\n"
     ]
    }
   ],
   "source": [
    "'''\n",
    "在畫圖之前，\n",
    "我們先整理我們的資料，將每個股票整理成股票名稱與收盤價的表格形式，\n",
    "其中，因為收盤價被存為字串形式，我們也必須轉為數值形式做進一個的運算\n",
    "'''\n",
    "\n",
    "for key in stocks_dict.keys():\n",
    "    df = stocks_dict[key]\n",
    "    df.index = df['Date']\n",
    "    df.index = pd.to_datetime(df.index)\n",
    "    df = df[['證券名稱','收盤價']]\n",
    "    df['收盤價'] = pd.to_numeric(df['收盤價'].apply(lambda x:x.replace(',','')),errors='coerce')\n",
    "    df.columns = ['stock_code','close']\n",
    "    stocks_dict[key] = df"
   ]
  },
  {
   "cell_type": "code",
   "execution_count": 18,
   "metadata": {},
   "outputs": [
    {
     "data": {
      "text/html": [
       "<div>\n",
       "<style scoped>\n",
       "    .dataframe tbody tr th:only-of-type {\n",
       "        vertical-align: middle;\n",
       "    }\n",
       "\n",
       "    .dataframe tbody tr th {\n",
       "        vertical-align: top;\n",
       "    }\n",
       "\n",
       "    .dataframe thead th {\n",
       "        text-align: right;\n",
       "    }\n",
       "</style>\n",
       "<table border=\"1\" class=\"dataframe\">\n",
       "  <thead>\n",
       "    <tr style=\"text-align: right;\">\n",
       "      <th></th>\n",
       "      <th>stock_code</th>\n",
       "      <th>close</th>\n",
       "    </tr>\n",
       "    <tr>\n",
       "      <th>Date</th>\n",
       "      <th></th>\n",
       "      <th></th>\n",
       "    </tr>\n",
       "  </thead>\n",
       "  <tbody>\n",
       "    <tr>\n",
       "      <th>2019-05-06</th>\n",
       "      <td>台積電</td>\n",
       "      <td>259.0</td>\n",
       "    </tr>\n",
       "    <tr>\n",
       "      <th>2019-05-07</th>\n",
       "      <td>台積電</td>\n",
       "      <td>262.5</td>\n",
       "    </tr>\n",
       "    <tr>\n",
       "      <th>2019-05-08</th>\n",
       "      <td>台積電</td>\n",
       "      <td>260.0</td>\n",
       "    </tr>\n",
       "    <tr>\n",
       "      <th>2019-05-09</th>\n",
       "      <td>台積電</td>\n",
       "      <td>256.5</td>\n",
       "    </tr>\n",
       "    <tr>\n",
       "      <th>2019-05-10</th>\n",
       "      <td>台積電</td>\n",
       "      <td>256.0</td>\n",
       "    </tr>\n",
       "  </tbody>\n",
       "</table>\n",
       "</div>"
      ],
      "text/plain": [
       "           stock_code  close\n",
       "Date                        \n",
       "2019-05-06        台積電  259.0\n",
       "2019-05-07        台積電  262.5\n",
       "2019-05-08        台積電  260.0\n",
       "2019-05-09        台積電  256.5\n",
       "2019-05-10        台積電  256.0"
      ]
     },
     "execution_count": 18,
     "metadata": {},
     "output_type": "execute_result"
    }
   ],
   "source": [
    "stocks_dict['tsmc'].head()"
   ]
  },
  {
   "cell_type": "code",
   "execution_count": 19,
   "metadata": {},
   "outputs": [
    {
     "data": {
      "image/png": "[encoded data removed]",
      "text/plain": [
       "<Figure size 720x720 with 6 Axes>"
      ]
     },
     "metadata": {
      "needs_background": "light"
     },
     "output_type": "display_data"
    }
   ],
   "source": [
    "from_date = '2019-05-01'\n",
    "\n",
    "fig,ax = plt.subplots(3,2,figsize=(10,10))\n",
    "plt.subplots_adjust(hspace=0.8)\n",
    "stocks_dict['largan'][from_date:].plot(ax=ax[0,0])\n",
    "ax[0,0].set_title('Largan')\n",
    "stocks_dict['tsmc'][from_date:].plot(ax=ax[0,1])\n",
    "ax[0,1].set_title('TSMC')\n",
    "stocks_dict['fubon'][from_date:].plot(ax=ax[1,0])\n",
    "ax[1,0].set_title('Fubon')\n",
    "stocks_dict['cfh'][from_date:].plot(ax=ax[1,1])\n",
    "ax[1,1].set_title('CFH')\n",
    "stocks_dict['fpg'][from_date:].plot(ax=ax[2,0])\n",
    "ax[2,0].set_title('FPG')\n",
    "stocks_dict['fpc'][from_date:].plot(ax=ax[2,1])\n",
    "ax[2,1].set_title('FPC')\n",
    "fig.suptitle('Stock Price via time')\n",
    "plt.show()"
   ]
  },
  {
   "cell_type": "markdown",
   "metadata": {},
   "source": [
    "## 圖像判斷法\n",
    "\n",
    " - 用標準差這個最常見的方式來測量波動程度。\n",
    " \n",
    " \n",
    " - 但是問題是，如果昨天的股票的統計性質與明天的股票的統計性質相差很大的話，我們就很難相信我們用過去股價估計出來的波動程度可以有效的衡量明天股價的波動程度。\n",
    " \n",
    " \n",
    " - 我們希望我們前, 後天的股價是'獨立'且有'相似的分配'，我們這邊可以用很簡單的圖像方式來呈現前, 後天股價的關係。\n"
   ]
  },
  {
   "cell_type": "code",
   "execution_count": 27,
   "metadata": {},
   "outputs": [
    {
     "name": "stdout",
     "output_type": "stream",
     "text": [
      "           stock_code  close\n",
      "Date                        \n",
      "2019-06-18        台積電  235.5\n",
      "2019-06-19        台積電  244.0\n",
      "2019-06-20        台積電  245.0\n",
      "2019-06-21        台積電  248.5\n",
      "2019-06-24        台積電  241.0\n",
      "2019-06-25        台積電  238.5\n",
      "2019-06-26        台積電  234.5\n",
      "2019-06-27        台積電  240.5\n",
      "2019-06-28        台積電  239.0\n",
      "2019-07-01        台積電  248.5\n",
      "2019-07-01        台積電  248.5\n",
      "2019-07-02        台積電  249.0\n",
      "2019-07-03        台積電  242.5\n",
      "           stock_code  close\n",
      "Date                        \n",
      "2019-06-18        台積電  235.5\n",
      "2019-06-19        台積電  244.0\n",
      "2019-06-20        台積電  245.0\n",
      "2019-06-21        台積電  248.5\n",
      "2019-06-24        台積電  241.0\n",
      "2019-06-25        台積電  238.5\n",
      "2019-06-26        台積電  234.5\n",
      "2019-06-27        台積電  240.5\n",
      "2019-06-28        台積電  239.0\n",
      "2019-07-01        台積電  248.5\n",
      "2019-07-01        台積電  248.5\n",
      "2019-07-02        台積電  249.0\n",
      "           stock_code  close\n",
      "Date                        \n",
      "2019-06-19        台積電  244.0\n",
      "2019-06-20        台積電  245.0\n",
      "2019-06-21        台積電  248.5\n",
      "2019-06-24        台積電  241.0\n",
      "2019-06-25        台積電  238.5\n",
      "2019-06-26        台積電  234.5\n",
      "2019-06-27        台積電  240.5\n",
      "2019-06-28        台積電  239.0\n",
      "2019-07-01        台積電  248.5\n",
      "2019-07-01        台積電  248.5\n",
      "2019-07-02        台積電  249.0\n",
      "2019-07-03        台積電  242.5\n"
     ]
    }
   ],
   "source": [
    "# for example: tsmc\n",
    "from_date = '2019-05-09'\n",
    "df = stocks_dict['tsmc'].copy()\n",
    "\n",
    "print(df[from_date:])              #      2019-06-18 ~ 2019-07-03\n",
    "print(df[from_date:].iloc[ :-1,])  # df_p 2019-06-18 ~ 2019-07-02 (少最後一筆) 前幾天 past\n",
    "print(df[from_date:].iloc[1:  ,])  # df_a 2019-06-19 ~ 2019-07-03 (少第一筆)  後幾天 after"
   ]
  },
  {
   "cell_type": "code",
   "execution_count": 42,
   "metadata": {},
   "outputs": [
    {
     "data": {
      "image/png": "[encoded data removed]",
      "text/plain": [
       "<Figure size 432x288 with 1 Axes>"
      ]
     },
     "metadata": {
      "needs_background": "light"
     },
     "output_type": "display_data"
    }
   ],
   "source": [
    "#用TSMC做例子\n",
    "\n",
    "from_date = '2019-05-09'\n",
    "\n",
    "df = stocks_dict['tsmc'].copy()\n",
    "df_p = df[from_date:].iloc[:-1,:]\n",
    "df_a = df[from_date:].iloc[1:,:]\n",
    "plt.scatter(np.array(df_p['close']),np.array(df_a['close']))\n",
    "plt.xlabel(\"past period\")\n",
    "plt.ylabel(\"after period\")\n",
    "plt.title(\"Scatter plot of past and after price\")\n",
    "plt.show()"
   ]
  },
  {
   "cell_type": "code",
   "execution_count": 43,
   "metadata": {},
   "outputs": [
    {
     "data": {
      "text/plain": [
       "([array([6., 5., 3., 2., 0., 1., 3., 0., 2., 1.]),\n",
       "  array([0., 3., 2., 5., 3., 2., 4., 0., 0., 0.])],\n",
       " array([229.5 , 232.55, 235.6 , 238.65, 241.7 , 244.75, 247.8 , 250.85,\n",
       "        253.9 , 256.95, 260.  ]),\n",
       " <a list of 2 Lists of Patches objects>)"
      ]
     },
     "execution_count": 43,
     "metadata": {},
     "output_type": "execute_result"
    },
    {
     "data": {
      "image/png": "[encoded data removed]",
      "text/plain": [
       "<Figure size 432x288 with 1 Axes>"
      ]
     },
     "metadata": {
      "needs_background": "light"
     },
     "output_type": "display_data"
    }
   ],
   "source": [
    "# Histogram\n",
    "plt.hist([np.array(df['2019-05-08':'2019-06-10']['close']),np.array(df['2019-06-10':]['close'])])"
   ]
  },
  {
   "cell_type": "markdown",
   "metadata": {},
   "source": [
    "可發現，前一期的股價與後一期股價兩者之間有正向關係。\n",
    "不直接計算股價，而是計算兩個不同的報酬率。"
   ]
  },
  {
   "cell_type": "markdown",
   "metadata": {},
   "source": [
    "## Return Rate\n",
    "\n",
    " - Linear Return Rate\n",
    "$$r_{t}^{L}=\\frac{P_{t}}{P_{t-1}}-1$$\n",
    "\n",
    " - Continuous Return Rate\n",
    "$$r_{t}^{C}=ln(\\frac{P_{t}}{P_{t-1}})$$"
   ]
  },
  {
   "cell_type": "code",
   "execution_count": 44,
   "metadata": {},
   "outputs": [
    {
     "data": {
      "text/html": [
       "<div>\n",
       "<style scoped>\n",
       "    .dataframe tbody tr th:only-of-type {\n",
       "        vertical-align: middle;\n",
       "    }\n",
       "\n",
       "    .dataframe tbody tr th {\n",
       "        vertical-align: top;\n",
       "    }\n",
       "\n",
       "    .dataframe thead th {\n",
       "        text-align: right;\n",
       "    }\n",
       "</style>\n",
       "<table border=\"1\" class=\"dataframe\">\n",
       "  <thead>\n",
       "    <tr style=\"text-align: right;\">\n",
       "      <th></th>\n",
       "      <th>stock_code</th>\n",
       "      <th>close</th>\n",
       "    </tr>\n",
       "    <tr>\n",
       "      <th>Date</th>\n",
       "      <th></th>\n",
       "      <th></th>\n",
       "    </tr>\n",
       "  </thead>\n",
       "  <tbody>\n",
       "    <tr>\n",
       "      <th>2019-06-10</th>\n",
       "      <td>台積電</td>\n",
       "      <td>240.0</td>\n",
       "    </tr>\n",
       "    <tr>\n",
       "      <th>2019-06-11</th>\n",
       "      <td>台積電</td>\n",
       "      <td>244.5</td>\n",
       "    </tr>\n",
       "    <tr>\n",
       "      <th>2019-06-12</th>\n",
       "      <td>台積電</td>\n",
       "      <td>246.0</td>\n",
       "    </tr>\n",
       "    <tr>\n",
       "      <th>2019-06-13</th>\n",
       "      <td>台積電</td>\n",
       "      <td>240.0</td>\n",
       "    </tr>\n",
       "    <tr>\n",
       "      <th>2019-06-14</th>\n",
       "      <td>台積電</td>\n",
       "      <td>236.0</td>\n",
       "    </tr>\n",
       "  </tbody>\n",
       "</table>\n",
       "</div>"
      ],
      "text/plain": [
       "           stock_code  close\n",
       "Date                        \n",
       "2019-06-10        台積電  240.0\n",
       "2019-06-11        台積電  244.5\n",
       "2019-06-12        台積電  246.0\n",
       "2019-06-13        台積電  240.0\n",
       "2019-06-14        台積電  236.0"
      ]
     },
     "execution_count": 44,
     "metadata": {},
     "output_type": "execute_result"
    }
   ],
   "source": [
    "from_date = '2019-06-10'\n",
    "df = df[from_date:]\n",
    "df.head()"
   ]
  },
  {
   "cell_type": "markdown",
   "metadata": {},
   "source": [
    "#### Linear Return Rate"
   ]
  },
  {
   "cell_type": "code",
   "execution_count": 45,
   "metadata": {},
   "outputs": [],
   "source": [
    "df['linear_return_rate'] = df['close'].pct_change()"
   ]
  },
  {
   "cell_type": "code",
   "execution_count": 46,
   "metadata": {},
   "outputs": [
    {
     "data": {
      "text/html": [
       "<div>\n",
       "<style scoped>\n",
       "    .dataframe tbody tr th:only-of-type {\n",
       "        vertical-align: middle;\n",
       "    }\n",
       "\n",
       "    .dataframe tbody tr th {\n",
       "        vertical-align: top;\n",
       "    }\n",
       "\n",
       "    .dataframe thead th {\n",
       "        text-align: right;\n",
       "    }\n",
       "</style>\n",
       "<table border=\"1\" class=\"dataframe\">\n",
       "  <thead>\n",
       "    <tr style=\"text-align: right;\">\n",
       "      <th></th>\n",
       "      <th>stock_code</th>\n",
       "      <th>close</th>\n",
       "      <th>linear_return_rate</th>\n",
       "    </tr>\n",
       "    <tr>\n",
       "      <th>Date</th>\n",
       "      <th></th>\n",
       "      <th></th>\n",
       "      <th></th>\n",
       "    </tr>\n",
       "  </thead>\n",
       "  <tbody>\n",
       "    <tr>\n",
       "      <th>2019-06-10</th>\n",
       "      <td>台積電</td>\n",
       "      <td>240.0</td>\n",
       "      <td>NaN</td>\n",
       "    </tr>\n",
       "    <tr>\n",
       "      <th>2019-06-11</th>\n",
       "      <td>台積電</td>\n",
       "      <td>244.5</td>\n",
       "      <td>0.018750</td>\n",
       "    </tr>\n",
       "    <tr>\n",
       "      <th>2019-06-12</th>\n",
       "      <td>台積電</td>\n",
       "      <td>246.0</td>\n",
       "      <td>0.006135</td>\n",
       "    </tr>\n",
       "    <tr>\n",
       "      <th>2019-06-13</th>\n",
       "      <td>台積電</td>\n",
       "      <td>240.0</td>\n",
       "      <td>-0.024390</td>\n",
       "    </tr>\n",
       "    <tr>\n",
       "      <th>2019-06-14</th>\n",
       "      <td>台積電</td>\n",
       "      <td>236.0</td>\n",
       "      <td>-0.016667</td>\n",
       "    </tr>\n",
       "  </tbody>\n",
       "</table>\n",
       "</div>"
      ],
      "text/plain": [
       "           stock_code  close  linear_return_rate\n",
       "Date                                            \n",
       "2019-06-10        台積電  240.0                 NaN\n",
       "2019-06-11        台積電  244.5            0.018750\n",
       "2019-06-12        台積電  246.0            0.006135\n",
       "2019-06-13        台積電  240.0           -0.024390\n",
       "2019-06-14        台積電  236.0           -0.016667"
      ]
     },
     "execution_count": 46,
     "metadata": {},
     "output_type": "execute_result"
    }
   ],
   "source": [
    "df.head()"
   ]
  },
  {
   "cell_type": "code",
   "execution_count": 48,
   "metadata": {},
   "outputs": [
    {
     "data": {
      "image/png": "[encoded data removed]",
      "text/plain": [
       "<Figure size 432x288 with 1 Axes>"
      ]
     },
     "metadata": {
      "needs_background": "light"
     },
     "output_type": "display_data"
    }
   ],
   "source": [
    "df_lrp = df.iloc[:-1,:]\n",
    "df_lra = df.iloc[1:,:]\n",
    "\n",
    "plt.scatter(np.array(df_lrp['linear_return_rate']),np.array(df_lra['linear_return_rate']))\n",
    "plt.xlabel(\"past period\")\n",
    "plt.ylabel(\"after period\")\n",
    "plt.title(\"Scatter plot of past and after linear return rate\")\n",
    "plt.show()"
   ]
  },
  {
   "cell_type": "markdown",
   "metadata": {},
   "source": [
    "可以發現，當我們做報酬率的轉換後，其前後期關係更接近於**獨立**關係，我們可以更有信心估計報酬率波動程度。而當前後期股價接近時，根據泰勒展開式，我們支到線性報酬率與連續報酬率的值近似。所以我們可以用以下的統計模型\n",
    "\n",
    "$$ln(\\frac{P_{t}}{P_{t-1}})\\sim N(\\mu,\\sigma^2)$$\n",
    "\n",
    " - 可利用一些常見的方法(e.g. MLE)去估計參數\n",
    " - 進而得到我們對於報酬的分配估計，而在這種情況下我們就可以評估我們的風險水準"
   ]
  },
  {
   "cell_type": "code",
   "execution_count": null,
   "metadata": {},
   "outputs": [],
   "source": []
  }
 ],
 "metadata": {
  "kernelspec": {
   "display_name": "Python 3",
   "language": "python",
   "name": "python3"
  },
  "language_info": {
   "codemirror_mode": {
    "name": "ipython",
    "version": 3
   },
   "file_extension": ".py",
   "mimetype": "text/x-python",
   "name": "python",
   "nbconvert_exporter": "python",
   "pygments_lexer": "ipython3",
   "version": "3.7.3"
  }
 },
 "nbformat": 4,
 "nbformat_minor": 2
}
