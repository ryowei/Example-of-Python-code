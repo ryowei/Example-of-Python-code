{
 "cells": [
  {
   "cell_type": "markdown",
   "metadata": {},
   "source": [
    "# Reference\n",
    "\n",
    "[1.] [從 pandas 開始 Python 與資料科學之旅](https://medium.com/datainpoint/%E5%BE%9E-pandas-%E9%96%8B%E5%A7%8B-python-%E8%88%87%E8%B3%87%E6%96%99%E7%A7%91%E5%AD%B8%E4%B9%8B%E6%97%85-8dee36796d4a)\n",
    "\n",
    "[2.] [python pandas 中 loc & iloc 用法區別](https://codertw.com/%E7%A8%8B%E5%BC%8F%E8%AA%9E%E8%A8%80/462517/)\n",
    "\n",
    "> 用 shift + tab 可看到該程式碼所需的參數"
   ]
  },
  {
   "cell_type": "code",
   "execution_count": 2,
   "metadata": {},
   "outputs": [],
   "source": [
    "# load the library\n",
    "import numpy as np\n",
    "import pandas as pd\n",
    "import matplotlib.pyplot as plt\n",
    "import seaborn as sns\n",
    "%matplotlib inline\n",
    "# data soure (.csv)\n",
    "csv_htm = \"https://storage.googleapis.com/learn_pd_like_tidyverse/gapminder.csv\""
   ]
  },
  {
   "cell_type": "markdown",
   "metadata": {},
   "source": [
    "## Read the CSV file"
   ]
  },
  {
   "cell_type": "code",
   "execution_count": 3,
   "metadata": {},
   "outputs": [
    {
     "data": {
      "text/html": [
       "<div>\n",
       "<style scoped>\n",
       "    .dataframe tbody tr th:only-of-type {\n",
       "        vertical-align: middle;\n",
       "    }\n",
       "\n",
       "    .dataframe tbody tr th {\n",
       "        vertical-align: top;\n",
       "    }\n",
       "\n",
       "    .dataframe thead th {\n",
       "        text-align: right;\n",
       "    }\n",
       "</style>\n",
       "<table border=\"1\" class=\"dataframe\">\n",
       "  <thead>\n",
       "    <tr style=\"text-align: right;\">\n",
       "      <th></th>\n",
       "      <th>country</th>\n",
       "      <th>continent</th>\n",
       "      <th>year</th>\n",
       "      <th>lifeExp</th>\n",
       "      <th>pop</th>\n",
       "      <th>gdpPercap</th>\n",
       "    </tr>\n",
       "  </thead>\n",
       "  <tbody>\n",
       "    <tr>\n",
       "      <th>0</th>\n",
       "      <td>Afghanistan</td>\n",
       "      <td>Asia</td>\n",
       "      <td>1952</td>\n",
       "      <td>28.801</td>\n",
       "      <td>8425333</td>\n",
       "      <td>779.445314</td>\n",
       "    </tr>\n",
       "    <tr>\n",
       "      <th>1</th>\n",
       "      <td>Afghanistan</td>\n",
       "      <td>Asia</td>\n",
       "      <td>1957</td>\n",
       "      <td>30.332</td>\n",
       "      <td>9240934</td>\n",
       "      <td>820.853030</td>\n",
       "    </tr>\n",
       "    <tr>\n",
       "      <th>2</th>\n",
       "      <td>Afghanistan</td>\n",
       "      <td>Asia</td>\n",
       "      <td>1962</td>\n",
       "      <td>31.997</td>\n",
       "      <td>10267083</td>\n",
       "      <td>853.100710</td>\n",
       "    </tr>\n",
       "    <tr>\n",
       "      <th>3</th>\n",
       "      <td>Afghanistan</td>\n",
       "      <td>Asia</td>\n",
       "      <td>1967</td>\n",
       "      <td>34.020</td>\n",
       "      <td>11537966</td>\n",
       "      <td>836.197138</td>\n",
       "    </tr>\n",
       "    <tr>\n",
       "      <th>4</th>\n",
       "      <td>Afghanistan</td>\n",
       "      <td>Asia</td>\n",
       "      <td>1972</td>\n",
       "      <td>36.088</td>\n",
       "      <td>13079460</td>\n",
       "      <td>739.981106</td>\n",
       "    </tr>\n",
       "  </tbody>\n",
       "</table>\n",
       "</div>"
      ],
      "text/plain": [
       "       country continent  year  lifeExp       pop   gdpPercap\n",
       "0  Afghanistan      Asia  1952   28.801   8425333  779.445314\n",
       "1  Afghanistan      Asia  1957   30.332   9240934  820.853030\n",
       "2  Afghanistan      Asia  1962   31.997  10267083  853.100710\n",
       "3  Afghanistan      Asia  1967   34.020  11537966  836.197138\n",
       "4  Afghanistan      Asia  1972   36.088  13079460  739.981106"
      ]
     },
     "execution_count": 3,
     "metadata": {},
     "output_type": "execute_result"
    }
   ],
   "source": [
    "gapminder = pd.read_csv(csv_htm)\n",
    "\n",
    "gapminder.head()"
   ]
  },
  {
   "cell_type": "markdown",
   "metadata": {},
   "source": [
    "***\n",
    "# Data Visualization\n",
    "\n",
    "\n",
    "## 1. Line plot\n",
    "\n",
    "\n",
    "## 2. Slice\n",
    " - 2.1 iloc\n",
    " - 2.2 loc\n",
    " - 2.3 ix\n",
    " - 2.4 isin: 過濾的一種。 切片完之後，再採用中括號撈取想要的值。\n",
    " \n",
    "## 3. Pivot_table\n",
    "\n",
    "\n",
    "## 4. Historgram\n",
    "\n",
    "\n",
    "## 5. Boxplot\n",
    "\n",
    "\n",
    "## 6. Scatter plot\n",
    "\n",
    "\n",
    "## 7. Hexbin plot ( = scatter plot + freq of point )\n",
    "\n",
    "\n",
    "## 8. Bar plot\n",
    "\n",
    "\n",
    "## 9. Pie plot"
   ]
  },
  {
   "cell_type": "code",
   "execution_count": 4,
   "metadata": {},
   "outputs": [
    {
     "data": {
      "text/html": [
       "<div>\n",
       "<style scoped>\n",
       "    .dataframe tbody tr th:only-of-type {\n",
       "        vertical-align: middle;\n",
       "    }\n",
       "\n",
       "    .dataframe tbody tr th {\n",
       "        vertical-align: top;\n",
       "    }\n",
       "\n",
       "    .dataframe thead th {\n",
       "        text-align: right;\n",
       "    }\n",
       "</style>\n",
       "<table border=\"1\" class=\"dataframe\">\n",
       "  <thead>\n",
       "    <tr style=\"text-align: right;\">\n",
       "      <th></th>\n",
       "      <th>country</th>\n",
       "      <th>continent</th>\n",
       "      <th>year</th>\n",
       "      <th>lifeExp</th>\n",
       "      <th>pop</th>\n",
       "      <th>gdpPercap</th>\n",
       "    </tr>\n",
       "  </thead>\n",
       "  <tbody>\n",
       "    <tr>\n",
       "      <th>1500</th>\n",
       "      <td>Taiwan</td>\n",
       "      <td>Asia</td>\n",
       "      <td>1952</td>\n",
       "      <td>58.50</td>\n",
       "      <td>8550362</td>\n",
       "      <td>1206.947913</td>\n",
       "    </tr>\n",
       "    <tr>\n",
       "      <th>1501</th>\n",
       "      <td>Taiwan</td>\n",
       "      <td>Asia</td>\n",
       "      <td>1957</td>\n",
       "      <td>62.40</td>\n",
       "      <td>10164215</td>\n",
       "      <td>1507.861290</td>\n",
       "    </tr>\n",
       "    <tr>\n",
       "      <th>1502</th>\n",
       "      <td>Taiwan</td>\n",
       "      <td>Asia</td>\n",
       "      <td>1962</td>\n",
       "      <td>65.20</td>\n",
       "      <td>11918938</td>\n",
       "      <td>1822.879028</td>\n",
       "    </tr>\n",
       "    <tr>\n",
       "      <th>1503</th>\n",
       "      <td>Taiwan</td>\n",
       "      <td>Asia</td>\n",
       "      <td>1967</td>\n",
       "      <td>67.50</td>\n",
       "      <td>13648692</td>\n",
       "      <td>2643.858681</td>\n",
       "    </tr>\n",
       "    <tr>\n",
       "      <th>1504</th>\n",
       "      <td>Taiwan</td>\n",
       "      <td>Asia</td>\n",
       "      <td>1972</td>\n",
       "      <td>69.39</td>\n",
       "      <td>15226039</td>\n",
       "      <td>4062.523897</td>\n",
       "    </tr>\n",
       "  </tbody>\n",
       "</table>\n",
       "</div>"
      ],
      "text/plain": [
       "     country continent  year  lifeExp       pop    gdpPercap\n",
       "1500  Taiwan      Asia  1952    58.50   8550362  1206.947913\n",
       "1501  Taiwan      Asia  1957    62.40  10164215  1507.861290\n",
       "1502  Taiwan      Asia  1962    65.20  11918938  1822.879028\n",
       "1503  Taiwan      Asia  1967    67.50  13648692  2643.858681\n",
       "1504  Taiwan      Asia  1972    69.39  15226039  4062.523897"
      ]
     },
     "execution_count": 4,
     "metadata": {},
     "output_type": "execute_result"
    }
   ],
   "source": [
    "# 1. filtering country == 'Taiwan' and creat a new variable\n",
    "# 2. gapminder['countery'] == 'Taiwan'只要這一個 Series 所產生的True/False\n",
    "# 3. 再套入 gapminder\n",
    "\n",
    "gapminder_twd = gapminder[ gapminder['country'] == 'Taiwan']\n",
    "gapminder_twd.head()"
   ]
  },
  {
   "cell_type": "markdown",
   "metadata": {},
   "source": [
    "## 1. Line plot\n",
    "\n",
    "```\n",
    "code: XXX.plot(\n",
    "      kind = \"line\",\n",
    "      x = \"continus_x\",\n",
    "      y = \"continus_y\",\n",
    "      title = \"line of continus_x and continus_y\",\n",
    "      legend = False or True\n",
    "      )\n",
    "```"
   ]
  },
  {
   "cell_type": "code",
   "execution_count": 5,
   "metadata": {},
   "outputs": [
    {
     "data": {
      "image/png": "[encoded data removed]",
      "text/plain": [
       "<Figure size 432x288 with 1 Axes>"
      ]
     },
     "metadata": {
      "needs_background": "light"
     },
     "output_type": "display_data"
    }
   ],
   "source": [
    "# 1. 針對 year and pop 畫一張 折線圖\n",
    "\n",
    "gapminder_twd[['year','pop']].plot(\n",
    "    kind = \"line\",\n",
    "    x = 'year', y = 'pop' , \n",
    "    title = 'Year and Pop in Taiwan' , legend = False\n",
    ")\n",
    "\n",
    "plt.show()"
   ]
  },
  {
   "cell_type": "markdown",
   "metadata": {},
   "source": [
    "***"
   ]
  },
  {
   "cell_type": "markdown",
   "metadata": {},
   "source": [
    "# 2. Slice\n",
    "\n",
    "###  2.1 loc：基於行標籤和列標籤（x_label、y_label）進行索引"
   ]
  },
  {
   "cell_type": "code",
   "execution_count": 6,
   "metadata": {},
   "outputs": [
    {
     "data": {
      "text/html": [
       "<div>\n",
       "<style scoped>\n",
       "    .dataframe tbody tr th:only-of-type {\n",
       "        vertical-align: middle;\n",
       "    }\n",
       "\n",
       "    .dataframe tbody tr th {\n",
       "        vertical-align: top;\n",
       "    }\n",
       "\n",
       "    .dataframe thead th {\n",
       "        text-align: right;\n",
       "    }\n",
       "</style>\n",
       "<table border=\"1\" class=\"dataframe\">\n",
       "  <thead>\n",
       "    <tr style=\"text-align: right;\">\n",
       "      <th></th>\n",
       "      <th>A</th>\n",
       "      <th>B</th>\n",
       "      <th>C</th>\n",
       "      <th>D</th>\n",
       "    </tr>\n",
       "  </thead>\n",
       "  <tbody>\n",
       "    <tr>\n",
       "      <th>a</th>\n",
       "      <td>0.190800</td>\n",
       "      <td>0.470032</td>\n",
       "      <td>0.120127</td>\n",
       "      <td>0.831670</td>\n",
       "    </tr>\n",
       "    <tr>\n",
       "      <th>b</th>\n",
       "      <td>0.998493</td>\n",
       "      <td>0.099442</td>\n",
       "      <td>0.341723</td>\n",
       "      <td>0.144526</td>\n",
       "    </tr>\n",
       "    <tr>\n",
       "      <th>c</th>\n",
       "      <td>0.268556</td>\n",
       "      <td>0.276444</td>\n",
       "      <td>0.869295</td>\n",
       "      <td>0.939766</td>\n",
       "    </tr>\n",
       "    <tr>\n",
       "      <th>d</th>\n",
       "      <td>0.727494</td>\n",
       "      <td>0.102612</td>\n",
       "      <td>0.790767</td>\n",
       "      <td>0.107158</td>\n",
       "    </tr>\n",
       "  </tbody>\n",
       "</table>\n",
       "</div>"
      ],
      "text/plain": [
       "          A         B         C         D\n",
       "a  0.190800  0.470032  0.120127  0.831670\n",
       "b  0.998493  0.099442  0.341723  0.144526\n",
       "c  0.268556  0.276444  0.869295  0.939766\n",
       "d  0.727494  0.102612  0.790767  0.107158"
      ]
     },
     "execution_count": 6,
     "metadata": {},
     "output_type": "execute_result"
    }
   ],
   "source": [
    "frame = pd.DataFrame(np.random.rand(4,4),\n",
    "                       index = list('abcd'),\n",
    "                     columns = list('ABCD'))\n",
    "frame"
   ]
  },
  {
   "cell_type": "code",
   "execution_count": 7,
   "metadata": {},
   "outputs": [
    {
     "name": "stdout",
     "output_type": "stream",
     "text": [
      "\n",
      "1. frame.loc['a','A'] => \n",
      "0.19080015556047303\n",
      "\n",
      "\n",
      "\n",
      "2. frame.loc['a':'b',:] => \n",
      "          A         B         C         D\n",
      "a  0.190800  0.470032  0.120127  0.831670\n",
      "b  0.998493  0.099442  0.341723  0.144526\n",
      "\n",
      "\n",
      "\n",
      "3. frame.loc[:,'A':'B'] => \n",
      "          A         B\n",
      "a  0.190800  0.470032\n",
      "b  0.998493  0.099442\n",
      "c  0.268556  0.276444\n",
      "d  0.727494  0.102612\n",
      "\n",
      "4. frame.loc['a':'b','A':'B'] => \n",
      "          A         B\n",
      "a  0.190800  0.470032\n",
      "b  0.998493  0.099442\n"
     ]
    }
   ],
   "source": [
    "### 1 loc先行後列，中間用逗號（,）分割，例如取 a 和 A 對應的資料\n",
    "print(\"\\n1. frame.loc['a','A'] => \\n{0}\".format(frame.loc['a','A']))\n",
    "print(\"\\n\")\n",
    "\n",
    "### 2 取前兩行對應資料\n",
    "print(\"\\n2. frame.loc['a':'b',:] => \\n{0}\".format(frame.loc['a':'b',:]))\n",
    "print(\"\\n\") \n",
    "\n",
    "### 3 取前兩列對應資料\n",
    "print(\"\\n3. frame.loc[:,'A':'B'] => \\n{0}\".format(frame.loc[:,'A':'B']))\n",
    "\n",
    "### 4 取前兩行和前兩列對應資料\n",
    "print(\"\\n4. frame.loc['a':'b','A':'B'] => \\n{0}\".format(frame.loc['a':'b','A':'B']))"
   ]
  },
  {
   "cell_type": "markdown",
   "metadata": {},
   "source": [
    "### 2.2 iloc: 基於行索引和列索引（index，columns） 都是從 0 開始\n",
    " - 如果資料的行標籤和列標籤**名字太長或不容易記，則用 iloc 很方便，只需記標籤對應的索引即可"
   ]
  },
  {
   "cell_type": "code",
   "execution_count": 8,
   "metadata": {},
   "outputs": [
    {
     "name": "stdout",
     "output_type": "stream",
     "text": [
      "\n",
      "1. frame.iloc[0,0] => \n",
      "0.19080015556047303\n",
      "\n",
      "2. frame.iloc[0:2,:] => \n",
      "          A         B         C         D\n",
      "a  0.190800  0.470032  0.120127  0.831670\n",
      "b  0.998493  0.099442  0.341723  0.144526\n",
      "\n",
      "3. frame.iloc[:,0:2] => \n",
      "          A         B\n",
      "a  0.190800  0.470032\n",
      "b  0.998493  0.099442\n",
      "c  0.268556  0.276444\n",
      "d  0.727494  0.102612\n",
      "\n",
      "4. frame.iloc[0:2,0:2] => \n",
      "          A         B\n",
      "a  0.190800  0.470032\n",
      "b  0.998493  0.099442\n",
      "\n",
      "5. frame.iloc[[0,3],[0,3]] => \n",
      "          A         D\n",
      "a  0.190800  0.831670\n",
      "d  0.727494  0.107158\n"
     ]
    }
   ],
   "source": [
    "### 1. loc先行後列，中間用逗號（,）分割，例如取 a 和 A 對應的資料\n",
    "print(\"\\n1. frame.iloc[0,0] => \\n{0}\".format(frame.iloc[0,0]))\n",
    "\n",
    "### 2. 取前兩行對應資料\n",
    "print(\"\\n2. frame.iloc[0:2,:] => \\n{0}\".format(frame.iloc[0:2,:]))\n",
    "\n",
    "### 3. 取前兩列對應資料\n",
    "print(\"\\n3. frame.iloc[:,0:2] => \\n{0}\".format(frame.iloc[:,0:2]))\n",
    "\n",
    "### 4. 取前兩行和前兩列對應資料\n",
    "print(\"\\n4. frame.iloc[0:2,0:2] => \\n{0}\".format(frame.iloc[0:2,0:2]))\n",
    "\n",
    "### 5. 上面的例子取的都是連續的行和列，\n",
    "###    若取第一行和第四行、第一列和第四列對應的資料，則\n",
    "print(\"\\n5. frame.iloc[[0,3],[0,3]] => \\n{0}\".format(frame.iloc[[0,3],[0,3]]))"
   ]
  },
  {
   "cell_type": "markdown",
   "metadata": {},
   "source": [
    "###  2.3 ix  基於標籤或者索引（loc和iloc 的混合）"
   ]
  },
  {
   "cell_type": "code",
   "execution_count": 9,
   "metadata": {},
   "outputs": [
    {
     "name": "stdout",
     "output_type": "stream",
     "text": [
      "\n",
      "1.frame.iloc[0:2,0:2] => \n",
      "          A         B\n",
      "a  0.190800  0.470032\n",
      "b  0.998493  0.099442\n",
      "\n",
      "2.frame.ix['a':'b','A':'B'] => \n",
      "          A         B\n",
      "a  0.190800  0.470032\n",
      "b  0.998493  0.099442\n"
     ]
    },
    {
     "name": "stderr",
     "output_type": "stream",
     "text": [
      "/Users/chibaryowei/anaconda3/lib/python3.7/site-packages/ipykernel_launcher.py:5: DeprecationWarning: \n",
      ".ix is deprecated. Please use\n",
      ".loc for label based indexing or\n",
      ".iloc for positional indexing\n",
      "\n",
      "See the documentation here:\n",
      "http://pandas.pydata.org/pandas-docs/stable/indexing.html#ix-indexer-is-deprecated\n",
      "  \"\"\"\n"
     ]
    }
   ],
   "source": [
    "### 1. 取前兩行和前兩列對應資料\n",
    "print(\"\\n1.frame.iloc[0:2,0:2] => \\n{0}\".format(frame.iloc[0:2,0:2]))\n",
    "\n",
    "### 2.取前兩行和前兩列對應資料\n",
    "print(\"\\n2.frame.ix['a':'b','A':'B'] => \\n{0}\".format(frame.ix['a':'b','A':'B']))"
   ]
  },
  {
   "cell_type": "markdown",
   "metadata": {},
   "source": [
    "### 2.4 isin\n",
    " - 主要功能為確認某個元素或者某個矩陣是否出現在其中"
   ]
  },
  {
   "cell_type": "code",
   "execution_count": 10,
   "metadata": {},
   "outputs": [
    {
     "name": "stdout",
     "output_type": "stream",
     "text": [
      "          A         B         C         D  E\n",
      "a  0.190800  0.470032  0.120127  0.831670  a\n",
      "b  0.998493  0.099442  0.341723  0.144526  a\n",
      "c  0.268556  0.276444  0.869295  0.939766  c\n",
      "d  0.727494  0.102612  0.790767  0.107158  b\n"
     ]
    }
   ],
   "source": [
    "# 新增一列 E\n",
    "frame['E']=['a','a','c','b']\n",
    "print(frame)    "
   ]
  },
  {
   "cell_type": "code",
   "execution_count": 11,
   "metadata": {},
   "outputs": [
    {
     "name": "stdout",
     "output_type": "stream",
     "text": [
      "\n",
      "1. frame.E.isin(['a','c']) => \n",
      "a     True\n",
      "b     True\n",
      "c     True\n",
      "d    False\n",
      "Name: E, dtype: bool\n",
      "\n",
      "2. frame.isin(['b','c']) => \n",
      "       A      B      C      D      E\n",
      "a  False  False  False  False  False\n",
      "b  False  False  False  False  False\n",
      "c  False  False  False  False   True\n",
      "d  False  False  False  False   True\n",
      "frame[  frame.E.isin(['a','d']) & frame.D.isin([0,]) ] => \n",
      "        A         B         C  D  E\n",
      "a  0.1908  0.470032  0.120127  0  a\n"
     ]
    }
   ],
   "source": [
    "# 1. 利用 E 確認 a, c 是否存在 E 當中\n",
    "print(\"\\n1. frame.E.isin(['a','c']) => \\n{0}\".format(frame.E.isin(['a','c'])))\n",
    "\n",
    "# 2. 也適用於整個 DataFrame\n",
    "print(\"\\n2. frame.isin(['b','c']) => \\n{0}\".format(frame.isin(['b','c'])))\n",
    "\n",
    "\n",
    "# 3. isin()接受一個列表，判斷該列中元素是否在列表中。\n",
    "#  同時對多個列過濾，可以如下使用\n",
    "#  frame[ frame[某列].isin(條件) & frame[某列].isin(條件) ]\n",
    "\n",
    "frame.D = [0,1,0,2] # 修改 D 的值\n",
    "print(\"frame[  frame.E.isin(['a','d']) & frame.D.isin([0,]) ] => \\n{0}\".format(frame[  frame.E.isin(['a','d']) & frame.D.isin([0,])    ]))\n"
   ]
  },
  {
   "cell_type": "code",
   "execution_count": 12,
   "metadata": {},
   "outputs": [
    {
     "data": {
      "text/html": [
       "<div>\n",
       "<style scoped>\n",
       "    .dataframe tbody tr th:only-of-type {\n",
       "        vertical-align: middle;\n",
       "    }\n",
       "\n",
       "    .dataframe tbody tr th {\n",
       "        vertical-align: top;\n",
       "    }\n",
       "\n",
       "    .dataframe thead th {\n",
       "        text-align: right;\n",
       "    }\n",
       "</style>\n",
       "<table border=\"1\" class=\"dataframe\">\n",
       "  <thead>\n",
       "    <tr style=\"text-align: right;\">\n",
       "      <th></th>\n",
       "      <th>country</th>\n",
       "      <th>continent</th>\n",
       "      <th>year</th>\n",
       "      <th>lifeExp</th>\n",
       "      <th>pop</th>\n",
       "      <th>gdpPercap</th>\n",
       "    </tr>\n",
       "  </thead>\n",
       "  <tbody>\n",
       "    <tr>\n",
       "      <th>288</th>\n",
       "      <td>China</td>\n",
       "      <td>Asia</td>\n",
       "      <td>1952</td>\n",
       "      <td>44.00000</td>\n",
       "      <td>556263527</td>\n",
       "      <td>400.448611</td>\n",
       "    </tr>\n",
       "    <tr>\n",
       "      <th>289</th>\n",
       "      <td>China</td>\n",
       "      <td>Asia</td>\n",
       "      <td>1957</td>\n",
       "      <td>50.54896</td>\n",
       "      <td>637408000</td>\n",
       "      <td>575.987001</td>\n",
       "    </tr>\n",
       "    <tr>\n",
       "      <th>290</th>\n",
       "      <td>China</td>\n",
       "      <td>Asia</td>\n",
       "      <td>1962</td>\n",
       "      <td>44.50136</td>\n",
       "      <td>665770000</td>\n",
       "      <td>487.674018</td>\n",
       "    </tr>\n",
       "    <tr>\n",
       "      <th>291</th>\n",
       "      <td>China</td>\n",
       "      <td>Asia</td>\n",
       "      <td>1967</td>\n",
       "      <td>58.38112</td>\n",
       "      <td>754550000</td>\n",
       "      <td>612.705693</td>\n",
       "    </tr>\n",
       "    <tr>\n",
       "      <th>292</th>\n",
       "      <td>China</td>\n",
       "      <td>Asia</td>\n",
       "      <td>1972</td>\n",
       "      <td>63.11888</td>\n",
       "      <td>862030000</td>\n",
       "      <td>676.900092</td>\n",
       "    </tr>\n",
       "  </tbody>\n",
       "</table>\n",
       "</div>"
      ],
      "text/plain": [
       "    country continent  year   lifeExp        pop   gdpPercap\n",
       "288   China      Asia  1952  44.00000  556263527  400.448611\n",
       "289   China      Asia  1957  50.54896  637408000  575.987001\n",
       "290   China      Asia  1962  44.50136  665770000  487.674018\n",
       "291   China      Asia  1967  58.38112  754550000  612.705693\n",
       "292   China      Asia  1972  63.11888  862030000  676.900092"
      ]
     },
     "execution_count": 12,
     "metadata": {},
     "output_type": "execute_result"
    }
   ],
   "source": [
    "# loc: 從 DataFrame 切片，想要切成什麼樣的形狀，或者是某種過濾\n",
    "# isin: 過濾的一種 # 採用中括號撈取想要的值\n",
    "\n",
    "gapminder_northasia = gapminder.loc[\n",
    "    gapminder['country'].isin(\n",
    "        ['China', 'Japan', 'Korea, Rep.', 'Taiwan'] \n",
    "    )\n",
    "]\n",
    "\n",
    "gapminder_northasia.head()"
   ]
  },
  {
   "cell_type": "markdown",
   "metadata": {},
   "source": [
    "***"
   ]
  },
  {
   "cell_type": "markdown",
   "metadata": {},
   "source": [
    "# 3. pivot_table\n",
    "\n",
    "```\n",
    "code: XXX.pivot_table(\n",
    "              values = \"value\",\n",
    "              columns = \"variable / col names\",\n",
    "              index = \"rownames\"\n",
    "           )\n",
    "```"
   ]
  },
  {
   "cell_type": "code",
   "execution_count": 13,
   "metadata": {
    "scrolled": true
   },
   "outputs": [
    {
     "name": "stdout",
     "output_type": "stream",
     "text": [
      "country     China   Japan  Korea, Rep.  Taiwan\n",
      "year                                          \n",
      "1952     44.00000  63.030       47.453   58.50\n",
      "1957     50.54896  65.500       52.681   62.40\n",
      "1962     44.50136  68.730       55.292   65.20\n",
      "1967     58.38112  71.430       57.716   67.50\n",
      "1972     63.11888  73.420       62.612   69.39\n",
      "1977     63.96736  75.380       64.766   70.59\n",
      "1982     65.52500  77.110       67.123   72.16\n",
      "1987     67.27400  78.670       69.810   73.40\n",
      "1992     68.69000  79.360       72.244   74.26\n",
      "1997     70.42600  80.690       74.647   75.25\n",
      "2002     72.02800  82.000       77.045   76.99\n",
      "2007     72.96100  82.603       78.623   78.40\n"
     ]
    }
   ],
   "source": [
    "# pivot_table\n",
    "\n",
    "gapminder_northasia_pivot = gapminder_northasia.pivot_table(\n",
    "    values = 'lifeExp',\n",
    "    columns = 'country',\n",
    "     index = 'year'\n",
    ")\n",
    "\n",
    "print(gapminder_northasia_pivot)"
   ]
  },
  {
   "cell_type": "markdown",
   "metadata": {},
   "source": [
    "## 1+3. Line plot by pivot table"
   ]
  },
  {
   "cell_type": "code",
   "execution_count": 14,
   "metadata": {
    "scrolled": true
   },
   "outputs": [
    {
     "data": {
      "image/png": "[encoded data removed]",
      "text/plain": [
       "<Figure size 432x288 with 1 Axes>"
      ]
     },
     "metadata": {
      "needs_background": "light"
     },
     "output_type": "display_data"
    }
   ],
   "source": [
    "gapminder_northasia_pivot.plot(\n",
    "    title = \"Life Expectancies in North Asia\"\n",
    ")\n",
    "\n",
    "plt.show()"
   ]
  },
  {
   "cell_type": "markdown",
   "metadata": {},
   "source": [
    "# 4. Histogram\n",
    "\n",
    "```\n",
    "code 1: XXX[['v1','v2','v3']].hist(bins = 15)\n",
    "\n",
    "code 2: XXX[['v1']].plot(\n",
    "              kind = 'hist',\n",
    "              bins = 15,\n",
    "              legend = False,\n",
    "              title = 'historgram of v1'    # this case for title\n",
    "            )\n",
    "\n",
    "code 3: XXX[['v1']].hist(bins = 15)\n",
    "\n",
    "\n",
    "where XXX is a DataFrame.\n",
    "```\n",
    "\n",
    "\n",
    "### Case 1: select 3 variable to print the histogram"
   ]
  },
  {
   "cell_type": "code",
   "execution_count": 15,
   "metadata": {},
   "outputs": [
    {
     "data": {
      "image/png": "[encoded data removed]",
      "text/plain": [
       "<Figure size 432x288 with 4 Axes>"
      ]
     },
     "metadata": {
      "needs_background": "light"
     },
     "output_type": "display_data"
    }
   ],
   "source": [
    "# filtering the year == 2007\n",
    "gapminder_2007 = gapminder[ gapminder['year'] == 2007]\n",
    "\n",
    "\n",
    "# catch 'pop', 'gdpPercap', 'lifeExp's histogram\n",
    "\n",
    "gapminder_2007[['pop', 'gdpPercap', 'lifeExp']].hist(bins = 15)\n",
    "\n",
    "plt.show()"
   ]
  },
  {
   "cell_type": "markdown",
   "metadata": {},
   "source": [
    "### Case 2: select 1 variable to print the histogram\n",
    "\n",
    "```\n",
    "code 2: XXX.plot(...)\n",
    "```"
   ]
  },
  {
   "cell_type": "code",
   "execution_count": 16,
   "metadata": {},
   "outputs": [
    {
     "data": {
      "image/png": "[encoded data removed]",
      "text/plain": [
       "<Figure size 432x288 with 1 Axes>"
      ]
     },
     "metadata": {
      "needs_background": "light"
     },
     "output_type": "display_data"
    }
   ],
   "source": [
    "# catch 'gdpPercap' 's histogram\n",
    "\n",
    "gapminder_2007[['gdpPercap']].plot(\n",
    "    kind = 'hist',\n",
    "    title = 'GDP Per Capita in 2007',\n",
    "    legend = False,\n",
    "    bins = 15\n",
    ")\n",
    "plt.show()"
   ]
  },
  {
   "cell_type": "markdown",
   "metadata": {},
   "source": [
    "### Case 3: select 1 variable to print the histogram \n",
    "\n",
    "```\n",
    "code 3: XXX.hist(...)\n",
    "```"
   ]
  },
  {
   "cell_type": "code",
   "execution_count": 17,
   "metadata": {},
   "outputs": [
    {
     "data": {
      "image/png": "[encoded data removed]",
      "text/plain": [
       "<Figure size 432x288 with 1 Axes>"
      ]
     },
     "metadata": {
      "needs_background": "light"
     },
     "output_type": "display_data"
    }
   ],
   "source": [
    "\n",
    "gapminder_2007[['gdpPercap']].hist(bins = 15)\n",
    "\n",
    "plt.show()"
   ]
  },
  {
   "cell_type": "code",
   "execution_count": 18,
   "metadata": {},
   "outputs": [
    {
     "name": "stdout",
     "output_type": "stream",
     "text": [
      "continent                       Africa      Americas          Asia  \\\n",
      "country                                                              \n",
      "Afghanistan                        NaN           NaN    974.580338   \n",
      "Albania                            NaN           NaN           NaN   \n",
      "Algeria                    6223.367465           NaN           NaN   \n",
      "Angola                     4797.231267           NaN           NaN   \n",
      "Argentina                          NaN  12779.379640           NaN   \n",
      "Australia                          NaN           NaN           NaN   \n",
      "Austria                            NaN           NaN           NaN   \n",
      "Bahrain                            NaN           NaN  29796.048340   \n",
      "Bangladesh                         NaN           NaN   1391.253792   \n",
      "Belgium                            NaN           NaN           NaN   \n",
      "Benin                      1441.284873           NaN           NaN   \n",
      "Bolivia                            NaN   3822.137084           NaN   \n",
      "Bosnia and Herzegovina             NaN           NaN           NaN   \n",
      "Botswana                  12569.851770           NaN           NaN   \n",
      "Brazil                             NaN   9065.800825           NaN   \n",
      "Bulgaria                           NaN           NaN           NaN   \n",
      "Burkina Faso               1217.032994           NaN           NaN   \n",
      "Burundi                     430.070692           NaN           NaN   \n",
      "Cambodia                           NaN           NaN   1713.778686   \n",
      "Cameroon                   2042.095240           NaN           NaN   \n",
      "Canada                             NaN  36319.235010           NaN   \n",
      "Central African Republic    706.016537           NaN           NaN   \n",
      "Chad                       1704.063724           NaN           NaN   \n",
      "Chile                              NaN  13171.638850           NaN   \n",
      "China                              NaN           NaN   4959.114854   \n",
      "Colombia                           NaN   7006.580419           NaN   \n",
      "Comoros                     986.147879           NaN           NaN   \n",
      "Congo, Dem. Rep.            277.551859           NaN           NaN   \n",
      "Congo, Rep.                3632.557798           NaN           NaN   \n",
      "Costa Rica                         NaN   9645.061420           NaN   \n",
      "...                                ...           ...           ...   \n",
      "Sierra Leone                862.540756           NaN           NaN   \n",
      "Singapore                          NaN           NaN  47143.179640   \n",
      "Slovak Republic                    NaN           NaN           NaN   \n",
      "Slovenia                           NaN           NaN           NaN   \n",
      "Somalia                     926.141068           NaN           NaN   \n",
      "South Africa               9269.657808           NaN           NaN   \n",
      "Spain                              NaN           NaN           NaN   \n",
      "Sri Lanka                          NaN           NaN   3970.095407   \n",
      "Sudan                      2602.394995           NaN           NaN   \n",
      "Swaziland                  4513.480643           NaN           NaN   \n",
      "Sweden                             NaN           NaN           NaN   \n",
      "Switzerland                        NaN           NaN           NaN   \n",
      "Syria                              NaN           NaN   4184.548089   \n",
      "Taiwan                             NaN           NaN  28718.276840   \n",
      "Tanzania                   1107.482182           NaN           NaN   \n",
      "Thailand                           NaN           NaN   7458.396327   \n",
      "Togo                        882.969944           NaN           NaN   \n",
      "Trinidad and Tobago                NaN  18008.509240           NaN   \n",
      "Tunisia                    7092.923025           NaN           NaN   \n",
      "Turkey                             NaN           NaN           NaN   \n",
      "Uganda                     1056.380121           NaN           NaN   \n",
      "United Kingdom                     NaN           NaN           NaN   \n",
      "United States                      NaN  42951.653090           NaN   \n",
      "Uruguay                            NaN  10611.462990           NaN   \n",
      "Venezuela                          NaN  11415.805690           NaN   \n",
      "Vietnam                            NaN           NaN   2441.576404   \n",
      "West Bank and Gaza                 NaN           NaN   3025.349798   \n",
      "Yemen, Rep.                        NaN           NaN   2280.769906   \n",
      "Zambia                     1271.211593           NaN           NaN   \n",
      "Zimbabwe                    469.709298           NaN           NaN   \n",
      "\n",
      "continent                       Europe      Oceania  \n",
      "country                                              \n",
      "Afghanistan                        NaN          NaN  \n",
      "Albania                    5937.029526          NaN  \n",
      "Algeria                            NaN          NaN  \n",
      "Angola                             NaN          NaN  \n",
      "Argentina                          NaN          NaN  \n",
      "Australia                          NaN  34435.36744  \n",
      "Austria                   36126.492700          NaN  \n",
      "Bahrain                            NaN          NaN  \n",
      "Bangladesh                         NaN          NaN  \n",
      "Belgium                   33692.605080          NaN  \n",
      "Benin                              NaN          NaN  \n",
      "Bolivia                            NaN          NaN  \n",
      "Bosnia and Herzegovina     7446.298803          NaN  \n",
      "Botswana                           NaN          NaN  \n",
      "Brazil                             NaN          NaN  \n",
      "Bulgaria                  10680.792820          NaN  \n",
      "Burkina Faso                       NaN          NaN  \n",
      "Burundi                            NaN          NaN  \n",
      "Cambodia                           NaN          NaN  \n",
      "Cameroon                           NaN          NaN  \n",
      "Canada                             NaN          NaN  \n",
      "Central African Republic           NaN          NaN  \n",
      "Chad                               NaN          NaN  \n",
      "Chile                              NaN          NaN  \n",
      "China                              NaN          NaN  \n",
      "Colombia                           NaN          NaN  \n",
      "Comoros                            NaN          NaN  \n",
      "Congo, Dem. Rep.                   NaN          NaN  \n",
      "Congo, Rep.                        NaN          NaN  \n",
      "Costa Rica                         NaN          NaN  \n",
      "...                                ...          ...  \n",
      "Sierra Leone                       NaN          NaN  \n",
      "Singapore                          NaN          NaN  \n",
      "Slovak Republic           18678.314350          NaN  \n",
      "Slovenia                  25768.257590          NaN  \n",
      "Somalia                            NaN          NaN  \n",
      "South Africa                       NaN          NaN  \n",
      "Spain                     28821.063700          NaN  \n",
      "Sri Lanka                          NaN          NaN  \n",
      "Sudan                              NaN          NaN  \n",
      "Swaziland                          NaN          NaN  \n",
      "Sweden                    33859.748350          NaN  \n",
      "Switzerland               37506.419070          NaN  \n",
      "Syria                              NaN          NaN  \n",
      "Taiwan                             NaN          NaN  \n",
      "Tanzania                           NaN          NaN  \n",
      "Thailand                           NaN          NaN  \n",
      "Togo                               NaN          NaN  \n",
      "Trinidad and Tobago                NaN          NaN  \n",
      "Tunisia                            NaN          NaN  \n",
      "Turkey                     8458.276384          NaN  \n",
      "Uganda                             NaN          NaN  \n",
      "United Kingdom            33203.261280          NaN  \n",
      "United States                      NaN          NaN  \n",
      "Uruguay                            NaN          NaN  \n",
      "Venezuela                          NaN          NaN  \n",
      "Vietnam                            NaN          NaN  \n",
      "West Bank and Gaza                 NaN          NaN  \n",
      "Yemen, Rep.                        NaN          NaN  \n",
      "Zambia                             NaN          NaN  \n",
      "Zimbabwe                           NaN          NaN  \n",
      "\n",
      "[142 rows x 5 columns]\n"
     ]
    }
   ],
   "source": [
    "# create a pivot table\n",
    "gapminder_continent_pivot = gapminder_2007.pivot_table(\n",
    "     values = 'gdpPercap',\n",
    "    columns = 'continent',\n",
    "      index = 'country'\n",
    ")\n",
    "\n",
    "print(gapminder_continent_pivot)"
   ]
  },
  {
   "cell_type": "markdown",
   "metadata": {},
   "source": [
    "## 4+3. historgram by pivot table\n",
    "\n",
    "```\n",
    "code:\n",
    "    XXX.plot(\n",
    "        kind = \"hist\", \n",
    "        alpha = 0.5, # 透明度\n",
    "        bins = 20, \n",
    "        title = \"TITLE\")\n",
    "    \n",
    "Then, legend default is True.    \n",
    "```"
   ]
  },
  {
   "cell_type": "code",
   "execution_count": 19,
   "metadata": {},
   "outputs": [
    {
     "data": {
      "image/png": "[encoded data removed]",
      "text/plain": [
       "<Figure size 432x288 with 1 Axes>"
      ]
     },
     "metadata": {
      "needs_background": "light"
     },
     "output_type": "display_data"
    }
   ],
   "source": [
    "gapminder_continent_pivot.plot(\n",
    "    kind = \"hist\", \n",
    "    alpha = 0.5, # 透明度\n",
    "    bins = 20, \n",
    "    title = \"GDP Per Capita by Continent\") # legend default is True\n",
    "\n",
    "plt.show()"
   ]
  },
  {
   "cell_type": "markdown",
   "metadata": {},
   "source": [
    "# 5. Boxplot\n",
    "\n",
    "```\n",
    "code: \n",
    "    XXX.plot(\n",
    "         kind = 'box', \n",
    "         title = 'TITLE' \n",
    "    )\n",
    "```"
   ]
  },
  {
   "cell_type": "code",
   "execution_count": 20,
   "metadata": {},
   "outputs": [
    {
     "data": {
      "image/png": "[encoded data removed]",
      "text/plain": [
       "<Figure size 432x288 with 1 Axes>"
      ]
     },
     "metadata": {
      "needs_background": "light"
     },
     "output_type": "display_data"
    }
   ],
   "source": [
    "gapminder_continent_pivot.plot(\n",
    "    kind = \"box\",\n",
    "    title = 'GDP Per Capita by Continent')\n",
    "plt.show()"
   ]
  },
  {
   "cell_type": "markdown",
   "metadata": {},
   "source": [
    "# 6. Scatter plot\n",
    "\n",
    "```\n",
    "code: \n",
    "    XXX.plot(\n",
    "        kind = 'scatter', \n",
    "        x = 'continus_x',\n",
    "        y = 'continus_y', \n",
    "        title = 'TITLE'\n",
    "    )\n",
    "```"
   ]
  },
  {
   "cell_type": "code",
   "execution_count": 21,
   "metadata": {},
   "outputs": [
    {
     "data": {
      "image/png": "[encoded data removed]",
      "text/plain": [
       "<Figure size 432x288 with 1 Axes>"
      ]
     },
     "metadata": {
      "needs_background": "light"
     },
     "output_type": "display_data"
    }
   ],
   "source": [
    "gapminder_2007.plot(\n",
    "    kind = 'scatter',\n",
    "       x = 'gdpPercap',\n",
    "       y = 'lifeExp', \n",
    "   title = 'Wealth vs. Health in 2007')\n",
    "plt.show()"
   ]
  },
  {
   "cell_type": "markdown",
   "metadata": {},
   "source": [
    "# 7. Hexbin plot (= scatter plot + freq of point)\n",
    " - 顏色深淺表示點密集程度\n",
    " - hexbin 表示六角形箱體圖\n",
    " \n",
    " \n",
    "```\n",
    "code: \n",
    "    XXX.plot(\n",
    "        kind = 'hexbin', \n",
    "        x = 'continus_x',\n",
    "        y = 'continus_y', \n",
    "        title = 'Wealth vs. Health in 2007',\n",
    "        gridsize = 20 # size of hexagon.\n",
    "    )\n",
    "```"
   ]
  },
  {
   "cell_type": "code",
   "execution_count": 22,
   "metadata": {},
   "outputs": [
    {
     "data": {
      "image/png": "[encoded data removed]",
      "text/plain": [
       "<Figure size 432x288 with 2 Axes>"
      ]
     },
     "metadata": {
      "needs_background": "light"
     },
     "output_type": "display_data"
    }
   ],
   "source": [
    "gapminder_2007.plot(\n",
    "    kind = 'hexbin', \n",
    "    x = 'gdpPercap',\n",
    "    y = 'lifeExp', \n",
    "    title = 'Wealth vs. Health in 2007',\n",
    "    gridsize = 20)\n",
    "\n",
    "plt.show()"
   ]
  },
  {
   "cell_type": "markdown",
   "metadata": {},
   "source": [
    "# 8. Bar plot\n",
    "\n",
    "```\n",
    "code 1: for XXX has 1 variable.\n",
    "  XXX.plot(\n",
    "    kind = 'bar',\n",
    "    rot = 0,\n",
    "    title = 'TITLE'\n",
    ")\n",
    "    \n",
    "code 2: for XXX have 2 above variable. \n",
    "        兩變量尺度差異很大要分開比較\n",
    "  XXX.plot(\n",
    "     kind = 'bar',\n",
    "     subplots = True, \n",
    "     rot = 0,\n",
    "     title = 'TITLE'\n",
    ")\n",
    "\n",
    "  or\n",
    "  \n",
    "  XXX.plot(\n",
    "     kind = 'barh',\n",
    "     subplots = True, \n",
    "     rot = 0,\n",
    "     title = 'TITLE'\n",
    ")\n",
    "  \n",
    "\n",
    "```"
   ]
  },
  {
   "cell_type": "code",
   "execution_count": 23,
   "metadata": {},
   "outputs": [
    {
     "data": {
      "text/plain": [
       "continent\n",
       "Africa       929539692\n",
       "Americas     898871184\n",
       "Asia        3811953827\n",
       "Europe       586098529\n",
       "Oceania       24549947\n",
       "Name: pop, dtype: int64"
      ]
     },
     "execution_count": 23,
     "metadata": {},
     "output_type": "execute_result"
    }
   ],
   "source": [
    "### 各州(continent)在 2007 年的人口(pop)總數\n",
    "\n",
    "# 1. filter year == 2007\n",
    "# 2. groupby('continent')['pop'].sum()\n",
    "\n",
    "sum_people_by_continent_gapminder = gapminder[gapminder['year'] == 2007].groupby('continent')['pop'].sum()\n",
    "\n",
    "sum_people_by_continent_gapminder.head()\n"
   ]
  },
  {
   "cell_type": "code",
   "execution_count": 24,
   "metadata": {},
   "outputs": [
    {
     "data": {
      "image/png": "[encoded data removed]",
      "text/plain": [
       "<Figure size 432x288 with 1 Axes>"
      ]
     },
     "metadata": {
      "needs_background": "light"
     },
     "output_type": "display_data"
    }
   ],
   "source": [
    "sum_people_by_continent_gapminder.plot(\n",
    "     kind = 'bar',\n",
    "     rot = 0,\n",
    "     title = 'Total of population by continent'\n",
    ")\n",
    "\n",
    "plt.show()"
   ]
  },
  {
   "cell_type": "code",
   "execution_count": 25,
   "metadata": {},
   "outputs": [
    {
     "data": {
      "text/html": [
       "<div>\n",
       "<style scoped>\n",
       "    .dataframe tbody tr th:only-of-type {\n",
       "        vertical-align: middle;\n",
       "    }\n",
       "\n",
       "    .dataframe tbody tr th {\n",
       "        vertical-align: top;\n",
       "    }\n",
       "\n",
       "    .dataframe thead th {\n",
       "        text-align: right;\n",
       "    }\n",
       "</style>\n",
       "<table border=\"1\" class=\"dataframe\">\n",
       "  <thead>\n",
       "    <tr style=\"text-align: right;\">\n",
       "      <th></th>\n",
       "      <th>country</th>\n",
       "      <th>continent</th>\n",
       "      <th>year</th>\n",
       "      <th>lifeExp</th>\n",
       "      <th>pop</th>\n",
       "      <th>gdpPercap</th>\n",
       "    </tr>\n",
       "  </thead>\n",
       "  <tbody>\n",
       "    <tr>\n",
       "      <th>0</th>\n",
       "      <td>Afghanistan</td>\n",
       "      <td>Asia</td>\n",
       "      <td>1952</td>\n",
       "      <td>28.801</td>\n",
       "      <td>8425333</td>\n",
       "      <td>779.445314</td>\n",
       "    </tr>\n",
       "    <tr>\n",
       "      <th>1</th>\n",
       "      <td>Afghanistan</td>\n",
       "      <td>Asia</td>\n",
       "      <td>1957</td>\n",
       "      <td>30.332</td>\n",
       "      <td>9240934</td>\n",
       "      <td>820.853030</td>\n",
       "    </tr>\n",
       "    <tr>\n",
       "      <th>2</th>\n",
       "      <td>Afghanistan</td>\n",
       "      <td>Asia</td>\n",
       "      <td>1962</td>\n",
       "      <td>31.997</td>\n",
       "      <td>10267083</td>\n",
       "      <td>853.100710</td>\n",
       "    </tr>\n",
       "    <tr>\n",
       "      <th>3</th>\n",
       "      <td>Afghanistan</td>\n",
       "      <td>Asia</td>\n",
       "      <td>1967</td>\n",
       "      <td>34.020</td>\n",
       "      <td>11537966</td>\n",
       "      <td>836.197138</td>\n",
       "    </tr>\n",
       "    <tr>\n",
       "      <th>4</th>\n",
       "      <td>Afghanistan</td>\n",
       "      <td>Asia</td>\n",
       "      <td>1972</td>\n",
       "      <td>36.088</td>\n",
       "      <td>13079460</td>\n",
       "      <td>739.981106</td>\n",
       "    </tr>\n",
       "  </tbody>\n",
       "</table>\n",
       "</div>"
      ],
      "text/plain": [
       "       country continent  year  lifeExp       pop   gdpPercap\n",
       "0  Afghanistan      Asia  1952   28.801   8425333  779.445314\n",
       "1  Afghanistan      Asia  1957   30.332   9240934  820.853030\n",
       "2  Afghanistan      Asia  1962   31.997  10267083  853.100710\n",
       "3  Afghanistan      Asia  1967   34.020  11537966  836.197138\n",
       "4  Afghanistan      Asia  1972   36.088  13079460  739.981106"
      ]
     },
     "execution_count": 25,
     "metadata": {},
     "output_type": "execute_result"
    }
   ],
   "source": [
    "gapminder.head()"
   ]
  },
  {
   "cell_type": "code",
   "execution_count": 26,
   "metadata": {},
   "outputs": [
    {
     "data": {
      "text/html": [
       "<div>\n",
       "<style scoped>\n",
       "    .dataframe tbody tr th:only-of-type {\n",
       "        vertical-align: middle;\n",
       "    }\n",
       "\n",
       "    .dataframe tbody tr th {\n",
       "        vertical-align: top;\n",
       "    }\n",
       "\n",
       "    .dataframe thead th {\n",
       "        text-align: right;\n",
       "    }\n",
       "</style>\n",
       "<table border=\"1\" class=\"dataframe\">\n",
       "  <thead>\n",
       "    <tr style=\"text-align: right;\">\n",
       "      <th></th>\n",
       "      <th>lifeExp</th>\n",
       "      <th>gdpPercap</th>\n",
       "    </tr>\n",
       "    <tr>\n",
       "      <th>continent</th>\n",
       "      <th></th>\n",
       "      <th></th>\n",
       "    </tr>\n",
       "  </thead>\n",
       "  <tbody>\n",
       "    <tr>\n",
       "      <th>Africa</th>\n",
       "      <td>54.806038</td>\n",
       "      <td>3089.032605</td>\n",
       "    </tr>\n",
       "    <tr>\n",
       "      <th>Americas</th>\n",
       "      <td>73.608120</td>\n",
       "      <td>11003.031625</td>\n",
       "    </tr>\n",
       "    <tr>\n",
       "      <th>Asia</th>\n",
       "      <td>70.728485</td>\n",
       "      <td>12473.026870</td>\n",
       "    </tr>\n",
       "    <tr>\n",
       "      <th>Europe</th>\n",
       "      <td>77.648600</td>\n",
       "      <td>25054.481636</td>\n",
       "    </tr>\n",
       "    <tr>\n",
       "      <th>Oceania</th>\n",
       "      <td>80.719500</td>\n",
       "      <td>29810.188275</td>\n",
       "    </tr>\n",
       "  </tbody>\n",
       "</table>\n",
       "</div>"
      ],
      "text/plain": [
       "             lifeExp     gdpPercap\n",
       "continent                         \n",
       "Africa     54.806038   3089.032605\n",
       "Americas   73.608120  11003.031625\n",
       "Asia       70.728485  12473.026870\n",
       "Europe     77.648600  25054.481636\n",
       "Oceania    80.719500  29810.188275"
      ]
     },
     "execution_count": 26,
     "metadata": {},
     "output_type": "execute_result"
    }
   ],
   "source": [
    "### 2007 年各洲平均壽命、平均財富\n",
    "mean_life_gdp_groupby_continent_gapminder = gapminder[ gapminder['year'] == 2007 ].groupby('continent')[['lifeExp','gdpPercap']].mean()\n",
    "mean_life_gdp_groupby_continent_gapminder.head()"
   ]
  },
  {
   "cell_type": "markdown",
   "metadata": {},
   "source": [
    "### Case 2: 2 variable barplot \n",
    " - add subplots others parameters.\n",
    " - 前兩張圖畫的比較好，最後一張圖數字被蓋到。"
   ]
  },
  {
   "cell_type": "code",
   "execution_count": 27,
   "metadata": {
    "scrolled": true
   },
   "outputs": [
    {
     "name": "stdout",
     "output_type": "stream",
     "text": [
      "\n",
      "\t\t     barplot_1\n"
     ]
    },
    {
     "data": {
      "image/png": "[encoded data removed]",
      "text/plain": [
       "<Figure size 432x288 with 2 Axes>"
      ]
     },
     "metadata": {
      "needs_background": "light"
     },
     "output_type": "display_data"
    },
    {
     "name": "stdout",
     "output_type": "stream",
     "text": [
      "\n",
      "\t\t     barplot_2\n"
     ]
    },
    {
     "data": {
      "image/png": "[encoded data removed]",
      "text/plain": [
       "<Figure size 432x288 with 2 Axes>"
      ]
     },
     "metadata": {
      "needs_background": "light"
     },
     "output_type": "display_data"
    },
    {
     "name": "stdout",
     "output_type": "stream",
     "text": [
      "\n",
      "\t\t     barplot_3\n"
     ]
    },
    {
     "data": {
      "image/png": "[encoded data removed]",
      "text/plain": [
       "<Figure size 432x288 with 2 Axes>"
      ]
     },
     "metadata": {
      "needs_background": "light"
     },
     "output_type": "display_data"
    }
   ],
   "source": [
    "print(\"\\n\\t\\t     barplot_1\")\n",
    "mean_life_gdp_groupby_continent_gapminder.plot(\n",
    "    kind = 'bar',\n",
    "    subplots = True, # if above 2 variable\n",
    "    layout = (2,1), # choose matrix of graph,\n",
    "    sharex = True, # 是否要共用 x 軸\n",
    "    sharey = False,  # 是否要共用 y 軸\n",
    "    legend = False   # 由於標題已經顯示，所以不用再 legend\n",
    ")\n",
    "\n",
    "plt.show()\n",
    "\n",
    "print(\"\\n\\t\\t     barplot_2\")\n",
    "mean_life_gdp_groupby_continent_gapminder.plot(\n",
    "    kind = 'barh',\n",
    "    subplots = True, # if above 2 variable\n",
    "    layout = (1,2), # choose matrix of graph,\n",
    "    sharex = False, # 是否要共用 x 軸\n",
    "    sharey = True,  # 是否要共用 y 軸\n",
    "    legend = False   # 由於標題已經顯示，所以不用再 legend\n",
    ")\n",
    "\n",
    "plt.show()\n",
    "print(\"\\n\\t\\t     barplot_3\")\n",
    "mean_life_gdp_groupby_continent_gapminder.plot(\n",
    "    kind = 'barh',\n",
    "    subplots = True,\n",
    "    sharex = False, # 是否要共用 x 軸\n",
    "    sharey = True,  # 是否要共用 y 軸\n",
    "    legend = False\n",
    ")\n",
    "\n",
    "plt.show()"
   ]
  },
  {
   "cell_type": "markdown",
   "metadata": {},
   "source": [
    "***\n",
    "\n",
    "# 9. Pie plot"
   ]
  },
  {
   "cell_type": "code",
   "execution_count": 35,
   "metadata": {},
   "outputs": [
    {
     "data": {
      "image/png": "[encoded data removed]",
      "text/plain": [
       "<Figure size 432x288 with 1 Axes>"
      ]
     },
     "metadata": {},
     "output_type": "display_data"
    }
   ],
   "source": [
    "# generating the data\n",
    "# from 1~10 choose #5 integer data\n",
    "d1 = np.random.randint(1, 11, 5) \n",
    "\n",
    "plt.pie(d1)\n",
    "\n",
    "plt.show()"
   ]
  }
 ],
 "metadata": {
  "kernelspec": {
   "display_name": "Python 3",
   "language": "python",
   "name": "python3"
  },
  "language_info": {
   "codemirror_mode": {
    "name": "ipython",
    "version": 3
   },
   "file_extension": ".py",
   "mimetype": "text/x-python",
   "name": "python",
   "nbconvert_exporter": "python",
   "pygments_lexer": "ipython3",
   "version": "3.7.3"
  }
 },
 "nbformat": 4,
 "nbformat_minor": 2
}
