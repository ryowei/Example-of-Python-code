{
 "cells": [
  {
   "cell_type": "markdown",
   "metadata": {},
   "source": [
    ">pandas 除了提供 DataFrame 這個資料結構，尚有 **Series** 與 **Panel** 兩種資料結構\n",
    "\n",
    ">只要單選 DataFrame 之中的**單一變數**且不要以 list 標註就可以獲得 Series\n",
    "\n",
    "```\n",
    "e.g.,\n",
    "  DATA['v1'] -> This is a \"Series\".\n",
    "```"
   ]
  },
  {
   "cell_type": "code",
   "execution_count": 1,
   "metadata": {},
   "outputs": [],
   "source": [
    "# load the library\n",
    "import numpy as np\n",
    "import pandas as pd\n",
    "\n",
    "# data soure (.csv)\n",
    "csv_htm = \"https://storage.googleapis.com/learn_pd_like_tidyverse/gapminder.csv\"\n",
    "\n",
    "# read the csv data from csv_htm\n",
    "gapminder = pd.read_csv(csv_htm)"
   ]
  },
  {
   "cell_type": "code",
   "execution_count": 2,
   "metadata": {},
   "outputs": [
    {
     "data": {
      "text/plain": [
       "pandas.core.series.Series"
      ]
     },
     "execution_count": 2,
     "metadata": {},
     "output_type": "execute_result"
    }
   ],
   "source": [
    "country = gapminder['country']\n",
    "type(country)"
   ]
  },
  {
   "cell_type": "markdown",
   "metadata": {},
   "source": [
    "***"
   ]
  },
  {
   "cell_type": "markdown",
   "metadata": {},
   "source": [
    "## **Series** 還可以再拆分為\n",
    " - **index** 與 **values** 兩個部分\n",
    " \n",
    " \n",
    " - 其中 **values** 就是一個 Numpy 的 **ndarray**"
   ]
  },
  {
   "cell_type": "code",
   "execution_count": 17,
   "metadata": {},
   "outputs": [
    {
     "name": "stdout",
     "output_type": "stream",
     "text": [
      "country.index => \n",
      "RangeIndex(start=0, stop=1704, step=1)\n",
      "\n",
      "----------------------\n",
      "\n",
      "從 Series 中再拆分出 ndarry:\n",
      "Numpy 的 ndarray: country.values => \n",
      "['Afghanistan' 'Afghanistan' 'Afghanistan' ... 'Zimbabwe' 'Zimbabwe'\n",
      " 'Zimbabwe']\n",
      "\n",
      "----------------------\n",
      "\n",
      "Check 型態是否為 numpy.ndarray:\n",
      "type(country.values) => \n",
      "<class 'numpy.ndarray'>\n"
     ]
    }
   ],
   "source": [
    "print(\"country.index => \\n{0}\".format(country.index))\n",
    "\n",
    "print(\"\\n----------------------\\n\")\n",
    "\n",
    "print(\"從 Series 中再拆分出 ndarry:\")\n",
    "print(\"Numpy 的 ndarray: country.values => \\n{0}\".format(country.values))\n",
    "\n",
    "print(\"\\n----------------------\\n\")\n",
    "\n",
    "print(\"Check 型態是否為 numpy.ndarray:\")\n",
    "print(\"type(country.values) => \\n{0}\".format(type(country.values)))"
   ]
  },
  {
   "cell_type": "markdown",
   "metadata": {},
   "source": [
    "### 因此可以得到以下資料結構的關係：\n",
    " - 一個 DataFrame 可以解構為多個 Series\n",
    "\n",
    "   - 一個 Series 可以再解構為 ndarray\n",
    "\n",
    "     - ndarray 可以再解構取得之中的數字、布林或文字。"
   ]
  },
  {
   "cell_type": "markdown",
   "metadata": {},
   "source": [
    "***"
   ]
  },
  {
   "cell_type": "markdown",
   "metadata": {},
   "source": [
    "## Panel 則是能儲存**多個 DataFrame** 資料結構\n",
    "\n",
    "For Example:\n",
    " - 可以將原本的 gapminder 依照**年份**拆開\n",
    " \n",
    " \n",
    " - 一個年份的資料用一個 DataFrame 儲存\n",
    " \n",
    " \n",
    " - 將 12 個 DataFrame 都儲存到一個 Panel 物件之中\n",
    " \n",
    " ****\n",
    " \n",
    " 資料結構的關係由大到小可以這樣想像：\n",
    " \n",
    " - 一個 Panel 可儲存多個 DataFrame\n",
    " \n",
    "   - 一個 DataFrame 可以解構為多個 Series\n",
    "\n",
    "     - 一個 Series 可以再解構為 ndarray\n",
    "\n",
    "       - ndarray 可以再解構取得之中的數字、布林或文字。"
   ]
  },
  {
   "cell_type": "markdown",
   "metadata": {},
   "source": [
    "***"
   ]
  },
  {
   "cell_type": "markdown",
   "metadata": {},
   "source": [
    "## Example of Panel"
   ]
  },
  {
   "cell_type": "code",
   "execution_count": 18,
   "metadata": {},
   "outputs": [
    {
     "name": "stderr",
     "output_type": "stream",
     "text": [
      "/Users/chibaryowei/anaconda3/lib/python3.7/site-packages/IPython/core/interactiveshell.py:3296: FutureWarning: \n",
      "Panel is deprecated and will be removed in a future version.\n",
      "The recommended way to represent these types of 3-dimensional data are with a MultiIndex on a DataFrame, via the Panel.to_frame() method\n",
      "Alternatively, you can use the xarray package http://xarray.pydata.org/en/stable/.\n",
      "Pandas provides a `.to_xarray()` method to help automate this conversion.\n",
      "\n",
      "  exec(code_obj, self.user_global_ns, self.user_ns)\n"
     ]
    },
    {
     "data": {
      "text/plain": [
       "<class 'pandas.core.panel.Panel'>\n",
       "Dimensions: 12 (items) x 142 (major_axis) x 6 (minor_axis)\n",
       "Items axis: 1952 to 2007\n",
       "Major_axis axis: 0 to 141\n",
       "Minor_axis axis: country to gdpPercap"
      ]
     },
     "execution_count": 18,
     "metadata": {},
     "output_type": "execute_result"
    }
   ],
   "source": [
    "df_grouped = gapminder.groupby(['year'])\n",
    "df_dict = {} # 開一個空的字典，儲存\n",
    "\n",
    "for i in range(1952, 2011, 5):\n",
    "    df_dict[i] = df_grouped.get_group(i).reset_index(drop = True)\n",
    "\n",
    "    gapminder_panel = pd.Panel(df_dict)\n",
    "gapminder_panel"
   ]
  },
  {
   "cell_type": "markdown",
   "metadata": {},
   "source": [
    "## What is reset_index(drop = True)"
   ]
  },
  {
   "cell_type": "code",
   "execution_count": null,
   "metadata": {},
   "outputs": [],
   "source": []
  }
 ],
 "metadata": {
  "kernelspec": {
   "display_name": "Python 3",
   "language": "python",
   "name": "python3"
  },
  "language_info": {
   "codemirror_mode": {
    "name": "ipython",
    "version": 3
   },
   "file_extension": ".py",
   "mimetype": "text/x-python",
   "name": "python",
   "nbconvert_exporter": "python",
   "pygments_lexer": "ipython3",
   "version": "3.7.3"
  }
 },
 "nbformat": 4,
 "nbformat_minor": 2
}
