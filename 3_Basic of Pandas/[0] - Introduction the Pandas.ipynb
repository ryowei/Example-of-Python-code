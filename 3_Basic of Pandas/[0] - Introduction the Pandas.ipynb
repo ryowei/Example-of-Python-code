{
 "cells": [
  {
   "cell_type": "markdown",
   "metadata": {},
   "source": [
    "# Reference\n",
    "\n",
    "[1.] [從 pandas 開始 Python 與資料科學之旅](https://medium.com/datainpoint/%E5%BE%9E-pandas-%E9%96%8B%E5%A7%8B-python-%E8%88%87%E8%B3%87%E6%96%99%E7%A7%91%E5%AD%B8%E4%B9%8B%E6%97%85-8dee36796d4a)\n",
    "\n",
    "[2.] [python pandas 中 loc & iloc 用法區別](https://codertw.com/%E7%A8%8B%E5%BC%8F%E8%AA%9E%E8%A8%80/462517/)"
   ]
  },
  {
   "cell_type": "markdown",
   "metadata": {},
   "source": [
    "**Pandas** 取名自 pan(el)-da(ta)-s，也與套件主要提供的三個資料結構：\n",
    " - Panel\n",
    " - DataFrame \n",
    " - Series \n",
    " \n",
    "[GitHub repository](https://github.com/pandas-dev/pandas) 的介紹：\n",
    "```\n",
    "Flexible and powerful data analysis / manipulation library for Python, providing labeled data structures similar to R data.frame objects, statistical functions, and much more.\n",
    "```\n"
   ]
  },
  {
   "cell_type": "code",
   "execution_count": 1,
   "metadata": {},
   "outputs": [],
   "source": [
    "# load the library\n",
    "import numpy as np\n",
    "import pandas as pd\n",
    "\n",
    "# data soure (.csv)\n",
    "csv_htm = \"https://storage.googleapis.com/learn_pd_like_tidyverse/gapminder.csv\""
   ]
  },
  {
   "cell_type": "markdown",
   "metadata": {},
   "source": [
    "## Read the CSV file\n",
    "\n",
    "\n",
    "```\n",
    "code: pd.read_csv(data_from)\n",
    "```"
   ]
  },
  {
   "cell_type": "code",
   "execution_count": 2,
   "metadata": {},
   "outputs": [],
   "source": [
    "gapminder = pd.read_csv(csv_htm)"
   ]
  },
  {
   "cell_type": "markdown",
   "metadata": {},
   "source": [
    "### Check gapminder 的 型態\n",
    "\n",
    "```\n",
    "code: type(XXX)\n",
    "```"
   ]
  },
  {
   "cell_type": "code",
   "execution_count": 3,
   "metadata": {},
   "outputs": [
    {
     "name": "stdout",
     "output_type": "stream",
     "text": [
      "<class 'pandas.core.frame.DataFrame'>\n"
     ]
    }
   ],
   "source": [
    "print(type(gapminder))"
   ]
  },
  {
   "cell_type": "markdown",
   "metadata": {},
   "source": [
    "### 觀察前幾筆的資料 （預設前五筆）\n",
    "\n",
    "```\n",
    "code: XXX.head()\n",
    "```"
   ]
  },
  {
   "cell_type": "code",
   "execution_count": 4,
   "metadata": {},
   "outputs": [
    {
     "data": {
      "text/html": [
       "<div>\n",
       "<style scoped>\n",
       "    .dataframe tbody tr th:only-of-type {\n",
       "        vertical-align: middle;\n",
       "    }\n",
       "\n",
       "    .dataframe tbody tr th {\n",
       "        vertical-align: top;\n",
       "    }\n",
       "\n",
       "    .dataframe thead th {\n",
       "        text-align: right;\n",
       "    }\n",
       "</style>\n",
       "<table border=\"1\" class=\"dataframe\">\n",
       "  <thead>\n",
       "    <tr style=\"text-align: right;\">\n",
       "      <th></th>\n",
       "      <th>country</th>\n",
       "      <th>continent</th>\n",
       "      <th>year</th>\n",
       "      <th>lifeExp</th>\n",
       "      <th>pop</th>\n",
       "      <th>gdpPercap</th>\n",
       "    </tr>\n",
       "  </thead>\n",
       "  <tbody>\n",
       "    <tr>\n",
       "      <th>0</th>\n",
       "      <td>Afghanistan</td>\n",
       "      <td>Asia</td>\n",
       "      <td>1952</td>\n",
       "      <td>28.801</td>\n",
       "      <td>8425333</td>\n",
       "      <td>779.445314</td>\n",
       "    </tr>\n",
       "    <tr>\n",
       "      <th>1</th>\n",
       "      <td>Afghanistan</td>\n",
       "      <td>Asia</td>\n",
       "      <td>1957</td>\n",
       "      <td>30.332</td>\n",
       "      <td>9240934</td>\n",
       "      <td>820.853030</td>\n",
       "    </tr>\n",
       "    <tr>\n",
       "      <th>2</th>\n",
       "      <td>Afghanistan</td>\n",
       "      <td>Asia</td>\n",
       "      <td>1962</td>\n",
       "      <td>31.997</td>\n",
       "      <td>10267083</td>\n",
       "      <td>853.100710</td>\n",
       "    </tr>\n",
       "    <tr>\n",
       "      <th>3</th>\n",
       "      <td>Afghanistan</td>\n",
       "      <td>Asia</td>\n",
       "      <td>1967</td>\n",
       "      <td>34.020</td>\n",
       "      <td>11537966</td>\n",
       "      <td>836.197138</td>\n",
       "    </tr>\n",
       "    <tr>\n",
       "      <th>4</th>\n",
       "      <td>Afghanistan</td>\n",
       "      <td>Asia</td>\n",
       "      <td>1972</td>\n",
       "      <td>36.088</td>\n",
       "      <td>13079460</td>\n",
       "      <td>739.981106</td>\n",
       "    </tr>\n",
       "  </tbody>\n",
       "</table>\n",
       "</div>"
      ],
      "text/plain": [
       "       country continent  year  lifeExp       pop   gdpPercap\n",
       "0  Afghanistan      Asia  1952   28.801   8425333  779.445314\n",
       "1  Afghanistan      Asia  1957   30.332   9240934  820.853030\n",
       "2  Afghanistan      Asia  1962   31.997  10267083  853.100710\n",
       "3  Afghanistan      Asia  1967   34.020  11537966  836.197138\n",
       "4  Afghanistan      Asia  1972   36.088  13079460  739.981106"
      ]
     },
     "execution_count": 4,
     "metadata": {},
     "output_type": "execute_result"
    }
   ],
   "source": [
    "gapminder.head()"
   ]
  },
  {
   "cell_type": "markdown",
   "metadata": {},
   "source": [
    "***"
   ]
  },
  {
   "cell_type": "markdown",
   "metadata": {},
   "source": [
    "## Read the EXCEL\n",
    "```\n",
    "code: pd.read_excel()\n",
    "```"
   ]
  },
  {
   "cell_type": "code",
   "execution_count": 5,
   "metadata": {},
   "outputs": [],
   "source": [
    "# data soure (.xlsx)\n",
    "xlsx_file = \"https://storage.googleapis.com/learn_pd_like_tidyverse/gapminder.xlsx\""
   ]
  },
  {
   "cell_type": "code",
   "execution_count": 6,
   "metadata": {},
   "outputs": [
    {
     "name": "stdout",
     "output_type": "stream",
     "text": [
      "<class 'pandas.core.frame.DataFrame'>\n",
      "\n",
      "\n"
     ]
    },
    {
     "data": {
      "text/html": [
       "<div>\n",
       "<style scoped>\n",
       "    .dataframe tbody tr th:only-of-type {\n",
       "        vertical-align: middle;\n",
       "    }\n",
       "\n",
       "    .dataframe tbody tr th {\n",
       "        vertical-align: top;\n",
       "    }\n",
       "\n",
       "    .dataframe thead th {\n",
       "        text-align: right;\n",
       "    }\n",
       "</style>\n",
       "<table border=\"1\" class=\"dataframe\">\n",
       "  <thead>\n",
       "    <tr style=\"text-align: right;\">\n",
       "      <th></th>\n",
       "      <th>country</th>\n",
       "      <th>continent</th>\n",
       "      <th>year</th>\n",
       "      <th>lifeExp</th>\n",
       "      <th>pop</th>\n",
       "      <th>gdpPercap</th>\n",
       "    </tr>\n",
       "  </thead>\n",
       "  <tbody>\n",
       "    <tr>\n",
       "      <th>0</th>\n",
       "      <td>Afghanistan</td>\n",
       "      <td>Asia</td>\n",
       "      <td>1952</td>\n",
       "      <td>28.801</td>\n",
       "      <td>8425333</td>\n",
       "      <td>779.445314</td>\n",
       "    </tr>\n",
       "    <tr>\n",
       "      <th>1</th>\n",
       "      <td>Afghanistan</td>\n",
       "      <td>Asia</td>\n",
       "      <td>1957</td>\n",
       "      <td>30.332</td>\n",
       "      <td>9240934</td>\n",
       "      <td>820.853030</td>\n",
       "    </tr>\n",
       "    <tr>\n",
       "      <th>2</th>\n",
       "      <td>Afghanistan</td>\n",
       "      <td>Asia</td>\n",
       "      <td>1962</td>\n",
       "      <td>31.997</td>\n",
       "      <td>10267083</td>\n",
       "      <td>853.100710</td>\n",
       "    </tr>\n",
       "    <tr>\n",
       "      <th>3</th>\n",
       "      <td>Afghanistan</td>\n",
       "      <td>Asia</td>\n",
       "      <td>1967</td>\n",
       "      <td>34.020</td>\n",
       "      <td>11537966</td>\n",
       "      <td>836.197138</td>\n",
       "    </tr>\n",
       "    <tr>\n",
       "      <th>4</th>\n",
       "      <td>Afghanistan</td>\n",
       "      <td>Asia</td>\n",
       "      <td>1972</td>\n",
       "      <td>36.088</td>\n",
       "      <td>13079460</td>\n",
       "      <td>739.981106</td>\n",
       "    </tr>\n",
       "  </tbody>\n",
       "</table>\n",
       "</div>"
      ],
      "text/plain": [
       "       country continent  year  lifeExp       pop   gdpPercap\n",
       "0  Afghanistan      Asia  1952   28.801   8425333  779.445314\n",
       "1  Afghanistan      Asia  1957   30.332   9240934  820.853030\n",
       "2  Afghanistan      Asia  1962   31.997  10267083  853.100710\n",
       "3  Afghanistan      Asia  1967   34.020  11537966  836.197138\n",
       "4  Afghanistan      Asia  1972   36.088  13079460  739.981106"
      ]
     },
     "execution_count": 6,
     "metadata": {},
     "output_type": "execute_result"
    }
   ],
   "source": [
    "gapminder = pd.read_excel(xlsx_file)\n",
    "print(type(gapminder))\n",
    "print(\"\\n\")\n",
    "gapminder.head()"
   ]
  },
  {
   "cell_type": "markdown",
   "metadata": {},
   "source": [
    "***"
   ]
  },
  {
   "cell_type": "markdown",
   "metadata": {},
   "source": [
    "## shape of data\n",
    "\n",
    "```\n",
    "code: XXX.shape\n",
    "```"
   ]
  },
  {
   "cell_type": "code",
   "execution_count": 7,
   "metadata": {},
   "outputs": [
    {
     "name": "stdout",
     "output_type": "stream",
     "text": [
      "gapminder.shape => (1704, 6)\n"
     ]
    }
   ],
   "source": [
    "print(\"gapminder.shape => {0}\".format(gapminder.shape))"
   ]
  },
  {
   "cell_type": "markdown",
   "metadata": {},
   "source": [
    "## columns of data\n",
    "\n",
    "```\n",
    "code: XXX.columns\n",
    "```"
   ]
  },
  {
   "cell_type": "code",
   "execution_count": 8,
   "metadata": {},
   "outputs": [
    {
     "name": "stdout",
     "output_type": "stream",
     "text": [
      "gapminder.columns =>\n",
      "Index(['country', 'continent', 'year', 'lifeExp', 'pop', 'gdpPercap'], dtype='object')\n"
     ]
    }
   ],
   "source": [
    "print(\"gapminder.columns =>\\n{0}\".format(gapminder.columns))"
   ]
  },
  {
   "cell_type": "markdown",
   "metadata": {},
   "source": [
    "## index of data\n",
    "\n",
    "```\n",
    "code: XXX.index\n",
    "```"
   ]
  },
  {
   "cell_type": "code",
   "execution_count": 9,
   "metadata": {
    "scrolled": false
   },
   "outputs": [
    {
     "name": "stdout",
     "output_type": "stream",
     "text": [
      "gapminder.index =>\n",
      "RangeIndex(start=0, stop=1704, step=1)\n"
     ]
    }
   ],
   "source": [
    "print(\"gapminder.index =>\\n{0}\".format(gapminder.index))"
   ]
  },
  {
   "cell_type": "markdown",
   "metadata": {},
   "source": [
    "### How to use RangeIndex(start=0, stop=1704, step=1) ?"
   ]
  },
  {
   "cell_type": "code",
   "execution_count": 10,
   "metadata": {},
   "outputs": [
    {
     "name": "stdout",
     "output_type": "stream",
     "text": [
      "可以看到左邊的 index by 1 為一個 range:\n",
      "     A\n",
      "0    1\n",
      "1    2\n",
      "2    3\n",
      "3    4\n",
      "4    5\n",
      "5    6\n",
      "6    7\n",
      "7    8\n",
      "8    9\n",
      "9   10\n",
      "10  11\n",
      "11  12\n",
      "12  13\n",
      "13  14\n",
      "14  15\n",
      "15  16\n",
      "16  17\n",
      "17  18\n",
      "18  19\n",
      "19  20\n"
     ]
    }
   ],
   "source": [
    "df = pd.DataFrame({\n",
    "    'A': range(1,21)\n",
    "})\n",
    "\n",
    "print (\"可以看到左邊的 index by 1 為一個 range:\\n{0}\".format(df)) "
   ]
  },
  {
   "cell_type": "code",
   "execution_count": 11,
   "metadata": {},
   "outputs": [
    {
     "name": "stdout",
     "output_type": "stream",
     "text": [
      "RangeIndex(start=0, stop=20, step=1)\n"
     ]
    }
   ],
   "source": [
    "print(df.index)"
   ]
  },
  {
   "cell_type": "code",
   "execution_count": 12,
   "metadata": {},
   "outputs": [
    {
     "name": "stdout",
     "output_type": "stream",
     "text": [
      "可以看到左邊的 index 改變 by 5 為一個 range:\n",
      "     A\n",
      "0    1\n",
      "5    2\n",
      "10   3\n",
      "15   4\n",
      "20   5\n",
      "25   6\n",
      "30   7\n",
      "35   8\n",
      "40   9\n",
      "45  10\n",
      "50  11\n",
      "55  12\n",
      "60  13\n",
      "65  14\n",
      "70  15\n",
      "75  16\n",
      "80  17\n",
      "85  18\n",
      "90  19\n",
      "95  20\n"
     ]
    }
   ],
   "source": [
    "# 更改 RangeIndex 之 index 的 range\n",
    "df.index = pd.RangeIndex(start=0, stop=99, step=5)\n",
    "print (\"可以看到左邊的 index 改變 by 5 為一個 range:\\n{0}\".format(df)) "
   ]
  },
  {
   "cell_type": "code",
   "execution_count": 13,
   "metadata": {},
   "outputs": [
    {
     "name": "stdout",
     "output_type": "stream",
     "text": [
      "可以看到左邊的 index 改變 by 10 為一個 range:\n",
      "      A\n",
      "0     1\n",
      "10    2\n",
      "20    3\n",
      "30    4\n",
      "40    5\n",
      "50    6\n",
      "60    7\n",
      "70    8\n",
      "80    9\n",
      "90   10\n",
      "100  11\n",
      "110  12\n",
      "120  13\n",
      "130  14\n",
      "140  15\n",
      "150  16\n",
      "160  17\n",
      "170  18\n",
      "180  19\n",
      "190  20\n"
     ]
    }
   ],
   "source": [
    "step = 10\n",
    "df.index = pd.RangeIndex(start=0, stop=len(df.index) * step - 1, step=step)\n",
    "print (\"可以看到左邊的 index 改變 by {0} 為一個 range:\\n{1}\".format(step,df)) "
   ]
  },
  {
   "cell_type": "markdown",
   "metadata": {},
   "source": [
    "## information of data\n",
    "\n",
    "```\n",
    "code: XXX.info()\n",
    "```"
   ]
  },
  {
   "cell_type": "code",
   "execution_count": 14,
   "metadata": {},
   "outputs": [
    {
     "name": "stdout",
     "output_type": "stream",
     "text": [
      "<class 'pandas.core.frame.DataFrame'>\n",
      "RangeIndex: 1704 entries, 0 to 1703\n",
      "Data columns (total 6 columns):\n",
      "country      1704 non-null object\n",
      "continent    1704 non-null object\n",
      "year         1704 non-null int64\n",
      "lifeExp      1704 non-null float64\n",
      "pop          1704 non-null int64\n",
      "gdpPercap    1704 non-null float64\n",
      "dtypes: float64(2), int64(2), object(2)\n",
      "memory usage: 80.0+ KB\n"
     ]
    }
   ],
   "source": [
    "gapminder.info()"
   ]
  },
  {
   "cell_type": "markdown",
   "metadata": {},
   "source": [
    "## describe of data\n",
    "\n",
    " - 摘要五數 （min, q1: 25%, midiam, q3: 75%, max)\n",
    " - count\n",
    " - mean\n",
    " - std\n",
    "\n",
    "```\n",
    "code: XXX.describe()\n",
    "```"
   ]
  },
  {
   "cell_type": "code",
   "execution_count": 15,
   "metadata": {},
   "outputs": [
    {
     "data": {
      "text/html": [
       "<div>\n",
       "<style scoped>\n",
       "    .dataframe tbody tr th:only-of-type {\n",
       "        vertical-align: middle;\n",
       "    }\n",
       "\n",
       "    .dataframe tbody tr th {\n",
       "        vertical-align: top;\n",
       "    }\n",
       "\n",
       "    .dataframe thead th {\n",
       "        text-align: right;\n",
       "    }\n",
       "</style>\n",
       "<table border=\"1\" class=\"dataframe\">\n",
       "  <thead>\n",
       "    <tr style=\"text-align: right;\">\n",
       "      <th></th>\n",
       "      <th>year</th>\n",
       "      <th>lifeExp</th>\n",
       "      <th>pop</th>\n",
       "      <th>gdpPercap</th>\n",
       "    </tr>\n",
       "  </thead>\n",
       "  <tbody>\n",
       "    <tr>\n",
       "      <th>count</th>\n",
       "      <td>1704.00000</td>\n",
       "      <td>1704.000000</td>\n",
       "      <td>1.704000e+03</td>\n",
       "      <td>1704.000000</td>\n",
       "    </tr>\n",
       "    <tr>\n",
       "      <th>mean</th>\n",
       "      <td>1979.50000</td>\n",
       "      <td>59.474439</td>\n",
       "      <td>2.960121e+07</td>\n",
       "      <td>7215.327081</td>\n",
       "    </tr>\n",
       "    <tr>\n",
       "      <th>std</th>\n",
       "      <td>17.26533</td>\n",
       "      <td>12.917107</td>\n",
       "      <td>1.061579e+08</td>\n",
       "      <td>9857.454543</td>\n",
       "    </tr>\n",
       "    <tr>\n",
       "      <th>min</th>\n",
       "      <td>1952.00000</td>\n",
       "      <td>23.599000</td>\n",
       "      <td>6.001100e+04</td>\n",
       "      <td>241.165876</td>\n",
       "    </tr>\n",
       "    <tr>\n",
       "      <th>25%</th>\n",
       "      <td>1965.75000</td>\n",
       "      <td>48.198000</td>\n",
       "      <td>2.793664e+06</td>\n",
       "      <td>1202.060309</td>\n",
       "    </tr>\n",
       "    <tr>\n",
       "      <th>50%</th>\n",
       "      <td>1979.50000</td>\n",
       "      <td>60.712500</td>\n",
       "      <td>7.023596e+06</td>\n",
       "      <td>3531.846988</td>\n",
       "    </tr>\n",
       "    <tr>\n",
       "      <th>75%</th>\n",
       "      <td>1993.25000</td>\n",
       "      <td>70.845500</td>\n",
       "      <td>1.958522e+07</td>\n",
       "      <td>9325.462346</td>\n",
       "    </tr>\n",
       "    <tr>\n",
       "      <th>max</th>\n",
       "      <td>2007.00000</td>\n",
       "      <td>82.603000</td>\n",
       "      <td>1.318683e+09</td>\n",
       "      <td>113523.132900</td>\n",
       "    </tr>\n",
       "  </tbody>\n",
       "</table>\n",
       "</div>"
      ],
      "text/plain": [
       "             year      lifeExp           pop      gdpPercap\n",
       "count  1704.00000  1704.000000  1.704000e+03    1704.000000\n",
       "mean   1979.50000    59.474439  2.960121e+07    7215.327081\n",
       "std      17.26533    12.917107  1.061579e+08    9857.454543\n",
       "min    1952.00000    23.599000  6.001100e+04     241.165876\n",
       "25%    1965.75000    48.198000  2.793664e+06    1202.060309\n",
       "50%    1979.50000    60.712500  7.023596e+06    3531.846988\n",
       "75%    1993.25000    70.845500  1.958522e+07    9325.462346\n",
       "max    2007.00000    82.603000  1.318683e+09  113523.132900"
      ]
     },
     "execution_count": 15,
     "metadata": {},
     "output_type": "execute_result"
    }
   ],
   "source": [
    "gapminder.describe()"
   ]
  },
  {
   "cell_type": "markdown",
   "metadata": {},
   "source": [
    "***"
   ]
  },
  {
   "cell_type": "markdown",
   "metadata": {},
   "source": [
    "# Data Cleaning\n",
    "\n",
    "\n",
    " \n",
    "## 1. filtering\n",
    " \n",
    " \n",
    " \n",
    "## 2. catch the variable\n",
    " \n",
    " \n",
    " \n",
    "## 3. additional the new variable\n",
    " \n",
    " \n",
    " \n",
    "## 4. sum()\n",
    " \n",
    " \n",
    " \n",
    " \n",
    "## 5. mean()\n",
    " \n",
    " \n",
    " \n",
    " \n",
    "## 6. groupby().sum()\n",
    " \n",
    " \n",
    " \n",
    " \n",
    "## 7. groupby().mean()"
   ]
  },
  {
   "cell_type": "markdown",
   "metadata": {},
   "source": [
    "***"
   ]
  },
  {
   "cell_type": "markdown",
   "metadata": {},
   "source": [
    "### 1. Filtering "
   ]
  },
  {
   "cell_type": "code",
   "execution_count": 16,
   "metadata": {},
   "outputs": [
    {
     "data": {
      "text/html": [
       "<div>\n",
       "<style scoped>\n",
       "    .dataframe tbody tr th:only-of-type {\n",
       "        vertical-align: middle;\n",
       "    }\n",
       "\n",
       "    .dataframe tbody tr th {\n",
       "        vertical-align: top;\n",
       "    }\n",
       "\n",
       "    .dataframe thead th {\n",
       "        text-align: right;\n",
       "    }\n",
       "</style>\n",
       "<table border=\"1\" class=\"dataframe\">\n",
       "  <thead>\n",
       "    <tr style=\"text-align: right;\">\n",
       "      <th></th>\n",
       "      <th>country</th>\n",
       "      <th>continent</th>\n",
       "      <th>year</th>\n",
       "      <th>lifeExp</th>\n",
       "      <th>pop</th>\n",
       "      <th>gdpPercap</th>\n",
       "    </tr>\n",
       "  </thead>\n",
       "  <tbody>\n",
       "    <tr>\n",
       "      <th>11</th>\n",
       "      <td>Afghanistan</td>\n",
       "      <td>Asia</td>\n",
       "      <td>2007</td>\n",
       "      <td>43.828</td>\n",
       "      <td>31889923</td>\n",
       "      <td>974.580338</td>\n",
       "    </tr>\n",
       "    <tr>\n",
       "      <th>95</th>\n",
       "      <td>Bahrain</td>\n",
       "      <td>Asia</td>\n",
       "      <td>2007</td>\n",
       "      <td>75.635</td>\n",
       "      <td>708573</td>\n",
       "      <td>29796.048340</td>\n",
       "    </tr>\n",
       "    <tr>\n",
       "      <th>107</th>\n",
       "      <td>Bangladesh</td>\n",
       "      <td>Asia</td>\n",
       "      <td>2007</td>\n",
       "      <td>64.062</td>\n",
       "      <td>150448339</td>\n",
       "      <td>1391.253792</td>\n",
       "    </tr>\n",
       "    <tr>\n",
       "      <th>227</th>\n",
       "      <td>Cambodia</td>\n",
       "      <td>Asia</td>\n",
       "      <td>2007</td>\n",
       "      <td>59.723</td>\n",
       "      <td>14131858</td>\n",
       "      <td>1713.778686</td>\n",
       "    </tr>\n",
       "    <tr>\n",
       "      <th>299</th>\n",
       "      <td>China</td>\n",
       "      <td>Asia</td>\n",
       "      <td>2007</td>\n",
       "      <td>72.961</td>\n",
       "      <td>1318683096</td>\n",
       "      <td>4959.114854</td>\n",
       "    </tr>\n",
       "    <tr>\n",
       "      <th>671</th>\n",
       "      <td>Hong Kong, China</td>\n",
       "      <td>Asia</td>\n",
       "      <td>2007</td>\n",
       "      <td>82.208</td>\n",
       "      <td>6980412</td>\n",
       "      <td>39724.978670</td>\n",
       "    </tr>\n",
       "    <tr>\n",
       "      <th>707</th>\n",
       "      <td>India</td>\n",
       "      <td>Asia</td>\n",
       "      <td>2007</td>\n",
       "      <td>64.698</td>\n",
       "      <td>1110396331</td>\n",
       "      <td>2452.210407</td>\n",
       "    </tr>\n",
       "    <tr>\n",
       "      <th>719</th>\n",
       "      <td>Indonesia</td>\n",
       "      <td>Asia</td>\n",
       "      <td>2007</td>\n",
       "      <td>70.650</td>\n",
       "      <td>223547000</td>\n",
       "      <td>3540.651564</td>\n",
       "    </tr>\n",
       "    <tr>\n",
       "      <th>731</th>\n",
       "      <td>Iran</td>\n",
       "      <td>Asia</td>\n",
       "      <td>2007</td>\n",
       "      <td>70.964</td>\n",
       "      <td>69453570</td>\n",
       "      <td>11605.714490</td>\n",
       "    </tr>\n",
       "    <tr>\n",
       "      <th>743</th>\n",
       "      <td>Iraq</td>\n",
       "      <td>Asia</td>\n",
       "      <td>2007</td>\n",
       "      <td>59.545</td>\n",
       "      <td>27499638</td>\n",
       "      <td>4471.061906</td>\n",
       "    </tr>\n",
       "    <tr>\n",
       "      <th>767</th>\n",
       "      <td>Israel</td>\n",
       "      <td>Asia</td>\n",
       "      <td>2007</td>\n",
       "      <td>80.745</td>\n",
       "      <td>6426679</td>\n",
       "      <td>25523.277100</td>\n",
       "    </tr>\n",
       "    <tr>\n",
       "      <th>803</th>\n",
       "      <td>Japan</td>\n",
       "      <td>Asia</td>\n",
       "      <td>2007</td>\n",
       "      <td>82.603</td>\n",
       "      <td>127467972</td>\n",
       "      <td>31656.068060</td>\n",
       "    </tr>\n",
       "    <tr>\n",
       "      <th>815</th>\n",
       "      <td>Jordan</td>\n",
       "      <td>Asia</td>\n",
       "      <td>2007</td>\n",
       "      <td>72.535</td>\n",
       "      <td>6053193</td>\n",
       "      <td>4519.461171</td>\n",
       "    </tr>\n",
       "    <tr>\n",
       "      <th>839</th>\n",
       "      <td>Korea, Dem. Rep.</td>\n",
       "      <td>Asia</td>\n",
       "      <td>2007</td>\n",
       "      <td>67.297</td>\n",
       "      <td>23301725</td>\n",
       "      <td>1593.065480</td>\n",
       "    </tr>\n",
       "    <tr>\n",
       "      <th>851</th>\n",
       "      <td>Korea, Rep.</td>\n",
       "      <td>Asia</td>\n",
       "      <td>2007</td>\n",
       "      <td>78.623</td>\n",
       "      <td>49044790</td>\n",
       "      <td>23348.139730</td>\n",
       "    </tr>\n",
       "    <tr>\n",
       "      <th>863</th>\n",
       "      <td>Kuwait</td>\n",
       "      <td>Asia</td>\n",
       "      <td>2007</td>\n",
       "      <td>77.588</td>\n",
       "      <td>2505559</td>\n",
       "      <td>47306.989780</td>\n",
       "    </tr>\n",
       "    <tr>\n",
       "      <th>875</th>\n",
       "      <td>Lebanon</td>\n",
       "      <td>Asia</td>\n",
       "      <td>2007</td>\n",
       "      <td>71.993</td>\n",
       "      <td>3921278</td>\n",
       "      <td>10461.058680</td>\n",
       "    </tr>\n",
       "    <tr>\n",
       "      <th>947</th>\n",
       "      <td>Malaysia</td>\n",
       "      <td>Asia</td>\n",
       "      <td>2007</td>\n",
       "      <td>74.241</td>\n",
       "      <td>24821286</td>\n",
       "      <td>12451.655800</td>\n",
       "    </tr>\n",
       "    <tr>\n",
       "      <th>1007</th>\n",
       "      <td>Mongolia</td>\n",
       "      <td>Asia</td>\n",
       "      <td>2007</td>\n",
       "      <td>66.803</td>\n",
       "      <td>2874127</td>\n",
       "      <td>3095.772271</td>\n",
       "    </tr>\n",
       "    <tr>\n",
       "      <th>1055</th>\n",
       "      <td>Myanmar</td>\n",
       "      <td>Asia</td>\n",
       "      <td>2007</td>\n",
       "      <td>62.069</td>\n",
       "      <td>47761980</td>\n",
       "      <td>944.000000</td>\n",
       "    </tr>\n",
       "    <tr>\n",
       "      <th>1079</th>\n",
       "      <td>Nepal</td>\n",
       "      <td>Asia</td>\n",
       "      <td>2007</td>\n",
       "      <td>63.785</td>\n",
       "      <td>28901790</td>\n",
       "      <td>1091.359778</td>\n",
       "    </tr>\n",
       "    <tr>\n",
       "      <th>1163</th>\n",
       "      <td>Oman</td>\n",
       "      <td>Asia</td>\n",
       "      <td>2007</td>\n",
       "      <td>75.640</td>\n",
       "      <td>3204897</td>\n",
       "      <td>22316.192870</td>\n",
       "    </tr>\n",
       "    <tr>\n",
       "      <th>1175</th>\n",
       "      <td>Pakistan</td>\n",
       "      <td>Asia</td>\n",
       "      <td>2007</td>\n",
       "      <td>65.483</td>\n",
       "      <td>169270617</td>\n",
       "      <td>2605.947580</td>\n",
       "    </tr>\n",
       "    <tr>\n",
       "      <th>1223</th>\n",
       "      <td>Philippines</td>\n",
       "      <td>Asia</td>\n",
       "      <td>2007</td>\n",
       "      <td>71.688</td>\n",
       "      <td>91077287</td>\n",
       "      <td>3190.481016</td>\n",
       "    </tr>\n",
       "    <tr>\n",
       "      <th>1319</th>\n",
       "      <td>Saudi Arabia</td>\n",
       "      <td>Asia</td>\n",
       "      <td>2007</td>\n",
       "      <td>72.777</td>\n",
       "      <td>27601038</td>\n",
       "      <td>21654.831940</td>\n",
       "    </tr>\n",
       "    <tr>\n",
       "      <th>1367</th>\n",
       "      <td>Singapore</td>\n",
       "      <td>Asia</td>\n",
       "      <td>2007</td>\n",
       "      <td>79.972</td>\n",
       "      <td>4553009</td>\n",
       "      <td>47143.179640</td>\n",
       "    </tr>\n",
       "    <tr>\n",
       "      <th>1439</th>\n",
       "      <td>Sri Lanka</td>\n",
       "      <td>Asia</td>\n",
       "      <td>2007</td>\n",
       "      <td>72.396</td>\n",
       "      <td>20378239</td>\n",
       "      <td>3970.095407</td>\n",
       "    </tr>\n",
       "    <tr>\n",
       "      <th>1499</th>\n",
       "      <td>Syria</td>\n",
       "      <td>Asia</td>\n",
       "      <td>2007</td>\n",
       "      <td>74.143</td>\n",
       "      <td>19314747</td>\n",
       "      <td>4184.548089</td>\n",
       "    </tr>\n",
       "    <tr>\n",
       "      <th>1511</th>\n",
       "      <td>Taiwan</td>\n",
       "      <td>Asia</td>\n",
       "      <td>2007</td>\n",
       "      <td>78.400</td>\n",
       "      <td>23174294</td>\n",
       "      <td>28718.276840</td>\n",
       "    </tr>\n",
       "    <tr>\n",
       "      <th>1535</th>\n",
       "      <td>Thailand</td>\n",
       "      <td>Asia</td>\n",
       "      <td>2007</td>\n",
       "      <td>70.616</td>\n",
       "      <td>65068149</td>\n",
       "      <td>7458.396327</td>\n",
       "    </tr>\n",
       "    <tr>\n",
       "      <th>1655</th>\n",
       "      <td>Vietnam</td>\n",
       "      <td>Asia</td>\n",
       "      <td>2007</td>\n",
       "      <td>74.249</td>\n",
       "      <td>85262356</td>\n",
       "      <td>2441.576404</td>\n",
       "    </tr>\n",
       "    <tr>\n",
       "      <th>1667</th>\n",
       "      <td>West Bank and Gaza</td>\n",
       "      <td>Asia</td>\n",
       "      <td>2007</td>\n",
       "      <td>73.422</td>\n",
       "      <td>4018332</td>\n",
       "      <td>3025.349798</td>\n",
       "    </tr>\n",
       "    <tr>\n",
       "      <th>1679</th>\n",
       "      <td>Yemen, Rep.</td>\n",
       "      <td>Asia</td>\n",
       "      <td>2007</td>\n",
       "      <td>62.698</td>\n",
       "      <td>22211743</td>\n",
       "      <td>2280.769906</td>\n",
       "    </tr>\n",
       "  </tbody>\n",
       "</table>\n",
       "</div>"
      ],
      "text/plain": [
       "                 country continent  year  lifeExp         pop     gdpPercap\n",
       "11           Afghanistan      Asia  2007   43.828    31889923    974.580338\n",
       "95               Bahrain      Asia  2007   75.635      708573  29796.048340\n",
       "107           Bangladesh      Asia  2007   64.062   150448339   1391.253792\n",
       "227             Cambodia      Asia  2007   59.723    14131858   1713.778686\n",
       "299                China      Asia  2007   72.961  1318683096   4959.114854\n",
       "671     Hong Kong, China      Asia  2007   82.208     6980412  39724.978670\n",
       "707                India      Asia  2007   64.698  1110396331   2452.210407\n",
       "719            Indonesia      Asia  2007   70.650   223547000   3540.651564\n",
       "731                 Iran      Asia  2007   70.964    69453570  11605.714490\n",
       "743                 Iraq      Asia  2007   59.545    27499638   4471.061906\n",
       "767               Israel      Asia  2007   80.745     6426679  25523.277100\n",
       "803                Japan      Asia  2007   82.603   127467972  31656.068060\n",
       "815               Jordan      Asia  2007   72.535     6053193   4519.461171\n",
       "839     Korea, Dem. Rep.      Asia  2007   67.297    23301725   1593.065480\n",
       "851          Korea, Rep.      Asia  2007   78.623    49044790  23348.139730\n",
       "863               Kuwait      Asia  2007   77.588     2505559  47306.989780\n",
       "875              Lebanon      Asia  2007   71.993     3921278  10461.058680\n",
       "947             Malaysia      Asia  2007   74.241    24821286  12451.655800\n",
       "1007            Mongolia      Asia  2007   66.803     2874127   3095.772271\n",
       "1055             Myanmar      Asia  2007   62.069    47761980    944.000000\n",
       "1079               Nepal      Asia  2007   63.785    28901790   1091.359778\n",
       "1163                Oman      Asia  2007   75.640     3204897  22316.192870\n",
       "1175            Pakistan      Asia  2007   65.483   169270617   2605.947580\n",
       "1223         Philippines      Asia  2007   71.688    91077287   3190.481016\n",
       "1319        Saudi Arabia      Asia  2007   72.777    27601038  21654.831940\n",
       "1367           Singapore      Asia  2007   79.972     4553009  47143.179640\n",
       "1439           Sri Lanka      Asia  2007   72.396    20378239   3970.095407\n",
       "1499               Syria      Asia  2007   74.143    19314747   4184.548089\n",
       "1511              Taiwan      Asia  2007   78.400    23174294  28718.276840\n",
       "1535            Thailand      Asia  2007   70.616    65068149   7458.396327\n",
       "1655             Vietnam      Asia  2007   74.249    85262356   2441.576404\n",
       "1667  West Bank and Gaza      Asia  2007   73.422     4018332   3025.349798\n",
       "1679         Yemen, Rep.      Asia  2007   62.698    22211743   2280.769906"
      ]
     },
     "execution_count": 16,
     "metadata": {},
     "output_type": "execute_result"
    }
   ],
   "source": [
    "gapminder[\n",
    "    ### 符合條件的將會被篩選出來\n",
    "    ### 若有多個條件則用小括弧（）表示\n",
    "    (gapminder['year'] == 2007) & (gapminder['continent'] == 'Asia')\n",
    "]"
   ]
  },
  {
   "cell_type": "markdown",
   "metadata": {},
   "source": [
    "***"
   ]
  },
  {
   "cell_type": "markdown",
   "metadata": {},
   "source": [
    "### 2. Catch the variable\n",
    "\n",
    " - **Case 1**: 若採用 **兩個大括號**，型態為：DataFrame\n",
    " \n",
    " \n",
    " \n",
    " \n",
    " \n",
    " \n",
    " \n",
    " - **Case 2**: 若採用**一個大括號**，型態為：Series"
   ]
  },
  {
   "cell_type": "code",
   "execution_count": 17,
   "metadata": {},
   "outputs": [
    {
     "name": "stdout",
     "output_type": "stream",
     "text": [
      "       country continent\n",
      "0  Afghanistan      Asia\n",
      "1  Afghanistan      Asia\n",
      "2  Afghanistan      Asia\n",
      "3  Afghanistan      Asia\n",
      "4  Afghanistan      Asia\n",
      "<class 'pandas.core.frame.DataFrame'>\n"
     ]
    }
   ],
   "source": [
    "# Case 1:\n",
    "print(gapminder[['country','continent']].head())\n",
    "\n",
    "\n",
    "print(type(gapminder[['country','continent']].head()))"
   ]
  },
  {
   "cell_type": "code",
   "execution_count": 18,
   "metadata": {},
   "outputs": [
    {
     "name": "stdout",
     "output_type": "stream",
     "text": [
      "0    Afghanistan\n",
      "1    Afghanistan\n",
      "2    Afghanistan\n",
      "3    Afghanistan\n",
      "4    Afghanistan\n",
      "Name: country, dtype: object\n",
      "<class 'pandas.core.series.Series'>\n"
     ]
    }
   ],
   "source": [
    "# Case 2:\n",
    "print(gapminder['country'].head())\n",
    "\n",
    "print(type(gapminder['country'].head()))"
   ]
  },
  {
   "cell_type": "markdown",
   "metadata": {},
   "source": [
    "### 將 catch 出來的資料存到某個變數"
   ]
  },
  {
   "cell_type": "code",
   "execution_count": 19,
   "metadata": {},
   "outputs": [
    {
     "name": "stdout",
     "output_type": "stream",
     "text": [
      "<class 'pandas.core.frame.DataFrame'>\n"
     ]
    },
    {
     "data": {
      "text/html": [
       "<div>\n",
       "<style scoped>\n",
       "    .dataframe tbody tr th:only-of-type {\n",
       "        vertical-align: middle;\n",
       "    }\n",
       "\n",
       "    .dataframe tbody tr th {\n",
       "        vertical-align: top;\n",
       "    }\n",
       "\n",
       "    .dataframe thead th {\n",
       "        text-align: right;\n",
       "    }\n",
       "</style>\n",
       "<table border=\"1\" class=\"dataframe\">\n",
       "  <thead>\n",
       "    <tr style=\"text-align: right;\">\n",
       "      <th></th>\n",
       "      <th>country</th>\n",
       "    </tr>\n",
       "  </thead>\n",
       "  <tbody>\n",
       "    <tr>\n",
       "      <th>0</th>\n",
       "      <td>Afghanistan</td>\n",
       "    </tr>\n",
       "    <tr>\n",
       "      <th>1</th>\n",
       "      <td>Afghanistan</td>\n",
       "    </tr>\n",
       "    <tr>\n",
       "      <th>2</th>\n",
       "      <td>Afghanistan</td>\n",
       "    </tr>\n",
       "    <tr>\n",
       "      <th>3</th>\n",
       "      <td>Afghanistan</td>\n",
       "    </tr>\n",
       "    <tr>\n",
       "      <th>4</th>\n",
       "      <td>Afghanistan</td>\n",
       "    </tr>\n",
       "  </tbody>\n",
       "</table>\n",
       "</div>"
      ],
      "text/plain": [
       "       country\n",
       "0  Afghanistan\n",
       "1  Afghanistan\n",
       "2  Afghanistan\n",
       "3  Afghanistan\n",
       "4  Afghanistan"
      ]
     },
     "execution_count": 19,
     "metadata": {},
     "output_type": "execute_result"
    }
   ],
   "source": [
    "country = gapminder[['country']]\n",
    "\n",
    "# 可看到使用雙大引號，他的型態為 DataFrame\n",
    "print(type(country))\n",
    "\n",
    "country.head()\n"
   ]
  },
  {
   "cell_type": "markdown",
   "metadata": {},
   "source": [
    "***"
   ]
  },
  {
   "cell_type": "markdown",
   "metadata": {},
   "source": [
    "### 3. 新增變數到 gapminder\n",
    "\n",
    "### Step :\n",
    "1. catch the [1 variable]: **gapminder['country']**.\n",
    "2. 1 variable's type is a **Series**.\n",
    "3. using **apply** (by row scanning).\n",
    "4. catch the string\n",
    "```\n",
    "# catch the string\n",
    "string = \"python\"\n",
    "print(string[:3])\n",
    "# 輸出為 pyt\n",
    "print(string[3:])\n",
    "# 輸出為 hon\n",
    "print(string[:])\n",
    "# 輸出為 python\n",
    "```\n",
    "5. lamda x: f(x)\n",
    "  - 類似於, 但是他是 by row 去執行\n",
    "```\n",
    "def f(x)\n",
    "   output = x[:3]\n",
    "   return(output)\n",
    "```"
   ]
  },
  {
   "cell_type": "code",
   "execution_count": 20,
   "metadata": {},
   "outputs": [
    {
     "data": {
      "text/html": [
       "<div>\n",
       "<style scoped>\n",
       "    .dataframe tbody tr th:only-of-type {\n",
       "        vertical-align: middle;\n",
       "    }\n",
       "\n",
       "    .dataframe tbody tr th {\n",
       "        vertical-align: top;\n",
       "    }\n",
       "\n",
       "    .dataframe thead th {\n",
       "        text-align: right;\n",
       "    }\n",
       "</style>\n",
       "<table border=\"1\" class=\"dataframe\">\n",
       "  <thead>\n",
       "    <tr style=\"text-align: right;\">\n",
       "      <th></th>\n",
       "      <th>country</th>\n",
       "      <th>continent</th>\n",
       "      <th>year</th>\n",
       "      <th>lifeExp</th>\n",
       "      <th>pop</th>\n",
       "      <th>gdpPercap</th>\n",
       "      <th>country_abb</th>\n",
       "    </tr>\n",
       "  </thead>\n",
       "  <tbody>\n",
       "    <tr>\n",
       "      <th>0</th>\n",
       "      <td>Afghanistan</td>\n",
       "      <td>Asia</td>\n",
       "      <td>1952</td>\n",
       "      <td>28.801</td>\n",
       "      <td>8425333</td>\n",
       "      <td>779.445314</td>\n",
       "      <td>Afg</td>\n",
       "    </tr>\n",
       "    <tr>\n",
       "      <th>1</th>\n",
       "      <td>Afghanistan</td>\n",
       "      <td>Asia</td>\n",
       "      <td>1957</td>\n",
       "      <td>30.332</td>\n",
       "      <td>9240934</td>\n",
       "      <td>820.853030</td>\n",
       "      <td>Afg</td>\n",
       "    </tr>\n",
       "    <tr>\n",
       "      <th>2</th>\n",
       "      <td>Afghanistan</td>\n",
       "      <td>Asia</td>\n",
       "      <td>1962</td>\n",
       "      <td>31.997</td>\n",
       "      <td>10267083</td>\n",
       "      <td>853.100710</td>\n",
       "      <td>Afg</td>\n",
       "    </tr>\n",
       "    <tr>\n",
       "      <th>3</th>\n",
       "      <td>Afghanistan</td>\n",
       "      <td>Asia</td>\n",
       "      <td>1967</td>\n",
       "      <td>34.020</td>\n",
       "      <td>11537966</td>\n",
       "      <td>836.197138</td>\n",
       "      <td>Afg</td>\n",
       "    </tr>\n",
       "    <tr>\n",
       "      <th>4</th>\n",
       "      <td>Afghanistan</td>\n",
       "      <td>Asia</td>\n",
       "      <td>1972</td>\n",
       "      <td>36.088</td>\n",
       "      <td>13079460</td>\n",
       "      <td>739.981106</td>\n",
       "      <td>Afg</td>\n",
       "    </tr>\n",
       "  </tbody>\n",
       "</table>\n",
       "</div>"
      ],
      "text/plain": [
       "       country continent  year  lifeExp       pop   gdpPercap country_abb\n",
       "0  Afghanistan      Asia  1952   28.801   8425333  779.445314         Afg\n",
       "1  Afghanistan      Asia  1957   30.332   9240934  820.853030         Afg\n",
       "2  Afghanistan      Asia  1962   31.997  10267083  853.100710         Afg\n",
       "3  Afghanistan      Asia  1967   34.020  11537966  836.197138         Afg\n",
       "4  Afghanistan      Asia  1972   36.088  13079460  739.981106         Afg"
      ]
     },
     "execution_count": 20,
     "metadata": {},
     "output_type": "execute_result"
    }
   ],
   "source": [
    "# 1. 利用 apply by row & lambda 函數 & x[:3]（擷取字串）\n",
    "# 2. 創造新的變數 “country_abb” 裡面就只有擷取 country 的前三個字\n",
    "# 3. 因為 lambda 所產生出來的為 Series, 所以 country_abb 則必須為 Series 型態\n",
    "gapminder['country_abb'] = gapminder['country'].apply(lambda x: x[:3])\n",
    "\n",
    "gapminder.head()"
   ]
  },
  {
   "cell_type": "markdown",
   "metadata": {},
   "source": [
    "***"
   ]
  },
  {
   "cell_type": "markdown",
   "metadata": {},
   "source": [
    "### 4. XXX.sum( )"
   ]
  },
  {
   "cell_type": "code",
   "execution_count": 21,
   "metadata": {},
   "outputs": [
    {
     "name": "stdout",
     "output_type": "stream",
     "text": [
      "\n",
      "=====Step of case 1: =====\n",
      " 1. catch 'pop', and need to use 1 []\n",
      " 2. sum of 'pop'            \n",
      "\n",
      "gapminder['pop'].sum() => \n",
      "50440465801\n",
      "\n",
      "\n",
      "\n",
      "=====Step of case 2: =====\n",
      " 1. filtering year == 2007  \n",
      " 2. catch 'pop', and need to use 1 []\n",
      " 3. sum of 'pop'            \n",
      "\n",
      "gapminder[ gapminder['year'] == 2007]['pop'].sum() => \n",
      "6251013179\n"
     ]
    }
   ],
   "source": [
    "# case 1:\n",
    "print(\"\\n=====Step of case 1: =====\")\n",
    "print(\" 1. catch 'pop', and need to use 1 []\")\n",
    "print(\" 2. sum of 'pop'            \\n\")\n",
    "c1 = gapminder['pop'].sum()\n",
    "print(\"gapminder['pop'].sum() => \\n{0}\".format(c1))\n",
    "\n",
    "\n",
    "\n",
    "# case 2: \n",
    "print(\"\\n\\n\\n=====Step of case 2: =====\")\n",
    "print(\" 1. filtering year == 2007  \")\n",
    "print(\" 2. catch 'pop', and need to use 1 []\")\n",
    "print(\" 3. sum of 'pop'            \\n\")\n",
    "\n",
    "c2 = gapminder[ gapminder['year'] == 2007]['pop'].sum()\n",
    "print(\"gapminder[ gapminder['year'] == 2007]['pop'].sum() => \\n{0}\".format(c2))"
   ]
  },
  {
   "cell_type": "markdown",
   "metadata": {},
   "source": [
    "### 5. XXX.mean( )"
   ]
  },
  {
   "cell_type": "code",
   "execution_count": 22,
   "metadata": {},
   "outputs": [
    {
     "name": "stdout",
     "output_type": "stream",
     "text": [
      "\n",
      "\n",
      "\n",
      "=====Step of mean: =====\n",
      " 1. filtering year == 2007  \n",
      " 2. catch 'lifeExp' & 'gdpPercap', and need to use doube [['','']]\n",
      " 3. mean of 'lifeExp' & 'gdpPercap' \n",
      "\n"
     ]
    },
    {
     "data": {
      "text/plain": [
       "lifeExp         67.007423\n",
       "gdpPercap    11680.071820\n",
       "dtype: float64"
      ]
     },
     "execution_count": 22,
     "metadata": {},
     "output_type": "execute_result"
    }
   ],
   "source": [
    "print(\"\\n\\n\\n=====Step of mean: =====\")\n",
    "print(\" 1. filtering year == 2007  \")\n",
    "print(\" 2. catch 'lifeExp' & 'gdpPercap', and need to use doube [['','']]\")\n",
    "print(\" 3. mean of 'lifeExp' & 'gdpPercap' \\n\")\n",
    "gapminder[gapminder['year'] == 2007][['lifeExp', 'gdpPercap']].mean()"
   ]
  },
  {
   "cell_type": "markdown",
   "metadata": {},
   "source": [
    "***"
   ]
  },
  {
   "cell_type": "markdown",
   "metadata": {},
   "source": [
    "### 6. groupby().sum()"
   ]
  },
  {
   "cell_type": "code",
   "execution_count": 23,
   "metadata": {},
   "outputs": [
    {
     "name": "stdout",
     "output_type": "stream",
     "text": [
      "\n",
      "=====Step of case 1: =====\n",
      " 1. groupby('continent')\n",
      " 2. sum of'pop' using ['pop']\n",
      "\n",
      "gapminder['pop'].groupby('continent')['pop'].sum() => \n",
      "continent\n",
      "Africa       6187585961\n",
      "Americas     7351438499\n",
      "Asia        30507333901\n",
      "Europe       6181115304\n",
      "Oceania       212992136\n",
      "Name: pop, dtype: int64\n",
      "\n",
      "\n",
      "\n",
      "=====Step of case 2: =====\n",
      " 1. filtering year == 2007  \n",
      " 2. groupby('continent')\n",
      " 3. sum of'pop' using ['pop']\n",
      "\n",
      "gapminder[ gapminder['year'] == 2007].groupby('continent')['pop'].sum() => \n",
      "continent\n",
      "Africa       929539692\n",
      "Americas     898871184\n",
      "Asia        3811953827\n",
      "Europe       586098529\n",
      "Oceania       24549947\n",
      "Name: pop, dtype: int64\n"
     ]
    }
   ],
   "source": [
    "# case 1:\n",
    "print(\"\\n=====Step of case 1: =====\")\n",
    "print(\" 1. groupby('continent')\")\n",
    "print(\" 2. sum of'pop' using ['pop']\\n\")\n",
    "\n",
    "c1 = gapminder.groupby('continent')['pop'].sum()\n",
    "print(\"gapminder['pop'].groupby('continent')['pop'].sum() => \\n{0}\".format(c1))\n",
    "\n",
    "\n",
    "\n",
    "# case 2: \n",
    "print(\"\\n\\n\\n=====Step of case 2: =====\")\n",
    "print(\" 1. filtering year == 2007  \")\n",
    "print(\" 2. groupby('continent')\")\n",
    "print(\" 3. sum of'pop' using ['pop']\\n\")\n",
    "\n",
    "\n",
    "c2 = gapminder[ gapminder['year'] == 2007 ].groupby('continent')['pop'].sum()\n",
    "print(\"gapminder[ gapminder['year'] == 2007].groupby('continent')['pop'].sum() => \\n{0}\".format(c2))"
   ]
  },
  {
   "cell_type": "markdown",
   "metadata": {},
   "source": [
    "***"
   ]
  },
  {
   "cell_type": "markdown",
   "metadata": {},
   "source": [
    "### 7. groupby().mean()"
   ]
  },
  {
   "cell_type": "code",
   "execution_count": 24,
   "metadata": {},
   "outputs": [
    {
     "name": "stdout",
     "output_type": "stream",
     "text": [
      "\n",
      "=====Step of case 1: =====\n",
      " 1. groupby('continent')\n",
      " 2. mean of 'lifeExp' and 'gdpPercap' using [['lifeExp', 'gdpPercap']]\n",
      "\n",
      "gapminder['pop'].groupby('continent')['pop'].mean() => \n",
      "             lifeExp     gdpPercap\n",
      "continent                         \n",
      "Africa     48.865330   2193.754578\n",
      "Americas   64.658737   7136.110356\n",
      "Asia       60.064903   7902.150428\n",
      "Europe     71.903686  14469.475533\n",
      "Oceania    74.326208  18621.609223\n",
      "\n",
      "\n",
      "\n",
      "=====Step of case 2: =====\n",
      " 1. filtering year == 2007  \n",
      " 2. groupby('continent').\n",
      " 3. mean of 'lifeExp' and 'gdpPercap' using [['lifeExp', 'gdpPercap']]\n",
      "\n",
      "gapminder[ gapminder['year'] == 2007 ].groupby('continent')[['lifeExp', 'gdpPercap']].mean() => \n",
      "             lifeExp     gdpPercap\n",
      "continent                         \n",
      "Africa     54.806038   3089.032605\n",
      "Americas   73.608120  11003.031625\n",
      "Asia       70.728485  12473.026870\n",
      "Europe     77.648600  25054.481636\n",
      "Oceania    80.719500  29810.188275\n"
     ]
    }
   ],
   "source": [
    "# case 1:\n",
    "print(\"\\n=====Step of case 1: =====\")\n",
    "print(\" 1. groupby('continent')\")\n",
    "print(\" 2. mean of 'lifeExp' and 'gdpPercap' using [['lifeExp', 'gdpPercap']]\\n\")\n",
    "\n",
    "c1 = gapminder.groupby('continent')[['lifeExp', 'gdpPercap']].mean()\n",
    "print(\"gapminder['pop'].groupby('continent')['pop'].mean() => \\n{0}\".format(c1))\n",
    "\n",
    "\n",
    "# case 2: \n",
    "print(\"\\n\\n\\n=====Step of case 2: =====\")\n",
    "print(\" 1. filtering year == 2007  \")\n",
    "print(\" 2. groupby('continent').\")\n",
    "print(\" 3. mean of 'lifeExp' and 'gdpPercap' using [['lifeExp', 'gdpPercap']]\\n\")\n",
    "\n",
    "\n",
    "c2 = gapminder[ gapminder['year'] == 2007 ].groupby('continent')[['lifeExp', 'gdpPercap']].mean()\n",
    "print(\"gapminder[ gapminder['year'] == 2007 ].groupby('continent')[['lifeExp', 'gdpPercap']].mean() => \\n{0}\".format(c2))"
   ]
  },
  {
   "cell_type": "code",
   "execution_count": null,
   "metadata": {},
   "outputs": [],
   "source": []
  }
 ],
 "metadata": {
  "kernelspec": {
   "display_name": "Python 3",
   "language": "python",
   "name": "python3"
  },
  "language_info": {
   "codemirror_mode": {
    "name": "ipython",
    "version": 3
   },
   "file_extension": ".py",
   "mimetype": "text/x-python",
   "name": "python",
   "nbconvert_exporter": "python",
   "pygments_lexer": "ipython3",
   "version": "3.7.3"
  }
 },
 "nbformat": 4,
 "nbformat_minor": 2
}
